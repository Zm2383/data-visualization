{
 "cells": [
  {
   "cell_type": "markdown",
   "id": "dbd1de35",
   "metadata": {},
   "source": [
    "# Plotly and Cufflinks"
   ]
  },
  {
   "cell_type": "code",
   "execution_count": 58,
   "id": "f37be68b",
   "metadata": {},
   "outputs": [],
   "source": [
    "import chart_studio.plotly as py\n",
    "import pandas as pd\n",
    "import numpy as np\n",
    "from plotly import __version__"
   ]
  },
  {
   "cell_type": "code",
   "execution_count": 55,
   "id": "c968750b",
   "metadata": {},
   "outputs": [
    {
     "name": "stdout",
     "output_type": "stream",
     "text": [
      "5.8.1\n"
     ]
    }
   ],
   "source": [
    "print(__version__)"
   ]
  },
  {
   "cell_type": "code",
   "execution_count": 56,
   "id": "0a21fb33",
   "metadata": {},
   "outputs": [],
   "source": [
    "import cufflinks as cf"
   ]
  },
  {
   "cell_type": "code",
   "execution_count": 57,
   "id": "3a88e662",
   "metadata": {},
   "outputs": [],
   "source": [
    "from plotly.offline import download_plotlyjs,init_notebook_mode,plot,iplot"
   ]
  },
  {
   "cell_type": "code",
   "execution_count": 7,
   "id": "8b2bf38c",
   "metadata": {},
   "outputs": [
    {
     "data": {
      "text/html": [
       "        <script type=\"text/javascript\">\n",
       "        window.PlotlyConfig = {MathJaxConfig: 'local'};\n",
       "        if (window.MathJax && window.MathJax.Hub && window.MathJax.Hub.Config) {window.MathJax.Hub.Config({SVG: {font: \"STIX-Web\"}});}\n",
       "        if (typeof require !== 'undefined') {\n",
       "        require.undef(\"plotly\");\n",
       "        requirejs.config({\n",
       "            paths: {\n",
       "                'plotly': ['https://cdn.plot.ly/plotly-2.12.1.min']\n",
       "            }\n",
       "        });\n",
       "        require(['plotly'], function(Plotly) {\n",
       "            window._Plotly = Plotly;\n",
       "        });\n",
       "        }\n",
       "        </script>\n",
       "        "
      ]
     },
     "metadata": {},
     "output_type": "display_data"
    }
   ],
   "source": [
    "init_notebook_mode(connected=True)"
   ]
  },
  {
   "cell_type": "code",
   "execution_count": 8,
   "id": "db3137e9",
   "metadata": {},
   "outputs": [
    {
     "data": {
      "text/html": [
       "        <script type=\"text/javascript\">\n",
       "        window.PlotlyConfig = {MathJaxConfig: 'local'};\n",
       "        if (window.MathJax && window.MathJax.Hub && window.MathJax.Hub.Config) {window.MathJax.Hub.Config({SVG: {font: \"STIX-Web\"}});}\n",
       "        if (typeof require !== 'undefined') {\n",
       "        require.undef(\"plotly\");\n",
       "        requirejs.config({\n",
       "            paths: {\n",
       "                'plotly': ['https://cdn.plot.ly/plotly-2.12.1.min']\n",
       "            }\n",
       "        });\n",
       "        require(['plotly'], function(Plotly) {\n",
       "            window._Plotly = Plotly;\n",
       "        });\n",
       "        }\n",
       "        </script>\n",
       "        "
      ]
     },
     "metadata": {},
     "output_type": "display_data"
    }
   ],
   "source": [
    "cf.go_offline()"
   ]
  },
  {
   "cell_type": "code",
   "execution_count": 9,
   "id": "ac8adb68",
   "metadata": {},
   "outputs": [],
   "source": [
    "#Data\n",
    "df=pd.DataFrame(np.random.randn(100,4),columns=['a','b','c','d'])"
   ]
  },
  {
   "cell_type": "code",
   "execution_count": 10,
   "id": "e1963075",
   "metadata": {},
   "outputs": [
    {
     "data": {
      "text/html": [
       "<div>\n",
       "<style scoped>\n",
       "    .dataframe tbody tr th:only-of-type {\n",
       "        vertical-align: middle;\n",
       "    }\n",
       "\n",
       "    .dataframe tbody tr th {\n",
       "        vertical-align: top;\n",
       "    }\n",
       "\n",
       "    .dataframe thead th {\n",
       "        text-align: right;\n",
       "    }\n",
       "</style>\n",
       "<table border=\"1\" class=\"dataframe\">\n",
       "  <thead>\n",
       "    <tr style=\"text-align: right;\">\n",
       "      <th></th>\n",
       "      <th>a</th>\n",
       "      <th>b</th>\n",
       "      <th>c</th>\n",
       "      <th>d</th>\n",
       "    </tr>\n",
       "  </thead>\n",
       "  <tbody>\n",
       "    <tr>\n",
       "      <th>0</th>\n",
       "      <td>-1.253670</td>\n",
       "      <td>-0.717237</td>\n",
       "      <td>-0.644862</td>\n",
       "      <td>0.749718</td>\n",
       "    </tr>\n",
       "    <tr>\n",
       "      <th>1</th>\n",
       "      <td>-0.311921</td>\n",
       "      <td>0.130193</td>\n",
       "      <td>-0.307793</td>\n",
       "      <td>-0.369572</td>\n",
       "    </tr>\n",
       "    <tr>\n",
       "      <th>2</th>\n",
       "      <td>-2.210985</td>\n",
       "      <td>-1.393522</td>\n",
       "      <td>1.431207</td>\n",
       "      <td>0.055589</td>\n",
       "    </tr>\n",
       "    <tr>\n",
       "      <th>3</th>\n",
       "      <td>0.260982</td>\n",
       "      <td>0.554709</td>\n",
       "      <td>-0.568107</td>\n",
       "      <td>-1.326245</td>\n",
       "    </tr>\n",
       "    <tr>\n",
       "      <th>4</th>\n",
       "      <td>-0.423725</td>\n",
       "      <td>-0.520007</td>\n",
       "      <td>-0.054830</td>\n",
       "      <td>0.487096</td>\n",
       "    </tr>\n",
       "    <tr>\n",
       "      <th>...</th>\n",
       "      <td>...</td>\n",
       "      <td>...</td>\n",
       "      <td>...</td>\n",
       "      <td>...</td>\n",
       "    </tr>\n",
       "    <tr>\n",
       "      <th>95</th>\n",
       "      <td>-1.003618</td>\n",
       "      <td>-1.119733</td>\n",
       "      <td>0.778017</td>\n",
       "      <td>0.420720</td>\n",
       "    </tr>\n",
       "    <tr>\n",
       "      <th>96</th>\n",
       "      <td>-1.428906</td>\n",
       "      <td>-1.215086</td>\n",
       "      <td>0.549101</td>\n",
       "      <td>-0.118398</td>\n",
       "    </tr>\n",
       "    <tr>\n",
       "      <th>97</th>\n",
       "      <td>1.530413</td>\n",
       "      <td>1.513698</td>\n",
       "      <td>-0.481924</td>\n",
       "      <td>0.353719</td>\n",
       "    </tr>\n",
       "    <tr>\n",
       "      <th>98</th>\n",
       "      <td>0.913362</td>\n",
       "      <td>0.824800</td>\n",
       "      <td>0.117712</td>\n",
       "      <td>-1.392176</td>\n",
       "    </tr>\n",
       "    <tr>\n",
       "      <th>99</th>\n",
       "      <td>-0.296392</td>\n",
       "      <td>-0.245421</td>\n",
       "      <td>0.279410</td>\n",
       "      <td>-1.313879</td>\n",
       "    </tr>\n",
       "  </tbody>\n",
       "</table>\n",
       "<p>100 rows × 4 columns</p>\n",
       "</div>"
      ],
      "text/plain": [
       "           a         b         c         d\n",
       "0  -1.253670 -0.717237 -0.644862  0.749718\n",
       "1  -0.311921  0.130193 -0.307793 -0.369572\n",
       "2  -2.210985 -1.393522  1.431207  0.055589\n",
       "3   0.260982  0.554709 -0.568107 -1.326245\n",
       "4  -0.423725 -0.520007 -0.054830  0.487096\n",
       "..       ...       ...       ...       ...\n",
       "95 -1.003618 -1.119733  0.778017  0.420720\n",
       "96 -1.428906 -1.215086  0.549101 -0.118398\n",
       "97  1.530413  1.513698 -0.481924  0.353719\n",
       "98  0.913362  0.824800  0.117712 -1.392176\n",
       "99 -0.296392 -0.245421  0.279410 -1.313879\n",
       "\n",
       "[100 rows x 4 columns]"
      ]
     },
     "execution_count": 10,
     "metadata": {},
     "output_type": "execute_result"
    }
   ],
   "source": [
    "df"
   ]
  },
  {
   "cell_type": "code",
   "execution_count": 11,
   "id": "6a3f5950",
   "metadata": {},
   "outputs": [],
   "source": [
    "df2=pd.DataFrame({'Category':['A','B','C'],'Values':[32,43,50]})"
   ]
  },
  {
   "cell_type": "code",
   "execution_count": 12,
   "id": "5cf8b836",
   "metadata": {},
   "outputs": [
    {
     "data": {
      "text/html": [
       "<div>\n",
       "<style scoped>\n",
       "    .dataframe tbody tr th:only-of-type {\n",
       "        vertical-align: middle;\n",
       "    }\n",
       "\n",
       "    .dataframe tbody tr th {\n",
       "        vertical-align: top;\n",
       "    }\n",
       "\n",
       "    .dataframe thead th {\n",
       "        text-align: right;\n",
       "    }\n",
       "</style>\n",
       "<table border=\"1\" class=\"dataframe\">\n",
       "  <thead>\n",
       "    <tr style=\"text-align: right;\">\n",
       "      <th></th>\n",
       "      <th>Category</th>\n",
       "      <th>Values</th>\n",
       "    </tr>\n",
       "  </thead>\n",
       "  <tbody>\n",
       "    <tr>\n",
       "      <th>0</th>\n",
       "      <td>A</td>\n",
       "      <td>32</td>\n",
       "    </tr>\n",
       "    <tr>\n",
       "      <th>1</th>\n",
       "      <td>B</td>\n",
       "      <td>43</td>\n",
       "    </tr>\n",
       "    <tr>\n",
       "      <th>2</th>\n",
       "      <td>C</td>\n",
       "      <td>50</td>\n",
       "    </tr>\n",
       "  </tbody>\n",
       "</table>\n",
       "</div>"
      ],
      "text/plain": [
       "  Category  Values\n",
       "0        A      32\n",
       "1        B      43\n",
       "2        C      50"
      ]
     },
     "execution_count": 12,
     "metadata": {},
     "output_type": "execute_result"
    }
   ],
   "source": [
    "df2"
   ]
  },
  {
   "cell_type": "code",
   "execution_count": 18,
   "id": "9bf346ba",
   "metadata": {},
   "outputs": [
    {
     "data": {
      "text/plain": [
       "<AxesSubplot:>"
      ]
     },
     "execution_count": 18,
     "metadata": {},
     "output_type": "execute_result"
    },
    {
     "data": {
      "image/png": "[encoded data removed]",
      "text/plain": [
       "<Figure size 432x288 with 1 Axes>"
      ]
     },
     "metadata": {
      "needs_background": "light"
     },
     "output_type": "display_data"
    }
   ],
   "source": [
    "df.plot()"
   ]
  },
  {
   "cell_type": "code",
   "execution_count": 17,
   "id": "d1f53650",
   "metadata": {},
   "outputs": [
    {
     "data": {
      "application/vnd.plotly.v1+json": {
       "config": {
        "linkText": "Export to plot.ly",
        "plotlyServerURL": "https://plot.ly",
        "showLink": true
       },
       "data": [
        {
         "line": {
          "color": "rgba(255, 153, 51, 1.0)",
          "dash": "solid",
          "shape": "linear",
          "width": 1.3
         },
         "mode": "lines",
         "name": "a",
         "text": "",
         "type": "scatter",
         "x": [
          0,
          1,
          2,
          3,
          4,
          5,
          6,
          7,
          8,
          9,
          10,
          11,
          12,
          13,
          14,
          15,
          16,
          17,
          18,
          19,
          20,
          21,
          22,
          23,
          24,
          25,
          26,
          27,
          28,
          29,
          30,
          31,
          32,
          33,
          34,
          35,
          36,
          37,
          38,
          39,
          40,
          41,
          42,
          43,
          44,
          45,
          46,
          47,
          48,
          49,
          50,
          51,
          52,
          53,
          54,
          55,
          56,
          57,
          58,
          59,
          60,
          61,
          62,
          63,
          64,
          65,
          66,
          67,
          68,
          69,
          70,
          71,
          72,
          73,
          74,
          75,
          76,
          77,
          78,
          79,
          80,
          81,
          82,
          83,
          84,
          85,
          86,
          87,
          88,
          89,
          90,
          91,
          92,
          93,
          94,
          95,
          96,
          97,
          98,
          99
         ],
         "y": [
          -1.2536704061240342,
          -0.31192087006827185,
          -2.2109845815294356,
          0.26098210430390356,
          -0.42372505561706497,
          -0.5191246063006844,
          -0.3741979168810921,
          0.013160070003499067,
          -1.3936117653916562,
          -0.9879887112436886,
          0.9978019604285551,
          0.20408777022973887,
          -0.3751686712106355,
          0.14714190067587132,
          0.7097405973098823,
          -0.5980386770941455,
          -0.8580820814739449,
          -0.03928825662399084,
          2.1123756536844134,
          0.20988143099753984,
          -0.0039750860987576705,
          1.0837356737832347,
          0.25720841914284187,
          -0.6265295757295674,
          -0.8334593492338207,
          -0.43845976815063725,
          1.2182819398389937,
          -1.2402949889598742,
          -1.2071346174640567,
          -0.25215273236635155,
          -0.26222993788277515,
          -1.5944264482789066,
          -0.11603327631361181,
          0.3170166562461856,
          0.33184384567773306,
          0.2706533742615674,
          0.6886179771564876,
          0.33296980227084005,
          0.5860064727362081,
          -1.0790498039463736,
          0.036369968192229485,
          0.15144790493044746,
          -0.10393678206743479,
          0.8349700375535881,
          -1.206328193237761,
          0.5673265511778895,
          -0.06721204834887629,
          -0.543744658610441,
          -1.784873068359861,
          -1.5640842673613353,
          -1.7484510427524396,
          -0.9238595076773191,
          -0.07066518986172503,
          -1.2564883213487814,
          -1.255171782943583,
          -0.5693595220873484,
          -0.2680475201230551,
          -0.7370601821881222,
          1.4131046455732545,
          -0.4484711608573334,
          -0.03368558970719541,
          0.20060822572533968,
          -1.3006252925618582,
          -0.7650549164700556,
          -1.474269199202699,
          -1.9035357216209998,
          -0.842459505915815,
          -0.6450446032311398,
          -1.3859767495689528,
          0.5787535105345148,
          2.2955960081866325,
          -1.4380393667265592,
          0.592895059358941,
          0.6824300472122862,
          -1.978558056285446,
          0.6507979497194142,
          -0.8504019891320452,
          -0.23082902274044428,
          0.9275706159608799,
          -0.047095155777864835,
          -1.6405431622980855,
          -0.8744312401517957,
          -0.25871068506394845,
          0.27471500967068346,
          0.1946788757728365,
          1.4125245459008748,
          -0.049375511972559315,
          -0.10475479978240199,
          0.5133935150926221,
          -1.2223620008398135,
          -0.11638992089113567,
          -1.3023112967306605,
          0.30293182359718746,
          -1.6607840815862427,
          1.983670482457282,
          -1.0036184526149803,
          -1.428906436402728,
          1.5304130203604172,
          0.9133621367502792,
          -0.29639213224210054
         ]
        },
        {
         "line": {
          "color": "rgba(55, 128, 191, 1.0)",
          "dash": "solid",
          "shape": "linear",
          "width": 1.3
         },
         "mode": "lines",
         "name": "b",
         "text": "",
         "type": "scatter",
         "x": [
          0,
          1,
          2,
          3,
          4,
          5,
          6,
          7,
          8,
          9,
          10,
          11,
          12,
          13,
          14,
          15,
          16,
          17,
          18,
          19,
          20,
          21,
          22,
          23,
          24,
          25,
          26,
          27,
          28,
          29,
          30,
          31,
          32,
          33,
          34,
          35,
          36,
          37,
          38,
          39,
          40,
          41,
          42,
          43,
          44,
          45,
          46,
          47,
          48,
          49,
          50,
          51,
          52,
          53,
          54,
          55,
          56,
          57,
          58,
          59,
          60,
          61,
          62,
          63,
          64,
          65,
          66,
          67,
          68,
          69,
          70,
          71,
          72,
          73,
          74,
          75,
          76,
          77,
          78,
          79,
          80,
          81,
          82,
          83,
          84,
          85,
          86,
          87,
          88,
          89,
          90,
          91,
          92,
          93,
          94,
          95,
          96,
          97,
          98,
          99
         ],
         "y": [
          -0.7172365979374294,
          0.1301927392996842,
          -1.393522266799919,
          0.5547087920801866,
          -0.5200071012122776,
          1.1613183698350373,
          -1.3529461218033918,
          1.3988825487452088,
          0.6733468125873788,
          1.5219448397371478,
          -0.7906269916573789,
          -0.3161501726488375,
          -0.41778212984503704,
          -0.5831677471760225,
          0.6023577387799757,
          -0.4443233853900075,
          0.7533047706847111,
          -1.3970815128632759,
          0.3581974945656321,
          0.8589985833109056,
          0.47592833921194794,
          0.23549672361459806,
          -0.18952266322583036,
          0.19974453806195278,
          -0.06960702398037072,
          -1.0086186324692388,
          0.9628957190504571,
          0.9474978795182155,
          0.8596145583597102,
          -0.4263569089417392,
          0.3499146348325409,
          0.9398534359848607,
          -0.6229775340336317,
          0.19749787601107976,
          -1.0991368107166477,
          0.13191944366896108,
          -0.42292656307822624,
          0.34519356856585565,
          0.514983356263597,
          -1.138924491691048,
          -1.189373130478294,
          0.9667822919326727,
          -1.150614139922435,
          0.42524038583700313,
          -0.03894968578993216,
          -0.13929919745961755,
          -0.3125569796919793,
          -1.4309654669216174,
          0.03980910697712983,
          -0.880089298606563,
          -1.1501158787075554,
          -1.4208883907476475,
          1.2273389142307352,
          0.7034530198234115,
          0.38818130211246876,
          0.18684137941578224,
          1.0825536881142404,
          -0.34031467699274226,
          -2.550099155251413,
          0.08468203433117498,
          0.44837050229530284,
          0.017602416217182646,
          -0.5201218604083405,
          0.654672383103486,
          -0.9318224461423867,
          -1.0800159254957447,
          1.544411010637449,
          -2.16227794297282,
          0.23561697608863844,
          -1.1278533299184488,
          -0.11732290592434473,
          -0.29730289220519107,
          -0.32750099938839783,
          0.955194867490096,
          -1.7596498603194104,
          0.7096375246310584,
          0.5821868144562231,
          -0.8746028069438861,
          0.9062882402006409,
          0.055217998884144866,
          -1.973828315514508,
          -1.004458985106134,
          1.7793279779693252,
          -0.10840911214856161,
          2.6867297265953103,
          0.91343388042321,
          -0.9377622323218044,
          -1.2570794768782148,
          1.6471666036145307,
          0.48188330904460136,
          -0.04052226717979435,
          -0.05859375010378374,
          1.1738796853901698,
          0.2795749088035469,
          1.0908754639387486,
          -1.1197331844989709,
          -1.2150861295185817,
          1.5136977245404255,
          0.8247996201154251,
          -0.24542134180675218
         ]
        },
        {
         "line": {
          "color": "rgba(50, 171, 96, 1.0)",
          "dash": "solid",
          "shape": "linear",
          "width": 1.3
         },
         "mode": "lines",
         "name": "c",
         "text": "",
         "type": "scatter",
         "x": [
          0,
          1,
          2,
          3,
          4,
          5,
          6,
          7,
          8,
          9,
          10,
          11,
          12,
          13,
          14,
          15,
          16,
          17,
          18,
          19,
          20,
          21,
          22,
          23,
          24,
          25,
          26,
          27,
          28,
          29,
          30,
          31,
          32,
          33,
          34,
          35,
          36,
          37,
          38,
          39,
          40,
          41,
          42,
          43,
          44,
          45,
          46,
          47,
          48,
          49,
          50,
          51,
          52,
          53,
          54,
          55,
          56,
          57,
          58,
          59,
          60,
          61,
          62,
          63,
          64,
          65,
          66,
          67,
          68,
          69,
          70,
          71,
          72,
          73,
          74,
          75,
          76,
          77,
          78,
          79,
          80,
          81,
          82,
          83,
          84,
          85,
          86,
          87,
          88,
          89,
          90,
          91,
          92,
          93,
          94,
          95,
          96,
          97,
          98,
          99
         ],
         "y": [
          -0.644862269764822,
          -0.30779304426494414,
          1.4312069827650835,
          -0.568106716918909,
          -0.05482999949921287,
          1.3775688864000735,
          0.6969010286683164,
          -2.2929526767754216,
          0.09082610904100767,
          0.35623333678979724,
          1.0512567783275675,
          -1.0781253734726224,
          0.3051893108966182,
          0.11398895639943217,
          -0.5026548935373585,
          1.0100767573269718,
          1.6045563397800657,
          -0.263790151377017,
          1.4712932996464019,
          -0.5026694094274891,
          0.07602958833205785,
          0.13560896282949106,
          -0.8585960115677611,
          -0.8489487219660529,
          -0.36949464919022484,
          0.03506363469734359,
          -1.4111291043256964,
          -0.47803526330092605,
          1.6580456931546976,
          -1.2211657668381346,
          -1.1826923102828888,
          2.061911162448477,
          0.6877747246825724,
          -0.13328032534468331,
          0.9679268063934757,
          -0.7051450416419223,
          -0.2329471343594074,
          0.17571764933338305,
          -0.9889760436217521,
          1.706941676259754,
          -0.5542973605783889,
          1.7299250177970487,
          0.5323677350937979,
          0.5242285866578907,
          -0.597385471430855,
          0.16728901604561539,
          0.4142163978691079,
          1.692250276833783,
          1.7463791730772082,
          -0.21986570644528575,
          0.19127617579273945,
          0.08877869680039471,
          0.3075071782923635,
          -0.6468916090946528,
          -1.2489633296959335,
          0.29376203724273914,
          -0.6383223712123308,
          2.145148067398187,
          -0.5937240361377595,
          1.974857623800908,
          -1.2345916699396726,
          -0.40231911081509003,
          1.151067685185213,
          -1.684758230947675,
          0.66943289859867,
          0.5637987734791424,
          1.0482474041595975,
          -0.712096988002522,
          -1.8233548549123433,
          0.44447113578405967,
          3.389577803441184,
          -0.9456440548848006,
          -0.04086647782104779,
          0.27759419334555296,
          0.21164527133327032,
          1.148398128752941,
          0.15314627067663572,
          -1.8038820878934234,
          0.9722698111484178,
          1.0229092134274624,
          0.28283095471296954,
          -1.5510481364175461,
          0.061838266966372755,
          0.33059494433994546,
          -0.4556161090862515,
          1.5902552853587868,
          -0.9607932154675821,
          1.0375863648405528,
          1.2343312552332237,
          -0.04409033375219025,
          0.5213861390488062,
          0.48831165178233615,
          -2.2380864110431213,
          -0.6057784263895877,
          1.2246095538404946,
          0.7780165479817372,
          0.549101480326388,
          -0.48192376559470035,
          0.1177121625684017,
          0.27941031936166405
         ]
        },
        {
         "line": {
          "color": "rgba(128, 0, 128, 1.0)",
          "dash": "solid",
          "shape": "linear",
          "width": 1.3
         },
         "mode": "lines",
         "name": "d",
         "text": "",
         "type": "scatter",
         "x": [
          0,
          1,
          2,
          3,
          4,
          5,
          6,
          7,
          8,
          9,
          10,
          11,
          12,
          13,
          14,
          15,
          16,
          17,
          18,
          19,
          20,
          21,
          22,
          23,
          24,
          25,
          26,
          27,
          28,
          29,
          30,
          31,
          32,
          33,
          34,
          35,
          36,
          37,
          38,
          39,
          40,
          41,
          42,
          43,
          44,
          45,
          46,
          47,
          48,
          49,
          50,
          51,
          52,
          53,
          54,
          55,
          56,
          57,
          58,
          59,
          60,
          61,
          62,
          63,
          64,
          65,
          66,
          67,
          68,
          69,
          70,
          71,
          72,
          73,
          74,
          75,
          76,
          77,
          78,
          79,
          80,
          81,
          82,
          83,
          84,
          85,
          86,
          87,
          88,
          89,
          90,
          91,
          92,
          93,
          94,
          95,
          96,
          97,
          98,
          99
         ],
         "y": [
          0.7497183605737537,
          -0.36957187829460453,
          0.05558868595169157,
          -1.326245374066973,
          0.48709573897201197,
          -0.04058352785552951,
          0.7172478305315246,
          1.1686461498120249,
          0.15582629174388662,
          -0.24935139025430994,
          1.5236235045735902,
          2.4621582729845315,
          0.17439551195791178,
          -0.7302229015928575,
          -0.07208072413731856,
          -0.8429801003585939,
          1.0588884773639018,
          -0.4280041278713005,
          -0.35651863457078803,
          -1.5311127200324355,
          -0.5645907407909591,
          0.905829449333737,
          -0.640080885178177,
          -0.8082682458443605,
          0.10455202848036407,
          1.898251111645053,
          -0.5377332031162471,
          -0.5180827040364145,
          -0.40246041657702597,
          -0.23120410044358786,
          2.888006850971286,
          0.8094919070078689,
          0.38794403172813,
          -1.7216833001165157,
          0.568176426413336,
          1.8919573672768957,
          1.0298118946879022,
          -0.5063878296633622,
          -2.685666244932097,
          1.1814794613153967,
          0.182148400494332,
          0.5870395371820794,
          -0.7551590075916406,
          -0.015455428501074637,
          -0.43217773668747894,
          1.749317470617879,
          1.7407285070776848,
          -0.1915199989179134,
          0.7721322184140336,
          -1.0420640493950046,
          -1.2620508523349931,
          -2.2208445357924154,
          -0.3132754958417208,
          -0.04729021895831102,
          -0.4710086932553789,
          -0.22111930592822035,
          -0.6450366797051841,
          0.4480636208184629,
          0.1346706197334301,
          0.1489804856923085,
          -0.28362936025387375,
          -1.7114546660239531,
          0.6640007478235729,
          -0.7272174881915302,
          0.24119566979843185,
          0.6820050042566222,
          0.13109669641631977,
          -1.2949030969007622,
          -1.050770605437413,
          1.651015366716756,
          0.8384754662912653,
          -1.5460206664018412,
          0.5183959952241453,
          0.11579969767816818,
          0.058004891068721094,
          -0.5684793809625174,
          -0.16142445243376213,
          -0.2066414523185034,
          -0.5962630480602175,
          0.20797001029890144,
          -0.8148988463933333,
          -1.2426282974685001,
          -0.47710924613388633,
          -0.33075195323778883,
          0.357857525991513,
          0.03411888325736434,
          -1.1117034719288414,
          3.464326284094295,
          1.5977825629997318,
          1.5241586370429179,
          -0.9059344027985381,
          -1.0683838168248458,
          0.9338553610898398,
          -1.031239647837061,
          1.3097747301664568,
          0.4207203875049453,
          -0.11839767155825544,
          0.3537186155026702,
          -1.3921761213532073,
          -1.3138793191773748
         ]
        }
       ],
       "layout": {
        "legend": {
         "bgcolor": "#F5F6F9",
         "font": {
          "color": "#4D5663"
         }
        },
        "paper_bgcolor": "#F5F6F9",
        "plot_bgcolor": "#F5F6F9",
        "template": {
         "data": {
          "bar": [
           {
            "error_x": {
             "color": "#2a3f5f"
            },
            "error_y": {
             "color": "#2a3f5f"
            },
            "marker": {
             "line": {
              "color": "#E5ECF6",
              "width": 0.5
             },
             "pattern": {
              "fillmode": "overlay",
              "size": 10,
              "solidity": 0.2
             }
            },
            "type": "bar"
           }
          ],
          "barpolar": [
           {
            "marker": {
             "line": {
              "color": "#E5ECF6",
              "width": 0.5
             },
             "pattern": {
              "fillmode": "overlay",
              "size": 10,
              "solidity": 0.2
             }
            },
            "type": "barpolar"
           }
          ],
          "carpet": [
           {
            "aaxis": {
             "endlinecolor": "#2a3f5f",
             "gridcolor": "white",
             "linecolor": "white",
             "minorgridcolor": "white",
             "startlinecolor": "#2a3f5f"
            },
            "baxis": {
             "endlinecolor": "#2a3f5f",
             "gridcolor": "white",
             "linecolor": "white",
             "minorgridcolor": "white",
             "startlinecolor": "#2a3f5f"
            },
            "type": "carpet"
           }
          ],
          "choropleth": [
           {
            "colorbar": {
             "outlinewidth": 0,
             "ticks": ""
            },
            "type": "choropleth"
           }
          ],
          "contour": [
           {
            "colorbar": {
             "outlinewidth": 0,
             "ticks": ""
            },
            "colorscale": [
             [
              0,
              "#0d0887"
             ],
             [
              0.1111111111111111,
              "#46039f"
             ],
             [
              0.2222222222222222,
              "#7201a8"
             ],
             [
              0.3333333333333333,
              "#9c179e"
             ],
             [
              0.4444444444444444,
              "#bd3786"
             ],
             [
              0.5555555555555556,
              "#d8576b"
             ],
             [
              0.6666666666666666,
              "#ed7953"
             ],
             [
              0.7777777777777778,
              "#fb9f3a"
             ],
             [
              0.8888888888888888,
              "#fdca26"
             ],
             [
              1,
              "#f0f921"
             ]
            ],
            "type": "contour"
           }
          ],
          "contourcarpet": [
           {
            "colorbar": {
             "outlinewidth": 0,
             "ticks": ""
            },
            "type": "contourcarpet"
           }
          ],
          "heatmap": [
           {
            "colorbar": {
             "outlinewidth": 0,
             "ticks": ""
            },
            "colorscale": [
             [
              0,
              "#0d0887"
             ],
             [
              0.1111111111111111,
              "#46039f"
             ],
             [
              0.2222222222222222,
              "#7201a8"
             ],
             [
              0.3333333333333333,
              "#9c179e"
             ],
             [
              0.4444444444444444,
              "#bd3786"
             ],
             [
              0.5555555555555556,
              "#d8576b"
             ],
             [
              0.6666666666666666,
              "#ed7953"
             ],
             [
              0.7777777777777778,
              "#fb9f3a"
             ],
             [
              0.8888888888888888,
              "#fdca26"
             ],
             [
              1,
              "#f0f921"
             ]
            ],
            "type": "heatmap"
           }
          ],
          "heatmapgl": [
           {
            "colorbar": {
             "outlinewidth": 0,
             "ticks": ""
            },
            "colorscale": [
             [
              0,
              "#0d0887"
             ],
             [
              0.1111111111111111,
              "#46039f"
             ],
             [
              0.2222222222222222,
              "#7201a8"
             ],
             [
              0.3333333333333333,
              "#9c179e"
             ],
             [
              0.4444444444444444,
              "#bd3786"
             ],
             [
              0.5555555555555556,
              "#d8576b"
             ],
             [
              0.6666666666666666,
              "#ed7953"
             ],
             [
              0.7777777777777778,
              "#fb9f3a"
             ],
             [
              0.8888888888888888,
              "#fdca26"
             ],
             [
              1,
              "#f0f921"
             ]
            ],
            "type": "heatmapgl"
           }
          ],
          "histogram": [
           {
            "marker": {
             "pattern": {
              "fillmode": "overlay",
              "size": 10,
              "solidity": 0.2
             }
            },
            "type": "histogram"
           }
          ],
          "histogram2d": [
           {
            "colorbar": {
             "outlinewidth": 0,
             "ticks": ""
            },
            "colorscale": [
             [
              0,
              "#0d0887"
             ],
             [
              0.1111111111111111,
              "#46039f"
             ],
             [
              0.2222222222222222,
              "#7201a8"
             ],
             [
              0.3333333333333333,
              "#9c179e"
             ],
             [
              0.4444444444444444,
              "#bd3786"
             ],
             [
              0.5555555555555556,
              "#d8576b"
             ],
             [
              0.6666666666666666,
              "#ed7953"
             ],
             [
              0.7777777777777778,
              "#fb9f3a"
             ],
             [
              0.8888888888888888,
              "#fdca26"
             ],
             [
              1,
              "#f0f921"
             ]
            ],
            "type": "histogram2d"
           }
          ],
          "histogram2dcontour": [
           {
            "colorbar": {
             "outlinewidth": 0,
             "ticks": ""
            },
            "colorscale": [
             [
              0,
              "#0d0887"
             ],
             [
              0.1111111111111111,
              "#46039f"
             ],
             [
              0.2222222222222222,
              "#7201a8"
             ],
             [
              0.3333333333333333,
              "#9c179e"
             ],
             [
              0.4444444444444444,
              "#bd3786"
             ],
             [
              0.5555555555555556,
              "#d8576b"
             ],
             [
              0.6666666666666666,
              "#ed7953"
             ],
             [
              0.7777777777777778,
              "#fb9f3a"
             ],
             [
              0.8888888888888888,
              "#fdca26"
             ],
             [
              1,
              "#f0f921"
             ]
            ],
            "type": "histogram2dcontour"
           }
          ],
          "mesh3d": [
           {
            "colorbar": {
             "outlinewidth": 0,
             "ticks": ""
            },
            "type": "mesh3d"
           }
          ],
          "parcoords": [
           {
            "line": {
             "colorbar": {
              "outlinewidth": 0,
              "ticks": ""
             }
            },
            "type": "parcoords"
           }
          ],
          "pie": [
           {
            "automargin": true,
            "type": "pie"
           }
          ],
          "scatter": [
           {
            "fillpattern": {
             "fillmode": "overlay",
             "size": 10,
             "solidity": 0.2
            },
            "type": "scatter"
           }
          ],
          "scatter3d": [
           {
            "line": {
             "colorbar": {
              "outlinewidth": 0,
              "ticks": ""
             }
            },
            "marker": {
             "colorbar": {
              "outlinewidth": 0,
              "ticks": ""
             }
            },
            "type": "scatter3d"
           }
          ],
          "scattercarpet": [
           {
            "marker": {
             "colorbar": {
              "outlinewidth": 0,
              "ticks": ""
             }
            },
            "type": "scattercarpet"
           }
          ],
          "scattergeo": [
           {
            "marker": {
             "colorbar": {
              "outlinewidth": 0,
              "ticks": ""
             }
            },
            "type": "scattergeo"
           }
          ],
          "scattergl": [
           {
            "marker": {
             "colorbar": {
              "outlinewidth": 0,
              "ticks": ""
             }
            },
            "type": "scattergl"
           }
          ],
          "scattermapbox": [
           {
            "marker": {
             "colorbar": {
              "outlinewidth": 0,
              "ticks": ""
             }
            },
            "type": "scattermapbox"
           }
          ],
          "scatterpolar": [
           {
            "marker": {
             "colorbar": {
              "outlinewidth": 0,
              "ticks": ""
             }
            },
            "type": "scatterpolar"
           }
          ],
          "scatterpolargl": [
           {
            "marker": {
             "colorbar": {
              "outlinewidth": 0,
              "ticks": ""
             }
            },
            "type": "scatterpolargl"
           }
          ],
          "scatterternary": [
           {
            "marker": {
             "colorbar": {
              "outlinewidth": 0,
              "ticks": ""
             }
            },
            "type": "scatterternary"
           }
          ],
          "surface": [
           {
            "colorbar": {
             "outlinewidth": 0,
             "ticks": ""
            },
            "colorscale": [
             [
              0,
              "#0d0887"
             ],
             [
              0.1111111111111111,
              "#46039f"
             ],
             [
              0.2222222222222222,
              "#7201a8"
             ],
             [
              0.3333333333333333,
              "#9c179e"
             ],
             [
              0.4444444444444444,
              "#bd3786"
             ],
             [
              0.5555555555555556,
              "#d8576b"
             ],
             [
              0.6666666666666666,
              "#ed7953"
             ],
             [
              0.7777777777777778,
              "#fb9f3a"
             ],
             [
              0.8888888888888888,
              "#fdca26"
             ],
             [
              1,
              "#f0f921"
             ]
            ],
            "type": "surface"
           }
          ],
          "table": [
           {
            "cells": {
             "fill": {
              "color": "#EBF0F8"
             },
             "line": {
              "color": "white"
             }
            },
            "header": {
             "fill": {
              "color": "#C8D4E3"
             },
             "line": {
              "color": "white"
             }
            },
            "type": "table"
           }
          ]
         },
         "layout": {
          "annotationdefaults": {
           "arrowcolor": "#2a3f5f",
           "arrowhead": 0,
           "arrowwidth": 1
          },
          "autotypenumbers": "strict",
          "coloraxis": {
           "colorbar": {
            "outlinewidth": 0,
            "ticks": ""
           }
          },
          "colorscale": {
           "diverging": [
            [
             0,
             "#8e0152"
            ],
            [
             0.1,
             "#c51b7d"
            ],
            [
             0.2,
             "#de77ae"
            ],
            [
             0.3,
             "#f1b6da"
            ],
            [
             0.4,
             "#fde0ef"
            ],
            [
             0.5,
             "#f7f7f7"
            ],
            [
             0.6,
             "#e6f5d0"
            ],
            [
             0.7,
             "#b8e186"
            ],
            [
             0.8,
             "#7fbc41"
            ],
            [
             0.9,
             "#4d9221"
            ],
            [
             1,
             "#276419"
            ]
           ],
           "sequential": [
            [
             0,
             "#0d0887"
            ],
            [
             0.1111111111111111,
             "#46039f"
            ],
            [
             0.2222222222222222,
             "#7201a8"
            ],
            [
             0.3333333333333333,
             "#9c179e"
            ],
            [
             0.4444444444444444,
             "#bd3786"
            ],
            [
             0.5555555555555556,
             "#d8576b"
            ],
            [
             0.6666666666666666,
             "#ed7953"
            ],
            [
             0.7777777777777778,
             "#fb9f3a"
            ],
            [
             0.8888888888888888,
             "#fdca26"
            ],
            [
             1,
             "#f0f921"
            ]
           ],
           "sequentialminus": [
            [
             0,
             "#0d0887"
            ],
            [
             0.1111111111111111,
             "#46039f"
            ],
            [
             0.2222222222222222,
             "#7201a8"
            ],
            [
             0.3333333333333333,
             "#9c179e"
            ],
            [
             0.4444444444444444,
             "#bd3786"
            ],
            [
             0.5555555555555556,
             "#d8576b"
            ],
            [
             0.6666666666666666,
             "#ed7953"
            ],
            [
             0.7777777777777778,
             "#fb9f3a"
            ],
            [
             0.8888888888888888,
             "#fdca26"
            ],
            [
             1,
             "#f0f921"
            ]
           ]
          },
          "colorway": [
           "#636efa",
           "#EF553B",
           "#00cc96",
           "#ab63fa",
           "#FFA15A",
           "#19d3f3",
           "#FF6692",
           "#B6E880",
           "#FF97FF",
           "#FECB52"
          ],
          "font": {
           "color": "#2a3f5f"
          },
          "geo": {
           "bgcolor": "white",
           "lakecolor": "white",
           "landcolor": "#E5ECF6",
           "showlakes": true,
           "showland": true,
           "subunitcolor": "white"
          },
          "hoverlabel": {
           "align": "left"
          },
          "hovermode": "closest",
          "mapbox": {
           "style": "light"
          },
          "paper_bgcolor": "white",
          "plot_bgcolor": "#E5ECF6",
          "polar": {
           "angularaxis": {
            "gridcolor": "white",
            "linecolor": "white",
            "ticks": ""
           },
           "bgcolor": "#E5ECF6",
           "radialaxis": {
            "gridcolor": "white",
            "linecolor": "white",
            "ticks": ""
           }
          },
          "scene": {
           "xaxis": {
            "backgroundcolor": "#E5ECF6",
            "gridcolor": "white",
            "gridwidth": 2,
            "linecolor": "white",
            "showbackground": true,
            "ticks": "",
            "zerolinecolor": "white"
           },
           "yaxis": {
            "backgroundcolor": "#E5ECF6",
            "gridcolor": "white",
            "gridwidth": 2,
            "linecolor": "white",
            "showbackground": true,
            "ticks": "",
            "zerolinecolor": "white"
           },
           "zaxis": {
            "backgroundcolor": "#E5ECF6",
            "gridcolor": "white",
            "gridwidth": 2,
            "linecolor": "white",
            "showbackground": true,
            "ticks": "",
            "zerolinecolor": "white"
           }
          },
          "shapedefaults": {
           "line": {
            "color": "#2a3f5f"
           }
          },
          "ternary": {
           "aaxis": {
            "gridcolor": "white",
            "linecolor": "white",
            "ticks": ""
           },
           "baxis": {
            "gridcolor": "white",
            "linecolor": "white",
            "ticks": ""
           },
           "bgcolor": "#E5ECF6",
           "caxis": {
            "gridcolor": "white",
            "linecolor": "white",
            "ticks": ""
           }
          },
          "title": {
           "x": 0.05
          },
          "xaxis": {
           "automargin": true,
           "gridcolor": "white",
           "linecolor": "white",
           "ticks": "",
           "title": {
            "standoff": 15
           },
           "zerolinecolor": "white",
           "zerolinewidth": 2
          },
          "yaxis": {
           "automargin": true,
           "gridcolor": "white",
           "linecolor": "white",
           "ticks": "",
           "title": {
            "standoff": 15
           },
           "zerolinecolor": "white",
           "zerolinewidth": 2
          }
         }
        },
        "title": {
         "font": {
          "color": "#4D5663"
         }
        },
        "xaxis": {
         "gridcolor": "#E1E5ED",
         "showgrid": true,
         "tickfont": {
          "color": "#4D5663"
         },
         "title": {
          "font": {
           "color": "#4D5663"
          },
          "text": ""
         },
         "zerolinecolor": "#E1E5ED"
        },
        "yaxis": {
         "gridcolor": "#E1E5ED",
         "showgrid": true,
         "tickfont": {
          "color": "#4D5663"
         },
         "title": {
          "font": {
           "color": "#4D5663"
          },
          "text": ""
         },
         "zerolinecolor": "#E1E5ED"
        }
       }
      },
      "text/html": [
       "<div>                            <div id=\"81b161c1-d604-429f-9f23-03cd93c46510\" class=\"plotly-graph-div\" style=\"height:525px; width:100%;\"></div>            <script type=\"text/javascript\">                require([\"plotly\"], function(Plotly) {                    window.PLOTLYENV=window.PLOTLYENV || {};\n",
       "                    window.PLOTLYENV.BASE_URL='https://plot.ly';                                    if (document.getElementById(\"81b161c1-d604-429f-9f23-03cd93c46510\")) {                    Plotly.newPlot(                        \"81b161c1-d604-429f-9f23-03cd93c46510\",                        [{\"line\":{\"color\":\"rgba(255, 153, 51, 1.0)\",\"dash\":\"solid\",\"shape\":\"linear\",\"width\":1.3},\"mode\":\"lines\",\"name\":\"a\",\"text\":\"\",\"x\":[0,1,2,3,4,5,6,7,8,9,10,11,12,13,14,15,16,17,18,19,20,21,22,23,24,25,26,27,28,29,30,31,32,33,34,35,36,37,38,39,40,41,42,43,44,45,46,47,48,49,50,51,52,53,54,55,56,57,58,59,60,61,62,63,64,65,66,67,68,69,70,71,72,73,74,75,76,77,78,79,80,81,82,83,84,85,86,87,88,89,90,91,92,93,94,95,96,97,98,99],\"y\":[-1.2536704061240342,-0.31192087006827185,-2.2109845815294356,0.26098210430390356,-0.42372505561706497,-0.5191246063006844,-0.3741979168810921,0.013160070003499067,-1.3936117653916562,-0.9879887112436886,0.9978019604285551,0.20408777022973887,-0.3751686712106355,0.14714190067587132,0.7097405973098823,-0.5980386770941455,-0.8580820814739449,-0.03928825662399084,2.1123756536844134,0.20988143099753984,-0.0039750860987576705,1.0837356737832347,0.25720841914284187,-0.6265295757295674,-0.8334593492338207,-0.43845976815063725,1.2182819398389937,-1.2402949889598742,-1.2071346174640567,-0.25215273236635155,-0.26222993788277515,-1.5944264482789066,-0.11603327631361181,0.3170166562461856,0.33184384567773306,0.2706533742615674,0.6886179771564876,0.33296980227084005,0.5860064727362081,-1.0790498039463736,0.036369968192229485,0.15144790493044746,-0.10393678206743479,0.8349700375535881,-1.206328193237761,0.5673265511778895,-0.06721204834887629,-0.543744658610441,-1.784873068359861,-1.5640842673613353,-1.7484510427524396,-0.9238595076773191,-0.07066518986172503,-1.2564883213487814,-1.255171782943583,-0.5693595220873484,-0.2680475201230551,-0.7370601821881222,1.4131046455732545,-0.4484711608573334,-0.03368558970719541,0.20060822572533968,-1.3006252925618582,-0.7650549164700556,-1.474269199202699,-1.9035357216209998,-0.842459505915815,-0.6450446032311398,-1.3859767495689528,0.5787535105345148,2.2955960081866325,-1.4380393667265592,0.592895059358941,0.6824300472122862,-1.978558056285446,0.6507979497194142,-0.8504019891320452,-0.23082902274044428,0.9275706159608799,-0.047095155777864835,-1.6405431622980855,-0.8744312401517957,-0.25871068506394845,0.27471500967068346,0.1946788757728365,1.4125245459008748,-0.049375511972559315,-0.10475479978240199,0.5133935150926221,-1.2223620008398135,-0.11638992089113567,-1.3023112967306605,0.30293182359718746,-1.6607840815862427,1.983670482457282,-1.0036184526149803,-1.428906436402728,1.5304130203604172,0.9133621367502792,-0.29639213224210054],\"type\":\"scatter\"},{\"line\":{\"color\":\"rgba(55, 128, 191, 1.0)\",\"dash\":\"solid\",\"shape\":\"linear\",\"width\":1.3},\"mode\":\"lines\",\"name\":\"b\",\"text\":\"\",\"x\":[0,1,2,3,4,5,6,7,8,9,10,11,12,13,14,15,16,17,18,19,20,21,22,23,24,25,26,27,28,29,30,31,32,33,34,35,36,37,38,39,40,41,42,43,44,45,46,47,48,49,50,51,52,53,54,55,56,57,58,59,60,61,62,63,64,65,66,67,68,69,70,71,72,73,74,75,76,77,78,79,80,81,82,83,84,85,86,87,88,89,90,91,92,93,94,95,96,97,98,99],\"y\":[-0.7172365979374294,0.1301927392996842,-1.393522266799919,0.5547087920801866,-0.5200071012122776,1.1613183698350373,-1.3529461218033918,1.3988825487452088,0.6733468125873788,1.5219448397371478,-0.7906269916573789,-0.3161501726488375,-0.41778212984503704,-0.5831677471760225,0.6023577387799757,-0.4443233853900075,0.7533047706847111,-1.3970815128632759,0.3581974945656321,0.8589985833109056,0.47592833921194794,0.23549672361459806,-0.18952266322583036,0.19974453806195278,-0.06960702398037072,-1.0086186324692388,0.9628957190504571,0.9474978795182155,0.8596145583597102,-0.4263569089417392,0.3499146348325409,0.9398534359848607,-0.6229775340336317,0.19749787601107976,-1.0991368107166477,0.13191944366896108,-0.42292656307822624,0.34519356856585565,0.514983356263597,-1.138924491691048,-1.189373130478294,0.9667822919326727,-1.150614139922435,0.42524038583700313,-0.03894968578993216,-0.13929919745961755,-0.3125569796919793,-1.4309654669216174,0.03980910697712983,-0.880089298606563,-1.1501158787075554,-1.4208883907476475,1.2273389142307352,0.7034530198234115,0.38818130211246876,0.18684137941578224,1.0825536881142404,-0.34031467699274226,-2.550099155251413,0.08468203433117498,0.44837050229530284,0.017602416217182646,-0.5201218604083405,0.654672383103486,-0.9318224461423867,-1.0800159254957447,1.544411010637449,-2.16227794297282,0.23561697608863844,-1.1278533299184488,-0.11732290592434473,-0.29730289220519107,-0.32750099938839783,0.955194867490096,-1.7596498603194104,0.7096375246310584,0.5821868144562231,-0.8746028069438861,0.9062882402006409,0.055217998884144866,-1.973828315514508,-1.004458985106134,1.7793279779693252,-0.10840911214856161,2.6867297265953103,0.91343388042321,-0.9377622323218044,-1.2570794768782148,1.6471666036145307,0.48188330904460136,-0.04052226717979435,-0.05859375010378374,1.1738796853901698,0.2795749088035469,1.0908754639387486,-1.1197331844989709,-1.2150861295185817,1.5136977245404255,0.8247996201154251,-0.24542134180675218],\"type\":\"scatter\"},{\"line\":{\"color\":\"rgba(50, 171, 96, 1.0)\",\"dash\":\"solid\",\"shape\":\"linear\",\"width\":1.3},\"mode\":\"lines\",\"name\":\"c\",\"text\":\"\",\"x\":[0,1,2,3,4,5,6,7,8,9,10,11,12,13,14,15,16,17,18,19,20,21,22,23,24,25,26,27,28,29,30,31,32,33,34,35,36,37,38,39,40,41,42,43,44,45,46,47,48,49,50,51,52,53,54,55,56,57,58,59,60,61,62,63,64,65,66,67,68,69,70,71,72,73,74,75,76,77,78,79,80,81,82,83,84,85,86,87,88,89,90,91,92,93,94,95,96,97,98,99],\"y\":[-0.644862269764822,-0.30779304426494414,1.4312069827650835,-0.568106716918909,-0.05482999949921287,1.3775688864000735,0.6969010286683164,-2.2929526767754216,0.09082610904100767,0.35623333678979724,1.0512567783275675,-1.0781253734726224,0.3051893108966182,0.11398895639943217,-0.5026548935373585,1.0100767573269718,1.6045563397800657,-0.263790151377017,1.4712932996464019,-0.5026694094274891,0.07602958833205785,0.13560896282949106,-0.8585960115677611,-0.8489487219660529,-0.36949464919022484,0.03506363469734359,-1.4111291043256964,-0.47803526330092605,1.6580456931546976,-1.2211657668381346,-1.1826923102828888,2.061911162448477,0.6877747246825724,-0.13328032534468331,0.9679268063934757,-0.7051450416419223,-0.2329471343594074,0.17571764933338305,-0.9889760436217521,1.706941676259754,-0.5542973605783889,1.7299250177970487,0.5323677350937979,0.5242285866578907,-0.597385471430855,0.16728901604561539,0.4142163978691079,1.692250276833783,1.7463791730772082,-0.21986570644528575,0.19127617579273945,0.08877869680039471,0.3075071782923635,-0.6468916090946528,-1.2489633296959335,0.29376203724273914,-0.6383223712123308,2.145148067398187,-0.5937240361377595,1.974857623800908,-1.2345916699396726,-0.40231911081509003,1.151067685185213,-1.684758230947675,0.66943289859867,0.5637987734791424,1.0482474041595975,-0.712096988002522,-1.8233548549123433,0.44447113578405967,3.389577803441184,-0.9456440548848006,-0.04086647782104779,0.27759419334555296,0.21164527133327032,1.148398128752941,0.15314627067663572,-1.8038820878934234,0.9722698111484178,1.0229092134274624,0.28283095471296954,-1.5510481364175461,0.061838266966372755,0.33059494433994546,-0.4556161090862515,1.5902552853587868,-0.9607932154675821,1.0375863648405528,1.2343312552332237,-0.04409033375219025,0.5213861390488062,0.48831165178233615,-2.2380864110431213,-0.6057784263895877,1.2246095538404946,0.7780165479817372,0.549101480326388,-0.48192376559470035,0.1177121625684017,0.27941031936166405],\"type\":\"scatter\"},{\"line\":{\"color\":\"rgba(128, 0, 128, 1.0)\",\"dash\":\"solid\",\"shape\":\"linear\",\"width\":1.3},\"mode\":\"lines\",\"name\":\"d\",\"text\":\"\",\"x\":[0,1,2,3,4,5,6,7,8,9,10,11,12,13,14,15,16,17,18,19,20,21,22,23,24,25,26,27,28,29,30,31,32,33,34,35,36,37,38,39,40,41,42,43,44,45,46,47,48,49,50,51,52,53,54,55,56,57,58,59,60,61,62,63,64,65,66,67,68,69,70,71,72,73,74,75,76,77,78,79,80,81,82,83,84,85,86,87,88,89,90,91,92,93,94,95,96,97,98,99],\"y\":[0.7497183605737537,-0.36957187829460453,0.05558868595169157,-1.326245374066973,0.48709573897201197,-0.04058352785552951,0.7172478305315246,1.1686461498120249,0.15582629174388662,-0.24935139025430994,1.5236235045735902,2.4621582729845315,0.17439551195791178,-0.7302229015928575,-0.07208072413731856,-0.8429801003585939,1.0588884773639018,-0.4280041278713005,-0.35651863457078803,-1.5311127200324355,-0.5645907407909591,0.905829449333737,-0.640080885178177,-0.8082682458443605,0.10455202848036407,1.898251111645053,-0.5377332031162471,-0.5180827040364145,-0.40246041657702597,-0.23120410044358786,2.888006850971286,0.8094919070078689,0.38794403172813,-1.7216833001165157,0.568176426413336,1.8919573672768957,1.0298118946879022,-0.5063878296633622,-2.685666244932097,1.1814794613153967,0.182148400494332,0.5870395371820794,-0.7551590075916406,-0.015455428501074637,-0.43217773668747894,1.749317470617879,1.7407285070776848,-0.1915199989179134,0.7721322184140336,-1.0420640493950046,-1.2620508523349931,-2.2208445357924154,-0.3132754958417208,-0.04729021895831102,-0.4710086932553789,-0.22111930592822035,-0.6450366797051841,0.4480636208184629,0.1346706197334301,0.1489804856923085,-0.28362936025387375,-1.7114546660239531,0.6640007478235729,-0.7272174881915302,0.24119566979843185,0.6820050042566222,0.13109669641631977,-1.2949030969007622,-1.050770605437413,1.651015366716756,0.8384754662912653,-1.5460206664018412,0.5183959952241453,0.11579969767816818,0.058004891068721094,-0.5684793809625174,-0.16142445243376213,-0.2066414523185034,-0.5962630480602175,0.20797001029890144,-0.8148988463933333,-1.2426282974685001,-0.47710924613388633,-0.33075195323778883,0.357857525991513,0.03411888325736434,-1.1117034719288414,3.464326284094295,1.5977825629997318,1.5241586370429179,-0.9059344027985381,-1.0683838168248458,0.9338553610898398,-1.031239647837061,1.3097747301664568,0.4207203875049453,-0.11839767155825544,0.3537186155026702,-1.3921761213532073,-1.3138793191773748],\"type\":\"scatter\"}],                        {\"legend\":{\"bgcolor\":\"#F5F6F9\",\"font\":{\"color\":\"#4D5663\"}},\"paper_bgcolor\":\"#F5F6F9\",\"plot_bgcolor\":\"#F5F6F9\",\"template\":{\"data\":{\"barpolar\":[{\"marker\":{\"line\":{\"color\":\"#E5ECF6\",\"width\":0.5},\"pattern\":{\"fillmode\":\"overlay\",\"size\":10,\"solidity\":0.2}},\"type\":\"barpolar\"}],\"bar\":[{\"error_x\":{\"color\":\"#2a3f5f\"},\"error_y\":{\"color\":\"#2a3f5f\"},\"marker\":{\"line\":{\"color\":\"#E5ECF6\",\"width\":0.5},\"pattern\":{\"fillmode\":\"overlay\",\"size\":10,\"solidity\":0.2}},\"type\":\"bar\"}],\"carpet\":[{\"aaxis\":{\"endlinecolor\":\"#2a3f5f\",\"gridcolor\":\"white\",\"linecolor\":\"white\",\"minorgridcolor\":\"white\",\"startlinecolor\":\"#2a3f5f\"},\"baxis\":{\"endlinecolor\":\"#2a3f5f\",\"gridcolor\":\"white\",\"linecolor\":\"white\",\"minorgridcolor\":\"white\",\"startlinecolor\":\"#2a3f5f\"},\"type\":\"carpet\"}],\"choropleth\":[{\"colorbar\":{\"outlinewidth\":0,\"ticks\":\"\"},\"type\":\"choropleth\"}],\"contourcarpet\":[{\"colorbar\":{\"outlinewidth\":0,\"ticks\":\"\"},\"type\":\"contourcarpet\"}],\"contour\":[{\"colorbar\":{\"outlinewidth\":0,\"ticks\":\"\"},\"colorscale\":[[0.0,\"#0d0887\"],[0.1111111111111111,\"#46039f\"],[0.2222222222222222,\"#7201a8\"],[0.3333333333333333,\"#9c179e\"],[0.4444444444444444,\"#bd3786\"],[0.5555555555555556,\"#d8576b\"],[0.6666666666666666,\"#ed7953\"],[0.7777777777777778,\"#fb9f3a\"],[0.8888888888888888,\"#fdca26\"],[1.0,\"#f0f921\"]],\"type\":\"contour\"}],\"heatmapgl\":[{\"colorbar\":{\"outlinewidth\":0,\"ticks\":\"\"},\"colorscale\":[[0.0,\"#0d0887\"],[0.1111111111111111,\"#46039f\"],[0.2222222222222222,\"#7201a8\"],[0.3333333333333333,\"#9c179e\"],[0.4444444444444444,\"#bd3786\"],[0.5555555555555556,\"#d8576b\"],[0.6666666666666666,\"#ed7953\"],[0.7777777777777778,\"#fb9f3a\"],[0.8888888888888888,\"#fdca26\"],[1.0,\"#f0f921\"]],\"type\":\"heatmapgl\"}],\"heatmap\":[{\"colorbar\":{\"outlinewidth\":0,\"ticks\":\"\"},\"colorscale\":[[0.0,\"#0d0887\"],[0.1111111111111111,\"#46039f\"],[0.2222222222222222,\"#7201a8\"],[0.3333333333333333,\"#9c179e\"],[0.4444444444444444,\"#bd3786\"],[0.5555555555555556,\"#d8576b\"],[0.6666666666666666,\"#ed7953\"],[0.7777777777777778,\"#fb9f3a\"],[0.8888888888888888,\"#fdca26\"],[1.0,\"#f0f921\"]],\"type\":\"heatmap\"}],\"histogram2dcontour\":[{\"colorbar\":{\"outlinewidth\":0,\"ticks\":\"\"},\"colorscale\":[[0.0,\"#0d0887\"],[0.1111111111111111,\"#46039f\"],[0.2222222222222222,\"#7201a8\"],[0.3333333333333333,\"#9c179e\"],[0.4444444444444444,\"#bd3786\"],[0.5555555555555556,\"#d8576b\"],[0.6666666666666666,\"#ed7953\"],[0.7777777777777778,\"#fb9f3a\"],[0.8888888888888888,\"#fdca26\"],[1.0,\"#f0f921\"]],\"type\":\"histogram2dcontour\"}],\"histogram2d\":[{\"colorbar\":{\"outlinewidth\":0,\"ticks\":\"\"},\"colorscale\":[[0.0,\"#0d0887\"],[0.1111111111111111,\"#46039f\"],[0.2222222222222222,\"#7201a8\"],[0.3333333333333333,\"#9c179e\"],[0.4444444444444444,\"#bd3786\"],[0.5555555555555556,\"#d8576b\"],[0.6666666666666666,\"#ed7953\"],[0.7777777777777778,\"#fb9f3a\"],[0.8888888888888888,\"#fdca26\"],[1.0,\"#f0f921\"]],\"type\":\"histogram2d\"}],\"histogram\":[{\"marker\":{\"pattern\":{\"fillmode\":\"overlay\",\"size\":10,\"solidity\":0.2}},\"type\":\"histogram\"}],\"mesh3d\":[{\"colorbar\":{\"outlinewidth\":0,\"ticks\":\"\"},\"type\":\"mesh3d\"}],\"parcoords\":[{\"line\":{\"colorbar\":{\"outlinewidth\":0,\"ticks\":\"\"}},\"type\":\"parcoords\"}],\"pie\":[{\"automargin\":true,\"type\":\"pie\"}],\"scatter3d\":[{\"line\":{\"colorbar\":{\"outlinewidth\":0,\"ticks\":\"\"}},\"marker\":{\"colorbar\":{\"outlinewidth\":0,\"ticks\":\"\"}},\"type\":\"scatter3d\"}],\"scattercarpet\":[{\"marker\":{\"colorbar\":{\"outlinewidth\":0,\"ticks\":\"\"}},\"type\":\"scattercarpet\"}],\"scattergeo\":[{\"marker\":{\"colorbar\":{\"outlinewidth\":0,\"ticks\":\"\"}},\"type\":\"scattergeo\"}],\"scattergl\":[{\"marker\":{\"colorbar\":{\"outlinewidth\":0,\"ticks\":\"\"}},\"type\":\"scattergl\"}],\"scattermapbox\":[{\"marker\":{\"colorbar\":{\"outlinewidth\":0,\"ticks\":\"\"}},\"type\":\"scattermapbox\"}],\"scatterpolargl\":[{\"marker\":{\"colorbar\":{\"outlinewidth\":0,\"ticks\":\"\"}},\"type\":\"scatterpolargl\"}],\"scatterpolar\":[{\"marker\":{\"colorbar\":{\"outlinewidth\":0,\"ticks\":\"\"}},\"type\":\"scatterpolar\"}],\"scatter\":[{\"fillpattern\":{\"fillmode\":\"overlay\",\"size\":10,\"solidity\":0.2},\"type\":\"scatter\"}],\"scatterternary\":[{\"marker\":{\"colorbar\":{\"outlinewidth\":0,\"ticks\":\"\"}},\"type\":\"scatterternary\"}],\"surface\":[{\"colorbar\":{\"outlinewidth\":0,\"ticks\":\"\"},\"colorscale\":[[0.0,\"#0d0887\"],[0.1111111111111111,\"#46039f\"],[0.2222222222222222,\"#7201a8\"],[0.3333333333333333,\"#9c179e\"],[0.4444444444444444,\"#bd3786\"],[0.5555555555555556,\"#d8576b\"],[0.6666666666666666,\"#ed7953\"],[0.7777777777777778,\"#fb9f3a\"],[0.8888888888888888,\"#fdca26\"],[1.0,\"#f0f921\"]],\"type\":\"surface\"}],\"table\":[{\"cells\":{\"fill\":{\"color\":\"#EBF0F8\"},\"line\":{\"color\":\"white\"}},\"header\":{\"fill\":{\"color\":\"#C8D4E3\"},\"line\":{\"color\":\"white\"}},\"type\":\"table\"}]},\"layout\":{\"annotationdefaults\":{\"arrowcolor\":\"#2a3f5f\",\"arrowhead\":0,\"arrowwidth\":1},\"autotypenumbers\":\"strict\",\"coloraxis\":{\"colorbar\":{\"outlinewidth\":0,\"ticks\":\"\"}},\"colorscale\":{\"diverging\":[[0,\"#8e0152\"],[0.1,\"#c51b7d\"],[0.2,\"#de77ae\"],[0.3,\"#f1b6da\"],[0.4,\"#fde0ef\"],[0.5,\"#f7f7f7\"],[0.6,\"#e6f5d0\"],[0.7,\"#b8e186\"],[0.8,\"#7fbc41\"],[0.9,\"#4d9221\"],[1,\"#276419\"]],\"sequential\":[[0.0,\"#0d0887\"],[0.1111111111111111,\"#46039f\"],[0.2222222222222222,\"#7201a8\"],[0.3333333333333333,\"#9c179e\"],[0.4444444444444444,\"#bd3786\"],[0.5555555555555556,\"#d8576b\"],[0.6666666666666666,\"#ed7953\"],[0.7777777777777778,\"#fb9f3a\"],[0.8888888888888888,\"#fdca26\"],[1.0,\"#f0f921\"]],\"sequentialminus\":[[0.0,\"#0d0887\"],[0.1111111111111111,\"#46039f\"],[0.2222222222222222,\"#7201a8\"],[0.3333333333333333,\"#9c179e\"],[0.4444444444444444,\"#bd3786\"],[0.5555555555555556,\"#d8576b\"],[0.6666666666666666,\"#ed7953\"],[0.7777777777777778,\"#fb9f3a\"],[0.8888888888888888,\"#fdca26\"],[1.0,\"#f0f921\"]]},\"colorway\":[\"#636efa\",\"#EF553B\",\"#00cc96\",\"#ab63fa\",\"#FFA15A\",\"#19d3f3\",\"#FF6692\",\"#B6E880\",\"#FF97FF\",\"#FECB52\"],\"font\":{\"color\":\"#2a3f5f\"},\"geo\":{\"bgcolor\":\"white\",\"lakecolor\":\"white\",\"landcolor\":\"#E5ECF6\",\"showlakes\":true,\"showland\":true,\"subunitcolor\":\"white\"},\"hoverlabel\":{\"align\":\"left\"},\"hovermode\":\"closest\",\"mapbox\":{\"style\":\"light\"},\"paper_bgcolor\":\"white\",\"plot_bgcolor\":\"#E5ECF6\",\"polar\":{\"angularaxis\":{\"gridcolor\":\"white\",\"linecolor\":\"white\",\"ticks\":\"\"},\"bgcolor\":\"#E5ECF6\",\"radialaxis\":{\"gridcolor\":\"white\",\"linecolor\":\"white\",\"ticks\":\"\"}},\"scene\":{\"xaxis\":{\"backgroundcolor\":\"#E5ECF6\",\"gridcolor\":\"white\",\"gridwidth\":2,\"linecolor\":\"white\",\"showbackground\":true,\"ticks\":\"\",\"zerolinecolor\":\"white\"},\"yaxis\":{\"backgroundcolor\":\"#E5ECF6\",\"gridcolor\":\"white\",\"gridwidth\":2,\"linecolor\":\"white\",\"showbackground\":true,\"ticks\":\"\",\"zerolinecolor\":\"white\"},\"zaxis\":{\"backgroundcolor\":\"#E5ECF6\",\"gridcolor\":\"white\",\"gridwidth\":2,\"linecolor\":\"white\",\"showbackground\":true,\"ticks\":\"\",\"zerolinecolor\":\"white\"}},\"shapedefaults\":{\"line\":{\"color\":\"#2a3f5f\"}},\"ternary\":{\"aaxis\":{\"gridcolor\":\"white\",\"linecolor\":\"white\",\"ticks\":\"\"},\"baxis\":{\"gridcolor\":\"white\",\"linecolor\":\"white\",\"ticks\":\"\"},\"bgcolor\":\"#E5ECF6\",\"caxis\":{\"gridcolor\":\"white\",\"linecolor\":\"white\",\"ticks\":\"\"}},\"title\":{\"x\":0.05},\"xaxis\":{\"automargin\":true,\"gridcolor\":\"white\",\"linecolor\":\"white\",\"ticks\":\"\",\"title\":{\"standoff\":15},\"zerolinecolor\":\"white\",\"zerolinewidth\":2},\"yaxis\":{\"automargin\":true,\"gridcolor\":\"white\",\"linecolor\":\"white\",\"ticks\":\"\",\"title\":{\"standoff\":15},\"zerolinecolor\":\"white\",\"zerolinewidth\":2}}},\"title\":{\"font\":{\"color\":\"#4D5663\"}},\"xaxis\":{\"gridcolor\":\"#E1E5ED\",\"showgrid\":true,\"tickfont\":{\"color\":\"#4D5663\"},\"title\":{\"font\":{\"color\":\"#4D5663\"},\"text\":\"\"},\"zerolinecolor\":\"#E1E5ED\"},\"yaxis\":{\"gridcolor\":\"#E1E5ED\",\"showgrid\":true,\"tickfont\":{\"color\":\"#4D5663\"},\"title\":{\"font\":{\"color\":\"#4D5663\"},\"text\":\"\"},\"zerolinecolor\":\"#E1E5ED\"}},                        {\"showLink\": true, \"linkText\": \"Export to plot.ly\", \"plotlyServerURL\": \"https://plot.ly\", \"responsive\": true}                    ).then(function(){\n",
       "                            \n",
       "var gd = document.getElementById('81b161c1-d604-429f-9f23-03cd93c46510');\n",
       "var x = new MutationObserver(function (mutations, observer) {{\n",
       "        var display = window.getComputedStyle(gd).display;\n",
       "        if (!display || display === 'none') {{\n",
       "            console.log([gd, 'removed!']);\n",
       "            Plotly.purge(gd);\n",
       "            observer.disconnect();\n",
       "        }}\n",
       "}});\n",
       "\n",
       "// Listen for the removal of the full notebook cells\n",
       "var notebookContainer = gd.closest('#notebook-container');\n",
       "if (notebookContainer) {{\n",
       "    x.observe(notebookContainer, {childList: true});\n",
       "}}\n",
       "\n",
       "// Listen for the clearing of the current output cell\n",
       "var outputEl = gd.closest('.output');\n",
       "if (outputEl) {{\n",
       "    x.observe(outputEl, {childList: true});\n",
       "}}\n",
       "\n",
       "                        })                };                });            </script>        </div>"
      ]
     },
     "metadata": {},
     "output_type": "display_data"
    }
   ],
   "source": [
    "df.iplot()"
   ]
  },
  {
   "cell_type": "code",
   "execution_count": 25,
   "id": "59a0a7aa",
   "metadata": {},
   "outputs": [
    {
     "data": {
      "application/vnd.plotly.v1+json": {
       "config": {
        "linkText": "Export to plot.ly",
        "plotlyServerURL": "https://plot.ly",
        "showLink": true
       },
       "data": [
        {
         "line": {
          "color": "rgba(255, 153, 51, 1.0)",
          "dash": "solid",
          "shape": "linear",
          "width": 1.3
         },
         "marker": {
          "size": 20,
          "symbol": "circle"
         },
         "mode": "markers",
         "name": "b",
         "text": "",
         "type": "scatter",
         "x": [
          -1.2536704061240342,
          -0.31192087006827185,
          -2.2109845815294356,
          0.26098210430390356,
          -0.42372505561706497,
          -0.5191246063006844,
          -0.3741979168810921,
          0.013160070003499067,
          -1.3936117653916562,
          -0.9879887112436886,
          0.9978019604285551,
          0.20408777022973887,
          -0.3751686712106355,
          0.14714190067587132,
          0.7097405973098823,
          -0.5980386770941455,
          -0.8580820814739449,
          -0.03928825662399084,
          2.1123756536844134,
          0.20988143099753984,
          -0.0039750860987576705,
          1.0837356737832347,
          0.25720841914284187,
          -0.6265295757295674,
          -0.8334593492338207,
          -0.43845976815063725,
          1.2182819398389937,
          -1.2402949889598742,
          -1.2071346174640567,
          -0.25215273236635155,
          -0.26222993788277515,
          -1.5944264482789066,
          -0.11603327631361181,
          0.3170166562461856,
          0.33184384567773306,
          0.2706533742615674,
          0.6886179771564876,
          0.33296980227084005,
          0.5860064727362081,
          -1.0790498039463736,
          0.036369968192229485,
          0.15144790493044746,
          -0.10393678206743479,
          0.8349700375535881,
          -1.206328193237761,
          0.5673265511778895,
          -0.06721204834887629,
          -0.543744658610441,
          -1.784873068359861,
          -1.5640842673613353,
          -1.7484510427524396,
          -0.9238595076773191,
          -0.07066518986172503,
          -1.2564883213487814,
          -1.255171782943583,
          -0.5693595220873484,
          -0.2680475201230551,
          -0.7370601821881222,
          1.4131046455732545,
          -0.4484711608573334,
          -0.03368558970719541,
          0.20060822572533968,
          -1.3006252925618582,
          -0.7650549164700556,
          -1.474269199202699,
          -1.9035357216209998,
          -0.842459505915815,
          -0.6450446032311398,
          -1.3859767495689528,
          0.5787535105345148,
          2.2955960081866325,
          -1.4380393667265592,
          0.592895059358941,
          0.6824300472122862,
          -1.978558056285446,
          0.6507979497194142,
          -0.8504019891320452,
          -0.23082902274044428,
          0.9275706159608799,
          -0.047095155777864835,
          -1.6405431622980855,
          -0.8744312401517957,
          -0.25871068506394845,
          0.27471500967068346,
          0.1946788757728365,
          1.4125245459008748,
          -0.049375511972559315,
          -0.10475479978240199,
          0.5133935150926221,
          -1.2223620008398135,
          -0.11638992089113567,
          -1.3023112967306605,
          0.30293182359718746,
          -1.6607840815862427,
          1.983670482457282,
          -1.0036184526149803,
          -1.428906436402728,
          1.5304130203604172,
          0.9133621367502792,
          -0.29639213224210054
         ],
         "y": [
          -0.7172365979374294,
          0.1301927392996842,
          -1.393522266799919,
          0.5547087920801866,
          -0.5200071012122776,
          1.1613183698350373,
          -1.3529461218033918,
          1.3988825487452088,
          0.6733468125873788,
          1.5219448397371478,
          -0.7906269916573789,
          -0.3161501726488375,
          -0.41778212984503704,
          -0.5831677471760225,
          0.6023577387799757,
          -0.4443233853900075,
          0.7533047706847111,
          -1.3970815128632759,
          0.3581974945656321,
          0.8589985833109056,
          0.47592833921194794,
          0.23549672361459806,
          -0.18952266322583036,
          0.19974453806195278,
          -0.06960702398037072,
          -1.0086186324692388,
          0.9628957190504571,
          0.9474978795182155,
          0.8596145583597102,
          -0.4263569089417392,
          0.3499146348325409,
          0.9398534359848607,
          -0.6229775340336317,
          0.19749787601107976,
          -1.0991368107166477,
          0.13191944366896108,
          -0.42292656307822624,
          0.34519356856585565,
          0.514983356263597,
          -1.138924491691048,
          -1.189373130478294,
          0.9667822919326727,
          -1.150614139922435,
          0.42524038583700313,
          -0.03894968578993216,
          -0.13929919745961755,
          -0.3125569796919793,
          -1.4309654669216174,
          0.03980910697712983,
          -0.880089298606563,
          -1.1501158787075554,
          -1.4208883907476475,
          1.2273389142307352,
          0.7034530198234115,
          0.38818130211246876,
          0.18684137941578224,
          1.0825536881142404,
          -0.34031467699274226,
          -2.550099155251413,
          0.08468203433117498,
          0.44837050229530284,
          0.017602416217182646,
          -0.5201218604083405,
          0.654672383103486,
          -0.9318224461423867,
          -1.0800159254957447,
          1.544411010637449,
          -2.16227794297282,
          0.23561697608863844,
          -1.1278533299184488,
          -0.11732290592434473,
          -0.29730289220519107,
          -0.32750099938839783,
          0.955194867490096,
          -1.7596498603194104,
          0.7096375246310584,
          0.5821868144562231,
          -0.8746028069438861,
          0.9062882402006409,
          0.055217998884144866,
          -1.973828315514508,
          -1.004458985106134,
          1.7793279779693252,
          -0.10840911214856161,
          2.6867297265953103,
          0.91343388042321,
          -0.9377622323218044,
          -1.2570794768782148,
          1.6471666036145307,
          0.48188330904460136,
          -0.04052226717979435,
          -0.05859375010378374,
          1.1738796853901698,
          0.2795749088035469,
          1.0908754639387486,
          -1.1197331844989709,
          -1.2150861295185817,
          1.5136977245404255,
          0.8247996201154251,
          -0.24542134180675218
         ]
        }
       ],
       "layout": {
        "legend": {
         "bgcolor": "#F5F6F9",
         "font": {
          "color": "#4D5663"
         }
        },
        "paper_bgcolor": "#F5F6F9",
        "plot_bgcolor": "#F5F6F9",
        "template": {
         "data": {
          "bar": [
           {
            "error_x": {
             "color": "#2a3f5f"
            },
            "error_y": {
             "color": "#2a3f5f"
            },
            "marker": {
             "line": {
              "color": "#E5ECF6",
              "width": 0.5
             },
             "pattern": {
              "fillmode": "overlay",
              "size": 10,
              "solidity": 0.2
             }
            },
            "type": "bar"
           }
          ],
          "barpolar": [
           {
            "marker": {
             "line": {
              "color": "#E5ECF6",
              "width": 0.5
             },
             "pattern": {
              "fillmode": "overlay",
              "size": 10,
              "solidity": 0.2
             }
            },
            "type": "barpolar"
           }
          ],
          "carpet": [
           {
            "aaxis": {
             "endlinecolor": "#2a3f5f",
             "gridcolor": "white",
             "linecolor": "white",
             "minorgridcolor": "white",
             "startlinecolor": "#2a3f5f"
            },
            "baxis": {
             "endlinecolor": "#2a3f5f",
             "gridcolor": "white",
             "linecolor": "white",
             "minorgridcolor": "white",
             "startlinecolor": "#2a3f5f"
            },
            "type": "carpet"
           }
          ],
          "choropleth": [
           {
            "colorbar": {
             "outlinewidth": 0,
             "ticks": ""
            },
            "type": "choropleth"
           }
          ],
          "contour": [
           {
            "colorbar": {
             "outlinewidth": 0,
             "ticks": ""
            },
            "colorscale": [
             [
              0,
              "#0d0887"
             ],
             [
              0.1111111111111111,
              "#46039f"
             ],
             [
              0.2222222222222222,
              "#7201a8"
             ],
             [
              0.3333333333333333,
              "#9c179e"
             ],
             [
              0.4444444444444444,
              "#bd3786"
             ],
             [
              0.5555555555555556,
              "#d8576b"
             ],
             [
              0.6666666666666666,
              "#ed7953"
             ],
             [
              0.7777777777777778,
              "#fb9f3a"
             ],
             [
              0.8888888888888888,
              "#fdca26"
             ],
             [
              1,
              "#f0f921"
             ]
            ],
            "type": "contour"
           }
          ],
          "contourcarpet": [
           {
            "colorbar": {
             "outlinewidth": 0,
             "ticks": ""
            },
            "type": "contourcarpet"
           }
          ],
          "heatmap": [
           {
            "colorbar": {
             "outlinewidth": 0,
             "ticks": ""
            },
            "colorscale": [
             [
              0,
              "#0d0887"
             ],
             [
              0.1111111111111111,
              "#46039f"
             ],
             [
              0.2222222222222222,
              "#7201a8"
             ],
             [
              0.3333333333333333,
              "#9c179e"
             ],
             [
              0.4444444444444444,
              "#bd3786"
             ],
             [
              0.5555555555555556,
              "#d8576b"
             ],
             [
              0.6666666666666666,
              "#ed7953"
             ],
             [
              0.7777777777777778,
              "#fb9f3a"
             ],
             [
              0.8888888888888888,
              "#fdca26"
             ],
             [
              1,
              "#f0f921"
             ]
            ],
            "type": "heatmap"
           }
          ],
          "heatmapgl": [
           {
            "colorbar": {
             "outlinewidth": 0,
             "ticks": ""
            },
            "colorscale": [
             [
              0,
              "#0d0887"
             ],
             [
              0.1111111111111111,
              "#46039f"
             ],
             [
              0.2222222222222222,
              "#7201a8"
             ],
             [
              0.3333333333333333,
              "#9c179e"
             ],
             [
              0.4444444444444444,
              "#bd3786"
             ],
             [
              0.5555555555555556,
              "#d8576b"
             ],
             [
              0.6666666666666666,
              "#ed7953"
             ],
             [
              0.7777777777777778,
              "#fb9f3a"
             ],
             [
              0.8888888888888888,
              "#fdca26"
             ],
             [
              1,
              "#f0f921"
             ]
            ],
            "type": "heatmapgl"
           }
          ],
          "histogram": [
           {
            "marker": {
             "pattern": {
              "fillmode": "overlay",
              "size": 10,
              "solidity": 0.2
             }
            },
            "type": "histogram"
           }
          ],
          "histogram2d": [
           {
            "colorbar": {
             "outlinewidth": 0,
             "ticks": ""
            },
            "colorscale": [
             [
              0,
              "#0d0887"
             ],
             [
              0.1111111111111111,
              "#46039f"
             ],
             [
              0.2222222222222222,
              "#7201a8"
             ],
             [
              0.3333333333333333,
              "#9c179e"
             ],
             [
              0.4444444444444444,
              "#bd3786"
             ],
             [
              0.5555555555555556,
              "#d8576b"
             ],
             [
              0.6666666666666666,
              "#ed7953"
             ],
             [
              0.7777777777777778,
              "#fb9f3a"
             ],
             [
              0.8888888888888888,
              "#fdca26"
             ],
             [
              1,
              "#f0f921"
             ]
            ],
            "type": "histogram2d"
           }
          ],
          "histogram2dcontour": [
           {
            "colorbar": {
             "outlinewidth": 0,
             "ticks": ""
            },
            "colorscale": [
             [
              0,
              "#0d0887"
             ],
             [
              0.1111111111111111,
              "#46039f"
             ],
             [
              0.2222222222222222,
              "#7201a8"
             ],
             [
              0.3333333333333333,
              "#9c179e"
             ],
             [
              0.4444444444444444,
              "#bd3786"
             ],
             [
              0.5555555555555556,
              "#d8576b"
             ],
             [
              0.6666666666666666,
              "#ed7953"
             ],
             [
              0.7777777777777778,
              "#fb9f3a"
             ],
             [
              0.8888888888888888,
              "#fdca26"
             ],
             [
              1,
              "#f0f921"
             ]
            ],
            "type": "histogram2dcontour"
           }
          ],
          "mesh3d": [
           {
            "colorbar": {
             "outlinewidth": 0,
             "ticks": ""
            },
            "type": "mesh3d"
           }
          ],
          "parcoords": [
           {
            "line": {
             "colorbar": {
              "outlinewidth": 0,
              "ticks": ""
             }
            },
            "type": "parcoords"
           }
          ],
          "pie": [
           {
            "automargin": true,
            "type": "pie"
           }
          ],
          "scatter": [
           {
            "fillpattern": {
             "fillmode": "overlay",
             "size": 10,
             "solidity": 0.2
            },
            "type": "scatter"
           }
          ],
          "scatter3d": [
           {
            "line": {
             "colorbar": {
              "outlinewidth": 0,
              "ticks": ""
             }
            },
            "marker": {
             "colorbar": {
              "outlinewidth": 0,
              "ticks": ""
             }
            },
            "type": "scatter3d"
           }
          ],
          "scattercarpet": [
           {
            "marker": {
             "colorbar": {
              "outlinewidth": 0,
              "ticks": ""
             }
            },
            "type": "scattercarpet"
           }
          ],
          "scattergeo": [
           {
            "marker": {
             "colorbar": {
              "outlinewidth": 0,
              "ticks": ""
             }
            },
            "type": "scattergeo"
           }
          ],
          "scattergl": [
           {
            "marker": {
             "colorbar": {
              "outlinewidth": 0,
              "ticks": ""
             }
            },
            "type": "scattergl"
           }
          ],
          "scattermapbox": [
           {
            "marker": {
             "colorbar": {
              "outlinewidth": 0,
              "ticks": ""
             }
            },
            "type": "scattermapbox"
           }
          ],
          "scatterpolar": [
           {
            "marker": {
             "colorbar": {
              "outlinewidth": 0,
              "ticks": ""
             }
            },
            "type": "scatterpolar"
           }
          ],
          "scatterpolargl": [
           {
            "marker": {
             "colorbar": {
              "outlinewidth": 0,
              "ticks": ""
             }
            },
            "type": "scatterpolargl"
           }
          ],
          "scatterternary": [
           {
            "marker": {
             "colorbar": {
              "outlinewidth": 0,
              "ticks": ""
             }
            },
            "type": "scatterternary"
           }
          ],
          "surface": [
           {
            "colorbar": {
             "outlinewidth": 0,
             "ticks": ""
            },
            "colorscale": [
             [
              0,
              "#0d0887"
             ],
             [
              0.1111111111111111,
              "#46039f"
             ],
             [
              0.2222222222222222,
              "#7201a8"
             ],
             [
              0.3333333333333333,
              "#9c179e"
             ],
             [
              0.4444444444444444,
              "#bd3786"
             ],
             [
              0.5555555555555556,
              "#d8576b"
             ],
             [
              0.6666666666666666,
              "#ed7953"
             ],
             [
              0.7777777777777778,
              "#fb9f3a"
             ],
             [
              0.8888888888888888,
              "#fdca26"
             ],
             [
              1,
              "#f0f921"
             ]
            ],
            "type": "surface"
           }
          ],
          "table": [
           {
            "cells": {
             "fill": {
              "color": "#EBF0F8"
             },
             "line": {
              "color": "white"
             }
            },
            "header": {
             "fill": {
              "color": "#C8D4E3"
             },
             "line": {
              "color": "white"
             }
            },
            "type": "table"
           }
          ]
         },
         "layout": {
          "annotationdefaults": {
           "arrowcolor": "#2a3f5f",
           "arrowhead": 0,
           "arrowwidth": 1
          },
          "autotypenumbers": "strict",
          "coloraxis": {
           "colorbar": {
            "outlinewidth": 0,
            "ticks": ""
           }
          },
          "colorscale": {
           "diverging": [
            [
             0,
             "#8e0152"
            ],
            [
             0.1,
             "#c51b7d"
            ],
            [
             0.2,
             "#de77ae"
            ],
            [
             0.3,
             "#f1b6da"
            ],
            [
             0.4,
             "#fde0ef"
            ],
            [
             0.5,
             "#f7f7f7"
            ],
            [
             0.6,
             "#e6f5d0"
            ],
            [
             0.7,
             "#b8e186"
            ],
            [
             0.8,
             "#7fbc41"
            ],
            [
             0.9,
             "#4d9221"
            ],
            [
             1,
             "#276419"
            ]
           ],
           "sequential": [
            [
             0,
             "#0d0887"
            ],
            [
             0.1111111111111111,
             "#46039f"
            ],
            [
             0.2222222222222222,
             "#7201a8"
            ],
            [
             0.3333333333333333,
             "#9c179e"
            ],
            [
             0.4444444444444444,
             "#bd3786"
            ],
            [
             0.5555555555555556,
             "#d8576b"
            ],
            [
             0.6666666666666666,
             "#ed7953"
            ],
            [
             0.7777777777777778,
             "#fb9f3a"
            ],
            [
             0.8888888888888888,
             "#fdca26"
            ],
            [
             1,
             "#f0f921"
            ]
           ],
           "sequentialminus": [
            [
             0,
             "#0d0887"
            ],
            [
             0.1111111111111111,
             "#46039f"
            ],
            [
             0.2222222222222222,
             "#7201a8"
            ],
            [
             0.3333333333333333,
             "#9c179e"
            ],
            [
             0.4444444444444444,
             "#bd3786"
            ],
            [
             0.5555555555555556,
             "#d8576b"
            ],
            [
             0.6666666666666666,
             "#ed7953"
            ],
            [
             0.7777777777777778,
             "#fb9f3a"
            ],
            [
             0.8888888888888888,
             "#fdca26"
            ],
            [
             1,
             "#f0f921"
            ]
           ]
          },
          "colorway": [
           "#636efa",
           "#EF553B",
           "#00cc96",
           "#ab63fa",
           "#FFA15A",
           "#19d3f3",
           "#FF6692",
           "#B6E880",
           "#FF97FF",
           "#FECB52"
          ],
          "font": {
           "color": "#2a3f5f"
          },
          "geo": {
           "bgcolor": "white",
           "lakecolor": "white",
           "landcolor": "#E5ECF6",
           "showlakes": true,
           "showland": true,
           "subunitcolor": "white"
          },
          "hoverlabel": {
           "align": "left"
          },
          "hovermode": "closest",
          "mapbox": {
           "style": "light"
          },
          "paper_bgcolor": "white",
          "plot_bgcolor": "#E5ECF6",
          "polar": {
           "angularaxis": {
            "gridcolor": "white",
            "linecolor": "white",
            "ticks": ""
           },
           "bgcolor": "#E5ECF6",
           "radialaxis": {
            "gridcolor": "white",
            "linecolor": "white",
            "ticks": ""
           }
          },
          "scene": {
           "xaxis": {
            "backgroundcolor": "#E5ECF6",
            "gridcolor": "white",
            "gridwidth": 2,
            "linecolor": "white",
            "showbackground": true,
            "ticks": "",
            "zerolinecolor": "white"
           },
           "yaxis": {
            "backgroundcolor": "#E5ECF6",
            "gridcolor": "white",
            "gridwidth": 2,
            "linecolor": "white",
            "showbackground": true,
            "ticks": "",
            "zerolinecolor": "white"
           },
           "zaxis": {
            "backgroundcolor": "#E5ECF6",
            "gridcolor": "white",
            "gridwidth": 2,
            "linecolor": "white",
            "showbackground": true,
            "ticks": "",
            "zerolinecolor": "white"
           }
          },
          "shapedefaults": {
           "line": {
            "color": "#2a3f5f"
           }
          },
          "ternary": {
           "aaxis": {
            "gridcolor": "white",
            "linecolor": "white",
            "ticks": ""
           },
           "baxis": {
            "gridcolor": "white",
            "linecolor": "white",
            "ticks": ""
           },
           "bgcolor": "#E5ECF6",
           "caxis": {
            "gridcolor": "white",
            "linecolor": "white",
            "ticks": ""
           }
          },
          "title": {
           "x": 0.05
          },
          "xaxis": {
           "automargin": true,
           "gridcolor": "white",
           "linecolor": "white",
           "ticks": "",
           "title": {
            "standoff": 15
           },
           "zerolinecolor": "white",
           "zerolinewidth": 2
          },
          "yaxis": {
           "automargin": true,
           "gridcolor": "white",
           "linecolor": "white",
           "ticks": "",
           "title": {
            "standoff": 15
           },
           "zerolinecolor": "white",
           "zerolinewidth": 2
          }
         }
        },
        "title": {
         "font": {
          "color": "#4D5663"
         }
        },
        "xaxis": {
         "gridcolor": "#E1E5ED",
         "showgrid": true,
         "tickfont": {
          "color": "#4D5663"
         },
         "title": {
          "font": {
           "color": "#4D5663"
          },
          "text": ""
         },
         "zerolinecolor": "#E1E5ED"
        },
        "yaxis": {
         "gridcolor": "#E1E5ED",
         "showgrid": true,
         "tickfont": {
          "color": "#4D5663"
         },
         "title": {
          "font": {
           "color": "#4D5663"
          },
          "text": ""
         },
         "zerolinecolor": "#E1E5ED"
        }
       }
      },
      "text/html": [
       "<div>                            <div id=\"c5ce5a3e-8c41-4886-812c-ceb864f91394\" class=\"plotly-graph-div\" style=\"height:525px; width:100%;\"></div>            <script type=\"text/javascript\">                require([\"plotly\"], function(Plotly) {                    window.PLOTLYENV=window.PLOTLYENV || {};\n",
       "                    window.PLOTLYENV.BASE_URL='https://plot.ly';                                    if (document.getElementById(\"c5ce5a3e-8c41-4886-812c-ceb864f91394\")) {                    Plotly.newPlot(                        \"c5ce5a3e-8c41-4886-812c-ceb864f91394\",                        [{\"line\":{\"color\":\"rgba(255, 153, 51, 1.0)\",\"dash\":\"solid\",\"shape\":\"linear\",\"width\":1.3},\"marker\":{\"size\":20,\"symbol\":\"circle\"},\"mode\":\"markers\",\"name\":\"b\",\"text\":\"\",\"x\":[-1.2536704061240342,-0.31192087006827185,-2.2109845815294356,0.26098210430390356,-0.42372505561706497,-0.5191246063006844,-0.3741979168810921,0.013160070003499067,-1.3936117653916562,-0.9879887112436886,0.9978019604285551,0.20408777022973887,-0.3751686712106355,0.14714190067587132,0.7097405973098823,-0.5980386770941455,-0.8580820814739449,-0.03928825662399084,2.1123756536844134,0.20988143099753984,-0.0039750860987576705,1.0837356737832347,0.25720841914284187,-0.6265295757295674,-0.8334593492338207,-0.43845976815063725,1.2182819398389937,-1.2402949889598742,-1.2071346174640567,-0.25215273236635155,-0.26222993788277515,-1.5944264482789066,-0.11603327631361181,0.3170166562461856,0.33184384567773306,0.2706533742615674,0.6886179771564876,0.33296980227084005,0.5860064727362081,-1.0790498039463736,0.036369968192229485,0.15144790493044746,-0.10393678206743479,0.8349700375535881,-1.206328193237761,0.5673265511778895,-0.06721204834887629,-0.543744658610441,-1.784873068359861,-1.5640842673613353,-1.7484510427524396,-0.9238595076773191,-0.07066518986172503,-1.2564883213487814,-1.255171782943583,-0.5693595220873484,-0.2680475201230551,-0.7370601821881222,1.4131046455732545,-0.4484711608573334,-0.03368558970719541,0.20060822572533968,-1.3006252925618582,-0.7650549164700556,-1.474269199202699,-1.9035357216209998,-0.842459505915815,-0.6450446032311398,-1.3859767495689528,0.5787535105345148,2.2955960081866325,-1.4380393667265592,0.592895059358941,0.6824300472122862,-1.978558056285446,0.6507979497194142,-0.8504019891320452,-0.23082902274044428,0.9275706159608799,-0.047095155777864835,-1.6405431622980855,-0.8744312401517957,-0.25871068506394845,0.27471500967068346,0.1946788757728365,1.4125245459008748,-0.049375511972559315,-0.10475479978240199,0.5133935150926221,-1.2223620008398135,-0.11638992089113567,-1.3023112967306605,0.30293182359718746,-1.6607840815862427,1.983670482457282,-1.0036184526149803,-1.428906436402728,1.5304130203604172,0.9133621367502792,-0.29639213224210054],\"y\":[-0.7172365979374294,0.1301927392996842,-1.393522266799919,0.5547087920801866,-0.5200071012122776,1.1613183698350373,-1.3529461218033918,1.3988825487452088,0.6733468125873788,1.5219448397371478,-0.7906269916573789,-0.3161501726488375,-0.41778212984503704,-0.5831677471760225,0.6023577387799757,-0.4443233853900075,0.7533047706847111,-1.3970815128632759,0.3581974945656321,0.8589985833109056,0.47592833921194794,0.23549672361459806,-0.18952266322583036,0.19974453806195278,-0.06960702398037072,-1.0086186324692388,0.9628957190504571,0.9474978795182155,0.8596145583597102,-0.4263569089417392,0.3499146348325409,0.9398534359848607,-0.6229775340336317,0.19749787601107976,-1.0991368107166477,0.13191944366896108,-0.42292656307822624,0.34519356856585565,0.514983356263597,-1.138924491691048,-1.189373130478294,0.9667822919326727,-1.150614139922435,0.42524038583700313,-0.03894968578993216,-0.13929919745961755,-0.3125569796919793,-1.4309654669216174,0.03980910697712983,-0.880089298606563,-1.1501158787075554,-1.4208883907476475,1.2273389142307352,0.7034530198234115,0.38818130211246876,0.18684137941578224,1.0825536881142404,-0.34031467699274226,-2.550099155251413,0.08468203433117498,0.44837050229530284,0.017602416217182646,-0.5201218604083405,0.654672383103486,-0.9318224461423867,-1.0800159254957447,1.544411010637449,-2.16227794297282,0.23561697608863844,-1.1278533299184488,-0.11732290592434473,-0.29730289220519107,-0.32750099938839783,0.955194867490096,-1.7596498603194104,0.7096375246310584,0.5821868144562231,-0.8746028069438861,0.9062882402006409,0.055217998884144866,-1.973828315514508,-1.004458985106134,1.7793279779693252,-0.10840911214856161,2.6867297265953103,0.91343388042321,-0.9377622323218044,-1.2570794768782148,1.6471666036145307,0.48188330904460136,-0.04052226717979435,-0.05859375010378374,1.1738796853901698,0.2795749088035469,1.0908754639387486,-1.1197331844989709,-1.2150861295185817,1.5136977245404255,0.8247996201154251,-0.24542134180675218],\"type\":\"scatter\"}],                        {\"legend\":{\"bgcolor\":\"#F5F6F9\",\"font\":{\"color\":\"#4D5663\"}},\"paper_bgcolor\":\"#F5F6F9\",\"plot_bgcolor\":\"#F5F6F9\",\"template\":{\"data\":{\"barpolar\":[{\"marker\":{\"line\":{\"color\":\"#E5ECF6\",\"width\":0.5},\"pattern\":{\"fillmode\":\"overlay\",\"size\":10,\"solidity\":0.2}},\"type\":\"barpolar\"}],\"bar\":[{\"error_x\":{\"color\":\"#2a3f5f\"},\"error_y\":{\"color\":\"#2a3f5f\"},\"marker\":{\"line\":{\"color\":\"#E5ECF6\",\"width\":0.5},\"pattern\":{\"fillmode\":\"overlay\",\"size\":10,\"solidity\":0.2}},\"type\":\"bar\"}],\"carpet\":[{\"aaxis\":{\"endlinecolor\":\"#2a3f5f\",\"gridcolor\":\"white\",\"linecolor\":\"white\",\"minorgridcolor\":\"white\",\"startlinecolor\":\"#2a3f5f\"},\"baxis\":{\"endlinecolor\":\"#2a3f5f\",\"gridcolor\":\"white\",\"linecolor\":\"white\",\"minorgridcolor\":\"white\",\"startlinecolor\":\"#2a3f5f\"},\"type\":\"carpet\"}],\"choropleth\":[{\"colorbar\":{\"outlinewidth\":0,\"ticks\":\"\"},\"type\":\"choropleth\"}],\"contourcarpet\":[{\"colorbar\":{\"outlinewidth\":0,\"ticks\":\"\"},\"type\":\"contourcarpet\"}],\"contour\":[{\"colorbar\":{\"outlinewidth\":0,\"ticks\":\"\"},\"colorscale\":[[0.0,\"#0d0887\"],[0.1111111111111111,\"#46039f\"],[0.2222222222222222,\"#7201a8\"],[0.3333333333333333,\"#9c179e\"],[0.4444444444444444,\"#bd3786\"],[0.5555555555555556,\"#d8576b\"],[0.6666666666666666,\"#ed7953\"],[0.7777777777777778,\"#fb9f3a\"],[0.8888888888888888,\"#fdca26\"],[1.0,\"#f0f921\"]],\"type\":\"contour\"}],\"heatmapgl\":[{\"colorbar\":{\"outlinewidth\":0,\"ticks\":\"\"},\"colorscale\":[[0.0,\"#0d0887\"],[0.1111111111111111,\"#46039f\"],[0.2222222222222222,\"#7201a8\"],[0.3333333333333333,\"#9c179e\"],[0.4444444444444444,\"#bd3786\"],[0.5555555555555556,\"#d8576b\"],[0.6666666666666666,\"#ed7953\"],[0.7777777777777778,\"#fb9f3a\"],[0.8888888888888888,\"#fdca26\"],[1.0,\"#f0f921\"]],\"type\":\"heatmapgl\"}],\"heatmap\":[{\"colorbar\":{\"outlinewidth\":0,\"ticks\":\"\"},\"colorscale\":[[0.0,\"#0d0887\"],[0.1111111111111111,\"#46039f\"],[0.2222222222222222,\"#7201a8\"],[0.3333333333333333,\"#9c179e\"],[0.4444444444444444,\"#bd3786\"],[0.5555555555555556,\"#d8576b\"],[0.6666666666666666,\"#ed7953\"],[0.7777777777777778,\"#fb9f3a\"],[0.8888888888888888,\"#fdca26\"],[1.0,\"#f0f921\"]],\"type\":\"heatmap\"}],\"histogram2dcontour\":[{\"colorbar\":{\"outlinewidth\":0,\"ticks\":\"\"},\"colorscale\":[[0.0,\"#0d0887\"],[0.1111111111111111,\"#46039f\"],[0.2222222222222222,\"#7201a8\"],[0.3333333333333333,\"#9c179e\"],[0.4444444444444444,\"#bd3786\"],[0.5555555555555556,\"#d8576b\"],[0.6666666666666666,\"#ed7953\"],[0.7777777777777778,\"#fb9f3a\"],[0.8888888888888888,\"#fdca26\"],[1.0,\"#f0f921\"]],\"type\":\"histogram2dcontour\"}],\"histogram2d\":[{\"colorbar\":{\"outlinewidth\":0,\"ticks\":\"\"},\"colorscale\":[[0.0,\"#0d0887\"],[0.1111111111111111,\"#46039f\"],[0.2222222222222222,\"#7201a8\"],[0.3333333333333333,\"#9c179e\"],[0.4444444444444444,\"#bd3786\"],[0.5555555555555556,\"#d8576b\"],[0.6666666666666666,\"#ed7953\"],[0.7777777777777778,\"#fb9f3a\"],[0.8888888888888888,\"#fdca26\"],[1.0,\"#f0f921\"]],\"type\":\"histogram2d\"}],\"histogram\":[{\"marker\":{\"pattern\":{\"fillmode\":\"overlay\",\"size\":10,\"solidity\":0.2}},\"type\":\"histogram\"}],\"mesh3d\":[{\"colorbar\":{\"outlinewidth\":0,\"ticks\":\"\"},\"type\":\"mesh3d\"}],\"parcoords\":[{\"line\":{\"colorbar\":{\"outlinewidth\":0,\"ticks\":\"\"}},\"type\":\"parcoords\"}],\"pie\":[{\"automargin\":true,\"type\":\"pie\"}],\"scatter3d\":[{\"line\":{\"colorbar\":{\"outlinewidth\":0,\"ticks\":\"\"}},\"marker\":{\"colorbar\":{\"outlinewidth\":0,\"ticks\":\"\"}},\"type\":\"scatter3d\"}],\"scattercarpet\":[{\"marker\":{\"colorbar\":{\"outlinewidth\":0,\"ticks\":\"\"}},\"type\":\"scattercarpet\"}],\"scattergeo\":[{\"marker\":{\"colorbar\":{\"outlinewidth\":0,\"ticks\":\"\"}},\"type\":\"scattergeo\"}],\"scattergl\":[{\"marker\":{\"colorbar\":{\"outlinewidth\":0,\"ticks\":\"\"}},\"type\":\"scattergl\"}],\"scattermapbox\":[{\"marker\":{\"colorbar\":{\"outlinewidth\":0,\"ticks\":\"\"}},\"type\":\"scattermapbox\"}],\"scatterpolargl\":[{\"marker\":{\"colorbar\":{\"outlinewidth\":0,\"ticks\":\"\"}},\"type\":\"scatterpolargl\"}],\"scatterpolar\":[{\"marker\":{\"colorbar\":{\"outlinewidth\":0,\"ticks\":\"\"}},\"type\":\"scatterpolar\"}],\"scatter\":[{\"fillpattern\":{\"fillmode\":\"overlay\",\"size\":10,\"solidity\":0.2},\"type\":\"scatter\"}],\"scatterternary\":[{\"marker\":{\"colorbar\":{\"outlinewidth\":0,\"ticks\":\"\"}},\"type\":\"scatterternary\"}],\"surface\":[{\"colorbar\":{\"outlinewidth\":0,\"ticks\":\"\"},\"colorscale\":[[0.0,\"#0d0887\"],[0.1111111111111111,\"#46039f\"],[0.2222222222222222,\"#7201a8\"],[0.3333333333333333,\"#9c179e\"],[0.4444444444444444,\"#bd3786\"],[0.5555555555555556,\"#d8576b\"],[0.6666666666666666,\"#ed7953\"],[0.7777777777777778,\"#fb9f3a\"],[0.8888888888888888,\"#fdca26\"],[1.0,\"#f0f921\"]],\"type\":\"surface\"}],\"table\":[{\"cells\":{\"fill\":{\"color\":\"#EBF0F8\"},\"line\":{\"color\":\"white\"}},\"header\":{\"fill\":{\"color\":\"#C8D4E3\"},\"line\":{\"color\":\"white\"}},\"type\":\"table\"}]},\"layout\":{\"annotationdefaults\":{\"arrowcolor\":\"#2a3f5f\",\"arrowhead\":0,\"arrowwidth\":1},\"autotypenumbers\":\"strict\",\"coloraxis\":{\"colorbar\":{\"outlinewidth\":0,\"ticks\":\"\"}},\"colorscale\":{\"diverging\":[[0,\"#8e0152\"],[0.1,\"#c51b7d\"],[0.2,\"#de77ae\"],[0.3,\"#f1b6da\"],[0.4,\"#fde0ef\"],[0.5,\"#f7f7f7\"],[0.6,\"#e6f5d0\"],[0.7,\"#b8e186\"],[0.8,\"#7fbc41\"],[0.9,\"#4d9221\"],[1,\"#276419\"]],\"sequential\":[[0.0,\"#0d0887\"],[0.1111111111111111,\"#46039f\"],[0.2222222222222222,\"#7201a8\"],[0.3333333333333333,\"#9c179e\"],[0.4444444444444444,\"#bd3786\"],[0.5555555555555556,\"#d8576b\"],[0.6666666666666666,\"#ed7953\"],[0.7777777777777778,\"#fb9f3a\"],[0.8888888888888888,\"#fdca26\"],[1.0,\"#f0f921\"]],\"sequentialminus\":[[0.0,\"#0d0887\"],[0.1111111111111111,\"#46039f\"],[0.2222222222222222,\"#7201a8\"],[0.3333333333333333,\"#9c179e\"],[0.4444444444444444,\"#bd3786\"],[0.5555555555555556,\"#d8576b\"],[0.6666666666666666,\"#ed7953\"],[0.7777777777777778,\"#fb9f3a\"],[0.8888888888888888,\"#fdca26\"],[1.0,\"#f0f921\"]]},\"colorway\":[\"#636efa\",\"#EF553B\",\"#00cc96\",\"#ab63fa\",\"#FFA15A\",\"#19d3f3\",\"#FF6692\",\"#B6E880\",\"#FF97FF\",\"#FECB52\"],\"font\":{\"color\":\"#2a3f5f\"},\"geo\":{\"bgcolor\":\"white\",\"lakecolor\":\"white\",\"landcolor\":\"#E5ECF6\",\"showlakes\":true,\"showland\":true,\"subunitcolor\":\"white\"},\"hoverlabel\":{\"align\":\"left\"},\"hovermode\":\"closest\",\"mapbox\":{\"style\":\"light\"},\"paper_bgcolor\":\"white\",\"plot_bgcolor\":\"#E5ECF6\",\"polar\":{\"angularaxis\":{\"gridcolor\":\"white\",\"linecolor\":\"white\",\"ticks\":\"\"},\"bgcolor\":\"#E5ECF6\",\"radialaxis\":{\"gridcolor\":\"white\",\"linecolor\":\"white\",\"ticks\":\"\"}},\"scene\":{\"xaxis\":{\"backgroundcolor\":\"#E5ECF6\",\"gridcolor\":\"white\",\"gridwidth\":2,\"linecolor\":\"white\",\"showbackground\":true,\"ticks\":\"\",\"zerolinecolor\":\"white\"},\"yaxis\":{\"backgroundcolor\":\"#E5ECF6\",\"gridcolor\":\"white\",\"gridwidth\":2,\"linecolor\":\"white\",\"showbackground\":true,\"ticks\":\"\",\"zerolinecolor\":\"white\"},\"zaxis\":{\"backgroundcolor\":\"#E5ECF6\",\"gridcolor\":\"white\",\"gridwidth\":2,\"linecolor\":\"white\",\"showbackground\":true,\"ticks\":\"\",\"zerolinecolor\":\"white\"}},\"shapedefaults\":{\"line\":{\"color\":\"#2a3f5f\"}},\"ternary\":{\"aaxis\":{\"gridcolor\":\"white\",\"linecolor\":\"white\",\"ticks\":\"\"},\"baxis\":{\"gridcolor\":\"white\",\"linecolor\":\"white\",\"ticks\":\"\"},\"bgcolor\":\"#E5ECF6\",\"caxis\":{\"gridcolor\":\"white\",\"linecolor\":\"white\",\"ticks\":\"\"}},\"title\":{\"x\":0.05},\"xaxis\":{\"automargin\":true,\"gridcolor\":\"white\",\"linecolor\":\"white\",\"ticks\":\"\",\"title\":{\"standoff\":15},\"zerolinecolor\":\"white\",\"zerolinewidth\":2},\"yaxis\":{\"automargin\":true,\"gridcolor\":\"white\",\"linecolor\":\"white\",\"ticks\":\"\",\"title\":{\"standoff\":15},\"zerolinecolor\":\"white\",\"zerolinewidth\":2}}},\"title\":{\"font\":{\"color\":\"#4D5663\"}},\"xaxis\":{\"gridcolor\":\"#E1E5ED\",\"showgrid\":true,\"tickfont\":{\"color\":\"#4D5663\"},\"title\":{\"font\":{\"color\":\"#4D5663\"},\"text\":\"\"},\"zerolinecolor\":\"#E1E5ED\"},\"yaxis\":{\"gridcolor\":\"#E1E5ED\",\"showgrid\":true,\"tickfont\":{\"color\":\"#4D5663\"},\"title\":{\"font\":{\"color\":\"#4D5663\"},\"text\":\"\"},\"zerolinecolor\":\"#E1E5ED\"}},                        {\"showLink\": true, \"linkText\": \"Export to plot.ly\", \"plotlyServerURL\": \"https://plot.ly\", \"responsive\": true}                    ).then(function(){\n",
       "                            \n",
       "var gd = document.getElementById('c5ce5a3e-8c41-4886-812c-ceb864f91394');\n",
       "var x = new MutationObserver(function (mutations, observer) {{\n",
       "        var display = window.getComputedStyle(gd).display;\n",
       "        if (!display || display === 'none') {{\n",
       "            console.log([gd, 'removed!']);\n",
       "            Plotly.purge(gd);\n",
       "            observer.disconnect();\n",
       "        }}\n",
       "}});\n",
       "\n",
       "// Listen for the removal of the full notebook cells\n",
       "var notebookContainer = gd.closest('#notebook-container');\n",
       "if (notebookContainer) {{\n",
       "    x.observe(notebookContainer, {childList: true});\n",
       "}}\n",
       "\n",
       "// Listen for the clearing of the current output cell\n",
       "var outputEl = gd.closest('.output');\n",
       "if (outputEl) {{\n",
       "    x.observe(outputEl, {childList: true});\n",
       "}}\n",
       "\n",
       "                        })                };                });            </script>        </div>"
      ]
     },
     "metadata": {},
     "output_type": "display_data"
    }
   ],
   "source": [
    "df.iplot(kind='scatter',x='a',y='b',mode='markers',size=20)"
   ]
  },
  {
   "cell_type": "code",
   "execution_count": 29,
   "id": "02264351",
   "metadata": {},
   "outputs": [
    {
     "data": {
      "application/vnd.plotly.v1+json": {
       "config": {
        "linkText": "Export to plot.ly",
        "plotlyServerURL": "https://plot.ly",
        "showLink": true
       },
       "data": [
        {
         "marker": {
          "color": "rgba(255, 153, 51, 0.6)",
          "line": {
           "color": "rgba(255, 153, 51, 1.0)",
           "width": 1
          }
         },
         "name": "Values",
         "orientation": "v",
         "text": "",
         "type": "bar",
         "x": [
          "A",
          "B",
          "C"
         ],
         "y": [
          32,
          43,
          50
         ]
        }
       ],
       "layout": {
        "legend": {
         "bgcolor": "#F5F6F9",
         "font": {
          "color": "#4D5663"
         }
        },
        "paper_bgcolor": "#F5F6F9",
        "plot_bgcolor": "#F5F6F9",
        "template": {
         "data": {
          "bar": [
           {
            "error_x": {
             "color": "#2a3f5f"
            },
            "error_y": {
             "color": "#2a3f5f"
            },
            "marker": {
             "line": {
              "color": "#E5ECF6",
              "width": 0.5
             },
             "pattern": {
              "fillmode": "overlay",
              "size": 10,
              "solidity": 0.2
             }
            },
            "type": "bar"
           }
          ],
          "barpolar": [
           {
            "marker": {
             "line": {
              "color": "#E5ECF6",
              "width": 0.5
             },
             "pattern": {
              "fillmode": "overlay",
              "size": 10,
              "solidity": 0.2
             }
            },
            "type": "barpolar"
           }
          ],
          "carpet": [
           {
            "aaxis": {
             "endlinecolor": "#2a3f5f",
             "gridcolor": "white",
             "linecolor": "white",
             "minorgridcolor": "white",
             "startlinecolor": "#2a3f5f"
            },
            "baxis": {
             "endlinecolor": "#2a3f5f",
             "gridcolor": "white",
             "linecolor": "white",
             "minorgridcolor": "white",
             "startlinecolor": "#2a3f5f"
            },
            "type": "carpet"
           }
          ],
          "choropleth": [
           {
            "colorbar": {
             "outlinewidth": 0,
             "ticks": ""
            },
            "type": "choropleth"
           }
          ],
          "contour": [
           {
            "colorbar": {
             "outlinewidth": 0,
             "ticks": ""
            },
            "colorscale": [
             [
              0,
              "#0d0887"
             ],
             [
              0.1111111111111111,
              "#46039f"
             ],
             [
              0.2222222222222222,
              "#7201a8"
             ],
             [
              0.3333333333333333,
              "#9c179e"
             ],
             [
              0.4444444444444444,
              "#bd3786"
             ],
             [
              0.5555555555555556,
              "#d8576b"
             ],
             [
              0.6666666666666666,
              "#ed7953"
             ],
             [
              0.7777777777777778,
              "#fb9f3a"
             ],
             [
              0.8888888888888888,
              "#fdca26"
             ],
             [
              1,
              "#f0f921"
             ]
            ],
            "type": "contour"
           }
          ],
          "contourcarpet": [
           {
            "colorbar": {
             "outlinewidth": 0,
             "ticks": ""
            },
            "type": "contourcarpet"
           }
          ],
          "heatmap": [
           {
            "colorbar": {
             "outlinewidth": 0,
             "ticks": ""
            },
            "colorscale": [
             [
              0,
              "#0d0887"
             ],
             [
              0.1111111111111111,
              "#46039f"
             ],
             [
              0.2222222222222222,
              "#7201a8"
             ],
             [
              0.3333333333333333,
              "#9c179e"
             ],
             [
              0.4444444444444444,
              "#bd3786"
             ],
             [
              0.5555555555555556,
              "#d8576b"
             ],
             [
              0.6666666666666666,
              "#ed7953"
             ],
             [
              0.7777777777777778,
              "#fb9f3a"
             ],
             [
              0.8888888888888888,
              "#fdca26"
             ],
             [
              1,
              "#f0f921"
             ]
            ],
            "type": "heatmap"
           }
          ],
          "heatmapgl": [
           {
            "colorbar": {
             "outlinewidth": 0,
             "ticks": ""
            },
            "colorscale": [
             [
              0,
              "#0d0887"
             ],
             [
              0.1111111111111111,
              "#46039f"
             ],
             [
              0.2222222222222222,
              "#7201a8"
             ],
             [
              0.3333333333333333,
              "#9c179e"
             ],
             [
              0.4444444444444444,
              "#bd3786"
             ],
             [
              0.5555555555555556,
              "#d8576b"
             ],
             [
              0.6666666666666666,
              "#ed7953"
             ],
             [
              0.7777777777777778,
              "#fb9f3a"
             ],
             [
              0.8888888888888888,
              "#fdca26"
             ],
             [
              1,
              "#f0f921"
             ]
            ],
            "type": "heatmapgl"
           }
          ],
          "histogram": [
           {
            "marker": {
             "pattern": {
              "fillmode": "overlay",
              "size": 10,
              "solidity": 0.2
             }
            },
            "type": "histogram"
           }
          ],
          "histogram2d": [
           {
            "colorbar": {
             "outlinewidth": 0,
             "ticks": ""
            },
            "colorscale": [
             [
              0,
              "#0d0887"
             ],
             [
              0.1111111111111111,
              "#46039f"
             ],
             [
              0.2222222222222222,
              "#7201a8"
             ],
             [
              0.3333333333333333,
              "#9c179e"
             ],
             [
              0.4444444444444444,
              "#bd3786"
             ],
             [
              0.5555555555555556,
              "#d8576b"
             ],
             [
              0.6666666666666666,
              "#ed7953"
             ],
             [
              0.7777777777777778,
              "#fb9f3a"
             ],
             [
              0.8888888888888888,
              "#fdca26"
             ],
             [
              1,
              "#f0f921"
             ]
            ],
            "type": "histogram2d"
           }
          ],
          "histogram2dcontour": [
           {
            "colorbar": {
             "outlinewidth": 0,
             "ticks": ""
            },
            "colorscale": [
             [
              0,
              "#0d0887"
             ],
             [
              0.1111111111111111,
              "#46039f"
             ],
             [
              0.2222222222222222,
              "#7201a8"
             ],
             [
              0.3333333333333333,
              "#9c179e"
             ],
             [
              0.4444444444444444,
              "#bd3786"
             ],
             [
              0.5555555555555556,
              "#d8576b"
             ],
             [
              0.6666666666666666,
              "#ed7953"
             ],
             [
              0.7777777777777778,
              "#fb9f3a"
             ],
             [
              0.8888888888888888,
              "#fdca26"
             ],
             [
              1,
              "#f0f921"
             ]
            ],
            "type": "histogram2dcontour"
           }
          ],
          "mesh3d": [
           {
            "colorbar": {
             "outlinewidth": 0,
             "ticks": ""
            },
            "type": "mesh3d"
           }
          ],
          "parcoords": [
           {
            "line": {
             "colorbar": {
              "outlinewidth": 0,
              "ticks": ""
             }
            },
            "type": "parcoords"
           }
          ],
          "pie": [
           {
            "automargin": true,
            "type": "pie"
           }
          ],
          "scatter": [
           {
            "fillpattern": {
             "fillmode": "overlay",
             "size": 10,
             "solidity": 0.2
            },
            "type": "scatter"
           }
          ],
          "scatter3d": [
           {
            "line": {
             "colorbar": {
              "outlinewidth": 0,
              "ticks": ""
             }
            },
            "marker": {
             "colorbar": {
              "outlinewidth": 0,
              "ticks": ""
             }
            },
            "type": "scatter3d"
           }
          ],
          "scattercarpet": [
           {
            "marker": {
             "colorbar": {
              "outlinewidth": 0,
              "ticks": ""
             }
            },
            "type": "scattercarpet"
           }
          ],
          "scattergeo": [
           {
            "marker": {
             "colorbar": {
              "outlinewidth": 0,
              "ticks": ""
             }
            },
            "type": "scattergeo"
           }
          ],
          "scattergl": [
           {
            "marker": {
             "colorbar": {
              "outlinewidth": 0,
              "ticks": ""
             }
            },
            "type": "scattergl"
           }
          ],
          "scattermapbox": [
           {
            "marker": {
             "colorbar": {
              "outlinewidth": 0,
              "ticks": ""
             }
            },
            "type": "scattermapbox"
           }
          ],
          "scatterpolar": [
           {
            "marker": {
             "colorbar": {
              "outlinewidth": 0,
              "ticks": ""
             }
            },
            "type": "scatterpolar"
           }
          ],
          "scatterpolargl": [
           {
            "marker": {
             "colorbar": {
              "outlinewidth": 0,
              "ticks": ""
             }
            },
            "type": "scatterpolargl"
           }
          ],
          "scatterternary": [
           {
            "marker": {
             "colorbar": {
              "outlinewidth": 0,
              "ticks": ""
             }
            },
            "type": "scatterternary"
           }
          ],
          "surface": [
           {
            "colorbar": {
             "outlinewidth": 0,
             "ticks": ""
            },
            "colorscale": [
             [
              0,
              "#0d0887"
             ],
             [
              0.1111111111111111,
              "#46039f"
             ],
             [
              0.2222222222222222,
              "#7201a8"
             ],
             [
              0.3333333333333333,
              "#9c179e"
             ],
             [
              0.4444444444444444,
              "#bd3786"
             ],
             [
              0.5555555555555556,
              "#d8576b"
             ],
             [
              0.6666666666666666,
              "#ed7953"
             ],
             [
              0.7777777777777778,
              "#fb9f3a"
             ],
             [
              0.8888888888888888,
              "#fdca26"
             ],
             [
              1,
              "#f0f921"
             ]
            ],
            "type": "surface"
           }
          ],
          "table": [
           {
            "cells": {
             "fill": {
              "color": "#EBF0F8"
             },
             "line": {
              "color": "white"
             }
            },
            "header": {
             "fill": {
              "color": "#C8D4E3"
             },
             "line": {
              "color": "white"
             }
            },
            "type": "table"
           }
          ]
         },
         "layout": {
          "annotationdefaults": {
           "arrowcolor": "#2a3f5f",
           "arrowhead": 0,
           "arrowwidth": 1
          },
          "autotypenumbers": "strict",
          "coloraxis": {
           "colorbar": {
            "outlinewidth": 0,
            "ticks": ""
           }
          },
          "colorscale": {
           "diverging": [
            [
             0,
             "#8e0152"
            ],
            [
             0.1,
             "#c51b7d"
            ],
            [
             0.2,
             "#de77ae"
            ],
            [
             0.3,
             "#f1b6da"
            ],
            [
             0.4,
             "#fde0ef"
            ],
            [
             0.5,
             "#f7f7f7"
            ],
            [
             0.6,
             "#e6f5d0"
            ],
            [
             0.7,
             "#b8e186"
            ],
            [
             0.8,
             "#7fbc41"
            ],
            [
             0.9,
             "#4d9221"
            ],
            [
             1,
             "#276419"
            ]
           ],
           "sequential": [
            [
             0,
             "#0d0887"
            ],
            [
             0.1111111111111111,
             "#46039f"
            ],
            [
             0.2222222222222222,
             "#7201a8"
            ],
            [
             0.3333333333333333,
             "#9c179e"
            ],
            [
             0.4444444444444444,
             "#bd3786"
            ],
            [
             0.5555555555555556,
             "#d8576b"
            ],
            [
             0.6666666666666666,
             "#ed7953"
            ],
            [
             0.7777777777777778,
             "#fb9f3a"
            ],
            [
             0.8888888888888888,
             "#fdca26"
            ],
            [
             1,
             "#f0f921"
            ]
           ],
           "sequentialminus": [
            [
             0,
             "#0d0887"
            ],
            [
             0.1111111111111111,
             "#46039f"
            ],
            [
             0.2222222222222222,
             "#7201a8"
            ],
            [
             0.3333333333333333,
             "#9c179e"
            ],
            [
             0.4444444444444444,
             "#bd3786"
            ],
            [
             0.5555555555555556,
             "#d8576b"
            ],
            [
             0.6666666666666666,
             "#ed7953"
            ],
            [
             0.7777777777777778,
             "#fb9f3a"
            ],
            [
             0.8888888888888888,
             "#fdca26"
            ],
            [
             1,
             "#f0f921"
            ]
           ]
          },
          "colorway": [
           "#636efa",
           "#EF553B",
           "#00cc96",
           "#ab63fa",
           "#FFA15A",
           "#19d3f3",
           "#FF6692",
           "#B6E880",
           "#FF97FF",
           "#FECB52"
          ],
          "font": {
           "color": "#2a3f5f"
          },
          "geo": {
           "bgcolor": "white",
           "lakecolor": "white",
           "landcolor": "#E5ECF6",
           "showlakes": true,
           "showland": true,
           "subunitcolor": "white"
          },
          "hoverlabel": {
           "align": "left"
          },
          "hovermode": "closest",
          "mapbox": {
           "style": "light"
          },
          "paper_bgcolor": "white",
          "plot_bgcolor": "#E5ECF6",
          "polar": {
           "angularaxis": {
            "gridcolor": "white",
            "linecolor": "white",
            "ticks": ""
           },
           "bgcolor": "#E5ECF6",
           "radialaxis": {
            "gridcolor": "white",
            "linecolor": "white",
            "ticks": ""
           }
          },
          "scene": {
           "xaxis": {
            "backgroundcolor": "#E5ECF6",
            "gridcolor": "white",
            "gridwidth": 2,
            "linecolor": "white",
            "showbackground": true,
            "ticks": "",
            "zerolinecolor": "white"
           },
           "yaxis": {
            "backgroundcolor": "#E5ECF6",
            "gridcolor": "white",
            "gridwidth": 2,
            "linecolor": "white",
            "showbackground": true,
            "ticks": "",
            "zerolinecolor": "white"
           },
           "zaxis": {
            "backgroundcolor": "#E5ECF6",
            "gridcolor": "white",
            "gridwidth": 2,
            "linecolor": "white",
            "showbackground": true,
            "ticks": "",
            "zerolinecolor": "white"
           }
          },
          "shapedefaults": {
           "line": {
            "color": "#2a3f5f"
           }
          },
          "ternary": {
           "aaxis": {
            "gridcolor": "white",
            "linecolor": "white",
            "ticks": ""
           },
           "baxis": {
            "gridcolor": "white",
            "linecolor": "white",
            "ticks": ""
           },
           "bgcolor": "#E5ECF6",
           "caxis": {
            "gridcolor": "white",
            "linecolor": "white",
            "ticks": ""
           }
          },
          "title": {
           "x": 0.05
          },
          "xaxis": {
           "automargin": true,
           "gridcolor": "white",
           "linecolor": "white",
           "ticks": "",
           "title": {
            "standoff": 15
           },
           "zerolinecolor": "white",
           "zerolinewidth": 2
          },
          "yaxis": {
           "automargin": true,
           "gridcolor": "white",
           "linecolor": "white",
           "ticks": "",
           "title": {
            "standoff": 15
           },
           "zerolinecolor": "white",
           "zerolinewidth": 2
          }
         }
        },
        "title": {
         "font": {
          "color": "#4D5663"
         }
        },
        "xaxis": {
         "gridcolor": "#E1E5ED",
         "showgrid": true,
         "tickfont": {
          "color": "#4D5663"
         },
         "title": {
          "font": {
           "color": "#4D5663"
          },
          "text": ""
         },
         "zerolinecolor": "#E1E5ED"
        },
        "yaxis": {
         "gridcolor": "#E1E5ED",
         "showgrid": true,
         "tickfont": {
          "color": "#4D5663"
         },
         "title": {
          "font": {
           "color": "#4D5663"
          },
          "text": ""
         },
         "zerolinecolor": "#E1E5ED"
        }
       }
      },
      "text/html": [
       "<div>                            <div id=\"2459f936-34d9-4ea0-8eef-7f02a1a600d3\" class=\"plotly-graph-div\" style=\"height:525px; width:100%;\"></div>            <script type=\"text/javascript\">                require([\"plotly\"], function(Plotly) {                    window.PLOTLYENV=window.PLOTLYENV || {};\n",
       "                    window.PLOTLYENV.BASE_URL='https://plot.ly';                                    if (document.getElementById(\"2459f936-34d9-4ea0-8eef-7f02a1a600d3\")) {                    Plotly.newPlot(                        \"2459f936-34d9-4ea0-8eef-7f02a1a600d3\",                        [{\"marker\":{\"color\":\"rgba(255, 153, 51, 0.6)\",\"line\":{\"color\":\"rgba(255, 153, 51, 1.0)\",\"width\":1}},\"name\":\"Values\",\"orientation\":\"v\",\"text\":\"\",\"x\":[\"A\",\"B\",\"C\"],\"y\":[32,43,50],\"type\":\"bar\"}],                        {\"legend\":{\"bgcolor\":\"#F5F6F9\",\"font\":{\"color\":\"#4D5663\"}},\"paper_bgcolor\":\"#F5F6F9\",\"plot_bgcolor\":\"#F5F6F9\",\"template\":{\"data\":{\"barpolar\":[{\"marker\":{\"line\":{\"color\":\"#E5ECF6\",\"width\":0.5},\"pattern\":{\"fillmode\":\"overlay\",\"size\":10,\"solidity\":0.2}},\"type\":\"barpolar\"}],\"bar\":[{\"error_x\":{\"color\":\"#2a3f5f\"},\"error_y\":{\"color\":\"#2a3f5f\"},\"marker\":{\"line\":{\"color\":\"#E5ECF6\",\"width\":0.5},\"pattern\":{\"fillmode\":\"overlay\",\"size\":10,\"solidity\":0.2}},\"type\":\"bar\"}],\"carpet\":[{\"aaxis\":{\"endlinecolor\":\"#2a3f5f\",\"gridcolor\":\"white\",\"linecolor\":\"white\",\"minorgridcolor\":\"white\",\"startlinecolor\":\"#2a3f5f\"},\"baxis\":{\"endlinecolor\":\"#2a3f5f\",\"gridcolor\":\"white\",\"linecolor\":\"white\",\"minorgridcolor\":\"white\",\"startlinecolor\":\"#2a3f5f\"},\"type\":\"carpet\"}],\"choropleth\":[{\"colorbar\":{\"outlinewidth\":0,\"ticks\":\"\"},\"type\":\"choropleth\"}],\"contourcarpet\":[{\"colorbar\":{\"outlinewidth\":0,\"ticks\":\"\"},\"type\":\"contourcarpet\"}],\"contour\":[{\"colorbar\":{\"outlinewidth\":0,\"ticks\":\"\"},\"colorscale\":[[0.0,\"#0d0887\"],[0.1111111111111111,\"#46039f\"],[0.2222222222222222,\"#7201a8\"],[0.3333333333333333,\"#9c179e\"],[0.4444444444444444,\"#bd3786\"],[0.5555555555555556,\"#d8576b\"],[0.6666666666666666,\"#ed7953\"],[0.7777777777777778,\"#fb9f3a\"],[0.8888888888888888,\"#fdca26\"],[1.0,\"#f0f921\"]],\"type\":\"contour\"}],\"heatmapgl\":[{\"colorbar\":{\"outlinewidth\":0,\"ticks\":\"\"},\"colorscale\":[[0.0,\"#0d0887\"],[0.1111111111111111,\"#46039f\"],[0.2222222222222222,\"#7201a8\"],[0.3333333333333333,\"#9c179e\"],[0.4444444444444444,\"#bd3786\"],[0.5555555555555556,\"#d8576b\"],[0.6666666666666666,\"#ed7953\"],[0.7777777777777778,\"#fb9f3a\"],[0.8888888888888888,\"#fdca26\"],[1.0,\"#f0f921\"]],\"type\":\"heatmapgl\"}],\"heatmap\":[{\"colorbar\":{\"outlinewidth\":0,\"ticks\":\"\"},\"colorscale\":[[0.0,\"#0d0887\"],[0.1111111111111111,\"#46039f\"],[0.2222222222222222,\"#7201a8\"],[0.3333333333333333,\"#9c179e\"],[0.4444444444444444,\"#bd3786\"],[0.5555555555555556,\"#d8576b\"],[0.6666666666666666,\"#ed7953\"],[0.7777777777777778,\"#fb9f3a\"],[0.8888888888888888,\"#fdca26\"],[1.0,\"#f0f921\"]],\"type\":\"heatmap\"}],\"histogram2dcontour\":[{\"colorbar\":{\"outlinewidth\":0,\"ticks\":\"\"},\"colorscale\":[[0.0,\"#0d0887\"],[0.1111111111111111,\"#46039f\"],[0.2222222222222222,\"#7201a8\"],[0.3333333333333333,\"#9c179e\"],[0.4444444444444444,\"#bd3786\"],[0.5555555555555556,\"#d8576b\"],[0.6666666666666666,\"#ed7953\"],[0.7777777777777778,\"#fb9f3a\"],[0.8888888888888888,\"#fdca26\"],[1.0,\"#f0f921\"]],\"type\":\"histogram2dcontour\"}],\"histogram2d\":[{\"colorbar\":{\"outlinewidth\":0,\"ticks\":\"\"},\"colorscale\":[[0.0,\"#0d0887\"],[0.1111111111111111,\"#46039f\"],[0.2222222222222222,\"#7201a8\"],[0.3333333333333333,\"#9c179e\"],[0.4444444444444444,\"#bd3786\"],[0.5555555555555556,\"#d8576b\"],[0.6666666666666666,\"#ed7953\"],[0.7777777777777778,\"#fb9f3a\"],[0.8888888888888888,\"#fdca26\"],[1.0,\"#f0f921\"]],\"type\":\"histogram2d\"}],\"histogram\":[{\"marker\":{\"pattern\":{\"fillmode\":\"overlay\",\"size\":10,\"solidity\":0.2}},\"type\":\"histogram\"}],\"mesh3d\":[{\"colorbar\":{\"outlinewidth\":0,\"ticks\":\"\"},\"type\":\"mesh3d\"}],\"parcoords\":[{\"line\":{\"colorbar\":{\"outlinewidth\":0,\"ticks\":\"\"}},\"type\":\"parcoords\"}],\"pie\":[{\"automargin\":true,\"type\":\"pie\"}],\"scatter3d\":[{\"line\":{\"colorbar\":{\"outlinewidth\":0,\"ticks\":\"\"}},\"marker\":{\"colorbar\":{\"outlinewidth\":0,\"ticks\":\"\"}},\"type\":\"scatter3d\"}],\"scattercarpet\":[{\"marker\":{\"colorbar\":{\"outlinewidth\":0,\"ticks\":\"\"}},\"type\":\"scattercarpet\"}],\"scattergeo\":[{\"marker\":{\"colorbar\":{\"outlinewidth\":0,\"ticks\":\"\"}},\"type\":\"scattergeo\"}],\"scattergl\":[{\"marker\":{\"colorbar\":{\"outlinewidth\":0,\"ticks\":\"\"}},\"type\":\"scattergl\"}],\"scattermapbox\":[{\"marker\":{\"colorbar\":{\"outlinewidth\":0,\"ticks\":\"\"}},\"type\":\"scattermapbox\"}],\"scatterpolargl\":[{\"marker\":{\"colorbar\":{\"outlinewidth\":0,\"ticks\":\"\"}},\"type\":\"scatterpolargl\"}],\"scatterpolar\":[{\"marker\":{\"colorbar\":{\"outlinewidth\":0,\"ticks\":\"\"}},\"type\":\"scatterpolar\"}],\"scatter\":[{\"fillpattern\":{\"fillmode\":\"overlay\",\"size\":10,\"solidity\":0.2},\"type\":\"scatter\"}],\"scatterternary\":[{\"marker\":{\"colorbar\":{\"outlinewidth\":0,\"ticks\":\"\"}},\"type\":\"scatterternary\"}],\"surface\":[{\"colorbar\":{\"outlinewidth\":0,\"ticks\":\"\"},\"colorscale\":[[0.0,\"#0d0887\"],[0.1111111111111111,\"#46039f\"],[0.2222222222222222,\"#7201a8\"],[0.3333333333333333,\"#9c179e\"],[0.4444444444444444,\"#bd3786\"],[0.5555555555555556,\"#d8576b\"],[0.6666666666666666,\"#ed7953\"],[0.7777777777777778,\"#fb9f3a\"],[0.8888888888888888,\"#fdca26\"],[1.0,\"#f0f921\"]],\"type\":\"surface\"}],\"table\":[{\"cells\":{\"fill\":{\"color\":\"#EBF0F8\"},\"line\":{\"color\":\"white\"}},\"header\":{\"fill\":{\"color\":\"#C8D4E3\"},\"line\":{\"color\":\"white\"}},\"type\":\"table\"}]},\"layout\":{\"annotationdefaults\":{\"arrowcolor\":\"#2a3f5f\",\"arrowhead\":0,\"arrowwidth\":1},\"autotypenumbers\":\"strict\",\"coloraxis\":{\"colorbar\":{\"outlinewidth\":0,\"ticks\":\"\"}},\"colorscale\":{\"diverging\":[[0,\"#8e0152\"],[0.1,\"#c51b7d\"],[0.2,\"#de77ae\"],[0.3,\"#f1b6da\"],[0.4,\"#fde0ef\"],[0.5,\"#f7f7f7\"],[0.6,\"#e6f5d0\"],[0.7,\"#b8e186\"],[0.8,\"#7fbc41\"],[0.9,\"#4d9221\"],[1,\"#276419\"]],\"sequential\":[[0.0,\"#0d0887\"],[0.1111111111111111,\"#46039f\"],[0.2222222222222222,\"#7201a8\"],[0.3333333333333333,\"#9c179e\"],[0.4444444444444444,\"#bd3786\"],[0.5555555555555556,\"#d8576b\"],[0.6666666666666666,\"#ed7953\"],[0.7777777777777778,\"#fb9f3a\"],[0.8888888888888888,\"#fdca26\"],[1.0,\"#f0f921\"]],\"sequentialminus\":[[0.0,\"#0d0887\"],[0.1111111111111111,\"#46039f\"],[0.2222222222222222,\"#7201a8\"],[0.3333333333333333,\"#9c179e\"],[0.4444444444444444,\"#bd3786\"],[0.5555555555555556,\"#d8576b\"],[0.6666666666666666,\"#ed7953\"],[0.7777777777777778,\"#fb9f3a\"],[0.8888888888888888,\"#fdca26\"],[1.0,\"#f0f921\"]]},\"colorway\":[\"#636efa\",\"#EF553B\",\"#00cc96\",\"#ab63fa\",\"#FFA15A\",\"#19d3f3\",\"#FF6692\",\"#B6E880\",\"#FF97FF\",\"#FECB52\"],\"font\":{\"color\":\"#2a3f5f\"},\"geo\":{\"bgcolor\":\"white\",\"lakecolor\":\"white\",\"landcolor\":\"#E5ECF6\",\"showlakes\":true,\"showland\":true,\"subunitcolor\":\"white\"},\"hoverlabel\":{\"align\":\"left\"},\"hovermode\":\"closest\",\"mapbox\":{\"style\":\"light\"},\"paper_bgcolor\":\"white\",\"plot_bgcolor\":\"#E5ECF6\",\"polar\":{\"angularaxis\":{\"gridcolor\":\"white\",\"linecolor\":\"white\",\"ticks\":\"\"},\"bgcolor\":\"#E5ECF6\",\"radialaxis\":{\"gridcolor\":\"white\",\"linecolor\":\"white\",\"ticks\":\"\"}},\"scene\":{\"xaxis\":{\"backgroundcolor\":\"#E5ECF6\",\"gridcolor\":\"white\",\"gridwidth\":2,\"linecolor\":\"white\",\"showbackground\":true,\"ticks\":\"\",\"zerolinecolor\":\"white\"},\"yaxis\":{\"backgroundcolor\":\"#E5ECF6\",\"gridcolor\":\"white\",\"gridwidth\":2,\"linecolor\":\"white\",\"showbackground\":true,\"ticks\":\"\",\"zerolinecolor\":\"white\"},\"zaxis\":{\"backgroundcolor\":\"#E5ECF6\",\"gridcolor\":\"white\",\"gridwidth\":2,\"linecolor\":\"white\",\"showbackground\":true,\"ticks\":\"\",\"zerolinecolor\":\"white\"}},\"shapedefaults\":{\"line\":{\"color\":\"#2a3f5f\"}},\"ternary\":{\"aaxis\":{\"gridcolor\":\"white\",\"linecolor\":\"white\",\"ticks\":\"\"},\"baxis\":{\"gridcolor\":\"white\",\"linecolor\":\"white\",\"ticks\":\"\"},\"bgcolor\":\"#E5ECF6\",\"caxis\":{\"gridcolor\":\"white\",\"linecolor\":\"white\",\"ticks\":\"\"}},\"title\":{\"x\":0.05},\"xaxis\":{\"automargin\":true,\"gridcolor\":\"white\",\"linecolor\":\"white\",\"ticks\":\"\",\"title\":{\"standoff\":15},\"zerolinecolor\":\"white\",\"zerolinewidth\":2},\"yaxis\":{\"automargin\":true,\"gridcolor\":\"white\",\"linecolor\":\"white\",\"ticks\":\"\",\"title\":{\"standoff\":15},\"zerolinecolor\":\"white\",\"zerolinewidth\":2}}},\"title\":{\"font\":{\"color\":\"#4D5663\"}},\"xaxis\":{\"gridcolor\":\"#E1E5ED\",\"showgrid\":true,\"tickfont\":{\"color\":\"#4D5663\"},\"title\":{\"font\":{\"color\":\"#4D5663\"},\"text\":\"\"},\"zerolinecolor\":\"#E1E5ED\"},\"yaxis\":{\"gridcolor\":\"#E1E5ED\",\"showgrid\":true,\"tickfont\":{\"color\":\"#4D5663\"},\"title\":{\"font\":{\"color\":\"#4D5663\"},\"text\":\"\"},\"zerolinecolor\":\"#E1E5ED\"}},                        {\"showLink\": true, \"linkText\": \"Export to plot.ly\", \"plotlyServerURL\": \"https://plot.ly\", \"responsive\": true}                    ).then(function(){\n",
       "                            \n",
       "var gd = document.getElementById('2459f936-34d9-4ea0-8eef-7f02a1a600d3');\n",
       "var x = new MutationObserver(function (mutations, observer) {{\n",
       "        var display = window.getComputedStyle(gd).display;\n",
       "        if (!display || display === 'none') {{\n",
       "            console.log([gd, 'removed!']);\n",
       "            Plotly.purge(gd);\n",
       "            observer.disconnect();\n",
       "        }}\n",
       "}});\n",
       "\n",
       "// Listen for the removal of the full notebook cells\n",
       "var notebookContainer = gd.closest('#notebook-container');\n",
       "if (notebookContainer) {{\n",
       "    x.observe(notebookContainer, {childList: true});\n",
       "}}\n",
       "\n",
       "// Listen for the clearing of the current output cell\n",
       "var outputEl = gd.closest('.output');\n",
       "if (outputEl) {{\n",
       "    x.observe(outputEl, {childList: true});\n",
       "}}\n",
       "\n",
       "                        })                };                });            </script>        </div>"
      ]
     },
     "metadata": {},
     "output_type": "display_data"
    }
   ],
   "source": [
    "df2.iplot(kind='bar',x='Category',y='Values')"
   ]
  },
  {
   "cell_type": "code",
   "execution_count": 33,
   "id": "be2d1b06",
   "metadata": {},
   "outputs": [
    {
     "data": {
      "application/vnd.plotly.v1+json": {
       "config": {
        "linkText": "Export to plot.ly",
        "plotlyServerURL": "https://plot.ly",
        "showLink": true
       },
       "data": [
        {
         "marker": {
          "color": "rgba(255, 153, 51, 0.6)",
          "line": {
           "color": "rgba(255, 153, 51, 1.0)",
           "width": 1
          }
         },
         "name": "None",
         "orientation": "v",
         "text": "",
         "type": "bar",
         "x": [
          "a",
          "b",
          "c",
          "d"
         ],
         "y": [
          -26.602389738851233,
          -2.8943039008524023,
          14.240152517528191,
          0.9523046822388435
         ]
        }
       ],
       "layout": {
        "legend": {
         "bgcolor": "#F5F6F9",
         "font": {
          "color": "#4D5663"
         }
        },
        "paper_bgcolor": "#F5F6F9",
        "plot_bgcolor": "#F5F6F9",
        "template": {
         "data": {
          "bar": [
           {
            "error_x": {
             "color": "#2a3f5f"
            },
            "error_y": {
             "color": "#2a3f5f"
            },
            "marker": {
             "line": {
              "color": "#E5ECF6",
              "width": 0.5
             },
             "pattern": {
              "fillmode": "overlay",
              "size": 10,
              "solidity": 0.2
             }
            },
            "type": "bar"
           }
          ],
          "barpolar": [
           {
            "marker": {
             "line": {
              "color": "#E5ECF6",
              "width": 0.5
             },
             "pattern": {
              "fillmode": "overlay",
              "size": 10,
              "solidity": 0.2
             }
            },
            "type": "barpolar"
           }
          ],
          "carpet": [
           {
            "aaxis": {
             "endlinecolor": "#2a3f5f",
             "gridcolor": "white",
             "linecolor": "white",
             "minorgridcolor": "white",
             "startlinecolor": "#2a3f5f"
            },
            "baxis": {
             "endlinecolor": "#2a3f5f",
             "gridcolor": "white",
             "linecolor": "white",
             "minorgridcolor": "white",
             "startlinecolor": "#2a3f5f"
            },
            "type": "carpet"
           }
          ],
          "choropleth": [
           {
            "colorbar": {
             "outlinewidth": 0,
             "ticks": ""
            },
            "type": "choropleth"
           }
          ],
          "contour": [
           {
            "colorbar": {
             "outlinewidth": 0,
             "ticks": ""
            },
            "colorscale": [
             [
              0,
              "#0d0887"
             ],
             [
              0.1111111111111111,
              "#46039f"
             ],
             [
              0.2222222222222222,
              "#7201a8"
             ],
             [
              0.3333333333333333,
              "#9c179e"
             ],
             [
              0.4444444444444444,
              "#bd3786"
             ],
             [
              0.5555555555555556,
              "#d8576b"
             ],
             [
              0.6666666666666666,
              "#ed7953"
             ],
             [
              0.7777777777777778,
              "#fb9f3a"
             ],
             [
              0.8888888888888888,
              "#fdca26"
             ],
             [
              1,
              "#f0f921"
             ]
            ],
            "type": "contour"
           }
          ],
          "contourcarpet": [
           {
            "colorbar": {
             "outlinewidth": 0,
             "ticks": ""
            },
            "type": "contourcarpet"
           }
          ],
          "heatmap": [
           {
            "colorbar": {
             "outlinewidth": 0,
             "ticks": ""
            },
            "colorscale": [
             [
              0,
              "#0d0887"
             ],
             [
              0.1111111111111111,
              "#46039f"
             ],
             [
              0.2222222222222222,
              "#7201a8"
             ],
             [
              0.3333333333333333,
              "#9c179e"
             ],
             [
              0.4444444444444444,
              "#bd3786"
             ],
             [
              0.5555555555555556,
              "#d8576b"
             ],
             [
              0.6666666666666666,
              "#ed7953"
             ],
             [
              0.7777777777777778,
              "#fb9f3a"
             ],
             [
              0.8888888888888888,
              "#fdca26"
             ],
             [
              1,
              "#f0f921"
             ]
            ],
            "type": "heatmap"
           }
          ],
          "heatmapgl": [
           {
            "colorbar": {
             "outlinewidth": 0,
             "ticks": ""
            },
            "colorscale": [
             [
              0,
              "#0d0887"
             ],
             [
              0.1111111111111111,
              "#46039f"
             ],
             [
              0.2222222222222222,
              "#7201a8"
             ],
             [
              0.3333333333333333,
              "#9c179e"
             ],
             [
              0.4444444444444444,
              "#bd3786"
             ],
             [
              0.5555555555555556,
              "#d8576b"
             ],
             [
              0.6666666666666666,
              "#ed7953"
             ],
             [
              0.7777777777777778,
              "#fb9f3a"
             ],
             [
              0.8888888888888888,
              "#fdca26"
             ],
             [
              1,
              "#f0f921"
             ]
            ],
            "type": "heatmapgl"
           }
          ],
          "histogram": [
           {
            "marker": {
             "pattern": {
              "fillmode": "overlay",
              "size": 10,
              "solidity": 0.2
             }
            },
            "type": "histogram"
           }
          ],
          "histogram2d": [
           {
            "colorbar": {
             "outlinewidth": 0,
             "ticks": ""
            },
            "colorscale": [
             [
              0,
              "#0d0887"
             ],
             [
              0.1111111111111111,
              "#46039f"
             ],
             [
              0.2222222222222222,
              "#7201a8"
             ],
             [
              0.3333333333333333,
              "#9c179e"
             ],
             [
              0.4444444444444444,
              "#bd3786"
             ],
             [
              0.5555555555555556,
              "#d8576b"
             ],
             [
              0.6666666666666666,
              "#ed7953"
             ],
             [
              0.7777777777777778,
              "#fb9f3a"
             ],
             [
              0.8888888888888888,
              "#fdca26"
             ],
             [
              1,
              "#f0f921"
             ]
            ],
            "type": "histogram2d"
           }
          ],
          "histogram2dcontour": [
           {
            "colorbar": {
             "outlinewidth": 0,
             "ticks": ""
            },
            "colorscale": [
             [
              0,
              "#0d0887"
             ],
             [
              0.1111111111111111,
              "#46039f"
             ],
             [
              0.2222222222222222,
              "#7201a8"
             ],
             [
              0.3333333333333333,
              "#9c179e"
             ],
             [
              0.4444444444444444,
              "#bd3786"
             ],
             [
              0.5555555555555556,
              "#d8576b"
             ],
             [
              0.6666666666666666,
              "#ed7953"
             ],
             [
              0.7777777777777778,
              "#fb9f3a"
             ],
             [
              0.8888888888888888,
              "#fdca26"
             ],
             [
              1,
              "#f0f921"
             ]
            ],
            "type": "histogram2dcontour"
           }
          ],
          "mesh3d": [
           {
            "colorbar": {
             "outlinewidth": 0,
             "ticks": ""
            },
            "type": "mesh3d"
           }
          ],
          "parcoords": [
           {
            "line": {
             "colorbar": {
              "outlinewidth": 0,
              "ticks": ""
             }
            },
            "type": "parcoords"
           }
          ],
          "pie": [
           {
            "automargin": true,
            "type": "pie"
           }
          ],
          "scatter": [
           {
            "fillpattern": {
             "fillmode": "overlay",
             "size": 10,
             "solidity": 0.2
            },
            "type": "scatter"
           }
          ],
          "scatter3d": [
           {
            "line": {
             "colorbar": {
              "outlinewidth": 0,
              "ticks": ""
             }
            },
            "marker": {
             "colorbar": {
              "outlinewidth": 0,
              "ticks": ""
             }
            },
            "type": "scatter3d"
           }
          ],
          "scattercarpet": [
           {
            "marker": {
             "colorbar": {
              "outlinewidth": 0,
              "ticks": ""
             }
            },
            "type": "scattercarpet"
           }
          ],
          "scattergeo": [
           {
            "marker": {
             "colorbar": {
              "outlinewidth": 0,
              "ticks": ""
             }
            },
            "type": "scattergeo"
           }
          ],
          "scattergl": [
           {
            "marker": {
             "colorbar": {
              "outlinewidth": 0,
              "ticks": ""
             }
            },
            "type": "scattergl"
           }
          ],
          "scattermapbox": [
           {
            "marker": {
             "colorbar": {
              "outlinewidth": 0,
              "ticks": ""
             }
            },
            "type": "scattermapbox"
           }
          ],
          "scatterpolar": [
           {
            "marker": {
             "colorbar": {
              "outlinewidth": 0,
              "ticks": ""
             }
            },
            "type": "scatterpolar"
           }
          ],
          "scatterpolargl": [
           {
            "marker": {
             "colorbar": {
              "outlinewidth": 0,
              "ticks": ""
             }
            },
            "type": "scatterpolargl"
           }
          ],
          "scatterternary": [
           {
            "marker": {
             "colorbar": {
              "outlinewidth": 0,
              "ticks": ""
             }
            },
            "type": "scatterternary"
           }
          ],
          "surface": [
           {
            "colorbar": {
             "outlinewidth": 0,
             "ticks": ""
            },
            "colorscale": [
             [
              0,
              "#0d0887"
             ],
             [
              0.1111111111111111,
              "#46039f"
             ],
             [
              0.2222222222222222,
              "#7201a8"
             ],
             [
              0.3333333333333333,
              "#9c179e"
             ],
             [
              0.4444444444444444,
              "#bd3786"
             ],
             [
              0.5555555555555556,
              "#d8576b"
             ],
             [
              0.6666666666666666,
              "#ed7953"
             ],
             [
              0.7777777777777778,
              "#fb9f3a"
             ],
             [
              0.8888888888888888,
              "#fdca26"
             ],
             [
              1,
              "#f0f921"
             ]
            ],
            "type": "surface"
           }
          ],
          "table": [
           {
            "cells": {
             "fill": {
              "color": "#EBF0F8"
             },
             "line": {
              "color": "white"
             }
            },
            "header": {
             "fill": {
              "color": "#C8D4E3"
             },
             "line": {
              "color": "white"
             }
            },
            "type": "table"
           }
          ]
         },
         "layout": {
          "annotationdefaults": {
           "arrowcolor": "#2a3f5f",
           "arrowhead": 0,
           "arrowwidth": 1
          },
          "autotypenumbers": "strict",
          "coloraxis": {
           "colorbar": {
            "outlinewidth": 0,
            "ticks": ""
           }
          },
          "colorscale": {
           "diverging": [
            [
             0,
             "#8e0152"
            ],
            [
             0.1,
             "#c51b7d"
            ],
            [
             0.2,
             "#de77ae"
            ],
            [
             0.3,
             "#f1b6da"
            ],
            [
             0.4,
             "#fde0ef"
            ],
            [
             0.5,
             "#f7f7f7"
            ],
            [
             0.6,
             "#e6f5d0"
            ],
            [
             0.7,
             "#b8e186"
            ],
            [
             0.8,
             "#7fbc41"
            ],
            [
             0.9,
             "#4d9221"
            ],
            [
             1,
             "#276419"
            ]
           ],
           "sequential": [
            [
             0,
             "#0d0887"
            ],
            [
             0.1111111111111111,
             "#46039f"
            ],
            [
             0.2222222222222222,
             "#7201a8"
            ],
            [
             0.3333333333333333,
             "#9c179e"
            ],
            [
             0.4444444444444444,
             "#bd3786"
            ],
            [
             0.5555555555555556,
             "#d8576b"
            ],
            [
             0.6666666666666666,
             "#ed7953"
            ],
            [
             0.7777777777777778,
             "#fb9f3a"
            ],
            [
             0.8888888888888888,
             "#fdca26"
            ],
            [
             1,
             "#f0f921"
            ]
           ],
           "sequentialminus": [
            [
             0,
             "#0d0887"
            ],
            [
             0.1111111111111111,
             "#46039f"
            ],
            [
             0.2222222222222222,
             "#7201a8"
            ],
            [
             0.3333333333333333,
             "#9c179e"
            ],
            [
             0.4444444444444444,
             "#bd3786"
            ],
            [
             0.5555555555555556,
             "#d8576b"
            ],
            [
             0.6666666666666666,
             "#ed7953"
            ],
            [
             0.7777777777777778,
             "#fb9f3a"
            ],
            [
             0.8888888888888888,
             "#fdca26"
            ],
            [
             1,
             "#f0f921"
            ]
           ]
          },
          "colorway": [
           "#636efa",
           "#EF553B",
           "#00cc96",
           "#ab63fa",
           "#FFA15A",
           "#19d3f3",
           "#FF6692",
           "#B6E880",
           "#FF97FF",
           "#FECB52"
          ],
          "font": {
           "color": "#2a3f5f"
          },
          "geo": {
           "bgcolor": "white",
           "lakecolor": "white",
           "landcolor": "#E5ECF6",
           "showlakes": true,
           "showland": true,
           "subunitcolor": "white"
          },
          "hoverlabel": {
           "align": "left"
          },
          "hovermode": "closest",
          "mapbox": {
           "style": "light"
          },
          "paper_bgcolor": "white",
          "plot_bgcolor": "#E5ECF6",
          "polar": {
           "angularaxis": {
            "gridcolor": "white",
            "linecolor": "white",
            "ticks": ""
           },
           "bgcolor": "#E5ECF6",
           "radialaxis": {
            "gridcolor": "white",
            "linecolor": "white",
            "ticks": ""
           }
          },
          "scene": {
           "xaxis": {
            "backgroundcolor": "#E5ECF6",
            "gridcolor": "white",
            "gridwidth": 2,
            "linecolor": "white",
            "showbackground": true,
            "ticks": "",
            "zerolinecolor": "white"
           },
           "yaxis": {
            "backgroundcolor": "#E5ECF6",
            "gridcolor": "white",
            "gridwidth": 2,
            "linecolor": "white",
            "showbackground": true,
            "ticks": "",
            "zerolinecolor": "white"
           },
           "zaxis": {
            "backgroundcolor": "#E5ECF6",
            "gridcolor": "white",
            "gridwidth": 2,
            "linecolor": "white",
            "showbackground": true,
            "ticks": "",
            "zerolinecolor": "white"
           }
          },
          "shapedefaults": {
           "line": {
            "color": "#2a3f5f"
           }
          },
          "ternary": {
           "aaxis": {
            "gridcolor": "white",
            "linecolor": "white",
            "ticks": ""
           },
           "baxis": {
            "gridcolor": "white",
            "linecolor": "white",
            "ticks": ""
           },
           "bgcolor": "#E5ECF6",
           "caxis": {
            "gridcolor": "white",
            "linecolor": "white",
            "ticks": ""
           }
          },
          "title": {
           "x": 0.05
          },
          "xaxis": {
           "automargin": true,
           "gridcolor": "white",
           "linecolor": "white",
           "ticks": "",
           "title": {
            "standoff": 15
           },
           "zerolinecolor": "white",
           "zerolinewidth": 2
          },
          "yaxis": {
           "automargin": true,
           "gridcolor": "white",
           "linecolor": "white",
           "ticks": "",
           "title": {
            "standoff": 15
           },
           "zerolinecolor": "white",
           "zerolinewidth": 2
          }
         }
        },
        "title": {
         "font": {
          "color": "#4D5663"
         }
        },
        "xaxis": {
         "gridcolor": "#E1E5ED",
         "showgrid": true,
         "tickfont": {
          "color": "#4D5663"
         },
         "title": {
          "font": {
           "color": "#4D5663"
          },
          "text": ""
         },
         "zerolinecolor": "#E1E5ED"
        },
        "yaxis": {
         "gridcolor": "#E1E5ED",
         "showgrid": true,
         "tickfont": {
          "color": "#4D5663"
         },
         "title": {
          "font": {
           "color": "#4D5663"
          },
          "text": ""
         },
         "zerolinecolor": "#E1E5ED"
        }
       }
      },
      "text/html": [
       "<div>                            <div id=\"2e51efe7-a395-4f41-b80d-7b44345ff456\" class=\"plotly-graph-div\" style=\"height:525px; width:100%;\"></div>            <script type=\"text/javascript\">                require([\"plotly\"], function(Plotly) {                    window.PLOTLYENV=window.PLOTLYENV || {};\n",
       "                    window.PLOTLYENV.BASE_URL='https://plot.ly';                                    if (document.getElementById(\"2e51efe7-a395-4f41-b80d-7b44345ff456\")) {                    Plotly.newPlot(                        \"2e51efe7-a395-4f41-b80d-7b44345ff456\",                        [{\"marker\":{\"color\":\"rgba(255, 153, 51, 0.6)\",\"line\":{\"color\":\"rgba(255, 153, 51, 1.0)\",\"width\":1}},\"name\":\"None\",\"orientation\":\"v\",\"text\":\"\",\"x\":[\"a\",\"b\",\"c\",\"d\"],\"y\":[-26.602389738851233,-2.8943039008524023,14.240152517528191,0.9523046822388435],\"type\":\"bar\"}],                        {\"legend\":{\"bgcolor\":\"#F5F6F9\",\"font\":{\"color\":\"#4D5663\"}},\"paper_bgcolor\":\"#F5F6F9\",\"plot_bgcolor\":\"#F5F6F9\",\"template\":{\"data\":{\"barpolar\":[{\"marker\":{\"line\":{\"color\":\"#E5ECF6\",\"width\":0.5},\"pattern\":{\"fillmode\":\"overlay\",\"size\":10,\"solidity\":0.2}},\"type\":\"barpolar\"}],\"bar\":[{\"error_x\":{\"color\":\"#2a3f5f\"},\"error_y\":{\"color\":\"#2a3f5f\"},\"marker\":{\"line\":{\"color\":\"#E5ECF6\",\"width\":0.5},\"pattern\":{\"fillmode\":\"overlay\",\"size\":10,\"solidity\":0.2}},\"type\":\"bar\"}],\"carpet\":[{\"aaxis\":{\"endlinecolor\":\"#2a3f5f\",\"gridcolor\":\"white\",\"linecolor\":\"white\",\"minorgridcolor\":\"white\",\"startlinecolor\":\"#2a3f5f\"},\"baxis\":{\"endlinecolor\":\"#2a3f5f\",\"gridcolor\":\"white\",\"linecolor\":\"white\",\"minorgridcolor\":\"white\",\"startlinecolor\":\"#2a3f5f\"},\"type\":\"carpet\"}],\"choropleth\":[{\"colorbar\":{\"outlinewidth\":0,\"ticks\":\"\"},\"type\":\"choropleth\"}],\"contourcarpet\":[{\"colorbar\":{\"outlinewidth\":0,\"ticks\":\"\"},\"type\":\"contourcarpet\"}],\"contour\":[{\"colorbar\":{\"outlinewidth\":0,\"ticks\":\"\"},\"colorscale\":[[0.0,\"#0d0887\"],[0.1111111111111111,\"#46039f\"],[0.2222222222222222,\"#7201a8\"],[0.3333333333333333,\"#9c179e\"],[0.4444444444444444,\"#bd3786\"],[0.5555555555555556,\"#d8576b\"],[0.6666666666666666,\"#ed7953\"],[0.7777777777777778,\"#fb9f3a\"],[0.8888888888888888,\"#fdca26\"],[1.0,\"#f0f921\"]],\"type\":\"contour\"}],\"heatmapgl\":[{\"colorbar\":{\"outlinewidth\":0,\"ticks\":\"\"},\"colorscale\":[[0.0,\"#0d0887\"],[0.1111111111111111,\"#46039f\"],[0.2222222222222222,\"#7201a8\"],[0.3333333333333333,\"#9c179e\"],[0.4444444444444444,\"#bd3786\"],[0.5555555555555556,\"#d8576b\"],[0.6666666666666666,\"#ed7953\"],[0.7777777777777778,\"#fb9f3a\"],[0.8888888888888888,\"#fdca26\"],[1.0,\"#f0f921\"]],\"type\":\"heatmapgl\"}],\"heatmap\":[{\"colorbar\":{\"outlinewidth\":0,\"ticks\":\"\"},\"colorscale\":[[0.0,\"#0d0887\"],[0.1111111111111111,\"#46039f\"],[0.2222222222222222,\"#7201a8\"],[0.3333333333333333,\"#9c179e\"],[0.4444444444444444,\"#bd3786\"],[0.5555555555555556,\"#d8576b\"],[0.6666666666666666,\"#ed7953\"],[0.7777777777777778,\"#fb9f3a\"],[0.8888888888888888,\"#fdca26\"],[1.0,\"#f0f921\"]],\"type\":\"heatmap\"}],\"histogram2dcontour\":[{\"colorbar\":{\"outlinewidth\":0,\"ticks\":\"\"},\"colorscale\":[[0.0,\"#0d0887\"],[0.1111111111111111,\"#46039f\"],[0.2222222222222222,\"#7201a8\"],[0.3333333333333333,\"#9c179e\"],[0.4444444444444444,\"#bd3786\"],[0.5555555555555556,\"#d8576b\"],[0.6666666666666666,\"#ed7953\"],[0.7777777777777778,\"#fb9f3a\"],[0.8888888888888888,\"#fdca26\"],[1.0,\"#f0f921\"]],\"type\":\"histogram2dcontour\"}],\"histogram2d\":[{\"colorbar\":{\"outlinewidth\":0,\"ticks\":\"\"},\"colorscale\":[[0.0,\"#0d0887\"],[0.1111111111111111,\"#46039f\"],[0.2222222222222222,\"#7201a8\"],[0.3333333333333333,\"#9c179e\"],[0.4444444444444444,\"#bd3786\"],[0.5555555555555556,\"#d8576b\"],[0.6666666666666666,\"#ed7953\"],[0.7777777777777778,\"#fb9f3a\"],[0.8888888888888888,\"#fdca26\"],[1.0,\"#f0f921\"]],\"type\":\"histogram2d\"}],\"histogram\":[{\"marker\":{\"pattern\":{\"fillmode\":\"overlay\",\"size\":10,\"solidity\":0.2}},\"type\":\"histogram\"}],\"mesh3d\":[{\"colorbar\":{\"outlinewidth\":0,\"ticks\":\"\"},\"type\":\"mesh3d\"}],\"parcoords\":[{\"line\":{\"colorbar\":{\"outlinewidth\":0,\"ticks\":\"\"}},\"type\":\"parcoords\"}],\"pie\":[{\"automargin\":true,\"type\":\"pie\"}],\"scatter3d\":[{\"line\":{\"colorbar\":{\"outlinewidth\":0,\"ticks\":\"\"}},\"marker\":{\"colorbar\":{\"outlinewidth\":0,\"ticks\":\"\"}},\"type\":\"scatter3d\"}],\"scattercarpet\":[{\"marker\":{\"colorbar\":{\"outlinewidth\":0,\"ticks\":\"\"}},\"type\":\"scattercarpet\"}],\"scattergeo\":[{\"marker\":{\"colorbar\":{\"outlinewidth\":0,\"ticks\":\"\"}},\"type\":\"scattergeo\"}],\"scattergl\":[{\"marker\":{\"colorbar\":{\"outlinewidth\":0,\"ticks\":\"\"}},\"type\":\"scattergl\"}],\"scattermapbox\":[{\"marker\":{\"colorbar\":{\"outlinewidth\":0,\"ticks\":\"\"}},\"type\":\"scattermapbox\"}],\"scatterpolargl\":[{\"marker\":{\"colorbar\":{\"outlinewidth\":0,\"ticks\":\"\"}},\"type\":\"scatterpolargl\"}],\"scatterpolar\":[{\"marker\":{\"colorbar\":{\"outlinewidth\":0,\"ticks\":\"\"}},\"type\":\"scatterpolar\"}],\"scatter\":[{\"fillpattern\":{\"fillmode\":\"overlay\",\"size\":10,\"solidity\":0.2},\"type\":\"scatter\"}],\"scatterternary\":[{\"marker\":{\"colorbar\":{\"outlinewidth\":0,\"ticks\":\"\"}},\"type\":\"scatterternary\"}],\"surface\":[{\"colorbar\":{\"outlinewidth\":0,\"ticks\":\"\"},\"colorscale\":[[0.0,\"#0d0887\"],[0.1111111111111111,\"#46039f\"],[0.2222222222222222,\"#7201a8\"],[0.3333333333333333,\"#9c179e\"],[0.4444444444444444,\"#bd3786\"],[0.5555555555555556,\"#d8576b\"],[0.6666666666666666,\"#ed7953\"],[0.7777777777777778,\"#fb9f3a\"],[0.8888888888888888,\"#fdca26\"],[1.0,\"#f0f921\"]],\"type\":\"surface\"}],\"table\":[{\"cells\":{\"fill\":{\"color\":\"#EBF0F8\"},\"line\":{\"color\":\"white\"}},\"header\":{\"fill\":{\"color\":\"#C8D4E3\"},\"line\":{\"color\":\"white\"}},\"type\":\"table\"}]},\"layout\":{\"annotationdefaults\":{\"arrowcolor\":\"#2a3f5f\",\"arrowhead\":0,\"arrowwidth\":1},\"autotypenumbers\":\"strict\",\"coloraxis\":{\"colorbar\":{\"outlinewidth\":0,\"ticks\":\"\"}},\"colorscale\":{\"diverging\":[[0,\"#8e0152\"],[0.1,\"#c51b7d\"],[0.2,\"#de77ae\"],[0.3,\"#f1b6da\"],[0.4,\"#fde0ef\"],[0.5,\"#f7f7f7\"],[0.6,\"#e6f5d0\"],[0.7,\"#b8e186\"],[0.8,\"#7fbc41\"],[0.9,\"#4d9221\"],[1,\"#276419\"]],\"sequential\":[[0.0,\"#0d0887\"],[0.1111111111111111,\"#46039f\"],[0.2222222222222222,\"#7201a8\"],[0.3333333333333333,\"#9c179e\"],[0.4444444444444444,\"#bd3786\"],[0.5555555555555556,\"#d8576b\"],[0.6666666666666666,\"#ed7953\"],[0.7777777777777778,\"#fb9f3a\"],[0.8888888888888888,\"#fdca26\"],[1.0,\"#f0f921\"]],\"sequentialminus\":[[0.0,\"#0d0887\"],[0.1111111111111111,\"#46039f\"],[0.2222222222222222,\"#7201a8\"],[0.3333333333333333,\"#9c179e\"],[0.4444444444444444,\"#bd3786\"],[0.5555555555555556,\"#d8576b\"],[0.6666666666666666,\"#ed7953\"],[0.7777777777777778,\"#fb9f3a\"],[0.8888888888888888,\"#fdca26\"],[1.0,\"#f0f921\"]]},\"colorway\":[\"#636efa\",\"#EF553B\",\"#00cc96\",\"#ab63fa\",\"#FFA15A\",\"#19d3f3\",\"#FF6692\",\"#B6E880\",\"#FF97FF\",\"#FECB52\"],\"font\":{\"color\":\"#2a3f5f\"},\"geo\":{\"bgcolor\":\"white\",\"lakecolor\":\"white\",\"landcolor\":\"#E5ECF6\",\"showlakes\":true,\"showland\":true,\"subunitcolor\":\"white\"},\"hoverlabel\":{\"align\":\"left\"},\"hovermode\":\"closest\",\"mapbox\":{\"style\":\"light\"},\"paper_bgcolor\":\"white\",\"plot_bgcolor\":\"#E5ECF6\",\"polar\":{\"angularaxis\":{\"gridcolor\":\"white\",\"linecolor\":\"white\",\"ticks\":\"\"},\"bgcolor\":\"#E5ECF6\",\"radialaxis\":{\"gridcolor\":\"white\",\"linecolor\":\"white\",\"ticks\":\"\"}},\"scene\":{\"xaxis\":{\"backgroundcolor\":\"#E5ECF6\",\"gridcolor\":\"white\",\"gridwidth\":2,\"linecolor\":\"white\",\"showbackground\":true,\"ticks\":\"\",\"zerolinecolor\":\"white\"},\"yaxis\":{\"backgroundcolor\":\"#E5ECF6\",\"gridcolor\":\"white\",\"gridwidth\":2,\"linecolor\":\"white\",\"showbackground\":true,\"ticks\":\"\",\"zerolinecolor\":\"white\"},\"zaxis\":{\"backgroundcolor\":\"#E5ECF6\",\"gridcolor\":\"white\",\"gridwidth\":2,\"linecolor\":\"white\",\"showbackground\":true,\"ticks\":\"\",\"zerolinecolor\":\"white\"}},\"shapedefaults\":{\"line\":{\"color\":\"#2a3f5f\"}},\"ternary\":{\"aaxis\":{\"gridcolor\":\"white\",\"linecolor\":\"white\",\"ticks\":\"\"},\"baxis\":{\"gridcolor\":\"white\",\"linecolor\":\"white\",\"ticks\":\"\"},\"bgcolor\":\"#E5ECF6\",\"caxis\":{\"gridcolor\":\"white\",\"linecolor\":\"white\",\"ticks\":\"\"}},\"title\":{\"x\":0.05},\"xaxis\":{\"automargin\":true,\"gridcolor\":\"white\",\"linecolor\":\"white\",\"ticks\":\"\",\"title\":{\"standoff\":15},\"zerolinecolor\":\"white\",\"zerolinewidth\":2},\"yaxis\":{\"automargin\":true,\"gridcolor\":\"white\",\"linecolor\":\"white\",\"ticks\":\"\",\"title\":{\"standoff\":15},\"zerolinecolor\":\"white\",\"zerolinewidth\":2}}},\"title\":{\"font\":{\"color\":\"#4D5663\"}},\"xaxis\":{\"gridcolor\":\"#E1E5ED\",\"showgrid\":true,\"tickfont\":{\"color\":\"#4D5663\"},\"title\":{\"font\":{\"color\":\"#4D5663\"},\"text\":\"\"},\"zerolinecolor\":\"#E1E5ED\"},\"yaxis\":{\"gridcolor\":\"#E1E5ED\",\"showgrid\":true,\"tickfont\":{\"color\":\"#4D5663\"},\"title\":{\"font\":{\"color\":\"#4D5663\"},\"text\":\"\"},\"zerolinecolor\":\"#E1E5ED\"}},                        {\"showLink\": true, \"linkText\": \"Export to plot.ly\", \"plotlyServerURL\": \"https://plot.ly\", \"responsive\": true}                    ).then(function(){\n",
       "                            \n",
       "var gd = document.getElementById('2e51efe7-a395-4f41-b80d-7b44345ff456');\n",
       "var x = new MutationObserver(function (mutations, observer) {{\n",
       "        var display = window.getComputedStyle(gd).display;\n",
       "        if (!display || display === 'none') {{\n",
       "            console.log([gd, 'removed!']);\n",
       "            Plotly.purge(gd);\n",
       "            observer.disconnect();\n",
       "        }}\n",
       "}});\n",
       "\n",
       "// Listen for the removal of the full notebook cells\n",
       "var notebookContainer = gd.closest('#notebook-container');\n",
       "if (notebookContainer) {{\n",
       "    x.observe(notebookContainer, {childList: true});\n",
       "}}\n",
       "\n",
       "// Listen for the clearing of the current output cell\n",
       "var outputEl = gd.closest('.output');\n",
       "if (outputEl) {{\n",
       "    x.observe(outputEl, {childList: true});\n",
       "}}\n",
       "\n",
       "                        })                };                });            </script>        </div>"
      ]
     },
     "metadata": {},
     "output_type": "display_data"
    }
   ],
   "source": [
    "df.sum().iplot(kind='bar')\n"
   ]
  },
  {
   "cell_type": "code",
   "execution_count": 34,
   "id": "3f64819d",
   "metadata": {},
   "outputs": [
    {
     "data": {
      "application/vnd.plotly.v1+json": {
       "config": {
        "linkText": "Export to plot.ly",
        "plotlyServerURL": "https://plot.ly",
        "showLink": true
       },
       "data": [
        {
         "boxpoints": false,
         "line": {
          "width": 1.3
         },
         "marker": {
          "color": "rgba(255, 153, 51, 1.0)"
         },
         "name": "a",
         "orientation": "v",
         "type": "box",
         "y": [
          -1.2536704061240342,
          -0.31192087006827185,
          -2.2109845815294356,
          0.26098210430390356,
          -0.42372505561706497,
          -0.5191246063006844,
          -0.3741979168810921,
          0.013160070003499067,
          -1.3936117653916562,
          -0.9879887112436886,
          0.9978019604285551,
          0.20408777022973887,
          -0.3751686712106355,
          0.14714190067587132,
          0.7097405973098823,
          -0.5980386770941455,
          -0.8580820814739449,
          -0.03928825662399084,
          2.1123756536844134,
          0.20988143099753984,
          -0.0039750860987576705,
          1.0837356737832347,
          0.25720841914284187,
          -0.6265295757295674,
          -0.8334593492338207,
          -0.43845976815063725,
          1.2182819398389937,
          -1.2402949889598742,
          -1.2071346174640567,
          -0.25215273236635155,
          -0.26222993788277515,
          -1.5944264482789066,
          -0.11603327631361181,
          0.3170166562461856,
          0.33184384567773306,
          0.2706533742615674,
          0.6886179771564876,
          0.33296980227084005,
          0.5860064727362081,
          -1.0790498039463736,
          0.036369968192229485,
          0.15144790493044746,
          -0.10393678206743479,
          0.8349700375535881,
          -1.206328193237761,
          0.5673265511778895,
          -0.06721204834887629,
          -0.543744658610441,
          -1.784873068359861,
          -1.5640842673613353,
          -1.7484510427524396,
          -0.9238595076773191,
          -0.07066518986172503,
          -1.2564883213487814,
          -1.255171782943583,
          -0.5693595220873484,
          -0.2680475201230551,
          -0.7370601821881222,
          1.4131046455732545,
          -0.4484711608573334,
          -0.03368558970719541,
          0.20060822572533968,
          -1.3006252925618582,
          -0.7650549164700556,
          -1.474269199202699,
          -1.9035357216209998,
          -0.842459505915815,
          -0.6450446032311398,
          -1.3859767495689528,
          0.5787535105345148,
          2.2955960081866325,
          -1.4380393667265592,
          0.592895059358941,
          0.6824300472122862,
          -1.978558056285446,
          0.6507979497194142,
          -0.8504019891320452,
          -0.23082902274044428,
          0.9275706159608799,
          -0.047095155777864835,
          -1.6405431622980855,
          -0.8744312401517957,
          -0.25871068506394845,
          0.27471500967068346,
          0.1946788757728365,
          1.4125245459008748,
          -0.049375511972559315,
          -0.10475479978240199,
          0.5133935150926221,
          -1.2223620008398135,
          -0.11638992089113567,
          -1.3023112967306605,
          0.30293182359718746,
          -1.6607840815862427,
          1.983670482457282,
          -1.0036184526149803,
          -1.428906436402728,
          1.5304130203604172,
          0.9133621367502792,
          -0.29639213224210054
         ]
        },
        {
         "boxpoints": false,
         "line": {
          "width": 1.3
         },
         "marker": {
          "color": "rgba(55, 128, 191, 1.0)"
         },
         "name": "b",
         "orientation": "v",
         "type": "box",
         "y": [
          -0.7172365979374294,
          0.1301927392996842,
          -1.393522266799919,
          0.5547087920801866,
          -0.5200071012122776,
          1.1613183698350373,
          -1.3529461218033918,
          1.3988825487452088,
          0.6733468125873788,
          1.5219448397371478,
          -0.7906269916573789,
          -0.3161501726488375,
          -0.41778212984503704,
          -0.5831677471760225,
          0.6023577387799757,
          -0.4443233853900075,
          0.7533047706847111,
          -1.3970815128632759,
          0.3581974945656321,
          0.8589985833109056,
          0.47592833921194794,
          0.23549672361459806,
          -0.18952266322583036,
          0.19974453806195278,
          -0.06960702398037072,
          -1.0086186324692388,
          0.9628957190504571,
          0.9474978795182155,
          0.8596145583597102,
          -0.4263569089417392,
          0.3499146348325409,
          0.9398534359848607,
          -0.6229775340336317,
          0.19749787601107976,
          -1.0991368107166477,
          0.13191944366896108,
          -0.42292656307822624,
          0.34519356856585565,
          0.514983356263597,
          -1.138924491691048,
          -1.189373130478294,
          0.9667822919326727,
          -1.150614139922435,
          0.42524038583700313,
          -0.03894968578993216,
          -0.13929919745961755,
          -0.3125569796919793,
          -1.4309654669216174,
          0.03980910697712983,
          -0.880089298606563,
          -1.1501158787075554,
          -1.4208883907476475,
          1.2273389142307352,
          0.7034530198234115,
          0.38818130211246876,
          0.18684137941578224,
          1.0825536881142404,
          -0.34031467699274226,
          -2.550099155251413,
          0.08468203433117498,
          0.44837050229530284,
          0.017602416217182646,
          -0.5201218604083405,
          0.654672383103486,
          -0.9318224461423867,
          -1.0800159254957447,
          1.544411010637449,
          -2.16227794297282,
          0.23561697608863844,
          -1.1278533299184488,
          -0.11732290592434473,
          -0.29730289220519107,
          -0.32750099938839783,
          0.955194867490096,
          -1.7596498603194104,
          0.7096375246310584,
          0.5821868144562231,
          -0.8746028069438861,
          0.9062882402006409,
          0.055217998884144866,
          -1.973828315514508,
          -1.004458985106134,
          1.7793279779693252,
          -0.10840911214856161,
          2.6867297265953103,
          0.91343388042321,
          -0.9377622323218044,
          -1.2570794768782148,
          1.6471666036145307,
          0.48188330904460136,
          -0.04052226717979435,
          -0.05859375010378374,
          1.1738796853901698,
          0.2795749088035469,
          1.0908754639387486,
          -1.1197331844989709,
          -1.2150861295185817,
          1.5136977245404255,
          0.8247996201154251,
          -0.24542134180675218
         ]
        },
        {
         "boxpoints": false,
         "line": {
          "width": 1.3
         },
         "marker": {
          "color": "rgba(50, 171, 96, 1.0)"
         },
         "name": "c",
         "orientation": "v",
         "type": "box",
         "y": [
          -0.644862269764822,
          -0.30779304426494414,
          1.4312069827650835,
          -0.568106716918909,
          -0.05482999949921287,
          1.3775688864000735,
          0.6969010286683164,
          -2.2929526767754216,
          0.09082610904100767,
          0.35623333678979724,
          1.0512567783275675,
          -1.0781253734726224,
          0.3051893108966182,
          0.11398895639943217,
          -0.5026548935373585,
          1.0100767573269718,
          1.6045563397800657,
          -0.263790151377017,
          1.4712932996464019,
          -0.5026694094274891,
          0.07602958833205785,
          0.13560896282949106,
          -0.8585960115677611,
          -0.8489487219660529,
          -0.36949464919022484,
          0.03506363469734359,
          -1.4111291043256964,
          -0.47803526330092605,
          1.6580456931546976,
          -1.2211657668381346,
          -1.1826923102828888,
          2.061911162448477,
          0.6877747246825724,
          -0.13328032534468331,
          0.9679268063934757,
          -0.7051450416419223,
          -0.2329471343594074,
          0.17571764933338305,
          -0.9889760436217521,
          1.706941676259754,
          -0.5542973605783889,
          1.7299250177970487,
          0.5323677350937979,
          0.5242285866578907,
          -0.597385471430855,
          0.16728901604561539,
          0.4142163978691079,
          1.692250276833783,
          1.7463791730772082,
          -0.21986570644528575,
          0.19127617579273945,
          0.08877869680039471,
          0.3075071782923635,
          -0.6468916090946528,
          -1.2489633296959335,
          0.29376203724273914,
          -0.6383223712123308,
          2.145148067398187,
          -0.5937240361377595,
          1.974857623800908,
          -1.2345916699396726,
          -0.40231911081509003,
          1.151067685185213,
          -1.684758230947675,
          0.66943289859867,
          0.5637987734791424,
          1.0482474041595975,
          -0.712096988002522,
          -1.8233548549123433,
          0.44447113578405967,
          3.389577803441184,
          -0.9456440548848006,
          -0.04086647782104779,
          0.27759419334555296,
          0.21164527133327032,
          1.148398128752941,
          0.15314627067663572,
          -1.8038820878934234,
          0.9722698111484178,
          1.0229092134274624,
          0.28283095471296954,
          -1.5510481364175461,
          0.061838266966372755,
          0.33059494433994546,
          -0.4556161090862515,
          1.5902552853587868,
          -0.9607932154675821,
          1.0375863648405528,
          1.2343312552332237,
          -0.04409033375219025,
          0.5213861390488062,
          0.48831165178233615,
          -2.2380864110431213,
          -0.6057784263895877,
          1.2246095538404946,
          0.7780165479817372,
          0.549101480326388,
          -0.48192376559470035,
          0.1177121625684017,
          0.27941031936166405
         ]
        },
        {
         "boxpoints": false,
         "line": {
          "width": 1.3
         },
         "marker": {
          "color": "rgba(128, 0, 128, 1.0)"
         },
         "name": "d",
         "orientation": "v",
         "type": "box",
         "y": [
          0.7497183605737537,
          -0.36957187829460453,
          0.05558868595169157,
          -1.326245374066973,
          0.48709573897201197,
          -0.04058352785552951,
          0.7172478305315246,
          1.1686461498120249,
          0.15582629174388662,
          -0.24935139025430994,
          1.5236235045735902,
          2.4621582729845315,
          0.17439551195791178,
          -0.7302229015928575,
          -0.07208072413731856,
          -0.8429801003585939,
          1.0588884773639018,
          -0.4280041278713005,
          -0.35651863457078803,
          -1.5311127200324355,
          -0.5645907407909591,
          0.905829449333737,
          -0.640080885178177,
          -0.8082682458443605,
          0.10455202848036407,
          1.898251111645053,
          -0.5377332031162471,
          -0.5180827040364145,
          -0.40246041657702597,
          -0.23120410044358786,
          2.888006850971286,
          0.8094919070078689,
          0.38794403172813,
          -1.7216833001165157,
          0.568176426413336,
          1.8919573672768957,
          1.0298118946879022,
          -0.5063878296633622,
          -2.685666244932097,
          1.1814794613153967,
          0.182148400494332,
          0.5870395371820794,
          -0.7551590075916406,
          -0.015455428501074637,
          -0.43217773668747894,
          1.749317470617879,
          1.7407285070776848,
          -0.1915199989179134,
          0.7721322184140336,
          -1.0420640493950046,
          -1.2620508523349931,
          -2.2208445357924154,
          -0.3132754958417208,
          -0.04729021895831102,
          -0.4710086932553789,
          -0.22111930592822035,
          -0.6450366797051841,
          0.4480636208184629,
          0.1346706197334301,
          0.1489804856923085,
          -0.28362936025387375,
          -1.7114546660239531,
          0.6640007478235729,
          -0.7272174881915302,
          0.24119566979843185,
          0.6820050042566222,
          0.13109669641631977,
          -1.2949030969007622,
          -1.050770605437413,
          1.651015366716756,
          0.8384754662912653,
          -1.5460206664018412,
          0.5183959952241453,
          0.11579969767816818,
          0.058004891068721094,
          -0.5684793809625174,
          -0.16142445243376213,
          -0.2066414523185034,
          -0.5962630480602175,
          0.20797001029890144,
          -0.8148988463933333,
          -1.2426282974685001,
          -0.47710924613388633,
          -0.33075195323778883,
          0.357857525991513,
          0.03411888325736434,
          -1.1117034719288414,
          3.464326284094295,
          1.5977825629997318,
          1.5241586370429179,
          -0.9059344027985381,
          -1.0683838168248458,
          0.9338553610898398,
          -1.031239647837061,
          1.3097747301664568,
          0.4207203875049453,
          -0.11839767155825544,
          0.3537186155026702,
          -1.3921761213532073,
          -1.3138793191773748
         ]
        }
       ],
       "layout": {
        "legend": {
         "bgcolor": "#F5F6F9",
         "font": {
          "color": "#4D5663"
         }
        },
        "paper_bgcolor": "#F5F6F9",
        "plot_bgcolor": "#F5F6F9",
        "template": {
         "data": {
          "bar": [
           {
            "error_x": {
             "color": "#2a3f5f"
            },
            "error_y": {
             "color": "#2a3f5f"
            },
            "marker": {
             "line": {
              "color": "#E5ECF6",
              "width": 0.5
             },
             "pattern": {
              "fillmode": "overlay",
              "size": 10,
              "solidity": 0.2
             }
            },
            "type": "bar"
           }
          ],
          "barpolar": [
           {
            "marker": {
             "line": {
              "color": "#E5ECF6",
              "width": 0.5
             },
             "pattern": {
              "fillmode": "overlay",
              "size": 10,
              "solidity": 0.2
             }
            },
            "type": "barpolar"
           }
          ],
          "carpet": [
           {
            "aaxis": {
             "endlinecolor": "#2a3f5f",
             "gridcolor": "white",
             "linecolor": "white",
             "minorgridcolor": "white",
             "startlinecolor": "#2a3f5f"
            },
            "baxis": {
             "endlinecolor": "#2a3f5f",
             "gridcolor": "white",
             "linecolor": "white",
             "minorgridcolor": "white",
             "startlinecolor": "#2a3f5f"
            },
            "type": "carpet"
           }
          ],
          "choropleth": [
           {
            "colorbar": {
             "outlinewidth": 0,
             "ticks": ""
            },
            "type": "choropleth"
           }
          ],
          "contour": [
           {
            "colorbar": {
             "outlinewidth": 0,
             "ticks": ""
            },
            "colorscale": [
             [
              0,
              "#0d0887"
             ],
             [
              0.1111111111111111,
              "#46039f"
             ],
             [
              0.2222222222222222,
              "#7201a8"
             ],
             [
              0.3333333333333333,
              "#9c179e"
             ],
             [
              0.4444444444444444,
              "#bd3786"
             ],
             [
              0.5555555555555556,
              "#d8576b"
             ],
             [
              0.6666666666666666,
              "#ed7953"
             ],
             [
              0.7777777777777778,
              "#fb9f3a"
             ],
             [
              0.8888888888888888,
              "#fdca26"
             ],
             [
              1,
              "#f0f921"
             ]
            ],
            "type": "contour"
           }
          ],
          "contourcarpet": [
           {
            "colorbar": {
             "outlinewidth": 0,
             "ticks": ""
            },
            "type": "contourcarpet"
           }
          ],
          "heatmap": [
           {
            "colorbar": {
             "outlinewidth": 0,
             "ticks": ""
            },
            "colorscale": [
             [
              0,
              "#0d0887"
             ],
             [
              0.1111111111111111,
              "#46039f"
             ],
             [
              0.2222222222222222,
              "#7201a8"
             ],
             [
              0.3333333333333333,
              "#9c179e"
             ],
             [
              0.4444444444444444,
              "#bd3786"
             ],
             [
              0.5555555555555556,
              "#d8576b"
             ],
             [
              0.6666666666666666,
              "#ed7953"
             ],
             [
              0.7777777777777778,
              "#fb9f3a"
             ],
             [
              0.8888888888888888,
              "#fdca26"
             ],
             [
              1,
              "#f0f921"
             ]
            ],
            "type": "heatmap"
           }
          ],
          "heatmapgl": [
           {
            "colorbar": {
             "outlinewidth": 0,
             "ticks": ""
            },
            "colorscale": [
             [
              0,
              "#0d0887"
             ],
             [
              0.1111111111111111,
              "#46039f"
             ],
             [
              0.2222222222222222,
              "#7201a8"
             ],
             [
              0.3333333333333333,
              "#9c179e"
             ],
             [
              0.4444444444444444,
              "#bd3786"
             ],
             [
              0.5555555555555556,
              "#d8576b"
             ],
             [
              0.6666666666666666,
              "#ed7953"
             ],
             [
              0.7777777777777778,
              "#fb9f3a"
             ],
             [
              0.8888888888888888,
              "#fdca26"
             ],
             [
              1,
              "#f0f921"
             ]
            ],
            "type": "heatmapgl"
           }
          ],
          "histogram": [
           {
            "marker": {
             "pattern": {
              "fillmode": "overlay",
              "size": 10,
              "solidity": 0.2
             }
            },
            "type": "histogram"
           }
          ],
          "histogram2d": [
           {
            "colorbar": {
             "outlinewidth": 0,
             "ticks": ""
            },
            "colorscale": [
             [
              0,
              "#0d0887"
             ],
             [
              0.1111111111111111,
              "#46039f"
             ],
             [
              0.2222222222222222,
              "#7201a8"
             ],
             [
              0.3333333333333333,
              "#9c179e"
             ],
             [
              0.4444444444444444,
              "#bd3786"
             ],
             [
              0.5555555555555556,
              "#d8576b"
             ],
             [
              0.6666666666666666,
              "#ed7953"
             ],
             [
              0.7777777777777778,
              "#fb9f3a"
             ],
             [
              0.8888888888888888,
              "#fdca26"
             ],
             [
              1,
              "#f0f921"
             ]
            ],
            "type": "histogram2d"
           }
          ],
          "histogram2dcontour": [
           {
            "colorbar": {
             "outlinewidth": 0,
             "ticks": ""
            },
            "colorscale": [
             [
              0,
              "#0d0887"
             ],
             [
              0.1111111111111111,
              "#46039f"
             ],
             [
              0.2222222222222222,
              "#7201a8"
             ],
             [
              0.3333333333333333,
              "#9c179e"
             ],
             [
              0.4444444444444444,
              "#bd3786"
             ],
             [
              0.5555555555555556,
              "#d8576b"
             ],
             [
              0.6666666666666666,
              "#ed7953"
             ],
             [
              0.7777777777777778,
              "#fb9f3a"
             ],
             [
              0.8888888888888888,
              "#fdca26"
             ],
             [
              1,
              "#f0f921"
             ]
            ],
            "type": "histogram2dcontour"
           }
          ],
          "mesh3d": [
           {
            "colorbar": {
             "outlinewidth": 0,
             "ticks": ""
            },
            "type": "mesh3d"
           }
          ],
          "parcoords": [
           {
            "line": {
             "colorbar": {
              "outlinewidth": 0,
              "ticks": ""
             }
            },
            "type": "parcoords"
           }
          ],
          "pie": [
           {
            "automargin": true,
            "type": "pie"
           }
          ],
          "scatter": [
           {
            "fillpattern": {
             "fillmode": "overlay",
             "size": 10,
             "solidity": 0.2
            },
            "type": "scatter"
           }
          ],
          "scatter3d": [
           {
            "line": {
             "colorbar": {
              "outlinewidth": 0,
              "ticks": ""
             }
            },
            "marker": {
             "colorbar": {
              "outlinewidth": 0,
              "ticks": ""
             }
            },
            "type": "scatter3d"
           }
          ],
          "scattercarpet": [
           {
            "marker": {
             "colorbar": {
              "outlinewidth": 0,
              "ticks": ""
             }
            },
            "type": "scattercarpet"
           }
          ],
          "scattergeo": [
           {
            "marker": {
             "colorbar": {
              "outlinewidth": 0,
              "ticks": ""
             }
            },
            "type": "scattergeo"
           }
          ],
          "scattergl": [
           {
            "marker": {
             "colorbar": {
              "outlinewidth": 0,
              "ticks": ""
             }
            },
            "type": "scattergl"
           }
          ],
          "scattermapbox": [
           {
            "marker": {
             "colorbar": {
              "outlinewidth": 0,
              "ticks": ""
             }
            },
            "type": "scattermapbox"
           }
          ],
          "scatterpolar": [
           {
            "marker": {
             "colorbar": {
              "outlinewidth": 0,
              "ticks": ""
             }
            },
            "type": "scatterpolar"
           }
          ],
          "scatterpolargl": [
           {
            "marker": {
             "colorbar": {
              "outlinewidth": 0,
              "ticks": ""
             }
            },
            "type": "scatterpolargl"
           }
          ],
          "scatterternary": [
           {
            "marker": {
             "colorbar": {
              "outlinewidth": 0,
              "ticks": ""
             }
            },
            "type": "scatterternary"
           }
          ],
          "surface": [
           {
            "colorbar": {
             "outlinewidth": 0,
             "ticks": ""
            },
            "colorscale": [
             [
              0,
              "#0d0887"
             ],
             [
              0.1111111111111111,
              "#46039f"
             ],
             [
              0.2222222222222222,
              "#7201a8"
             ],
             [
              0.3333333333333333,
              "#9c179e"
             ],
             [
              0.4444444444444444,
              "#bd3786"
             ],
             [
              0.5555555555555556,
              "#d8576b"
             ],
             [
              0.6666666666666666,
              "#ed7953"
             ],
             [
              0.7777777777777778,
              "#fb9f3a"
             ],
             [
              0.8888888888888888,
              "#fdca26"
             ],
             [
              1,
              "#f0f921"
             ]
            ],
            "type": "surface"
           }
          ],
          "table": [
           {
            "cells": {
             "fill": {
              "color": "#EBF0F8"
             },
             "line": {
              "color": "white"
             }
            },
            "header": {
             "fill": {
              "color": "#C8D4E3"
             },
             "line": {
              "color": "white"
             }
            },
            "type": "table"
           }
          ]
         },
         "layout": {
          "annotationdefaults": {
           "arrowcolor": "#2a3f5f",
           "arrowhead": 0,
           "arrowwidth": 1
          },
          "autotypenumbers": "strict",
          "coloraxis": {
           "colorbar": {
            "outlinewidth": 0,
            "ticks": ""
           }
          },
          "colorscale": {
           "diverging": [
            [
             0,
             "#8e0152"
            ],
            [
             0.1,
             "#c51b7d"
            ],
            [
             0.2,
             "#de77ae"
            ],
            [
             0.3,
             "#f1b6da"
            ],
            [
             0.4,
             "#fde0ef"
            ],
            [
             0.5,
             "#f7f7f7"
            ],
            [
             0.6,
             "#e6f5d0"
            ],
            [
             0.7,
             "#b8e186"
            ],
            [
             0.8,
             "#7fbc41"
            ],
            [
             0.9,
             "#4d9221"
            ],
            [
             1,
             "#276419"
            ]
           ],
           "sequential": [
            [
             0,
             "#0d0887"
            ],
            [
             0.1111111111111111,
             "#46039f"
            ],
            [
             0.2222222222222222,
             "#7201a8"
            ],
            [
             0.3333333333333333,
             "#9c179e"
            ],
            [
             0.4444444444444444,
             "#bd3786"
            ],
            [
             0.5555555555555556,
             "#d8576b"
            ],
            [
             0.6666666666666666,
             "#ed7953"
            ],
            [
             0.7777777777777778,
             "#fb9f3a"
            ],
            [
             0.8888888888888888,
             "#fdca26"
            ],
            [
             1,
             "#f0f921"
            ]
           ],
           "sequentialminus": [
            [
             0,
             "#0d0887"
            ],
            [
             0.1111111111111111,
             "#46039f"
            ],
            [
             0.2222222222222222,
             "#7201a8"
            ],
            [
             0.3333333333333333,
             "#9c179e"
            ],
            [
             0.4444444444444444,
             "#bd3786"
            ],
            [
             0.5555555555555556,
             "#d8576b"
            ],
            [
             0.6666666666666666,
             "#ed7953"
            ],
            [
             0.7777777777777778,
             "#fb9f3a"
            ],
            [
             0.8888888888888888,
             "#fdca26"
            ],
            [
             1,
             "#f0f921"
            ]
           ]
          },
          "colorway": [
           "#636efa",
           "#EF553B",
           "#00cc96",
           "#ab63fa",
           "#FFA15A",
           "#19d3f3",
           "#FF6692",
           "#B6E880",
           "#FF97FF",
           "#FECB52"
          ],
          "font": {
           "color": "#2a3f5f"
          },
          "geo": {
           "bgcolor": "white",
           "lakecolor": "white",
           "landcolor": "#E5ECF6",
           "showlakes": true,
           "showland": true,
           "subunitcolor": "white"
          },
          "hoverlabel": {
           "align": "left"
          },
          "hovermode": "closest",
          "mapbox": {
           "style": "light"
          },
          "paper_bgcolor": "white",
          "plot_bgcolor": "#E5ECF6",
          "polar": {
           "angularaxis": {
            "gridcolor": "white",
            "linecolor": "white",
            "ticks": ""
           },
           "bgcolor": "#E5ECF6",
           "radialaxis": {
            "gridcolor": "white",
            "linecolor": "white",
            "ticks": ""
           }
          },
          "scene": {
           "xaxis": {
            "backgroundcolor": "#E5ECF6",
            "gridcolor": "white",
            "gridwidth": 2,
            "linecolor": "white",
            "showbackground": true,
            "ticks": "",
            "zerolinecolor": "white"
           },
           "yaxis": {
            "backgroundcolor": "#E5ECF6",
            "gridcolor": "white",
            "gridwidth": 2,
            "linecolor": "white",
            "showbackground": true,
            "ticks": "",
            "zerolinecolor": "white"
           },
           "zaxis": {
            "backgroundcolor": "#E5ECF6",
            "gridcolor": "white",
            "gridwidth": 2,
            "linecolor": "white",
            "showbackground": true,
            "ticks": "",
            "zerolinecolor": "white"
           }
          },
          "shapedefaults": {
           "line": {
            "color": "#2a3f5f"
           }
          },
          "ternary": {
           "aaxis": {
            "gridcolor": "white",
            "linecolor": "white",
            "ticks": ""
           },
           "baxis": {
            "gridcolor": "white",
            "linecolor": "white",
            "ticks": ""
           },
           "bgcolor": "#E5ECF6",
           "caxis": {
            "gridcolor": "white",
            "linecolor": "white",
            "ticks": ""
           }
          },
          "title": {
           "x": 0.05
          },
          "xaxis": {
           "automargin": true,
           "gridcolor": "white",
           "linecolor": "white",
           "ticks": "",
           "title": {
            "standoff": 15
           },
           "zerolinecolor": "white",
           "zerolinewidth": 2
          },
          "yaxis": {
           "automargin": true,
           "gridcolor": "white",
           "linecolor": "white",
           "ticks": "",
           "title": {
            "standoff": 15
           },
           "zerolinecolor": "white",
           "zerolinewidth": 2
          }
         }
        },
        "title": {
         "font": {
          "color": "#4D5663"
         }
        },
        "xaxis": {
         "gridcolor": "#E1E5ED",
         "showgrid": true,
         "tickfont": {
          "color": "#4D5663"
         },
         "title": {
          "font": {
           "color": "#4D5663"
          },
          "text": ""
         },
         "zerolinecolor": "#E1E5ED"
        },
        "yaxis": {
         "gridcolor": "#E1E5ED",
         "showgrid": true,
         "tickfont": {
          "color": "#4D5663"
         },
         "title": {
          "font": {
           "color": "#4D5663"
          },
          "text": ""
         },
         "zerolinecolor": "#E1E5ED"
        }
       }
      },
      "text/html": [
       "<div>                            <div id=\"4eed92cd-c5df-409f-b01b-90d087c6cef6\" class=\"plotly-graph-div\" style=\"height:525px; width:100%;\"></div>            <script type=\"text/javascript\">                require([\"plotly\"], function(Plotly) {                    window.PLOTLYENV=window.PLOTLYENV || {};\n",
       "                    window.PLOTLYENV.BASE_URL='https://plot.ly';                                    if (document.getElementById(\"4eed92cd-c5df-409f-b01b-90d087c6cef6\")) {                    Plotly.newPlot(                        \"4eed92cd-c5df-409f-b01b-90d087c6cef6\",                        [{\"boxpoints\":false,\"line\":{\"width\":1.3},\"marker\":{\"color\":\"rgba(255, 153, 51, 1.0)\"},\"name\":\"a\",\"orientation\":\"v\",\"y\":[-1.2536704061240342,-0.31192087006827185,-2.2109845815294356,0.26098210430390356,-0.42372505561706497,-0.5191246063006844,-0.3741979168810921,0.013160070003499067,-1.3936117653916562,-0.9879887112436886,0.9978019604285551,0.20408777022973887,-0.3751686712106355,0.14714190067587132,0.7097405973098823,-0.5980386770941455,-0.8580820814739449,-0.03928825662399084,2.1123756536844134,0.20988143099753984,-0.0039750860987576705,1.0837356737832347,0.25720841914284187,-0.6265295757295674,-0.8334593492338207,-0.43845976815063725,1.2182819398389937,-1.2402949889598742,-1.2071346174640567,-0.25215273236635155,-0.26222993788277515,-1.5944264482789066,-0.11603327631361181,0.3170166562461856,0.33184384567773306,0.2706533742615674,0.6886179771564876,0.33296980227084005,0.5860064727362081,-1.0790498039463736,0.036369968192229485,0.15144790493044746,-0.10393678206743479,0.8349700375535881,-1.206328193237761,0.5673265511778895,-0.06721204834887629,-0.543744658610441,-1.784873068359861,-1.5640842673613353,-1.7484510427524396,-0.9238595076773191,-0.07066518986172503,-1.2564883213487814,-1.255171782943583,-0.5693595220873484,-0.2680475201230551,-0.7370601821881222,1.4131046455732545,-0.4484711608573334,-0.03368558970719541,0.20060822572533968,-1.3006252925618582,-0.7650549164700556,-1.474269199202699,-1.9035357216209998,-0.842459505915815,-0.6450446032311398,-1.3859767495689528,0.5787535105345148,2.2955960081866325,-1.4380393667265592,0.592895059358941,0.6824300472122862,-1.978558056285446,0.6507979497194142,-0.8504019891320452,-0.23082902274044428,0.9275706159608799,-0.047095155777864835,-1.6405431622980855,-0.8744312401517957,-0.25871068506394845,0.27471500967068346,0.1946788757728365,1.4125245459008748,-0.049375511972559315,-0.10475479978240199,0.5133935150926221,-1.2223620008398135,-0.11638992089113567,-1.3023112967306605,0.30293182359718746,-1.6607840815862427,1.983670482457282,-1.0036184526149803,-1.428906436402728,1.5304130203604172,0.9133621367502792,-0.29639213224210054],\"type\":\"box\"},{\"boxpoints\":false,\"line\":{\"width\":1.3},\"marker\":{\"color\":\"rgba(55, 128, 191, 1.0)\"},\"name\":\"b\",\"orientation\":\"v\",\"y\":[-0.7172365979374294,0.1301927392996842,-1.393522266799919,0.5547087920801866,-0.5200071012122776,1.1613183698350373,-1.3529461218033918,1.3988825487452088,0.6733468125873788,1.5219448397371478,-0.7906269916573789,-0.3161501726488375,-0.41778212984503704,-0.5831677471760225,0.6023577387799757,-0.4443233853900075,0.7533047706847111,-1.3970815128632759,0.3581974945656321,0.8589985833109056,0.47592833921194794,0.23549672361459806,-0.18952266322583036,0.19974453806195278,-0.06960702398037072,-1.0086186324692388,0.9628957190504571,0.9474978795182155,0.8596145583597102,-0.4263569089417392,0.3499146348325409,0.9398534359848607,-0.6229775340336317,0.19749787601107976,-1.0991368107166477,0.13191944366896108,-0.42292656307822624,0.34519356856585565,0.514983356263597,-1.138924491691048,-1.189373130478294,0.9667822919326727,-1.150614139922435,0.42524038583700313,-0.03894968578993216,-0.13929919745961755,-0.3125569796919793,-1.4309654669216174,0.03980910697712983,-0.880089298606563,-1.1501158787075554,-1.4208883907476475,1.2273389142307352,0.7034530198234115,0.38818130211246876,0.18684137941578224,1.0825536881142404,-0.34031467699274226,-2.550099155251413,0.08468203433117498,0.44837050229530284,0.017602416217182646,-0.5201218604083405,0.654672383103486,-0.9318224461423867,-1.0800159254957447,1.544411010637449,-2.16227794297282,0.23561697608863844,-1.1278533299184488,-0.11732290592434473,-0.29730289220519107,-0.32750099938839783,0.955194867490096,-1.7596498603194104,0.7096375246310584,0.5821868144562231,-0.8746028069438861,0.9062882402006409,0.055217998884144866,-1.973828315514508,-1.004458985106134,1.7793279779693252,-0.10840911214856161,2.6867297265953103,0.91343388042321,-0.9377622323218044,-1.2570794768782148,1.6471666036145307,0.48188330904460136,-0.04052226717979435,-0.05859375010378374,1.1738796853901698,0.2795749088035469,1.0908754639387486,-1.1197331844989709,-1.2150861295185817,1.5136977245404255,0.8247996201154251,-0.24542134180675218],\"type\":\"box\"},{\"boxpoints\":false,\"line\":{\"width\":1.3},\"marker\":{\"color\":\"rgba(50, 171, 96, 1.0)\"},\"name\":\"c\",\"orientation\":\"v\",\"y\":[-0.644862269764822,-0.30779304426494414,1.4312069827650835,-0.568106716918909,-0.05482999949921287,1.3775688864000735,0.6969010286683164,-2.2929526767754216,0.09082610904100767,0.35623333678979724,1.0512567783275675,-1.0781253734726224,0.3051893108966182,0.11398895639943217,-0.5026548935373585,1.0100767573269718,1.6045563397800657,-0.263790151377017,1.4712932996464019,-0.5026694094274891,0.07602958833205785,0.13560896282949106,-0.8585960115677611,-0.8489487219660529,-0.36949464919022484,0.03506363469734359,-1.4111291043256964,-0.47803526330092605,1.6580456931546976,-1.2211657668381346,-1.1826923102828888,2.061911162448477,0.6877747246825724,-0.13328032534468331,0.9679268063934757,-0.7051450416419223,-0.2329471343594074,0.17571764933338305,-0.9889760436217521,1.706941676259754,-0.5542973605783889,1.7299250177970487,0.5323677350937979,0.5242285866578907,-0.597385471430855,0.16728901604561539,0.4142163978691079,1.692250276833783,1.7463791730772082,-0.21986570644528575,0.19127617579273945,0.08877869680039471,0.3075071782923635,-0.6468916090946528,-1.2489633296959335,0.29376203724273914,-0.6383223712123308,2.145148067398187,-0.5937240361377595,1.974857623800908,-1.2345916699396726,-0.40231911081509003,1.151067685185213,-1.684758230947675,0.66943289859867,0.5637987734791424,1.0482474041595975,-0.712096988002522,-1.8233548549123433,0.44447113578405967,3.389577803441184,-0.9456440548848006,-0.04086647782104779,0.27759419334555296,0.21164527133327032,1.148398128752941,0.15314627067663572,-1.8038820878934234,0.9722698111484178,1.0229092134274624,0.28283095471296954,-1.5510481364175461,0.061838266966372755,0.33059494433994546,-0.4556161090862515,1.5902552853587868,-0.9607932154675821,1.0375863648405528,1.2343312552332237,-0.04409033375219025,0.5213861390488062,0.48831165178233615,-2.2380864110431213,-0.6057784263895877,1.2246095538404946,0.7780165479817372,0.549101480326388,-0.48192376559470035,0.1177121625684017,0.27941031936166405],\"type\":\"box\"},{\"boxpoints\":false,\"line\":{\"width\":1.3},\"marker\":{\"color\":\"rgba(128, 0, 128, 1.0)\"},\"name\":\"d\",\"orientation\":\"v\",\"y\":[0.7497183605737537,-0.36957187829460453,0.05558868595169157,-1.326245374066973,0.48709573897201197,-0.04058352785552951,0.7172478305315246,1.1686461498120249,0.15582629174388662,-0.24935139025430994,1.5236235045735902,2.4621582729845315,0.17439551195791178,-0.7302229015928575,-0.07208072413731856,-0.8429801003585939,1.0588884773639018,-0.4280041278713005,-0.35651863457078803,-1.5311127200324355,-0.5645907407909591,0.905829449333737,-0.640080885178177,-0.8082682458443605,0.10455202848036407,1.898251111645053,-0.5377332031162471,-0.5180827040364145,-0.40246041657702597,-0.23120410044358786,2.888006850971286,0.8094919070078689,0.38794403172813,-1.7216833001165157,0.568176426413336,1.8919573672768957,1.0298118946879022,-0.5063878296633622,-2.685666244932097,1.1814794613153967,0.182148400494332,0.5870395371820794,-0.7551590075916406,-0.015455428501074637,-0.43217773668747894,1.749317470617879,1.7407285070776848,-0.1915199989179134,0.7721322184140336,-1.0420640493950046,-1.2620508523349931,-2.2208445357924154,-0.3132754958417208,-0.04729021895831102,-0.4710086932553789,-0.22111930592822035,-0.6450366797051841,0.4480636208184629,0.1346706197334301,0.1489804856923085,-0.28362936025387375,-1.7114546660239531,0.6640007478235729,-0.7272174881915302,0.24119566979843185,0.6820050042566222,0.13109669641631977,-1.2949030969007622,-1.050770605437413,1.651015366716756,0.8384754662912653,-1.5460206664018412,0.5183959952241453,0.11579969767816818,0.058004891068721094,-0.5684793809625174,-0.16142445243376213,-0.2066414523185034,-0.5962630480602175,0.20797001029890144,-0.8148988463933333,-1.2426282974685001,-0.47710924613388633,-0.33075195323778883,0.357857525991513,0.03411888325736434,-1.1117034719288414,3.464326284094295,1.5977825629997318,1.5241586370429179,-0.9059344027985381,-1.0683838168248458,0.9338553610898398,-1.031239647837061,1.3097747301664568,0.4207203875049453,-0.11839767155825544,0.3537186155026702,-1.3921761213532073,-1.3138793191773748],\"type\":\"box\"}],                        {\"legend\":{\"bgcolor\":\"#F5F6F9\",\"font\":{\"color\":\"#4D5663\"}},\"paper_bgcolor\":\"#F5F6F9\",\"plot_bgcolor\":\"#F5F6F9\",\"template\":{\"data\":{\"barpolar\":[{\"marker\":{\"line\":{\"color\":\"#E5ECF6\",\"width\":0.5},\"pattern\":{\"fillmode\":\"overlay\",\"size\":10,\"solidity\":0.2}},\"type\":\"barpolar\"}],\"bar\":[{\"error_x\":{\"color\":\"#2a3f5f\"},\"error_y\":{\"color\":\"#2a3f5f\"},\"marker\":{\"line\":{\"color\":\"#E5ECF6\",\"width\":0.5},\"pattern\":{\"fillmode\":\"overlay\",\"size\":10,\"solidity\":0.2}},\"type\":\"bar\"}],\"carpet\":[{\"aaxis\":{\"endlinecolor\":\"#2a3f5f\",\"gridcolor\":\"white\",\"linecolor\":\"white\",\"minorgridcolor\":\"white\",\"startlinecolor\":\"#2a3f5f\"},\"baxis\":{\"endlinecolor\":\"#2a3f5f\",\"gridcolor\":\"white\",\"linecolor\":\"white\",\"minorgridcolor\":\"white\",\"startlinecolor\":\"#2a3f5f\"},\"type\":\"carpet\"}],\"choropleth\":[{\"colorbar\":{\"outlinewidth\":0,\"ticks\":\"\"},\"type\":\"choropleth\"}],\"contourcarpet\":[{\"colorbar\":{\"outlinewidth\":0,\"ticks\":\"\"},\"type\":\"contourcarpet\"}],\"contour\":[{\"colorbar\":{\"outlinewidth\":0,\"ticks\":\"\"},\"colorscale\":[[0.0,\"#0d0887\"],[0.1111111111111111,\"#46039f\"],[0.2222222222222222,\"#7201a8\"],[0.3333333333333333,\"#9c179e\"],[0.4444444444444444,\"#bd3786\"],[0.5555555555555556,\"#d8576b\"],[0.6666666666666666,\"#ed7953\"],[0.7777777777777778,\"#fb9f3a\"],[0.8888888888888888,\"#fdca26\"],[1.0,\"#f0f921\"]],\"type\":\"contour\"}],\"heatmapgl\":[{\"colorbar\":{\"outlinewidth\":0,\"ticks\":\"\"},\"colorscale\":[[0.0,\"#0d0887\"],[0.1111111111111111,\"#46039f\"],[0.2222222222222222,\"#7201a8\"],[0.3333333333333333,\"#9c179e\"],[0.4444444444444444,\"#bd3786\"],[0.5555555555555556,\"#d8576b\"],[0.6666666666666666,\"#ed7953\"],[0.7777777777777778,\"#fb9f3a\"],[0.8888888888888888,\"#fdca26\"],[1.0,\"#f0f921\"]],\"type\":\"heatmapgl\"}],\"heatmap\":[{\"colorbar\":{\"outlinewidth\":0,\"ticks\":\"\"},\"colorscale\":[[0.0,\"#0d0887\"],[0.1111111111111111,\"#46039f\"],[0.2222222222222222,\"#7201a8\"],[0.3333333333333333,\"#9c179e\"],[0.4444444444444444,\"#bd3786\"],[0.5555555555555556,\"#d8576b\"],[0.6666666666666666,\"#ed7953\"],[0.7777777777777778,\"#fb9f3a\"],[0.8888888888888888,\"#fdca26\"],[1.0,\"#f0f921\"]],\"type\":\"heatmap\"}],\"histogram2dcontour\":[{\"colorbar\":{\"outlinewidth\":0,\"ticks\":\"\"},\"colorscale\":[[0.0,\"#0d0887\"],[0.1111111111111111,\"#46039f\"],[0.2222222222222222,\"#7201a8\"],[0.3333333333333333,\"#9c179e\"],[0.4444444444444444,\"#bd3786\"],[0.5555555555555556,\"#d8576b\"],[0.6666666666666666,\"#ed7953\"],[0.7777777777777778,\"#fb9f3a\"],[0.8888888888888888,\"#fdca26\"],[1.0,\"#f0f921\"]],\"type\":\"histogram2dcontour\"}],\"histogram2d\":[{\"colorbar\":{\"outlinewidth\":0,\"ticks\":\"\"},\"colorscale\":[[0.0,\"#0d0887\"],[0.1111111111111111,\"#46039f\"],[0.2222222222222222,\"#7201a8\"],[0.3333333333333333,\"#9c179e\"],[0.4444444444444444,\"#bd3786\"],[0.5555555555555556,\"#d8576b\"],[0.6666666666666666,\"#ed7953\"],[0.7777777777777778,\"#fb9f3a\"],[0.8888888888888888,\"#fdca26\"],[1.0,\"#f0f921\"]],\"type\":\"histogram2d\"}],\"histogram\":[{\"marker\":{\"pattern\":{\"fillmode\":\"overlay\",\"size\":10,\"solidity\":0.2}},\"type\":\"histogram\"}],\"mesh3d\":[{\"colorbar\":{\"outlinewidth\":0,\"ticks\":\"\"},\"type\":\"mesh3d\"}],\"parcoords\":[{\"line\":{\"colorbar\":{\"outlinewidth\":0,\"ticks\":\"\"}},\"type\":\"parcoords\"}],\"pie\":[{\"automargin\":true,\"type\":\"pie\"}],\"scatter3d\":[{\"line\":{\"colorbar\":{\"outlinewidth\":0,\"ticks\":\"\"}},\"marker\":{\"colorbar\":{\"outlinewidth\":0,\"ticks\":\"\"}},\"type\":\"scatter3d\"}],\"scattercarpet\":[{\"marker\":{\"colorbar\":{\"outlinewidth\":0,\"ticks\":\"\"}},\"type\":\"scattercarpet\"}],\"scattergeo\":[{\"marker\":{\"colorbar\":{\"outlinewidth\":0,\"ticks\":\"\"}},\"type\":\"scattergeo\"}],\"scattergl\":[{\"marker\":{\"colorbar\":{\"outlinewidth\":0,\"ticks\":\"\"}},\"type\":\"scattergl\"}],\"scattermapbox\":[{\"marker\":{\"colorbar\":{\"outlinewidth\":0,\"ticks\":\"\"}},\"type\":\"scattermapbox\"}],\"scatterpolargl\":[{\"marker\":{\"colorbar\":{\"outlinewidth\":0,\"ticks\":\"\"}},\"type\":\"scatterpolargl\"}],\"scatterpolar\":[{\"marker\":{\"colorbar\":{\"outlinewidth\":0,\"ticks\":\"\"}},\"type\":\"scatterpolar\"}],\"scatter\":[{\"fillpattern\":{\"fillmode\":\"overlay\",\"size\":10,\"solidity\":0.2},\"type\":\"scatter\"}],\"scatterternary\":[{\"marker\":{\"colorbar\":{\"outlinewidth\":0,\"ticks\":\"\"}},\"type\":\"scatterternary\"}],\"surface\":[{\"colorbar\":{\"outlinewidth\":0,\"ticks\":\"\"},\"colorscale\":[[0.0,\"#0d0887\"],[0.1111111111111111,\"#46039f\"],[0.2222222222222222,\"#7201a8\"],[0.3333333333333333,\"#9c179e\"],[0.4444444444444444,\"#bd3786\"],[0.5555555555555556,\"#d8576b\"],[0.6666666666666666,\"#ed7953\"],[0.7777777777777778,\"#fb9f3a\"],[0.8888888888888888,\"#fdca26\"],[1.0,\"#f0f921\"]],\"type\":\"surface\"}],\"table\":[{\"cells\":{\"fill\":{\"color\":\"#EBF0F8\"},\"line\":{\"color\":\"white\"}},\"header\":{\"fill\":{\"color\":\"#C8D4E3\"},\"line\":{\"color\":\"white\"}},\"type\":\"table\"}]},\"layout\":{\"annotationdefaults\":{\"arrowcolor\":\"#2a3f5f\",\"arrowhead\":0,\"arrowwidth\":1},\"autotypenumbers\":\"strict\",\"coloraxis\":{\"colorbar\":{\"outlinewidth\":0,\"ticks\":\"\"}},\"colorscale\":{\"diverging\":[[0,\"#8e0152\"],[0.1,\"#c51b7d\"],[0.2,\"#de77ae\"],[0.3,\"#f1b6da\"],[0.4,\"#fde0ef\"],[0.5,\"#f7f7f7\"],[0.6,\"#e6f5d0\"],[0.7,\"#b8e186\"],[0.8,\"#7fbc41\"],[0.9,\"#4d9221\"],[1,\"#276419\"]],\"sequential\":[[0.0,\"#0d0887\"],[0.1111111111111111,\"#46039f\"],[0.2222222222222222,\"#7201a8\"],[0.3333333333333333,\"#9c179e\"],[0.4444444444444444,\"#bd3786\"],[0.5555555555555556,\"#d8576b\"],[0.6666666666666666,\"#ed7953\"],[0.7777777777777778,\"#fb9f3a\"],[0.8888888888888888,\"#fdca26\"],[1.0,\"#f0f921\"]],\"sequentialminus\":[[0.0,\"#0d0887\"],[0.1111111111111111,\"#46039f\"],[0.2222222222222222,\"#7201a8\"],[0.3333333333333333,\"#9c179e\"],[0.4444444444444444,\"#bd3786\"],[0.5555555555555556,\"#d8576b\"],[0.6666666666666666,\"#ed7953\"],[0.7777777777777778,\"#fb9f3a\"],[0.8888888888888888,\"#fdca26\"],[1.0,\"#f0f921\"]]},\"colorway\":[\"#636efa\",\"#EF553B\",\"#00cc96\",\"#ab63fa\",\"#FFA15A\",\"#19d3f3\",\"#FF6692\",\"#B6E880\",\"#FF97FF\",\"#FECB52\"],\"font\":{\"color\":\"#2a3f5f\"},\"geo\":{\"bgcolor\":\"white\",\"lakecolor\":\"white\",\"landcolor\":\"#E5ECF6\",\"showlakes\":true,\"showland\":true,\"subunitcolor\":\"white\"},\"hoverlabel\":{\"align\":\"left\"},\"hovermode\":\"closest\",\"mapbox\":{\"style\":\"light\"},\"paper_bgcolor\":\"white\",\"plot_bgcolor\":\"#E5ECF6\",\"polar\":{\"angularaxis\":{\"gridcolor\":\"white\",\"linecolor\":\"white\",\"ticks\":\"\"},\"bgcolor\":\"#E5ECF6\",\"radialaxis\":{\"gridcolor\":\"white\",\"linecolor\":\"white\",\"ticks\":\"\"}},\"scene\":{\"xaxis\":{\"backgroundcolor\":\"#E5ECF6\",\"gridcolor\":\"white\",\"gridwidth\":2,\"linecolor\":\"white\",\"showbackground\":true,\"ticks\":\"\",\"zerolinecolor\":\"white\"},\"yaxis\":{\"backgroundcolor\":\"#E5ECF6\",\"gridcolor\":\"white\",\"gridwidth\":2,\"linecolor\":\"white\",\"showbackground\":true,\"ticks\":\"\",\"zerolinecolor\":\"white\"},\"zaxis\":{\"backgroundcolor\":\"#E5ECF6\",\"gridcolor\":\"white\",\"gridwidth\":2,\"linecolor\":\"white\",\"showbackground\":true,\"ticks\":\"\",\"zerolinecolor\":\"white\"}},\"shapedefaults\":{\"line\":{\"color\":\"#2a3f5f\"}},\"ternary\":{\"aaxis\":{\"gridcolor\":\"white\",\"linecolor\":\"white\",\"ticks\":\"\"},\"baxis\":{\"gridcolor\":\"white\",\"linecolor\":\"white\",\"ticks\":\"\"},\"bgcolor\":\"#E5ECF6\",\"caxis\":{\"gridcolor\":\"white\",\"linecolor\":\"white\",\"ticks\":\"\"}},\"title\":{\"x\":0.05},\"xaxis\":{\"automargin\":true,\"gridcolor\":\"white\",\"linecolor\":\"white\",\"ticks\":\"\",\"title\":{\"standoff\":15},\"zerolinecolor\":\"white\",\"zerolinewidth\":2},\"yaxis\":{\"automargin\":true,\"gridcolor\":\"white\",\"linecolor\":\"white\",\"ticks\":\"\",\"title\":{\"standoff\":15},\"zerolinecolor\":\"white\",\"zerolinewidth\":2}}},\"title\":{\"font\":{\"color\":\"#4D5663\"}},\"xaxis\":{\"gridcolor\":\"#E1E5ED\",\"showgrid\":true,\"tickfont\":{\"color\":\"#4D5663\"},\"title\":{\"font\":{\"color\":\"#4D5663\"},\"text\":\"\"},\"zerolinecolor\":\"#E1E5ED\"},\"yaxis\":{\"gridcolor\":\"#E1E5ED\",\"showgrid\":true,\"tickfont\":{\"color\":\"#4D5663\"},\"title\":{\"font\":{\"color\":\"#4D5663\"},\"text\":\"\"},\"zerolinecolor\":\"#E1E5ED\"}},                        {\"showLink\": true, \"linkText\": \"Export to plot.ly\", \"plotlyServerURL\": \"https://plot.ly\", \"responsive\": true}                    ).then(function(){\n",
       "                            \n",
       "var gd = document.getElementById('4eed92cd-c5df-409f-b01b-90d087c6cef6');\n",
       "var x = new MutationObserver(function (mutations, observer) {{\n",
       "        var display = window.getComputedStyle(gd).display;\n",
       "        if (!display || display === 'none') {{\n",
       "            console.log([gd, 'removed!']);\n",
       "            Plotly.purge(gd);\n",
       "            observer.disconnect();\n",
       "        }}\n",
       "}});\n",
       "\n",
       "// Listen for the removal of the full notebook cells\n",
       "var notebookContainer = gd.closest('#notebook-container');\n",
       "if (notebookContainer) {{\n",
       "    x.observe(notebookContainer, {childList: true});\n",
       "}}\n",
       "\n",
       "// Listen for the clearing of the current output cell\n",
       "var outputEl = gd.closest('.output');\n",
       "if (outputEl) {{\n",
       "    x.observe(outputEl, {childList: true});\n",
       "}}\n",
       "\n",
       "                        })                };                });            </script>        </div>"
      ]
     },
     "metadata": {},
     "output_type": "display_data"
    }
   ],
   "source": [
    "df.iplot(kind='box')"
   ]
  },
  {
   "cell_type": "code",
   "execution_count": 41,
   "id": "3d0fe2ab",
   "metadata": {},
   "outputs": [],
   "source": [
    "df3=pd.DataFrame({'x':[1,2,3,2,1],'y':[10,20,30,20,10],'z':[100,200,300,200,100]})"
   ]
  },
  {
   "cell_type": "code",
   "execution_count": 42,
   "id": "1d142c18",
   "metadata": {},
   "outputs": [
    {
     "data": {
      "text/html": [
       "<div>\n",
       "<style scoped>\n",
       "    .dataframe tbody tr th:only-of-type {\n",
       "        vertical-align: middle;\n",
       "    }\n",
       "\n",
       "    .dataframe tbody tr th {\n",
       "        vertical-align: top;\n",
       "    }\n",
       "\n",
       "    .dataframe thead th {\n",
       "        text-align: right;\n",
       "    }\n",
       "</style>\n",
       "<table border=\"1\" class=\"dataframe\">\n",
       "  <thead>\n",
       "    <tr style=\"text-align: right;\">\n",
       "      <th></th>\n",
       "      <th>x</th>\n",
       "      <th>y</th>\n",
       "      <th>z</th>\n",
       "    </tr>\n",
       "  </thead>\n",
       "  <tbody>\n",
       "    <tr>\n",
       "      <th>0</th>\n",
       "      <td>1</td>\n",
       "      <td>10</td>\n",
       "      <td>100</td>\n",
       "    </tr>\n",
       "    <tr>\n",
       "      <th>1</th>\n",
       "      <td>2</td>\n",
       "      <td>20</td>\n",
       "      <td>200</td>\n",
       "    </tr>\n",
       "    <tr>\n",
       "      <th>2</th>\n",
       "      <td>3</td>\n",
       "      <td>30</td>\n",
       "      <td>300</td>\n",
       "    </tr>\n",
       "    <tr>\n",
       "      <th>3</th>\n",
       "      <td>2</td>\n",
       "      <td>20</td>\n",
       "      <td>200</td>\n",
       "    </tr>\n",
       "    <tr>\n",
       "      <th>4</th>\n",
       "      <td>1</td>\n",
       "      <td>10</td>\n",
       "      <td>100</td>\n",
       "    </tr>\n",
       "  </tbody>\n",
       "</table>\n",
       "</div>"
      ],
      "text/plain": [
       "   x   y    z\n",
       "0  1  10  100\n",
       "1  2  20  200\n",
       "2  3  30  300\n",
       "3  2  20  200\n",
       "4  1  10  100"
      ]
     },
     "execution_count": 42,
     "metadata": {},
     "output_type": "execute_result"
    }
   ],
   "source": [
    "df3"
   ]
  },
  {
   "cell_type": "code",
   "execution_count": 43,
   "id": "dd41be04",
   "metadata": {},
   "outputs": [
    {
     "data": {
      "application/vnd.plotly.v1+json": {
       "config": {
        "linkText": "Export to plot.ly",
        "plotlyServerURL": "https://plot.ly",
        "showLink": true
       },
       "data": [
        {
         "colorscale": [
          [
           0,
           "rgb(165,0,38)"
          ],
          [
           0.1,
           "rgb(215,48,39)"
          ],
          [
           0.2,
           "rgb(244,109,67)"
          ],
          [
           0.3,
           "rgb(253,174,97)"
          ],
          [
           0.4,
           "rgb(254,224,144)"
          ],
          [
           0.5,
           "rgb(255,255,191)"
          ],
          [
           0.6,
           "rgb(224,243,248)"
          ],
          [
           0.7,
           "rgb(171,217,233)"
          ],
          [
           0.8,
           "rgb(116,173,209)"
          ],
          [
           0.9,
           "rgb(69,117,180)"
          ],
          [
           1,
           "rgb(49,54,149)"
          ]
         ],
         "type": "surface",
         "x": [
          0,
          1,
          2,
          3,
          4
         ],
         "y": [
          "x",
          "y",
          "z"
         ],
         "z": [
          [
           1,
           2,
           3,
           2,
           1
          ],
          [
           10,
           20,
           30,
           20,
           10
          ],
          [
           100,
           200,
           300,
           200,
           100
          ]
         ]
        }
       ],
       "layout": {
        "legend": {
         "bgcolor": "#F5F6F9",
         "font": {
          "color": "#4D5663"
         }
        },
        "paper_bgcolor": "#F5F6F9",
        "plot_bgcolor": "#F5F6F9",
        "template": {
         "data": {
          "bar": [
           {
            "error_x": {
             "color": "#2a3f5f"
            },
            "error_y": {
             "color": "#2a3f5f"
            },
            "marker": {
             "line": {
              "color": "#E5ECF6",
              "width": 0.5
             },
             "pattern": {
              "fillmode": "overlay",
              "size": 10,
              "solidity": 0.2
             }
            },
            "type": "bar"
           }
          ],
          "barpolar": [
           {
            "marker": {
             "line": {
              "color": "#E5ECF6",
              "width": 0.5
             },
             "pattern": {
              "fillmode": "overlay",
              "size": 10,
              "solidity": 0.2
             }
            },
            "type": "barpolar"
           }
          ],
          "carpet": [
           {
            "aaxis": {
             "endlinecolor": "#2a3f5f",
             "gridcolor": "white",
             "linecolor": "white",
             "minorgridcolor": "white",
             "startlinecolor": "#2a3f5f"
            },
            "baxis": {
             "endlinecolor": "#2a3f5f",
             "gridcolor": "white",
             "linecolor": "white",
             "minorgridcolor": "white",
             "startlinecolor": "#2a3f5f"
            },
            "type": "carpet"
           }
          ],
          "choropleth": [
           {
            "colorbar": {
             "outlinewidth": 0,
             "ticks": ""
            },
            "type": "choropleth"
           }
          ],
          "contour": [
           {
            "colorbar": {
             "outlinewidth": 0,
             "ticks": ""
            },
            "colorscale": [
             [
              0,
              "#0d0887"
             ],
             [
              0.1111111111111111,
              "#46039f"
             ],
             [
              0.2222222222222222,
              "#7201a8"
             ],
             [
              0.3333333333333333,
              "#9c179e"
             ],
             [
              0.4444444444444444,
              "#bd3786"
             ],
             [
              0.5555555555555556,
              "#d8576b"
             ],
             [
              0.6666666666666666,
              "#ed7953"
             ],
             [
              0.7777777777777778,
              "#fb9f3a"
             ],
             [
              0.8888888888888888,
              "#fdca26"
             ],
             [
              1,
              "#f0f921"
             ]
            ],
            "type": "contour"
           }
          ],
          "contourcarpet": [
           {
            "colorbar": {
             "outlinewidth": 0,
             "ticks": ""
            },
            "type": "contourcarpet"
           }
          ],
          "heatmap": [
           {
            "colorbar": {
             "outlinewidth": 0,
             "ticks": ""
            },
            "colorscale": [
             [
              0,
              "#0d0887"
             ],
             [
              0.1111111111111111,
              "#46039f"
             ],
             [
              0.2222222222222222,
              "#7201a8"
             ],
             [
              0.3333333333333333,
              "#9c179e"
             ],
             [
              0.4444444444444444,
              "#bd3786"
             ],
             [
              0.5555555555555556,
              "#d8576b"
             ],
             [
              0.6666666666666666,
              "#ed7953"
             ],
             [
              0.7777777777777778,
              "#fb9f3a"
             ],
             [
              0.8888888888888888,
              "#fdca26"
             ],
             [
              1,
              "#f0f921"
             ]
            ],
            "type": "heatmap"
           }
          ],
          "heatmapgl": [
           {
            "colorbar": {
             "outlinewidth": 0,
             "ticks": ""
            },
            "colorscale": [
             [
              0,
              "#0d0887"
             ],
             [
              0.1111111111111111,
              "#46039f"
             ],
             [
              0.2222222222222222,
              "#7201a8"
             ],
             [
              0.3333333333333333,
              "#9c179e"
             ],
             [
              0.4444444444444444,
              "#bd3786"
             ],
             [
              0.5555555555555556,
              "#d8576b"
             ],
             [
              0.6666666666666666,
              "#ed7953"
             ],
             [
              0.7777777777777778,
              "#fb9f3a"
             ],
             [
              0.8888888888888888,
              "#fdca26"
             ],
             [
              1,
              "#f0f921"
             ]
            ],
            "type": "heatmapgl"
           }
          ],
          "histogram": [
           {
            "marker": {
             "pattern": {
              "fillmode": "overlay",
              "size": 10,
              "solidity": 0.2
             }
            },
            "type": "histogram"
           }
          ],
          "histogram2d": [
           {
            "colorbar": {
             "outlinewidth": 0,
             "ticks": ""
            },
            "colorscale": [
             [
              0,
              "#0d0887"
             ],
             [
              0.1111111111111111,
              "#46039f"
             ],
             [
              0.2222222222222222,
              "#7201a8"
             ],
             [
              0.3333333333333333,
              "#9c179e"
             ],
             [
              0.4444444444444444,
              "#bd3786"
             ],
             [
              0.5555555555555556,
              "#d8576b"
             ],
             [
              0.6666666666666666,
              "#ed7953"
             ],
             [
              0.7777777777777778,
              "#fb9f3a"
             ],
             [
              0.8888888888888888,
              "#fdca26"
             ],
             [
              1,
              "#f0f921"
             ]
            ],
            "type": "histogram2d"
           }
          ],
          "histogram2dcontour": [
           {
            "colorbar": {
             "outlinewidth": 0,
             "ticks": ""
            },
            "colorscale": [
             [
              0,
              "#0d0887"
             ],
             [
              0.1111111111111111,
              "#46039f"
             ],
             [
              0.2222222222222222,
              "#7201a8"
             ],
             [
              0.3333333333333333,
              "#9c179e"
             ],
             [
              0.4444444444444444,
              "#bd3786"
             ],
             [
              0.5555555555555556,
              "#d8576b"
             ],
             [
              0.6666666666666666,
              "#ed7953"
             ],
             [
              0.7777777777777778,
              "#fb9f3a"
             ],
             [
              0.8888888888888888,
              "#fdca26"
             ],
             [
              1,
              "#f0f921"
             ]
            ],
            "type": "histogram2dcontour"
           }
          ],
          "mesh3d": [
           {
            "colorbar": {
             "outlinewidth": 0,
             "ticks": ""
            },
            "type": "mesh3d"
           }
          ],
          "parcoords": [
           {
            "line": {
             "colorbar": {
              "outlinewidth": 0,
              "ticks": ""
             }
            },
            "type": "parcoords"
           }
          ],
          "pie": [
           {
            "automargin": true,
            "type": "pie"
           }
          ],
          "scatter": [
           {
            "fillpattern": {
             "fillmode": "overlay",
             "size": 10,
             "solidity": 0.2
            },
            "type": "scatter"
           }
          ],
          "scatter3d": [
           {
            "line": {
             "colorbar": {
              "outlinewidth": 0,
              "ticks": ""
             }
            },
            "marker": {
             "colorbar": {
              "outlinewidth": 0,
              "ticks": ""
             }
            },
            "type": "scatter3d"
           }
          ],
          "scattercarpet": [
           {
            "marker": {
             "colorbar": {
              "outlinewidth": 0,
              "ticks": ""
             }
            },
            "type": "scattercarpet"
           }
          ],
          "scattergeo": [
           {
            "marker": {
             "colorbar": {
              "outlinewidth": 0,
              "ticks": ""
             }
            },
            "type": "scattergeo"
           }
          ],
          "scattergl": [
           {
            "marker": {
             "colorbar": {
              "outlinewidth": 0,
              "ticks": ""
             }
            },
            "type": "scattergl"
           }
          ],
          "scattermapbox": [
           {
            "marker": {
             "colorbar": {
              "outlinewidth": 0,
              "ticks": ""
             }
            },
            "type": "scattermapbox"
           }
          ],
          "scatterpolar": [
           {
            "marker": {
             "colorbar": {
              "outlinewidth": 0,
              "ticks": ""
             }
            },
            "type": "scatterpolar"
           }
          ],
          "scatterpolargl": [
           {
            "marker": {
             "colorbar": {
              "outlinewidth": 0,
              "ticks": ""
             }
            },
            "type": "scatterpolargl"
           }
          ],
          "scatterternary": [
           {
            "marker": {
             "colorbar": {
              "outlinewidth": 0,
              "ticks": ""
             }
            },
            "type": "scatterternary"
           }
          ],
          "surface": [
           {
            "colorbar": {
             "outlinewidth": 0,
             "ticks": ""
            },
            "colorscale": [
             [
              0,
              "#0d0887"
             ],
             [
              0.1111111111111111,
              "#46039f"
             ],
             [
              0.2222222222222222,
              "#7201a8"
             ],
             [
              0.3333333333333333,
              "#9c179e"
             ],
             [
              0.4444444444444444,
              "#bd3786"
             ],
             [
              0.5555555555555556,
              "#d8576b"
             ],
             [
              0.6666666666666666,
              "#ed7953"
             ],
             [
              0.7777777777777778,
              "#fb9f3a"
             ],
             [
              0.8888888888888888,
              "#fdca26"
             ],
             [
              1,
              "#f0f921"
             ]
            ],
            "type": "surface"
           }
          ],
          "table": [
           {
            "cells": {
             "fill": {
              "color": "#EBF0F8"
             },
             "line": {
              "color": "white"
             }
            },
            "header": {
             "fill": {
              "color": "#C8D4E3"
             },
             "line": {
              "color": "white"
             }
            },
            "type": "table"
           }
          ]
         },
         "layout": {
          "annotationdefaults": {
           "arrowcolor": "#2a3f5f",
           "arrowhead": 0,
           "arrowwidth": 1
          },
          "autotypenumbers": "strict",
          "coloraxis": {
           "colorbar": {
            "outlinewidth": 0,
            "ticks": ""
           }
          },
          "colorscale": {
           "diverging": [
            [
             0,
             "#8e0152"
            ],
            [
             0.1,
             "#c51b7d"
            ],
            [
             0.2,
             "#de77ae"
            ],
            [
             0.3,
             "#f1b6da"
            ],
            [
             0.4,
             "#fde0ef"
            ],
            [
             0.5,
             "#f7f7f7"
            ],
            [
             0.6,
             "#e6f5d0"
            ],
            [
             0.7,
             "#b8e186"
            ],
            [
             0.8,
             "#7fbc41"
            ],
            [
             0.9,
             "#4d9221"
            ],
            [
             1,
             "#276419"
            ]
           ],
           "sequential": [
            [
             0,
             "#0d0887"
            ],
            [
             0.1111111111111111,
             "#46039f"
            ],
            [
             0.2222222222222222,
             "#7201a8"
            ],
            [
             0.3333333333333333,
             "#9c179e"
            ],
            [
             0.4444444444444444,
             "#bd3786"
            ],
            [
             0.5555555555555556,
             "#d8576b"
            ],
            [
             0.6666666666666666,
             "#ed7953"
            ],
            [
             0.7777777777777778,
             "#fb9f3a"
            ],
            [
             0.8888888888888888,
             "#fdca26"
            ],
            [
             1,
             "#f0f921"
            ]
           ],
           "sequentialminus": [
            [
             0,
             "#0d0887"
            ],
            [
             0.1111111111111111,
             "#46039f"
            ],
            [
             0.2222222222222222,
             "#7201a8"
            ],
            [
             0.3333333333333333,
             "#9c179e"
            ],
            [
             0.4444444444444444,
             "#bd3786"
            ],
            [
             0.5555555555555556,
             "#d8576b"
            ],
            [
             0.6666666666666666,
             "#ed7953"
            ],
            [
             0.7777777777777778,
             "#fb9f3a"
            ],
            [
             0.8888888888888888,
             "#fdca26"
            ],
            [
             1,
             "#f0f921"
            ]
           ]
          },
          "colorway": [
           "#636efa",
           "#EF553B",
           "#00cc96",
           "#ab63fa",
           "#FFA15A",
           "#19d3f3",
           "#FF6692",
           "#B6E880",
           "#FF97FF",
           "#FECB52"
          ],
          "font": {
           "color": "#2a3f5f"
          },
          "geo": {
           "bgcolor": "white",
           "lakecolor": "white",
           "landcolor": "#E5ECF6",
           "showlakes": true,
           "showland": true,
           "subunitcolor": "white"
          },
          "hoverlabel": {
           "align": "left"
          },
          "hovermode": "closest",
          "mapbox": {
           "style": "light"
          },
          "paper_bgcolor": "white",
          "plot_bgcolor": "#E5ECF6",
          "polar": {
           "angularaxis": {
            "gridcolor": "white",
            "linecolor": "white",
            "ticks": ""
           },
           "bgcolor": "#E5ECF6",
           "radialaxis": {
            "gridcolor": "white",
            "linecolor": "white",
            "ticks": ""
           }
          },
          "scene": {
           "xaxis": {
            "backgroundcolor": "#E5ECF6",
            "gridcolor": "white",
            "gridwidth": 2,
            "linecolor": "white",
            "showbackground": true,
            "ticks": "",
            "zerolinecolor": "white"
           },
           "yaxis": {
            "backgroundcolor": "#E5ECF6",
            "gridcolor": "white",
            "gridwidth": 2,
            "linecolor": "white",
            "showbackground": true,
            "ticks": "",
            "zerolinecolor": "white"
           },
           "zaxis": {
            "backgroundcolor": "#E5ECF6",
            "gridcolor": "white",
            "gridwidth": 2,
            "linecolor": "white",
            "showbackground": true,
            "ticks": "",
            "zerolinecolor": "white"
           }
          },
          "shapedefaults": {
           "line": {
            "color": "#2a3f5f"
           }
          },
          "ternary": {
           "aaxis": {
            "gridcolor": "white",
            "linecolor": "white",
            "ticks": ""
           },
           "baxis": {
            "gridcolor": "white",
            "linecolor": "white",
            "ticks": ""
           },
           "bgcolor": "#E5ECF6",
           "caxis": {
            "gridcolor": "white",
            "linecolor": "white",
            "ticks": ""
           }
          },
          "title": {
           "x": 0.05
          },
          "xaxis": {
           "automargin": true,
           "gridcolor": "white",
           "linecolor": "white",
           "ticks": "",
           "title": {
            "standoff": 15
           },
           "zerolinecolor": "white",
           "zerolinewidth": 2
          },
          "yaxis": {
           "automargin": true,
           "gridcolor": "white",
           "linecolor": "white",
           "ticks": "",
           "title": {
            "standoff": 15
           },
           "zerolinecolor": "white",
           "zerolinewidth": 2
          }
         }
        },
        "title": {
         "font": {
          "color": "#4D5663"
         }
        },
        "xaxis": {
         "gridcolor": "#E1E5ED",
         "showgrid": true,
         "tickfont": {
          "color": "#4D5663"
         },
         "title": {
          "font": {
           "color": "#4D5663"
          },
          "text": ""
         },
         "zerolinecolor": "#E1E5ED"
        },
        "yaxis": {
         "gridcolor": "#E1E5ED",
         "showgrid": true,
         "tickfont": {
          "color": "#4D5663"
         },
         "title": {
          "font": {
           "color": "#4D5663"
          },
          "text": ""
         },
         "zerolinecolor": "#E1E5ED"
        }
       }
      },
      "text/html": [
       "<div>                            <div id=\"63eac22d-820d-4686-a577-e1b2df1c5e9a\" class=\"plotly-graph-div\" style=\"height:525px; width:100%;\"></div>            <script type=\"text/javascript\">                require([\"plotly\"], function(Plotly) {                    window.PLOTLYENV=window.PLOTLYENV || {};\n",
       "                    window.PLOTLYENV.BASE_URL='https://plot.ly';                                    if (document.getElementById(\"63eac22d-820d-4686-a577-e1b2df1c5e9a\")) {                    Plotly.newPlot(                        \"63eac22d-820d-4686-a577-e1b2df1c5e9a\",                        [{\"colorscale\":[[0.0,\"rgb(165,0,38)\"],[0.1,\"rgb(215,48,39)\"],[0.2,\"rgb(244,109,67)\"],[0.3,\"rgb(253,174,97)\"],[0.4,\"rgb(254,224,144)\"],[0.5,\"rgb(255,255,191)\"],[0.6,\"rgb(224,243,248)\"],[0.7,\"rgb(171,217,233)\"],[0.8,\"rgb(116,173,209)\"],[0.9,\"rgb(69,117,180)\"],[1.0,\"rgb(49,54,149)\"]],\"x\":[0,1,2,3,4],\"y\":[\"x\",\"y\",\"z\"],\"z\":[[1,2,3,2,1],[10,20,30,20,10],[100,200,300,200,100]],\"type\":\"surface\"}],                        {\"legend\":{\"bgcolor\":\"#F5F6F9\",\"font\":{\"color\":\"#4D5663\"}},\"paper_bgcolor\":\"#F5F6F9\",\"plot_bgcolor\":\"#F5F6F9\",\"template\":{\"data\":{\"barpolar\":[{\"marker\":{\"line\":{\"color\":\"#E5ECF6\",\"width\":0.5},\"pattern\":{\"fillmode\":\"overlay\",\"size\":10,\"solidity\":0.2}},\"type\":\"barpolar\"}],\"bar\":[{\"error_x\":{\"color\":\"#2a3f5f\"},\"error_y\":{\"color\":\"#2a3f5f\"},\"marker\":{\"line\":{\"color\":\"#E5ECF6\",\"width\":0.5},\"pattern\":{\"fillmode\":\"overlay\",\"size\":10,\"solidity\":0.2}},\"type\":\"bar\"}],\"carpet\":[{\"aaxis\":{\"endlinecolor\":\"#2a3f5f\",\"gridcolor\":\"white\",\"linecolor\":\"white\",\"minorgridcolor\":\"white\",\"startlinecolor\":\"#2a3f5f\"},\"baxis\":{\"endlinecolor\":\"#2a3f5f\",\"gridcolor\":\"white\",\"linecolor\":\"white\",\"minorgridcolor\":\"white\",\"startlinecolor\":\"#2a3f5f\"},\"type\":\"carpet\"}],\"choropleth\":[{\"colorbar\":{\"outlinewidth\":0,\"ticks\":\"\"},\"type\":\"choropleth\"}],\"contourcarpet\":[{\"colorbar\":{\"outlinewidth\":0,\"ticks\":\"\"},\"type\":\"contourcarpet\"}],\"contour\":[{\"colorbar\":{\"outlinewidth\":0,\"ticks\":\"\"},\"colorscale\":[[0.0,\"#0d0887\"],[0.1111111111111111,\"#46039f\"],[0.2222222222222222,\"#7201a8\"],[0.3333333333333333,\"#9c179e\"],[0.4444444444444444,\"#bd3786\"],[0.5555555555555556,\"#d8576b\"],[0.6666666666666666,\"#ed7953\"],[0.7777777777777778,\"#fb9f3a\"],[0.8888888888888888,\"#fdca26\"],[1.0,\"#f0f921\"]],\"type\":\"contour\"}],\"heatmapgl\":[{\"colorbar\":{\"outlinewidth\":0,\"ticks\":\"\"},\"colorscale\":[[0.0,\"#0d0887\"],[0.1111111111111111,\"#46039f\"],[0.2222222222222222,\"#7201a8\"],[0.3333333333333333,\"#9c179e\"],[0.4444444444444444,\"#bd3786\"],[0.5555555555555556,\"#d8576b\"],[0.6666666666666666,\"#ed7953\"],[0.7777777777777778,\"#fb9f3a\"],[0.8888888888888888,\"#fdca26\"],[1.0,\"#f0f921\"]],\"type\":\"heatmapgl\"}],\"heatmap\":[{\"colorbar\":{\"outlinewidth\":0,\"ticks\":\"\"},\"colorscale\":[[0.0,\"#0d0887\"],[0.1111111111111111,\"#46039f\"],[0.2222222222222222,\"#7201a8\"],[0.3333333333333333,\"#9c179e\"],[0.4444444444444444,\"#bd3786\"],[0.5555555555555556,\"#d8576b\"],[0.6666666666666666,\"#ed7953\"],[0.7777777777777778,\"#fb9f3a\"],[0.8888888888888888,\"#fdca26\"],[1.0,\"#f0f921\"]],\"type\":\"heatmap\"}],\"histogram2dcontour\":[{\"colorbar\":{\"outlinewidth\":0,\"ticks\":\"\"},\"colorscale\":[[0.0,\"#0d0887\"],[0.1111111111111111,\"#46039f\"],[0.2222222222222222,\"#7201a8\"],[0.3333333333333333,\"#9c179e\"],[0.4444444444444444,\"#bd3786\"],[0.5555555555555556,\"#d8576b\"],[0.6666666666666666,\"#ed7953\"],[0.7777777777777778,\"#fb9f3a\"],[0.8888888888888888,\"#fdca26\"],[1.0,\"#f0f921\"]],\"type\":\"histogram2dcontour\"}],\"histogram2d\":[{\"colorbar\":{\"outlinewidth\":0,\"ticks\":\"\"},\"colorscale\":[[0.0,\"#0d0887\"],[0.1111111111111111,\"#46039f\"],[0.2222222222222222,\"#7201a8\"],[0.3333333333333333,\"#9c179e\"],[0.4444444444444444,\"#bd3786\"],[0.5555555555555556,\"#d8576b\"],[0.6666666666666666,\"#ed7953\"],[0.7777777777777778,\"#fb9f3a\"],[0.8888888888888888,\"#fdca26\"],[1.0,\"#f0f921\"]],\"type\":\"histogram2d\"}],\"histogram\":[{\"marker\":{\"pattern\":{\"fillmode\":\"overlay\",\"size\":10,\"solidity\":0.2}},\"type\":\"histogram\"}],\"mesh3d\":[{\"colorbar\":{\"outlinewidth\":0,\"ticks\":\"\"},\"type\":\"mesh3d\"}],\"parcoords\":[{\"line\":{\"colorbar\":{\"outlinewidth\":0,\"ticks\":\"\"}},\"type\":\"parcoords\"}],\"pie\":[{\"automargin\":true,\"type\":\"pie\"}],\"scatter3d\":[{\"line\":{\"colorbar\":{\"outlinewidth\":0,\"ticks\":\"\"}},\"marker\":{\"colorbar\":{\"outlinewidth\":0,\"ticks\":\"\"}},\"type\":\"scatter3d\"}],\"scattercarpet\":[{\"marker\":{\"colorbar\":{\"outlinewidth\":0,\"ticks\":\"\"}},\"type\":\"scattercarpet\"}],\"scattergeo\":[{\"marker\":{\"colorbar\":{\"outlinewidth\":0,\"ticks\":\"\"}},\"type\":\"scattergeo\"}],\"scattergl\":[{\"marker\":{\"colorbar\":{\"outlinewidth\":0,\"ticks\":\"\"}},\"type\":\"scattergl\"}],\"scattermapbox\":[{\"marker\":{\"colorbar\":{\"outlinewidth\":0,\"ticks\":\"\"}},\"type\":\"scattermapbox\"}],\"scatterpolargl\":[{\"marker\":{\"colorbar\":{\"outlinewidth\":0,\"ticks\":\"\"}},\"type\":\"scatterpolargl\"}],\"scatterpolar\":[{\"marker\":{\"colorbar\":{\"outlinewidth\":0,\"ticks\":\"\"}},\"type\":\"scatterpolar\"}],\"scatter\":[{\"fillpattern\":{\"fillmode\":\"overlay\",\"size\":10,\"solidity\":0.2},\"type\":\"scatter\"}],\"scatterternary\":[{\"marker\":{\"colorbar\":{\"outlinewidth\":0,\"ticks\":\"\"}},\"type\":\"scatterternary\"}],\"surface\":[{\"colorbar\":{\"outlinewidth\":0,\"ticks\":\"\"},\"colorscale\":[[0.0,\"#0d0887\"],[0.1111111111111111,\"#46039f\"],[0.2222222222222222,\"#7201a8\"],[0.3333333333333333,\"#9c179e\"],[0.4444444444444444,\"#bd3786\"],[0.5555555555555556,\"#d8576b\"],[0.6666666666666666,\"#ed7953\"],[0.7777777777777778,\"#fb9f3a\"],[0.8888888888888888,\"#fdca26\"],[1.0,\"#f0f921\"]],\"type\":\"surface\"}],\"table\":[{\"cells\":{\"fill\":{\"color\":\"#EBF0F8\"},\"line\":{\"color\":\"white\"}},\"header\":{\"fill\":{\"color\":\"#C8D4E3\"},\"line\":{\"color\":\"white\"}},\"type\":\"table\"}]},\"layout\":{\"annotationdefaults\":{\"arrowcolor\":\"#2a3f5f\",\"arrowhead\":0,\"arrowwidth\":1},\"autotypenumbers\":\"strict\",\"coloraxis\":{\"colorbar\":{\"outlinewidth\":0,\"ticks\":\"\"}},\"colorscale\":{\"diverging\":[[0,\"#8e0152\"],[0.1,\"#c51b7d\"],[0.2,\"#de77ae\"],[0.3,\"#f1b6da\"],[0.4,\"#fde0ef\"],[0.5,\"#f7f7f7\"],[0.6,\"#e6f5d0\"],[0.7,\"#b8e186\"],[0.8,\"#7fbc41\"],[0.9,\"#4d9221\"],[1,\"#276419\"]],\"sequential\":[[0.0,\"#0d0887\"],[0.1111111111111111,\"#46039f\"],[0.2222222222222222,\"#7201a8\"],[0.3333333333333333,\"#9c179e\"],[0.4444444444444444,\"#bd3786\"],[0.5555555555555556,\"#d8576b\"],[0.6666666666666666,\"#ed7953\"],[0.7777777777777778,\"#fb9f3a\"],[0.8888888888888888,\"#fdca26\"],[1.0,\"#f0f921\"]],\"sequentialminus\":[[0.0,\"#0d0887\"],[0.1111111111111111,\"#46039f\"],[0.2222222222222222,\"#7201a8\"],[0.3333333333333333,\"#9c179e\"],[0.4444444444444444,\"#bd3786\"],[0.5555555555555556,\"#d8576b\"],[0.6666666666666666,\"#ed7953\"],[0.7777777777777778,\"#fb9f3a\"],[0.8888888888888888,\"#fdca26\"],[1.0,\"#f0f921\"]]},\"colorway\":[\"#636efa\",\"#EF553B\",\"#00cc96\",\"#ab63fa\",\"#FFA15A\",\"#19d3f3\",\"#FF6692\",\"#B6E880\",\"#FF97FF\",\"#FECB52\"],\"font\":{\"color\":\"#2a3f5f\"},\"geo\":{\"bgcolor\":\"white\",\"lakecolor\":\"white\",\"landcolor\":\"#E5ECF6\",\"showlakes\":true,\"showland\":true,\"subunitcolor\":\"white\"},\"hoverlabel\":{\"align\":\"left\"},\"hovermode\":\"closest\",\"mapbox\":{\"style\":\"light\"},\"paper_bgcolor\":\"white\",\"plot_bgcolor\":\"#E5ECF6\",\"polar\":{\"angularaxis\":{\"gridcolor\":\"white\",\"linecolor\":\"white\",\"ticks\":\"\"},\"bgcolor\":\"#E5ECF6\",\"radialaxis\":{\"gridcolor\":\"white\",\"linecolor\":\"white\",\"ticks\":\"\"}},\"scene\":{\"xaxis\":{\"backgroundcolor\":\"#E5ECF6\",\"gridcolor\":\"white\",\"gridwidth\":2,\"linecolor\":\"white\",\"showbackground\":true,\"ticks\":\"\",\"zerolinecolor\":\"white\"},\"yaxis\":{\"backgroundcolor\":\"#E5ECF6\",\"gridcolor\":\"white\",\"gridwidth\":2,\"linecolor\":\"white\",\"showbackground\":true,\"ticks\":\"\",\"zerolinecolor\":\"white\"},\"zaxis\":{\"backgroundcolor\":\"#E5ECF6\",\"gridcolor\":\"white\",\"gridwidth\":2,\"linecolor\":\"white\",\"showbackground\":true,\"ticks\":\"\",\"zerolinecolor\":\"white\"}},\"shapedefaults\":{\"line\":{\"color\":\"#2a3f5f\"}},\"ternary\":{\"aaxis\":{\"gridcolor\":\"white\",\"linecolor\":\"white\",\"ticks\":\"\"},\"baxis\":{\"gridcolor\":\"white\",\"linecolor\":\"white\",\"ticks\":\"\"},\"bgcolor\":\"#E5ECF6\",\"caxis\":{\"gridcolor\":\"white\",\"linecolor\":\"white\",\"ticks\":\"\"}},\"title\":{\"x\":0.05},\"xaxis\":{\"automargin\":true,\"gridcolor\":\"white\",\"linecolor\":\"white\",\"ticks\":\"\",\"title\":{\"standoff\":15},\"zerolinecolor\":\"white\",\"zerolinewidth\":2},\"yaxis\":{\"automargin\":true,\"gridcolor\":\"white\",\"linecolor\":\"white\",\"ticks\":\"\",\"title\":{\"standoff\":15},\"zerolinecolor\":\"white\",\"zerolinewidth\":2}}},\"title\":{\"font\":{\"color\":\"#4D5663\"}},\"xaxis\":{\"gridcolor\":\"#E1E5ED\",\"showgrid\":true,\"tickfont\":{\"color\":\"#4D5663\"},\"title\":{\"font\":{\"color\":\"#4D5663\"},\"text\":\"\"},\"zerolinecolor\":\"#E1E5ED\"},\"yaxis\":{\"gridcolor\":\"#E1E5ED\",\"showgrid\":true,\"tickfont\":{\"color\":\"#4D5663\"},\"title\":{\"font\":{\"color\":\"#4D5663\"},\"text\":\"\"},\"zerolinecolor\":\"#E1E5ED\"}},                        {\"showLink\": true, \"linkText\": \"Export to plot.ly\", \"plotlyServerURL\": \"https://plot.ly\", \"responsive\": true}                    ).then(function(){\n",
       "                            \n",
       "var gd = document.getElementById('63eac22d-820d-4686-a577-e1b2df1c5e9a');\n",
       "var x = new MutationObserver(function (mutations, observer) {{\n",
       "        var display = window.getComputedStyle(gd).display;\n",
       "        if (!display || display === 'none') {{\n",
       "            console.log([gd, 'removed!']);\n",
       "            Plotly.purge(gd);\n",
       "            observer.disconnect();\n",
       "        }}\n",
       "}});\n",
       "\n",
       "// Listen for the removal of the full notebook cells\n",
       "var notebookContainer = gd.closest('#notebook-container');\n",
       "if (notebookContainer) {{\n",
       "    x.observe(notebookContainer, {childList: true});\n",
       "}}\n",
       "\n",
       "// Listen for the clearing of the current output cell\n",
       "var outputEl = gd.closest('.output');\n",
       "if (outputEl) {{\n",
       "    x.observe(outputEl, {childList: true});\n",
       "}}\n",
       "\n",
       "                        })                };                });            </script>        </div>"
      ]
     },
     "metadata": {},
     "output_type": "display_data"
    }
   ],
   "source": [
    "df3.iplot(kind='surface',colorscale='rdylbu')"
   ]
  },
  {
   "cell_type": "code",
   "execution_count": 45,
   "id": "d7cd409c",
   "metadata": {},
   "outputs": [
    {
     "data": {
      "application/vnd.plotly.v1+json": {
       "config": {
        "linkText": "Export to plot.ly",
        "plotlyServerURL": "https://plot.ly",
        "showLink": true
       },
       "data": [
        {
         "histfunc": "count",
         "histnorm": "",
         "marker": {
          "color": "rgba(255, 153, 51, 1.0)",
          "line": {
           "color": "#4D5663",
           "width": 1.3
          }
         },
         "name": "a",
         "nbinsx": 35,
         "opacity": 0.8,
         "orientation": "v",
         "type": "histogram",
         "x": [
          -1.2536704061240342,
          -0.31192087006827185,
          -2.2109845815294356,
          0.26098210430390356,
          -0.42372505561706497,
          -0.5191246063006844,
          -0.3741979168810921,
          0.013160070003499067,
          -1.3936117653916562,
          -0.9879887112436886,
          0.9978019604285551,
          0.20408777022973887,
          -0.3751686712106355,
          0.14714190067587132,
          0.7097405973098823,
          -0.5980386770941455,
          -0.8580820814739449,
          -0.03928825662399084,
          2.1123756536844134,
          0.20988143099753984,
          -0.0039750860987576705,
          1.0837356737832347,
          0.25720841914284187,
          -0.6265295757295674,
          -0.8334593492338207,
          -0.43845976815063725,
          1.2182819398389937,
          -1.2402949889598742,
          -1.2071346174640567,
          -0.25215273236635155,
          -0.26222993788277515,
          -1.5944264482789066,
          -0.11603327631361181,
          0.3170166562461856,
          0.33184384567773306,
          0.2706533742615674,
          0.6886179771564876,
          0.33296980227084005,
          0.5860064727362081,
          -1.0790498039463736,
          0.036369968192229485,
          0.15144790493044746,
          -0.10393678206743479,
          0.8349700375535881,
          -1.206328193237761,
          0.5673265511778895,
          -0.06721204834887629,
          -0.543744658610441,
          -1.784873068359861,
          -1.5640842673613353,
          -1.7484510427524396,
          -0.9238595076773191,
          -0.07066518986172503,
          -1.2564883213487814,
          -1.255171782943583,
          -0.5693595220873484,
          -0.2680475201230551,
          -0.7370601821881222,
          1.4131046455732545,
          -0.4484711608573334,
          -0.03368558970719541,
          0.20060822572533968,
          -1.3006252925618582,
          -0.7650549164700556,
          -1.474269199202699,
          -1.9035357216209998,
          -0.842459505915815,
          -0.6450446032311398,
          -1.3859767495689528,
          0.5787535105345148,
          2.2955960081866325,
          -1.4380393667265592,
          0.592895059358941,
          0.6824300472122862,
          -1.978558056285446,
          0.6507979497194142,
          -0.8504019891320452,
          -0.23082902274044428,
          0.9275706159608799,
          -0.047095155777864835,
          -1.6405431622980855,
          -0.8744312401517957,
          -0.25871068506394845,
          0.27471500967068346,
          0.1946788757728365,
          1.4125245459008748,
          -0.049375511972559315,
          -0.10475479978240199,
          0.5133935150926221,
          -1.2223620008398135,
          -0.11638992089113567,
          -1.3023112967306605,
          0.30293182359718746,
          -1.6607840815862427,
          1.983670482457282,
          -1.0036184526149803,
          -1.428906436402728,
          1.5304130203604172,
          0.9133621367502792,
          -0.29639213224210054
         ]
        }
       ],
       "layout": {
        "barmode": "overlay",
        "legend": {
         "bgcolor": "#F5F6F9",
         "font": {
          "color": "#4D5663"
         }
        },
        "paper_bgcolor": "#F5F6F9",
        "plot_bgcolor": "#F5F6F9",
        "template": {
         "data": {
          "bar": [
           {
            "error_x": {
             "color": "#2a3f5f"
            },
            "error_y": {
             "color": "#2a3f5f"
            },
            "marker": {
             "line": {
              "color": "#E5ECF6",
              "width": 0.5
             },
             "pattern": {
              "fillmode": "overlay",
              "size": 10,
              "solidity": 0.2
             }
            },
            "type": "bar"
           }
          ],
          "barpolar": [
           {
            "marker": {
             "line": {
              "color": "#E5ECF6",
              "width": 0.5
             },
             "pattern": {
              "fillmode": "overlay",
              "size": 10,
              "solidity": 0.2
             }
            },
            "type": "barpolar"
           }
          ],
          "carpet": [
           {
            "aaxis": {
             "endlinecolor": "#2a3f5f",
             "gridcolor": "white",
             "linecolor": "white",
             "minorgridcolor": "white",
             "startlinecolor": "#2a3f5f"
            },
            "baxis": {
             "endlinecolor": "#2a3f5f",
             "gridcolor": "white",
             "linecolor": "white",
             "minorgridcolor": "white",
             "startlinecolor": "#2a3f5f"
            },
            "type": "carpet"
           }
          ],
          "choropleth": [
           {
            "colorbar": {
             "outlinewidth": 0,
             "ticks": ""
            },
            "type": "choropleth"
           }
          ],
          "contour": [
           {
            "colorbar": {
             "outlinewidth": 0,
             "ticks": ""
            },
            "colorscale": [
             [
              0,
              "#0d0887"
             ],
             [
              0.1111111111111111,
              "#46039f"
             ],
             [
              0.2222222222222222,
              "#7201a8"
             ],
             [
              0.3333333333333333,
              "#9c179e"
             ],
             [
              0.4444444444444444,
              "#bd3786"
             ],
             [
              0.5555555555555556,
              "#d8576b"
             ],
             [
              0.6666666666666666,
              "#ed7953"
             ],
             [
              0.7777777777777778,
              "#fb9f3a"
             ],
             [
              0.8888888888888888,
              "#fdca26"
             ],
             [
              1,
              "#f0f921"
             ]
            ],
            "type": "contour"
           }
          ],
          "contourcarpet": [
           {
            "colorbar": {
             "outlinewidth": 0,
             "ticks": ""
            },
            "type": "contourcarpet"
           }
          ],
          "heatmap": [
           {
            "colorbar": {
             "outlinewidth": 0,
             "ticks": ""
            },
            "colorscale": [
             [
              0,
              "#0d0887"
             ],
             [
              0.1111111111111111,
              "#46039f"
             ],
             [
              0.2222222222222222,
              "#7201a8"
             ],
             [
              0.3333333333333333,
              "#9c179e"
             ],
             [
              0.4444444444444444,
              "#bd3786"
             ],
             [
              0.5555555555555556,
              "#d8576b"
             ],
             [
              0.6666666666666666,
              "#ed7953"
             ],
             [
              0.7777777777777778,
              "#fb9f3a"
             ],
             [
              0.8888888888888888,
              "#fdca26"
             ],
             [
              1,
              "#f0f921"
             ]
            ],
            "type": "heatmap"
           }
          ],
          "heatmapgl": [
           {
            "colorbar": {
             "outlinewidth": 0,
             "ticks": ""
            },
            "colorscale": [
             [
              0,
              "#0d0887"
             ],
             [
              0.1111111111111111,
              "#46039f"
             ],
             [
              0.2222222222222222,
              "#7201a8"
             ],
             [
              0.3333333333333333,
              "#9c179e"
             ],
             [
              0.4444444444444444,
              "#bd3786"
             ],
             [
              0.5555555555555556,
              "#d8576b"
             ],
             [
              0.6666666666666666,
              "#ed7953"
             ],
             [
              0.7777777777777778,
              "#fb9f3a"
             ],
             [
              0.8888888888888888,
              "#fdca26"
             ],
             [
              1,
              "#f0f921"
             ]
            ],
            "type": "heatmapgl"
           }
          ],
          "histogram": [
           {
            "marker": {
             "pattern": {
              "fillmode": "overlay",
              "size": 10,
              "solidity": 0.2
             }
            },
            "type": "histogram"
           }
          ],
          "histogram2d": [
           {
            "colorbar": {
             "outlinewidth": 0,
             "ticks": ""
            },
            "colorscale": [
             [
              0,
              "#0d0887"
             ],
             [
              0.1111111111111111,
              "#46039f"
             ],
             [
              0.2222222222222222,
              "#7201a8"
             ],
             [
              0.3333333333333333,
              "#9c179e"
             ],
             [
              0.4444444444444444,
              "#bd3786"
             ],
             [
              0.5555555555555556,
              "#d8576b"
             ],
             [
              0.6666666666666666,
              "#ed7953"
             ],
             [
              0.7777777777777778,
              "#fb9f3a"
             ],
             [
              0.8888888888888888,
              "#fdca26"
             ],
             [
              1,
              "#f0f921"
             ]
            ],
            "type": "histogram2d"
           }
          ],
          "histogram2dcontour": [
           {
            "colorbar": {
             "outlinewidth": 0,
             "ticks": ""
            },
            "colorscale": [
             [
              0,
              "#0d0887"
             ],
             [
              0.1111111111111111,
              "#46039f"
             ],
             [
              0.2222222222222222,
              "#7201a8"
             ],
             [
              0.3333333333333333,
              "#9c179e"
             ],
             [
              0.4444444444444444,
              "#bd3786"
             ],
             [
              0.5555555555555556,
              "#d8576b"
             ],
             [
              0.6666666666666666,
              "#ed7953"
             ],
             [
              0.7777777777777778,
              "#fb9f3a"
             ],
             [
              0.8888888888888888,
              "#fdca26"
             ],
             [
              1,
              "#f0f921"
             ]
            ],
            "type": "histogram2dcontour"
           }
          ],
          "mesh3d": [
           {
            "colorbar": {
             "outlinewidth": 0,
             "ticks": ""
            },
            "type": "mesh3d"
           }
          ],
          "parcoords": [
           {
            "line": {
             "colorbar": {
              "outlinewidth": 0,
              "ticks": ""
             }
            },
            "type": "parcoords"
           }
          ],
          "pie": [
           {
            "automargin": true,
            "type": "pie"
           }
          ],
          "scatter": [
           {
            "fillpattern": {
             "fillmode": "overlay",
             "size": 10,
             "solidity": 0.2
            },
            "type": "scatter"
           }
          ],
          "scatter3d": [
           {
            "line": {
             "colorbar": {
              "outlinewidth": 0,
              "ticks": ""
             }
            },
            "marker": {
             "colorbar": {
              "outlinewidth": 0,
              "ticks": ""
             }
            },
            "type": "scatter3d"
           }
          ],
          "scattercarpet": [
           {
            "marker": {
             "colorbar": {
              "outlinewidth": 0,
              "ticks": ""
             }
            },
            "type": "scattercarpet"
           }
          ],
          "scattergeo": [
           {
            "marker": {
             "colorbar": {
              "outlinewidth": 0,
              "ticks": ""
             }
            },
            "type": "scattergeo"
           }
          ],
          "scattergl": [
           {
            "marker": {
             "colorbar": {
              "outlinewidth": 0,
              "ticks": ""
             }
            },
            "type": "scattergl"
           }
          ],
          "scattermapbox": [
           {
            "marker": {
             "colorbar": {
              "outlinewidth": 0,
              "ticks": ""
             }
            },
            "type": "scattermapbox"
           }
          ],
          "scatterpolar": [
           {
            "marker": {
             "colorbar": {
              "outlinewidth": 0,
              "ticks": ""
             }
            },
            "type": "scatterpolar"
           }
          ],
          "scatterpolargl": [
           {
            "marker": {
             "colorbar": {
              "outlinewidth": 0,
              "ticks": ""
             }
            },
            "type": "scatterpolargl"
           }
          ],
          "scatterternary": [
           {
            "marker": {
             "colorbar": {
              "outlinewidth": 0,
              "ticks": ""
             }
            },
            "type": "scatterternary"
           }
          ],
          "surface": [
           {
            "colorbar": {
             "outlinewidth": 0,
             "ticks": ""
            },
            "colorscale": [
             [
              0,
              "#0d0887"
             ],
             [
              0.1111111111111111,
              "#46039f"
             ],
             [
              0.2222222222222222,
              "#7201a8"
             ],
             [
              0.3333333333333333,
              "#9c179e"
             ],
             [
              0.4444444444444444,
              "#bd3786"
             ],
             [
              0.5555555555555556,
              "#d8576b"
             ],
             [
              0.6666666666666666,
              "#ed7953"
             ],
             [
              0.7777777777777778,
              "#fb9f3a"
             ],
             [
              0.8888888888888888,
              "#fdca26"
             ],
             [
              1,
              "#f0f921"
             ]
            ],
            "type": "surface"
           }
          ],
          "table": [
           {
            "cells": {
             "fill": {
              "color": "#EBF0F8"
             },
             "line": {
              "color": "white"
             }
            },
            "header": {
             "fill": {
              "color": "#C8D4E3"
             },
             "line": {
              "color": "white"
             }
            },
            "type": "table"
           }
          ]
         },
         "layout": {
          "annotationdefaults": {
           "arrowcolor": "#2a3f5f",
           "arrowhead": 0,
           "arrowwidth": 1
          },
          "autotypenumbers": "strict",
          "coloraxis": {
           "colorbar": {
            "outlinewidth": 0,
            "ticks": ""
           }
          },
          "colorscale": {
           "diverging": [
            [
             0,
             "#8e0152"
            ],
            [
             0.1,
             "#c51b7d"
            ],
            [
             0.2,
             "#de77ae"
            ],
            [
             0.3,
             "#f1b6da"
            ],
            [
             0.4,
             "#fde0ef"
            ],
            [
             0.5,
             "#f7f7f7"
            ],
            [
             0.6,
             "#e6f5d0"
            ],
            [
             0.7,
             "#b8e186"
            ],
            [
             0.8,
             "#7fbc41"
            ],
            [
             0.9,
             "#4d9221"
            ],
            [
             1,
             "#276419"
            ]
           ],
           "sequential": [
            [
             0,
             "#0d0887"
            ],
            [
             0.1111111111111111,
             "#46039f"
            ],
            [
             0.2222222222222222,
             "#7201a8"
            ],
            [
             0.3333333333333333,
             "#9c179e"
            ],
            [
             0.4444444444444444,
             "#bd3786"
            ],
            [
             0.5555555555555556,
             "#d8576b"
            ],
            [
             0.6666666666666666,
             "#ed7953"
            ],
            [
             0.7777777777777778,
             "#fb9f3a"
            ],
            [
             0.8888888888888888,
             "#fdca26"
            ],
            [
             1,
             "#f0f921"
            ]
           ],
           "sequentialminus": [
            [
             0,
             "#0d0887"
            ],
            [
             0.1111111111111111,
             "#46039f"
            ],
            [
             0.2222222222222222,
             "#7201a8"
            ],
            [
             0.3333333333333333,
             "#9c179e"
            ],
            [
             0.4444444444444444,
             "#bd3786"
            ],
            [
             0.5555555555555556,
             "#d8576b"
            ],
            [
             0.6666666666666666,
             "#ed7953"
            ],
            [
             0.7777777777777778,
             "#fb9f3a"
            ],
            [
             0.8888888888888888,
             "#fdca26"
            ],
            [
             1,
             "#f0f921"
            ]
           ]
          },
          "colorway": [
           "#636efa",
           "#EF553B",
           "#00cc96",
           "#ab63fa",
           "#FFA15A",
           "#19d3f3",
           "#FF6692",
           "#B6E880",
           "#FF97FF",
           "#FECB52"
          ],
          "font": {
           "color": "#2a3f5f"
          },
          "geo": {
           "bgcolor": "white",
           "lakecolor": "white",
           "landcolor": "#E5ECF6",
           "showlakes": true,
           "showland": true,
           "subunitcolor": "white"
          },
          "hoverlabel": {
           "align": "left"
          },
          "hovermode": "closest",
          "mapbox": {
           "style": "light"
          },
          "paper_bgcolor": "white",
          "plot_bgcolor": "#E5ECF6",
          "polar": {
           "angularaxis": {
            "gridcolor": "white",
            "linecolor": "white",
            "ticks": ""
           },
           "bgcolor": "#E5ECF6",
           "radialaxis": {
            "gridcolor": "white",
            "linecolor": "white",
            "ticks": ""
           }
          },
          "scene": {
           "xaxis": {
            "backgroundcolor": "#E5ECF6",
            "gridcolor": "white",
            "gridwidth": 2,
            "linecolor": "white",
            "showbackground": true,
            "ticks": "",
            "zerolinecolor": "white"
           },
           "yaxis": {
            "backgroundcolor": "#E5ECF6",
            "gridcolor": "white",
            "gridwidth": 2,
            "linecolor": "white",
            "showbackground": true,
            "ticks": "",
            "zerolinecolor": "white"
           },
           "zaxis": {
            "backgroundcolor": "#E5ECF6",
            "gridcolor": "white",
            "gridwidth": 2,
            "linecolor": "white",
            "showbackground": true,
            "ticks": "",
            "zerolinecolor": "white"
           }
          },
          "shapedefaults": {
           "line": {
            "color": "#2a3f5f"
           }
          },
          "ternary": {
           "aaxis": {
            "gridcolor": "white",
            "linecolor": "white",
            "ticks": ""
           },
           "baxis": {
            "gridcolor": "white",
            "linecolor": "white",
            "ticks": ""
           },
           "bgcolor": "#E5ECF6",
           "caxis": {
            "gridcolor": "white",
            "linecolor": "white",
            "ticks": ""
           }
          },
          "title": {
           "x": 0.05
          },
          "xaxis": {
           "automargin": true,
           "gridcolor": "white",
           "linecolor": "white",
           "ticks": "",
           "title": {
            "standoff": 15
           },
           "zerolinecolor": "white",
           "zerolinewidth": 2
          },
          "yaxis": {
           "automargin": true,
           "gridcolor": "white",
           "linecolor": "white",
           "ticks": "",
           "title": {
            "standoff": 15
           },
           "zerolinecolor": "white",
           "zerolinewidth": 2
          }
         }
        },
        "title": {
         "font": {
          "color": "#4D5663"
         }
        },
        "xaxis": {
         "gridcolor": "#E1E5ED",
         "showgrid": true,
         "tickfont": {
          "color": "#4D5663"
         },
         "title": {
          "font": {
           "color": "#4D5663"
          },
          "text": ""
         },
         "zerolinecolor": "#E1E5ED"
        },
        "yaxis": {
         "gridcolor": "#E1E5ED",
         "showgrid": true,
         "tickfont": {
          "color": "#4D5663"
         },
         "title": {
          "font": {
           "color": "#4D5663"
          },
          "text": ""
         },
         "zerolinecolor": "#E1E5ED"
        }
       }
      },
      "text/html": [
       "<div>                            <div id=\"4890cb35-2aec-4eeb-9106-ccd1135ca64d\" class=\"plotly-graph-div\" style=\"height:525px; width:100%;\"></div>            <script type=\"text/javascript\">                require([\"plotly\"], function(Plotly) {                    window.PLOTLYENV=window.PLOTLYENV || {};\n",
       "                    window.PLOTLYENV.BASE_URL='https://plot.ly';                                    if (document.getElementById(\"4890cb35-2aec-4eeb-9106-ccd1135ca64d\")) {                    Plotly.newPlot(                        \"4890cb35-2aec-4eeb-9106-ccd1135ca64d\",                        [{\"histfunc\":\"count\",\"histnorm\":\"\",\"marker\":{\"color\":\"rgba(255, 153, 51, 1.0)\",\"line\":{\"color\":\"#4D5663\",\"width\":1.3}},\"name\":\"a\",\"nbinsx\":35,\"opacity\":0.8,\"orientation\":\"v\",\"x\":[-1.2536704061240342,-0.31192087006827185,-2.2109845815294356,0.26098210430390356,-0.42372505561706497,-0.5191246063006844,-0.3741979168810921,0.013160070003499067,-1.3936117653916562,-0.9879887112436886,0.9978019604285551,0.20408777022973887,-0.3751686712106355,0.14714190067587132,0.7097405973098823,-0.5980386770941455,-0.8580820814739449,-0.03928825662399084,2.1123756536844134,0.20988143099753984,-0.0039750860987576705,1.0837356737832347,0.25720841914284187,-0.6265295757295674,-0.8334593492338207,-0.43845976815063725,1.2182819398389937,-1.2402949889598742,-1.2071346174640567,-0.25215273236635155,-0.26222993788277515,-1.5944264482789066,-0.11603327631361181,0.3170166562461856,0.33184384567773306,0.2706533742615674,0.6886179771564876,0.33296980227084005,0.5860064727362081,-1.0790498039463736,0.036369968192229485,0.15144790493044746,-0.10393678206743479,0.8349700375535881,-1.206328193237761,0.5673265511778895,-0.06721204834887629,-0.543744658610441,-1.784873068359861,-1.5640842673613353,-1.7484510427524396,-0.9238595076773191,-0.07066518986172503,-1.2564883213487814,-1.255171782943583,-0.5693595220873484,-0.2680475201230551,-0.7370601821881222,1.4131046455732545,-0.4484711608573334,-0.03368558970719541,0.20060822572533968,-1.3006252925618582,-0.7650549164700556,-1.474269199202699,-1.9035357216209998,-0.842459505915815,-0.6450446032311398,-1.3859767495689528,0.5787535105345148,2.2955960081866325,-1.4380393667265592,0.592895059358941,0.6824300472122862,-1.978558056285446,0.6507979497194142,-0.8504019891320452,-0.23082902274044428,0.9275706159608799,-0.047095155777864835,-1.6405431622980855,-0.8744312401517957,-0.25871068506394845,0.27471500967068346,0.1946788757728365,1.4125245459008748,-0.049375511972559315,-0.10475479978240199,0.5133935150926221,-1.2223620008398135,-0.11638992089113567,-1.3023112967306605,0.30293182359718746,-1.6607840815862427,1.983670482457282,-1.0036184526149803,-1.428906436402728,1.5304130203604172,0.9133621367502792,-0.29639213224210054],\"type\":\"histogram\"}],                        {\"barmode\":\"overlay\",\"legend\":{\"bgcolor\":\"#F5F6F9\",\"font\":{\"color\":\"#4D5663\"}},\"paper_bgcolor\":\"#F5F6F9\",\"plot_bgcolor\":\"#F5F6F9\",\"template\":{\"data\":{\"barpolar\":[{\"marker\":{\"line\":{\"color\":\"#E5ECF6\",\"width\":0.5},\"pattern\":{\"fillmode\":\"overlay\",\"size\":10,\"solidity\":0.2}},\"type\":\"barpolar\"}],\"bar\":[{\"error_x\":{\"color\":\"#2a3f5f\"},\"error_y\":{\"color\":\"#2a3f5f\"},\"marker\":{\"line\":{\"color\":\"#E5ECF6\",\"width\":0.5},\"pattern\":{\"fillmode\":\"overlay\",\"size\":10,\"solidity\":0.2}},\"type\":\"bar\"}],\"carpet\":[{\"aaxis\":{\"endlinecolor\":\"#2a3f5f\",\"gridcolor\":\"white\",\"linecolor\":\"white\",\"minorgridcolor\":\"white\",\"startlinecolor\":\"#2a3f5f\"},\"baxis\":{\"endlinecolor\":\"#2a3f5f\",\"gridcolor\":\"white\",\"linecolor\":\"white\",\"minorgridcolor\":\"white\",\"startlinecolor\":\"#2a3f5f\"},\"type\":\"carpet\"}],\"choropleth\":[{\"colorbar\":{\"outlinewidth\":0,\"ticks\":\"\"},\"type\":\"choropleth\"}],\"contourcarpet\":[{\"colorbar\":{\"outlinewidth\":0,\"ticks\":\"\"},\"type\":\"contourcarpet\"}],\"contour\":[{\"colorbar\":{\"outlinewidth\":0,\"ticks\":\"\"},\"colorscale\":[[0.0,\"#0d0887\"],[0.1111111111111111,\"#46039f\"],[0.2222222222222222,\"#7201a8\"],[0.3333333333333333,\"#9c179e\"],[0.4444444444444444,\"#bd3786\"],[0.5555555555555556,\"#d8576b\"],[0.6666666666666666,\"#ed7953\"],[0.7777777777777778,\"#fb9f3a\"],[0.8888888888888888,\"#fdca26\"],[1.0,\"#f0f921\"]],\"type\":\"contour\"}],\"heatmapgl\":[{\"colorbar\":{\"outlinewidth\":0,\"ticks\":\"\"},\"colorscale\":[[0.0,\"#0d0887\"],[0.1111111111111111,\"#46039f\"],[0.2222222222222222,\"#7201a8\"],[0.3333333333333333,\"#9c179e\"],[0.4444444444444444,\"#bd3786\"],[0.5555555555555556,\"#d8576b\"],[0.6666666666666666,\"#ed7953\"],[0.7777777777777778,\"#fb9f3a\"],[0.8888888888888888,\"#fdca26\"],[1.0,\"#f0f921\"]],\"type\":\"heatmapgl\"}],\"heatmap\":[{\"colorbar\":{\"outlinewidth\":0,\"ticks\":\"\"},\"colorscale\":[[0.0,\"#0d0887\"],[0.1111111111111111,\"#46039f\"],[0.2222222222222222,\"#7201a8\"],[0.3333333333333333,\"#9c179e\"],[0.4444444444444444,\"#bd3786\"],[0.5555555555555556,\"#d8576b\"],[0.6666666666666666,\"#ed7953\"],[0.7777777777777778,\"#fb9f3a\"],[0.8888888888888888,\"#fdca26\"],[1.0,\"#f0f921\"]],\"type\":\"heatmap\"}],\"histogram2dcontour\":[{\"colorbar\":{\"outlinewidth\":0,\"ticks\":\"\"},\"colorscale\":[[0.0,\"#0d0887\"],[0.1111111111111111,\"#46039f\"],[0.2222222222222222,\"#7201a8\"],[0.3333333333333333,\"#9c179e\"],[0.4444444444444444,\"#bd3786\"],[0.5555555555555556,\"#d8576b\"],[0.6666666666666666,\"#ed7953\"],[0.7777777777777778,\"#fb9f3a\"],[0.8888888888888888,\"#fdca26\"],[1.0,\"#f0f921\"]],\"type\":\"histogram2dcontour\"}],\"histogram2d\":[{\"colorbar\":{\"outlinewidth\":0,\"ticks\":\"\"},\"colorscale\":[[0.0,\"#0d0887\"],[0.1111111111111111,\"#46039f\"],[0.2222222222222222,\"#7201a8\"],[0.3333333333333333,\"#9c179e\"],[0.4444444444444444,\"#bd3786\"],[0.5555555555555556,\"#d8576b\"],[0.6666666666666666,\"#ed7953\"],[0.7777777777777778,\"#fb9f3a\"],[0.8888888888888888,\"#fdca26\"],[1.0,\"#f0f921\"]],\"type\":\"histogram2d\"}],\"histogram\":[{\"marker\":{\"pattern\":{\"fillmode\":\"overlay\",\"size\":10,\"solidity\":0.2}},\"type\":\"histogram\"}],\"mesh3d\":[{\"colorbar\":{\"outlinewidth\":0,\"ticks\":\"\"},\"type\":\"mesh3d\"}],\"parcoords\":[{\"line\":{\"colorbar\":{\"outlinewidth\":0,\"ticks\":\"\"}},\"type\":\"parcoords\"}],\"pie\":[{\"automargin\":true,\"type\":\"pie\"}],\"scatter3d\":[{\"line\":{\"colorbar\":{\"outlinewidth\":0,\"ticks\":\"\"}},\"marker\":{\"colorbar\":{\"outlinewidth\":0,\"ticks\":\"\"}},\"type\":\"scatter3d\"}],\"scattercarpet\":[{\"marker\":{\"colorbar\":{\"outlinewidth\":0,\"ticks\":\"\"}},\"type\":\"scattercarpet\"}],\"scattergeo\":[{\"marker\":{\"colorbar\":{\"outlinewidth\":0,\"ticks\":\"\"}},\"type\":\"scattergeo\"}],\"scattergl\":[{\"marker\":{\"colorbar\":{\"outlinewidth\":0,\"ticks\":\"\"}},\"type\":\"scattergl\"}],\"scattermapbox\":[{\"marker\":{\"colorbar\":{\"outlinewidth\":0,\"ticks\":\"\"}},\"type\":\"scattermapbox\"}],\"scatterpolargl\":[{\"marker\":{\"colorbar\":{\"outlinewidth\":0,\"ticks\":\"\"}},\"type\":\"scatterpolargl\"}],\"scatterpolar\":[{\"marker\":{\"colorbar\":{\"outlinewidth\":0,\"ticks\":\"\"}},\"type\":\"scatterpolar\"}],\"scatter\":[{\"fillpattern\":{\"fillmode\":\"overlay\",\"size\":10,\"solidity\":0.2},\"type\":\"scatter\"}],\"scatterternary\":[{\"marker\":{\"colorbar\":{\"outlinewidth\":0,\"ticks\":\"\"}},\"type\":\"scatterternary\"}],\"surface\":[{\"colorbar\":{\"outlinewidth\":0,\"ticks\":\"\"},\"colorscale\":[[0.0,\"#0d0887\"],[0.1111111111111111,\"#46039f\"],[0.2222222222222222,\"#7201a8\"],[0.3333333333333333,\"#9c179e\"],[0.4444444444444444,\"#bd3786\"],[0.5555555555555556,\"#d8576b\"],[0.6666666666666666,\"#ed7953\"],[0.7777777777777778,\"#fb9f3a\"],[0.8888888888888888,\"#fdca26\"],[1.0,\"#f0f921\"]],\"type\":\"surface\"}],\"table\":[{\"cells\":{\"fill\":{\"color\":\"#EBF0F8\"},\"line\":{\"color\":\"white\"}},\"header\":{\"fill\":{\"color\":\"#C8D4E3\"},\"line\":{\"color\":\"white\"}},\"type\":\"table\"}]},\"layout\":{\"annotationdefaults\":{\"arrowcolor\":\"#2a3f5f\",\"arrowhead\":0,\"arrowwidth\":1},\"autotypenumbers\":\"strict\",\"coloraxis\":{\"colorbar\":{\"outlinewidth\":0,\"ticks\":\"\"}},\"colorscale\":{\"diverging\":[[0,\"#8e0152\"],[0.1,\"#c51b7d\"],[0.2,\"#de77ae\"],[0.3,\"#f1b6da\"],[0.4,\"#fde0ef\"],[0.5,\"#f7f7f7\"],[0.6,\"#e6f5d0\"],[0.7,\"#b8e186\"],[0.8,\"#7fbc41\"],[0.9,\"#4d9221\"],[1,\"#276419\"]],\"sequential\":[[0.0,\"#0d0887\"],[0.1111111111111111,\"#46039f\"],[0.2222222222222222,\"#7201a8\"],[0.3333333333333333,\"#9c179e\"],[0.4444444444444444,\"#bd3786\"],[0.5555555555555556,\"#d8576b\"],[0.6666666666666666,\"#ed7953\"],[0.7777777777777778,\"#fb9f3a\"],[0.8888888888888888,\"#fdca26\"],[1.0,\"#f0f921\"]],\"sequentialminus\":[[0.0,\"#0d0887\"],[0.1111111111111111,\"#46039f\"],[0.2222222222222222,\"#7201a8\"],[0.3333333333333333,\"#9c179e\"],[0.4444444444444444,\"#bd3786\"],[0.5555555555555556,\"#d8576b\"],[0.6666666666666666,\"#ed7953\"],[0.7777777777777778,\"#fb9f3a\"],[0.8888888888888888,\"#fdca26\"],[1.0,\"#f0f921\"]]},\"colorway\":[\"#636efa\",\"#EF553B\",\"#00cc96\",\"#ab63fa\",\"#FFA15A\",\"#19d3f3\",\"#FF6692\",\"#B6E880\",\"#FF97FF\",\"#FECB52\"],\"font\":{\"color\":\"#2a3f5f\"},\"geo\":{\"bgcolor\":\"white\",\"lakecolor\":\"white\",\"landcolor\":\"#E5ECF6\",\"showlakes\":true,\"showland\":true,\"subunitcolor\":\"white\"},\"hoverlabel\":{\"align\":\"left\"},\"hovermode\":\"closest\",\"mapbox\":{\"style\":\"light\"},\"paper_bgcolor\":\"white\",\"plot_bgcolor\":\"#E5ECF6\",\"polar\":{\"angularaxis\":{\"gridcolor\":\"white\",\"linecolor\":\"white\",\"ticks\":\"\"},\"bgcolor\":\"#E5ECF6\",\"radialaxis\":{\"gridcolor\":\"white\",\"linecolor\":\"white\",\"ticks\":\"\"}},\"scene\":{\"xaxis\":{\"backgroundcolor\":\"#E5ECF6\",\"gridcolor\":\"white\",\"gridwidth\":2,\"linecolor\":\"white\",\"showbackground\":true,\"ticks\":\"\",\"zerolinecolor\":\"white\"},\"yaxis\":{\"backgroundcolor\":\"#E5ECF6\",\"gridcolor\":\"white\",\"gridwidth\":2,\"linecolor\":\"white\",\"showbackground\":true,\"ticks\":\"\",\"zerolinecolor\":\"white\"},\"zaxis\":{\"backgroundcolor\":\"#E5ECF6\",\"gridcolor\":\"white\",\"gridwidth\":2,\"linecolor\":\"white\",\"showbackground\":true,\"ticks\":\"\",\"zerolinecolor\":\"white\"}},\"shapedefaults\":{\"line\":{\"color\":\"#2a3f5f\"}},\"ternary\":{\"aaxis\":{\"gridcolor\":\"white\",\"linecolor\":\"white\",\"ticks\":\"\"},\"baxis\":{\"gridcolor\":\"white\",\"linecolor\":\"white\",\"ticks\":\"\"},\"bgcolor\":\"#E5ECF6\",\"caxis\":{\"gridcolor\":\"white\",\"linecolor\":\"white\",\"ticks\":\"\"}},\"title\":{\"x\":0.05},\"xaxis\":{\"automargin\":true,\"gridcolor\":\"white\",\"linecolor\":\"white\",\"ticks\":\"\",\"title\":{\"standoff\":15},\"zerolinecolor\":\"white\",\"zerolinewidth\":2},\"yaxis\":{\"automargin\":true,\"gridcolor\":\"white\",\"linecolor\":\"white\",\"ticks\":\"\",\"title\":{\"standoff\":15},\"zerolinecolor\":\"white\",\"zerolinewidth\":2}}},\"title\":{\"font\":{\"color\":\"#4D5663\"}},\"xaxis\":{\"gridcolor\":\"#E1E5ED\",\"showgrid\":true,\"tickfont\":{\"color\":\"#4D5663\"},\"title\":{\"font\":{\"color\":\"#4D5663\"},\"text\":\"\"},\"zerolinecolor\":\"#E1E5ED\"},\"yaxis\":{\"gridcolor\":\"#E1E5ED\",\"showgrid\":true,\"tickfont\":{\"color\":\"#4D5663\"},\"title\":{\"font\":{\"color\":\"#4D5663\"},\"text\":\"\"},\"zerolinecolor\":\"#E1E5ED\"}},                        {\"showLink\": true, \"linkText\": \"Export to plot.ly\", \"plotlyServerURL\": \"https://plot.ly\", \"responsive\": true}                    ).then(function(){\n",
       "                            \n",
       "var gd = document.getElementById('4890cb35-2aec-4eeb-9106-ccd1135ca64d');\n",
       "var x = new MutationObserver(function (mutations, observer) {{\n",
       "        var display = window.getComputedStyle(gd).display;\n",
       "        if (!display || display === 'none') {{\n",
       "            console.log([gd, 'removed!']);\n",
       "            Plotly.purge(gd);\n",
       "            observer.disconnect();\n",
       "        }}\n",
       "}});\n",
       "\n",
       "// Listen for the removal of the full notebook cells\n",
       "var notebookContainer = gd.closest('#notebook-container');\n",
       "if (notebookContainer) {{\n",
       "    x.observe(notebookContainer, {childList: true});\n",
       "}}\n",
       "\n",
       "// Listen for the clearing of the current output cell\n",
       "var outputEl = gd.closest('.output');\n",
       "if (outputEl) {{\n",
       "    x.observe(outputEl, {childList: true});\n",
       "}}\n",
       "\n",
       "                        })                };                });            </script>        </div>"
      ]
     },
     "metadata": {},
     "output_type": "display_data"
    }
   ],
   "source": [
    "df['a'].iplot(kind='hist',bins=35)"
   ]
  },
  {
   "cell_type": "code",
   "execution_count": 48,
   "id": "5e6d71fa",
   "metadata": {},
   "outputs": [
    {
     "data": {
      "application/vnd.plotly.v1+json": {
       "config": {
        "linkText": "Export to plot.ly",
        "plotlyServerURL": "https://plot.ly",
        "showLink": true
       },
       "data": [
        {
         "histfunc": "count",
         "histnorm": "",
         "marker": {
          "color": "rgba(255, 153, 51, 1.0)",
          "line": {
           "color": "#4D5663",
           "width": 1.3
          }
         },
         "name": "a",
         "opacity": 0.8,
         "orientation": "v",
         "type": "histogram",
         "x": [
          -1.2536704061240342,
          -0.31192087006827185,
          -2.2109845815294356,
          0.26098210430390356,
          -0.42372505561706497,
          -0.5191246063006844,
          -0.3741979168810921,
          0.013160070003499067,
          -1.3936117653916562,
          -0.9879887112436886,
          0.9978019604285551,
          0.20408777022973887,
          -0.3751686712106355,
          0.14714190067587132,
          0.7097405973098823,
          -0.5980386770941455,
          -0.8580820814739449,
          -0.03928825662399084,
          2.1123756536844134,
          0.20988143099753984,
          -0.0039750860987576705,
          1.0837356737832347,
          0.25720841914284187,
          -0.6265295757295674,
          -0.8334593492338207,
          -0.43845976815063725,
          1.2182819398389937,
          -1.2402949889598742,
          -1.2071346174640567,
          -0.25215273236635155,
          -0.26222993788277515,
          -1.5944264482789066,
          -0.11603327631361181,
          0.3170166562461856,
          0.33184384567773306,
          0.2706533742615674,
          0.6886179771564876,
          0.33296980227084005,
          0.5860064727362081,
          -1.0790498039463736,
          0.036369968192229485,
          0.15144790493044746,
          -0.10393678206743479,
          0.8349700375535881,
          -1.206328193237761,
          0.5673265511778895,
          -0.06721204834887629,
          -0.543744658610441,
          -1.784873068359861,
          -1.5640842673613353,
          -1.7484510427524396,
          -0.9238595076773191,
          -0.07066518986172503,
          -1.2564883213487814,
          -1.255171782943583,
          -0.5693595220873484,
          -0.2680475201230551,
          -0.7370601821881222,
          1.4131046455732545,
          -0.4484711608573334,
          -0.03368558970719541,
          0.20060822572533968,
          -1.3006252925618582,
          -0.7650549164700556,
          -1.474269199202699,
          -1.9035357216209998,
          -0.842459505915815,
          -0.6450446032311398,
          -1.3859767495689528,
          0.5787535105345148,
          2.2955960081866325,
          -1.4380393667265592,
          0.592895059358941,
          0.6824300472122862,
          -1.978558056285446,
          0.6507979497194142,
          -0.8504019891320452,
          -0.23082902274044428,
          0.9275706159608799,
          -0.047095155777864835,
          -1.6405431622980855,
          -0.8744312401517957,
          -0.25871068506394845,
          0.27471500967068346,
          0.1946788757728365,
          1.4125245459008748,
          -0.049375511972559315,
          -0.10475479978240199,
          0.5133935150926221,
          -1.2223620008398135,
          -0.11638992089113567,
          -1.3023112967306605,
          0.30293182359718746,
          -1.6607840815862427,
          1.983670482457282,
          -1.0036184526149803,
          -1.428906436402728,
          1.5304130203604172,
          0.9133621367502792,
          -0.29639213224210054
         ]
        },
        {
         "histfunc": "count",
         "histnorm": "",
         "marker": {
          "color": "rgba(55, 128, 191, 1.0)",
          "line": {
           "color": "#4D5663",
           "width": 1.3
          }
         },
         "name": "b",
         "opacity": 0.8,
         "orientation": "v",
         "type": "histogram",
         "x": [
          -0.7172365979374294,
          0.1301927392996842,
          -1.393522266799919,
          0.5547087920801866,
          -0.5200071012122776,
          1.1613183698350373,
          -1.3529461218033918,
          1.3988825487452088,
          0.6733468125873788,
          1.5219448397371478,
          -0.7906269916573789,
          -0.3161501726488375,
          -0.41778212984503704,
          -0.5831677471760225,
          0.6023577387799757,
          -0.4443233853900075,
          0.7533047706847111,
          -1.3970815128632759,
          0.3581974945656321,
          0.8589985833109056,
          0.47592833921194794,
          0.23549672361459806,
          -0.18952266322583036,
          0.19974453806195278,
          -0.06960702398037072,
          -1.0086186324692388,
          0.9628957190504571,
          0.9474978795182155,
          0.8596145583597102,
          -0.4263569089417392,
          0.3499146348325409,
          0.9398534359848607,
          -0.6229775340336317,
          0.19749787601107976,
          -1.0991368107166477,
          0.13191944366896108,
          -0.42292656307822624,
          0.34519356856585565,
          0.514983356263597,
          -1.138924491691048,
          -1.189373130478294,
          0.9667822919326727,
          -1.150614139922435,
          0.42524038583700313,
          -0.03894968578993216,
          -0.13929919745961755,
          -0.3125569796919793,
          -1.4309654669216174,
          0.03980910697712983,
          -0.880089298606563,
          -1.1501158787075554,
          -1.4208883907476475,
          1.2273389142307352,
          0.7034530198234115,
          0.38818130211246876,
          0.18684137941578224,
          1.0825536881142404,
          -0.34031467699274226,
          -2.550099155251413,
          0.08468203433117498,
          0.44837050229530284,
          0.017602416217182646,
          -0.5201218604083405,
          0.654672383103486,
          -0.9318224461423867,
          -1.0800159254957447,
          1.544411010637449,
          -2.16227794297282,
          0.23561697608863844,
          -1.1278533299184488,
          -0.11732290592434473,
          -0.29730289220519107,
          -0.32750099938839783,
          0.955194867490096,
          -1.7596498603194104,
          0.7096375246310584,
          0.5821868144562231,
          -0.8746028069438861,
          0.9062882402006409,
          0.055217998884144866,
          -1.973828315514508,
          -1.004458985106134,
          1.7793279779693252,
          -0.10840911214856161,
          2.6867297265953103,
          0.91343388042321,
          -0.9377622323218044,
          -1.2570794768782148,
          1.6471666036145307,
          0.48188330904460136,
          -0.04052226717979435,
          -0.05859375010378374,
          1.1738796853901698,
          0.2795749088035469,
          1.0908754639387486,
          -1.1197331844989709,
          -1.2150861295185817,
          1.5136977245404255,
          0.8247996201154251,
          -0.24542134180675218
         ]
        },
        {
         "histfunc": "count",
         "histnorm": "",
         "marker": {
          "color": "rgba(50, 171, 96, 1.0)",
          "line": {
           "color": "#4D5663",
           "width": 1.3
          }
         },
         "name": "c",
         "opacity": 0.8,
         "orientation": "v",
         "type": "histogram",
         "x": [
          -0.644862269764822,
          -0.30779304426494414,
          1.4312069827650835,
          -0.568106716918909,
          -0.05482999949921287,
          1.3775688864000735,
          0.6969010286683164,
          -2.2929526767754216,
          0.09082610904100767,
          0.35623333678979724,
          1.0512567783275675,
          -1.0781253734726224,
          0.3051893108966182,
          0.11398895639943217,
          -0.5026548935373585,
          1.0100767573269718,
          1.6045563397800657,
          -0.263790151377017,
          1.4712932996464019,
          -0.5026694094274891,
          0.07602958833205785,
          0.13560896282949106,
          -0.8585960115677611,
          -0.8489487219660529,
          -0.36949464919022484,
          0.03506363469734359,
          -1.4111291043256964,
          -0.47803526330092605,
          1.6580456931546976,
          -1.2211657668381346,
          -1.1826923102828888,
          2.061911162448477,
          0.6877747246825724,
          -0.13328032534468331,
          0.9679268063934757,
          -0.7051450416419223,
          -0.2329471343594074,
          0.17571764933338305,
          -0.9889760436217521,
          1.706941676259754,
          -0.5542973605783889,
          1.7299250177970487,
          0.5323677350937979,
          0.5242285866578907,
          -0.597385471430855,
          0.16728901604561539,
          0.4142163978691079,
          1.692250276833783,
          1.7463791730772082,
          -0.21986570644528575,
          0.19127617579273945,
          0.08877869680039471,
          0.3075071782923635,
          -0.6468916090946528,
          -1.2489633296959335,
          0.29376203724273914,
          -0.6383223712123308,
          2.145148067398187,
          -0.5937240361377595,
          1.974857623800908,
          -1.2345916699396726,
          -0.40231911081509003,
          1.151067685185213,
          -1.684758230947675,
          0.66943289859867,
          0.5637987734791424,
          1.0482474041595975,
          -0.712096988002522,
          -1.8233548549123433,
          0.44447113578405967,
          3.389577803441184,
          -0.9456440548848006,
          -0.04086647782104779,
          0.27759419334555296,
          0.21164527133327032,
          1.148398128752941,
          0.15314627067663572,
          -1.8038820878934234,
          0.9722698111484178,
          1.0229092134274624,
          0.28283095471296954,
          -1.5510481364175461,
          0.061838266966372755,
          0.33059494433994546,
          -0.4556161090862515,
          1.5902552853587868,
          -0.9607932154675821,
          1.0375863648405528,
          1.2343312552332237,
          -0.04409033375219025,
          0.5213861390488062,
          0.48831165178233615,
          -2.2380864110431213,
          -0.6057784263895877,
          1.2246095538404946,
          0.7780165479817372,
          0.549101480326388,
          -0.48192376559470035,
          0.1177121625684017,
          0.27941031936166405
         ]
        },
        {
         "histfunc": "count",
         "histnorm": "",
         "marker": {
          "color": "rgba(128, 0, 128, 1.0)",
          "line": {
           "color": "#4D5663",
           "width": 1.3
          }
         },
         "name": "d",
         "opacity": 0.8,
         "orientation": "v",
         "type": "histogram",
         "x": [
          0.7497183605737537,
          -0.36957187829460453,
          0.05558868595169157,
          -1.326245374066973,
          0.48709573897201197,
          -0.04058352785552951,
          0.7172478305315246,
          1.1686461498120249,
          0.15582629174388662,
          -0.24935139025430994,
          1.5236235045735902,
          2.4621582729845315,
          0.17439551195791178,
          -0.7302229015928575,
          -0.07208072413731856,
          -0.8429801003585939,
          1.0588884773639018,
          -0.4280041278713005,
          -0.35651863457078803,
          -1.5311127200324355,
          -0.5645907407909591,
          0.905829449333737,
          -0.640080885178177,
          -0.8082682458443605,
          0.10455202848036407,
          1.898251111645053,
          -0.5377332031162471,
          -0.5180827040364145,
          -0.40246041657702597,
          -0.23120410044358786,
          2.888006850971286,
          0.8094919070078689,
          0.38794403172813,
          -1.7216833001165157,
          0.568176426413336,
          1.8919573672768957,
          1.0298118946879022,
          -0.5063878296633622,
          -2.685666244932097,
          1.1814794613153967,
          0.182148400494332,
          0.5870395371820794,
          -0.7551590075916406,
          -0.015455428501074637,
          -0.43217773668747894,
          1.749317470617879,
          1.7407285070776848,
          -0.1915199989179134,
          0.7721322184140336,
          -1.0420640493950046,
          -1.2620508523349931,
          -2.2208445357924154,
          -0.3132754958417208,
          -0.04729021895831102,
          -0.4710086932553789,
          -0.22111930592822035,
          -0.6450366797051841,
          0.4480636208184629,
          0.1346706197334301,
          0.1489804856923085,
          -0.28362936025387375,
          -1.7114546660239531,
          0.6640007478235729,
          -0.7272174881915302,
          0.24119566979843185,
          0.6820050042566222,
          0.13109669641631977,
          -1.2949030969007622,
          -1.050770605437413,
          1.651015366716756,
          0.8384754662912653,
          -1.5460206664018412,
          0.5183959952241453,
          0.11579969767816818,
          0.058004891068721094,
          -0.5684793809625174,
          -0.16142445243376213,
          -0.2066414523185034,
          -0.5962630480602175,
          0.20797001029890144,
          -0.8148988463933333,
          -1.2426282974685001,
          -0.47710924613388633,
          -0.33075195323778883,
          0.357857525991513,
          0.03411888325736434,
          -1.1117034719288414,
          3.464326284094295,
          1.5977825629997318,
          1.5241586370429179,
          -0.9059344027985381,
          -1.0683838168248458,
          0.9338553610898398,
          -1.031239647837061,
          1.3097747301664568,
          0.4207203875049453,
          -0.11839767155825544,
          0.3537186155026702,
          -1.3921761213532073,
          -1.3138793191773748
         ]
        }
       ],
       "layout": {
        "barmode": "overlay",
        "legend": {
         "bgcolor": "#F5F6F9",
         "font": {
          "color": "#4D5663"
         }
        },
        "paper_bgcolor": "#F5F6F9",
        "plot_bgcolor": "#F5F6F9",
        "template": {
         "data": {
          "bar": [
           {
            "error_x": {
             "color": "#2a3f5f"
            },
            "error_y": {
             "color": "#2a3f5f"
            },
            "marker": {
             "line": {
              "color": "#E5ECF6",
              "width": 0.5
             },
             "pattern": {
              "fillmode": "overlay",
              "size": 10,
              "solidity": 0.2
             }
            },
            "type": "bar"
           }
          ],
          "barpolar": [
           {
            "marker": {
             "line": {
              "color": "#E5ECF6",
              "width": 0.5
             },
             "pattern": {
              "fillmode": "overlay",
              "size": 10,
              "solidity": 0.2
             }
            },
            "type": "barpolar"
           }
          ],
          "carpet": [
           {
            "aaxis": {
             "endlinecolor": "#2a3f5f",
             "gridcolor": "white",
             "linecolor": "white",
             "minorgridcolor": "white",
             "startlinecolor": "#2a3f5f"
            },
            "baxis": {
             "endlinecolor": "#2a3f5f",
             "gridcolor": "white",
             "linecolor": "white",
             "minorgridcolor": "white",
             "startlinecolor": "#2a3f5f"
            },
            "type": "carpet"
           }
          ],
          "choropleth": [
           {
            "colorbar": {
             "outlinewidth": 0,
             "ticks": ""
            },
            "type": "choropleth"
           }
          ],
          "contour": [
           {
            "colorbar": {
             "outlinewidth": 0,
             "ticks": ""
            },
            "colorscale": [
             [
              0,
              "#0d0887"
             ],
             [
              0.1111111111111111,
              "#46039f"
             ],
             [
              0.2222222222222222,
              "#7201a8"
             ],
             [
              0.3333333333333333,
              "#9c179e"
             ],
             [
              0.4444444444444444,
              "#bd3786"
             ],
             [
              0.5555555555555556,
              "#d8576b"
             ],
             [
              0.6666666666666666,
              "#ed7953"
             ],
             [
              0.7777777777777778,
              "#fb9f3a"
             ],
             [
              0.8888888888888888,
              "#fdca26"
             ],
             [
              1,
              "#f0f921"
             ]
            ],
            "type": "contour"
           }
          ],
          "contourcarpet": [
           {
            "colorbar": {
             "outlinewidth": 0,
             "ticks": ""
            },
            "type": "contourcarpet"
           }
          ],
          "heatmap": [
           {
            "colorbar": {
             "outlinewidth": 0,
             "ticks": ""
            },
            "colorscale": [
             [
              0,
              "#0d0887"
             ],
             [
              0.1111111111111111,
              "#46039f"
             ],
             [
              0.2222222222222222,
              "#7201a8"
             ],
             [
              0.3333333333333333,
              "#9c179e"
             ],
             [
              0.4444444444444444,
              "#bd3786"
             ],
             [
              0.5555555555555556,
              "#d8576b"
             ],
             [
              0.6666666666666666,
              "#ed7953"
             ],
             [
              0.7777777777777778,
              "#fb9f3a"
             ],
             [
              0.8888888888888888,
              "#fdca26"
             ],
             [
              1,
              "#f0f921"
             ]
            ],
            "type": "heatmap"
           }
          ],
          "heatmapgl": [
           {
            "colorbar": {
             "outlinewidth": 0,
             "ticks": ""
            },
            "colorscale": [
             [
              0,
              "#0d0887"
             ],
             [
              0.1111111111111111,
              "#46039f"
             ],
             [
              0.2222222222222222,
              "#7201a8"
             ],
             [
              0.3333333333333333,
              "#9c179e"
             ],
             [
              0.4444444444444444,
              "#bd3786"
             ],
             [
              0.5555555555555556,
              "#d8576b"
             ],
             [
              0.6666666666666666,
              "#ed7953"
             ],
             [
              0.7777777777777778,
              "#fb9f3a"
             ],
             [
              0.8888888888888888,
              "#fdca26"
             ],
             [
              1,
              "#f0f921"
             ]
            ],
            "type": "heatmapgl"
           }
          ],
          "histogram": [
           {
            "marker": {
             "pattern": {
              "fillmode": "overlay",
              "size": 10,
              "solidity": 0.2
             }
            },
            "type": "histogram"
           }
          ],
          "histogram2d": [
           {
            "colorbar": {
             "outlinewidth": 0,
             "ticks": ""
            },
            "colorscale": [
             [
              0,
              "#0d0887"
             ],
             [
              0.1111111111111111,
              "#46039f"
             ],
             [
              0.2222222222222222,
              "#7201a8"
             ],
             [
              0.3333333333333333,
              "#9c179e"
             ],
             [
              0.4444444444444444,
              "#bd3786"
             ],
             [
              0.5555555555555556,
              "#d8576b"
             ],
             [
              0.6666666666666666,
              "#ed7953"
             ],
             [
              0.7777777777777778,
              "#fb9f3a"
             ],
             [
              0.8888888888888888,
              "#fdca26"
             ],
             [
              1,
              "#f0f921"
             ]
            ],
            "type": "histogram2d"
           }
          ],
          "histogram2dcontour": [
           {
            "colorbar": {
             "outlinewidth": 0,
             "ticks": ""
            },
            "colorscale": [
             [
              0,
              "#0d0887"
             ],
             [
              0.1111111111111111,
              "#46039f"
             ],
             [
              0.2222222222222222,
              "#7201a8"
             ],
             [
              0.3333333333333333,
              "#9c179e"
             ],
             [
              0.4444444444444444,
              "#bd3786"
             ],
             [
              0.5555555555555556,
              "#d8576b"
             ],
             [
              0.6666666666666666,
              "#ed7953"
             ],
             [
              0.7777777777777778,
              "#fb9f3a"
             ],
             [
              0.8888888888888888,
              "#fdca26"
             ],
             [
              1,
              "#f0f921"
             ]
            ],
            "type": "histogram2dcontour"
           }
          ],
          "mesh3d": [
           {
            "colorbar": {
             "outlinewidth": 0,
             "ticks": ""
            },
            "type": "mesh3d"
           }
          ],
          "parcoords": [
           {
            "line": {
             "colorbar": {
              "outlinewidth": 0,
              "ticks": ""
             }
            },
            "type": "parcoords"
           }
          ],
          "pie": [
           {
            "automargin": true,
            "type": "pie"
           }
          ],
          "scatter": [
           {
            "fillpattern": {
             "fillmode": "overlay",
             "size": 10,
             "solidity": 0.2
            },
            "type": "scatter"
           }
          ],
          "scatter3d": [
           {
            "line": {
             "colorbar": {
              "outlinewidth": 0,
              "ticks": ""
             }
            },
            "marker": {
             "colorbar": {
              "outlinewidth": 0,
              "ticks": ""
             }
            },
            "type": "scatter3d"
           }
          ],
          "scattercarpet": [
           {
            "marker": {
             "colorbar": {
              "outlinewidth": 0,
              "ticks": ""
             }
            },
            "type": "scattercarpet"
           }
          ],
          "scattergeo": [
           {
            "marker": {
             "colorbar": {
              "outlinewidth": 0,
              "ticks": ""
             }
            },
            "type": "scattergeo"
           }
          ],
          "scattergl": [
           {
            "marker": {
             "colorbar": {
              "outlinewidth": 0,
              "ticks": ""
             }
            },
            "type": "scattergl"
           }
          ],
          "scattermapbox": [
           {
            "marker": {
             "colorbar": {
              "outlinewidth": 0,
              "ticks": ""
             }
            },
            "type": "scattermapbox"
           }
          ],
          "scatterpolar": [
           {
            "marker": {
             "colorbar": {
              "outlinewidth": 0,
              "ticks": ""
             }
            },
            "type": "scatterpolar"
           }
          ],
          "scatterpolargl": [
           {
            "marker": {
             "colorbar": {
              "outlinewidth": 0,
              "ticks": ""
             }
            },
            "type": "scatterpolargl"
           }
          ],
          "scatterternary": [
           {
            "marker": {
             "colorbar": {
              "outlinewidth": 0,
              "ticks": ""
             }
            },
            "type": "scatterternary"
           }
          ],
          "surface": [
           {
            "colorbar": {
             "outlinewidth": 0,
             "ticks": ""
            },
            "colorscale": [
             [
              0,
              "#0d0887"
             ],
             [
              0.1111111111111111,
              "#46039f"
             ],
             [
              0.2222222222222222,
              "#7201a8"
             ],
             [
              0.3333333333333333,
              "#9c179e"
             ],
             [
              0.4444444444444444,
              "#bd3786"
             ],
             [
              0.5555555555555556,
              "#d8576b"
             ],
             [
              0.6666666666666666,
              "#ed7953"
             ],
             [
              0.7777777777777778,
              "#fb9f3a"
             ],
             [
              0.8888888888888888,
              "#fdca26"
             ],
             [
              1,
              "#f0f921"
             ]
            ],
            "type": "surface"
           }
          ],
          "table": [
           {
            "cells": {
             "fill": {
              "color": "#EBF0F8"
             },
             "line": {
              "color": "white"
             }
            },
            "header": {
             "fill": {
              "color": "#C8D4E3"
             },
             "line": {
              "color": "white"
             }
            },
            "type": "table"
           }
          ]
         },
         "layout": {
          "annotationdefaults": {
           "arrowcolor": "#2a3f5f",
           "arrowhead": 0,
           "arrowwidth": 1
          },
          "autotypenumbers": "strict",
          "coloraxis": {
           "colorbar": {
            "outlinewidth": 0,
            "ticks": ""
           }
          },
          "colorscale": {
           "diverging": [
            [
             0,
             "#8e0152"
            ],
            [
             0.1,
             "#c51b7d"
            ],
            [
             0.2,
             "#de77ae"
            ],
            [
             0.3,
             "#f1b6da"
            ],
            [
             0.4,
             "#fde0ef"
            ],
            [
             0.5,
             "#f7f7f7"
            ],
            [
             0.6,
             "#e6f5d0"
            ],
            [
             0.7,
             "#b8e186"
            ],
            [
             0.8,
             "#7fbc41"
            ],
            [
             0.9,
             "#4d9221"
            ],
            [
             1,
             "#276419"
            ]
           ],
           "sequential": [
            [
             0,
             "#0d0887"
            ],
            [
             0.1111111111111111,
             "#46039f"
            ],
            [
             0.2222222222222222,
             "#7201a8"
            ],
            [
             0.3333333333333333,
             "#9c179e"
            ],
            [
             0.4444444444444444,
             "#bd3786"
            ],
            [
             0.5555555555555556,
             "#d8576b"
            ],
            [
             0.6666666666666666,
             "#ed7953"
            ],
            [
             0.7777777777777778,
             "#fb9f3a"
            ],
            [
             0.8888888888888888,
             "#fdca26"
            ],
            [
             1,
             "#f0f921"
            ]
           ],
           "sequentialminus": [
            [
             0,
             "#0d0887"
            ],
            [
             0.1111111111111111,
             "#46039f"
            ],
            [
             0.2222222222222222,
             "#7201a8"
            ],
            [
             0.3333333333333333,
             "#9c179e"
            ],
            [
             0.4444444444444444,
             "#bd3786"
            ],
            [
             0.5555555555555556,
             "#d8576b"
            ],
            [
             0.6666666666666666,
             "#ed7953"
            ],
            [
             0.7777777777777778,
             "#fb9f3a"
            ],
            [
             0.8888888888888888,
             "#fdca26"
            ],
            [
             1,
             "#f0f921"
            ]
           ]
          },
          "colorway": [
           "#636efa",
           "#EF553B",
           "#00cc96",
           "#ab63fa",
           "#FFA15A",
           "#19d3f3",
           "#FF6692",
           "#B6E880",
           "#FF97FF",
           "#FECB52"
          ],
          "font": {
           "color": "#2a3f5f"
          },
          "geo": {
           "bgcolor": "white",
           "lakecolor": "white",
           "landcolor": "#E5ECF6",
           "showlakes": true,
           "showland": true,
           "subunitcolor": "white"
          },
          "hoverlabel": {
           "align": "left"
          },
          "hovermode": "closest",
          "mapbox": {
           "style": "light"
          },
          "paper_bgcolor": "white",
          "plot_bgcolor": "#E5ECF6",
          "polar": {
           "angularaxis": {
            "gridcolor": "white",
            "linecolor": "white",
            "ticks": ""
           },
           "bgcolor": "#E5ECF6",
           "radialaxis": {
            "gridcolor": "white",
            "linecolor": "white",
            "ticks": ""
           }
          },
          "scene": {
           "xaxis": {
            "backgroundcolor": "#E5ECF6",
            "gridcolor": "white",
            "gridwidth": 2,
            "linecolor": "white",
            "showbackground": true,
            "ticks": "",
            "zerolinecolor": "white"
           },
           "yaxis": {
            "backgroundcolor": "#E5ECF6",
            "gridcolor": "white",
            "gridwidth": 2,
            "linecolor": "white",
            "showbackground": true,
            "ticks": "",
            "zerolinecolor": "white"
           },
           "zaxis": {
            "backgroundcolor": "#E5ECF6",
            "gridcolor": "white",
            "gridwidth": 2,
            "linecolor": "white",
            "showbackground": true,
            "ticks": "",
            "zerolinecolor": "white"
           }
          },
          "shapedefaults": {
           "line": {
            "color": "#2a3f5f"
           }
          },
          "ternary": {
           "aaxis": {
            "gridcolor": "white",
            "linecolor": "white",
            "ticks": ""
           },
           "baxis": {
            "gridcolor": "white",
            "linecolor": "white",
            "ticks": ""
           },
           "bgcolor": "#E5ECF6",
           "caxis": {
            "gridcolor": "white",
            "linecolor": "white",
            "ticks": ""
           }
          },
          "title": {
           "x": 0.05
          },
          "xaxis": {
           "automargin": true,
           "gridcolor": "white",
           "linecolor": "white",
           "ticks": "",
           "title": {
            "standoff": 15
           },
           "zerolinecolor": "white",
           "zerolinewidth": 2
          },
          "yaxis": {
           "automargin": true,
           "gridcolor": "white",
           "linecolor": "white",
           "ticks": "",
           "title": {
            "standoff": 15
           },
           "zerolinecolor": "white",
           "zerolinewidth": 2
          }
         }
        },
        "title": {
         "font": {
          "color": "#4D5663"
         }
        },
        "xaxis": {
         "gridcolor": "#E1E5ED",
         "showgrid": true,
         "tickfont": {
          "color": "#4D5663"
         },
         "title": {
          "font": {
           "color": "#4D5663"
          },
          "text": ""
         },
         "zerolinecolor": "#E1E5ED"
        },
        "yaxis": {
         "gridcolor": "#E1E5ED",
         "showgrid": true,
         "tickfont": {
          "color": "#4D5663"
         },
         "title": {
          "font": {
           "color": "#4D5663"
          },
          "text": ""
         },
         "zerolinecolor": "#E1E5ED"
        }
       }
      },
      "text/html": [
       "<div>                            <div id=\"2a169493-2a3c-4411-a383-fc140e949c95\" class=\"plotly-graph-div\" style=\"height:525px; width:100%;\"></div>            <script type=\"text/javascript\">                require([\"plotly\"], function(Plotly) {                    window.PLOTLYENV=window.PLOTLYENV || {};\n",
       "                    window.PLOTLYENV.BASE_URL='https://plot.ly';                                    if (document.getElementById(\"2a169493-2a3c-4411-a383-fc140e949c95\")) {                    Plotly.newPlot(                        \"2a169493-2a3c-4411-a383-fc140e949c95\",                        [{\"histfunc\":\"count\",\"histnorm\":\"\",\"marker\":{\"color\":\"rgba(255, 153, 51, 1.0)\",\"line\":{\"color\":\"#4D5663\",\"width\":1.3}},\"name\":\"a\",\"opacity\":0.8,\"orientation\":\"v\",\"x\":[-1.2536704061240342,-0.31192087006827185,-2.2109845815294356,0.26098210430390356,-0.42372505561706497,-0.5191246063006844,-0.3741979168810921,0.013160070003499067,-1.3936117653916562,-0.9879887112436886,0.9978019604285551,0.20408777022973887,-0.3751686712106355,0.14714190067587132,0.7097405973098823,-0.5980386770941455,-0.8580820814739449,-0.03928825662399084,2.1123756536844134,0.20988143099753984,-0.0039750860987576705,1.0837356737832347,0.25720841914284187,-0.6265295757295674,-0.8334593492338207,-0.43845976815063725,1.2182819398389937,-1.2402949889598742,-1.2071346174640567,-0.25215273236635155,-0.26222993788277515,-1.5944264482789066,-0.11603327631361181,0.3170166562461856,0.33184384567773306,0.2706533742615674,0.6886179771564876,0.33296980227084005,0.5860064727362081,-1.0790498039463736,0.036369968192229485,0.15144790493044746,-0.10393678206743479,0.8349700375535881,-1.206328193237761,0.5673265511778895,-0.06721204834887629,-0.543744658610441,-1.784873068359861,-1.5640842673613353,-1.7484510427524396,-0.9238595076773191,-0.07066518986172503,-1.2564883213487814,-1.255171782943583,-0.5693595220873484,-0.2680475201230551,-0.7370601821881222,1.4131046455732545,-0.4484711608573334,-0.03368558970719541,0.20060822572533968,-1.3006252925618582,-0.7650549164700556,-1.474269199202699,-1.9035357216209998,-0.842459505915815,-0.6450446032311398,-1.3859767495689528,0.5787535105345148,2.2955960081866325,-1.4380393667265592,0.592895059358941,0.6824300472122862,-1.978558056285446,0.6507979497194142,-0.8504019891320452,-0.23082902274044428,0.9275706159608799,-0.047095155777864835,-1.6405431622980855,-0.8744312401517957,-0.25871068506394845,0.27471500967068346,0.1946788757728365,1.4125245459008748,-0.049375511972559315,-0.10475479978240199,0.5133935150926221,-1.2223620008398135,-0.11638992089113567,-1.3023112967306605,0.30293182359718746,-1.6607840815862427,1.983670482457282,-1.0036184526149803,-1.428906436402728,1.5304130203604172,0.9133621367502792,-0.29639213224210054],\"type\":\"histogram\"},{\"histfunc\":\"count\",\"histnorm\":\"\",\"marker\":{\"color\":\"rgba(55, 128, 191, 1.0)\",\"line\":{\"color\":\"#4D5663\",\"width\":1.3}},\"name\":\"b\",\"opacity\":0.8,\"orientation\":\"v\",\"x\":[-0.7172365979374294,0.1301927392996842,-1.393522266799919,0.5547087920801866,-0.5200071012122776,1.1613183698350373,-1.3529461218033918,1.3988825487452088,0.6733468125873788,1.5219448397371478,-0.7906269916573789,-0.3161501726488375,-0.41778212984503704,-0.5831677471760225,0.6023577387799757,-0.4443233853900075,0.7533047706847111,-1.3970815128632759,0.3581974945656321,0.8589985833109056,0.47592833921194794,0.23549672361459806,-0.18952266322583036,0.19974453806195278,-0.06960702398037072,-1.0086186324692388,0.9628957190504571,0.9474978795182155,0.8596145583597102,-0.4263569089417392,0.3499146348325409,0.9398534359848607,-0.6229775340336317,0.19749787601107976,-1.0991368107166477,0.13191944366896108,-0.42292656307822624,0.34519356856585565,0.514983356263597,-1.138924491691048,-1.189373130478294,0.9667822919326727,-1.150614139922435,0.42524038583700313,-0.03894968578993216,-0.13929919745961755,-0.3125569796919793,-1.4309654669216174,0.03980910697712983,-0.880089298606563,-1.1501158787075554,-1.4208883907476475,1.2273389142307352,0.7034530198234115,0.38818130211246876,0.18684137941578224,1.0825536881142404,-0.34031467699274226,-2.550099155251413,0.08468203433117498,0.44837050229530284,0.017602416217182646,-0.5201218604083405,0.654672383103486,-0.9318224461423867,-1.0800159254957447,1.544411010637449,-2.16227794297282,0.23561697608863844,-1.1278533299184488,-0.11732290592434473,-0.29730289220519107,-0.32750099938839783,0.955194867490096,-1.7596498603194104,0.7096375246310584,0.5821868144562231,-0.8746028069438861,0.9062882402006409,0.055217998884144866,-1.973828315514508,-1.004458985106134,1.7793279779693252,-0.10840911214856161,2.6867297265953103,0.91343388042321,-0.9377622323218044,-1.2570794768782148,1.6471666036145307,0.48188330904460136,-0.04052226717979435,-0.05859375010378374,1.1738796853901698,0.2795749088035469,1.0908754639387486,-1.1197331844989709,-1.2150861295185817,1.5136977245404255,0.8247996201154251,-0.24542134180675218],\"type\":\"histogram\"},{\"histfunc\":\"count\",\"histnorm\":\"\",\"marker\":{\"color\":\"rgba(50, 171, 96, 1.0)\",\"line\":{\"color\":\"#4D5663\",\"width\":1.3}},\"name\":\"c\",\"opacity\":0.8,\"orientation\":\"v\",\"x\":[-0.644862269764822,-0.30779304426494414,1.4312069827650835,-0.568106716918909,-0.05482999949921287,1.3775688864000735,0.6969010286683164,-2.2929526767754216,0.09082610904100767,0.35623333678979724,1.0512567783275675,-1.0781253734726224,0.3051893108966182,0.11398895639943217,-0.5026548935373585,1.0100767573269718,1.6045563397800657,-0.263790151377017,1.4712932996464019,-0.5026694094274891,0.07602958833205785,0.13560896282949106,-0.8585960115677611,-0.8489487219660529,-0.36949464919022484,0.03506363469734359,-1.4111291043256964,-0.47803526330092605,1.6580456931546976,-1.2211657668381346,-1.1826923102828888,2.061911162448477,0.6877747246825724,-0.13328032534468331,0.9679268063934757,-0.7051450416419223,-0.2329471343594074,0.17571764933338305,-0.9889760436217521,1.706941676259754,-0.5542973605783889,1.7299250177970487,0.5323677350937979,0.5242285866578907,-0.597385471430855,0.16728901604561539,0.4142163978691079,1.692250276833783,1.7463791730772082,-0.21986570644528575,0.19127617579273945,0.08877869680039471,0.3075071782923635,-0.6468916090946528,-1.2489633296959335,0.29376203724273914,-0.6383223712123308,2.145148067398187,-0.5937240361377595,1.974857623800908,-1.2345916699396726,-0.40231911081509003,1.151067685185213,-1.684758230947675,0.66943289859867,0.5637987734791424,1.0482474041595975,-0.712096988002522,-1.8233548549123433,0.44447113578405967,3.389577803441184,-0.9456440548848006,-0.04086647782104779,0.27759419334555296,0.21164527133327032,1.148398128752941,0.15314627067663572,-1.8038820878934234,0.9722698111484178,1.0229092134274624,0.28283095471296954,-1.5510481364175461,0.061838266966372755,0.33059494433994546,-0.4556161090862515,1.5902552853587868,-0.9607932154675821,1.0375863648405528,1.2343312552332237,-0.04409033375219025,0.5213861390488062,0.48831165178233615,-2.2380864110431213,-0.6057784263895877,1.2246095538404946,0.7780165479817372,0.549101480326388,-0.48192376559470035,0.1177121625684017,0.27941031936166405],\"type\":\"histogram\"},{\"histfunc\":\"count\",\"histnorm\":\"\",\"marker\":{\"color\":\"rgba(128, 0, 128, 1.0)\",\"line\":{\"color\":\"#4D5663\",\"width\":1.3}},\"name\":\"d\",\"opacity\":0.8,\"orientation\":\"v\",\"x\":[0.7497183605737537,-0.36957187829460453,0.05558868595169157,-1.326245374066973,0.48709573897201197,-0.04058352785552951,0.7172478305315246,1.1686461498120249,0.15582629174388662,-0.24935139025430994,1.5236235045735902,2.4621582729845315,0.17439551195791178,-0.7302229015928575,-0.07208072413731856,-0.8429801003585939,1.0588884773639018,-0.4280041278713005,-0.35651863457078803,-1.5311127200324355,-0.5645907407909591,0.905829449333737,-0.640080885178177,-0.8082682458443605,0.10455202848036407,1.898251111645053,-0.5377332031162471,-0.5180827040364145,-0.40246041657702597,-0.23120410044358786,2.888006850971286,0.8094919070078689,0.38794403172813,-1.7216833001165157,0.568176426413336,1.8919573672768957,1.0298118946879022,-0.5063878296633622,-2.685666244932097,1.1814794613153967,0.182148400494332,0.5870395371820794,-0.7551590075916406,-0.015455428501074637,-0.43217773668747894,1.749317470617879,1.7407285070776848,-0.1915199989179134,0.7721322184140336,-1.0420640493950046,-1.2620508523349931,-2.2208445357924154,-0.3132754958417208,-0.04729021895831102,-0.4710086932553789,-0.22111930592822035,-0.6450366797051841,0.4480636208184629,0.1346706197334301,0.1489804856923085,-0.28362936025387375,-1.7114546660239531,0.6640007478235729,-0.7272174881915302,0.24119566979843185,0.6820050042566222,0.13109669641631977,-1.2949030969007622,-1.050770605437413,1.651015366716756,0.8384754662912653,-1.5460206664018412,0.5183959952241453,0.11579969767816818,0.058004891068721094,-0.5684793809625174,-0.16142445243376213,-0.2066414523185034,-0.5962630480602175,0.20797001029890144,-0.8148988463933333,-1.2426282974685001,-0.47710924613388633,-0.33075195323778883,0.357857525991513,0.03411888325736434,-1.1117034719288414,3.464326284094295,1.5977825629997318,1.5241586370429179,-0.9059344027985381,-1.0683838168248458,0.9338553610898398,-1.031239647837061,1.3097747301664568,0.4207203875049453,-0.11839767155825544,0.3537186155026702,-1.3921761213532073,-1.3138793191773748],\"type\":\"histogram\"}],                        {\"barmode\":\"overlay\",\"legend\":{\"bgcolor\":\"#F5F6F9\",\"font\":{\"color\":\"#4D5663\"}},\"paper_bgcolor\":\"#F5F6F9\",\"plot_bgcolor\":\"#F5F6F9\",\"template\":{\"data\":{\"barpolar\":[{\"marker\":{\"line\":{\"color\":\"#E5ECF6\",\"width\":0.5},\"pattern\":{\"fillmode\":\"overlay\",\"size\":10,\"solidity\":0.2}},\"type\":\"barpolar\"}],\"bar\":[{\"error_x\":{\"color\":\"#2a3f5f\"},\"error_y\":{\"color\":\"#2a3f5f\"},\"marker\":{\"line\":{\"color\":\"#E5ECF6\",\"width\":0.5},\"pattern\":{\"fillmode\":\"overlay\",\"size\":10,\"solidity\":0.2}},\"type\":\"bar\"}],\"carpet\":[{\"aaxis\":{\"endlinecolor\":\"#2a3f5f\",\"gridcolor\":\"white\",\"linecolor\":\"white\",\"minorgridcolor\":\"white\",\"startlinecolor\":\"#2a3f5f\"},\"baxis\":{\"endlinecolor\":\"#2a3f5f\",\"gridcolor\":\"white\",\"linecolor\":\"white\",\"minorgridcolor\":\"white\",\"startlinecolor\":\"#2a3f5f\"},\"type\":\"carpet\"}],\"choropleth\":[{\"colorbar\":{\"outlinewidth\":0,\"ticks\":\"\"},\"type\":\"choropleth\"}],\"contourcarpet\":[{\"colorbar\":{\"outlinewidth\":0,\"ticks\":\"\"},\"type\":\"contourcarpet\"}],\"contour\":[{\"colorbar\":{\"outlinewidth\":0,\"ticks\":\"\"},\"colorscale\":[[0.0,\"#0d0887\"],[0.1111111111111111,\"#46039f\"],[0.2222222222222222,\"#7201a8\"],[0.3333333333333333,\"#9c179e\"],[0.4444444444444444,\"#bd3786\"],[0.5555555555555556,\"#d8576b\"],[0.6666666666666666,\"#ed7953\"],[0.7777777777777778,\"#fb9f3a\"],[0.8888888888888888,\"#fdca26\"],[1.0,\"#f0f921\"]],\"type\":\"contour\"}],\"heatmapgl\":[{\"colorbar\":{\"outlinewidth\":0,\"ticks\":\"\"},\"colorscale\":[[0.0,\"#0d0887\"],[0.1111111111111111,\"#46039f\"],[0.2222222222222222,\"#7201a8\"],[0.3333333333333333,\"#9c179e\"],[0.4444444444444444,\"#bd3786\"],[0.5555555555555556,\"#d8576b\"],[0.6666666666666666,\"#ed7953\"],[0.7777777777777778,\"#fb9f3a\"],[0.8888888888888888,\"#fdca26\"],[1.0,\"#f0f921\"]],\"type\":\"heatmapgl\"}],\"heatmap\":[{\"colorbar\":{\"outlinewidth\":0,\"ticks\":\"\"},\"colorscale\":[[0.0,\"#0d0887\"],[0.1111111111111111,\"#46039f\"],[0.2222222222222222,\"#7201a8\"],[0.3333333333333333,\"#9c179e\"],[0.4444444444444444,\"#bd3786\"],[0.5555555555555556,\"#d8576b\"],[0.6666666666666666,\"#ed7953\"],[0.7777777777777778,\"#fb9f3a\"],[0.8888888888888888,\"#fdca26\"],[1.0,\"#f0f921\"]],\"type\":\"heatmap\"}],\"histogram2dcontour\":[{\"colorbar\":{\"outlinewidth\":0,\"ticks\":\"\"},\"colorscale\":[[0.0,\"#0d0887\"],[0.1111111111111111,\"#46039f\"],[0.2222222222222222,\"#7201a8\"],[0.3333333333333333,\"#9c179e\"],[0.4444444444444444,\"#bd3786\"],[0.5555555555555556,\"#d8576b\"],[0.6666666666666666,\"#ed7953\"],[0.7777777777777778,\"#fb9f3a\"],[0.8888888888888888,\"#fdca26\"],[1.0,\"#f0f921\"]],\"type\":\"histogram2dcontour\"}],\"histogram2d\":[{\"colorbar\":{\"outlinewidth\":0,\"ticks\":\"\"},\"colorscale\":[[0.0,\"#0d0887\"],[0.1111111111111111,\"#46039f\"],[0.2222222222222222,\"#7201a8\"],[0.3333333333333333,\"#9c179e\"],[0.4444444444444444,\"#bd3786\"],[0.5555555555555556,\"#d8576b\"],[0.6666666666666666,\"#ed7953\"],[0.7777777777777778,\"#fb9f3a\"],[0.8888888888888888,\"#fdca26\"],[1.0,\"#f0f921\"]],\"type\":\"histogram2d\"}],\"histogram\":[{\"marker\":{\"pattern\":{\"fillmode\":\"overlay\",\"size\":10,\"solidity\":0.2}},\"type\":\"histogram\"}],\"mesh3d\":[{\"colorbar\":{\"outlinewidth\":0,\"ticks\":\"\"},\"type\":\"mesh3d\"}],\"parcoords\":[{\"line\":{\"colorbar\":{\"outlinewidth\":0,\"ticks\":\"\"}},\"type\":\"parcoords\"}],\"pie\":[{\"automargin\":true,\"type\":\"pie\"}],\"scatter3d\":[{\"line\":{\"colorbar\":{\"outlinewidth\":0,\"ticks\":\"\"}},\"marker\":{\"colorbar\":{\"outlinewidth\":0,\"ticks\":\"\"}},\"type\":\"scatter3d\"}],\"scattercarpet\":[{\"marker\":{\"colorbar\":{\"outlinewidth\":0,\"ticks\":\"\"}},\"type\":\"scattercarpet\"}],\"scattergeo\":[{\"marker\":{\"colorbar\":{\"outlinewidth\":0,\"ticks\":\"\"}},\"type\":\"scattergeo\"}],\"scattergl\":[{\"marker\":{\"colorbar\":{\"outlinewidth\":0,\"ticks\":\"\"}},\"type\":\"scattergl\"}],\"scattermapbox\":[{\"marker\":{\"colorbar\":{\"outlinewidth\":0,\"ticks\":\"\"}},\"type\":\"scattermapbox\"}],\"scatterpolargl\":[{\"marker\":{\"colorbar\":{\"outlinewidth\":0,\"ticks\":\"\"}},\"type\":\"scatterpolargl\"}],\"scatterpolar\":[{\"marker\":{\"colorbar\":{\"outlinewidth\":0,\"ticks\":\"\"}},\"type\":\"scatterpolar\"}],\"scatter\":[{\"fillpattern\":{\"fillmode\":\"overlay\",\"size\":10,\"solidity\":0.2},\"type\":\"scatter\"}],\"scatterternary\":[{\"marker\":{\"colorbar\":{\"outlinewidth\":0,\"ticks\":\"\"}},\"type\":\"scatterternary\"}],\"surface\":[{\"colorbar\":{\"outlinewidth\":0,\"ticks\":\"\"},\"colorscale\":[[0.0,\"#0d0887\"],[0.1111111111111111,\"#46039f\"],[0.2222222222222222,\"#7201a8\"],[0.3333333333333333,\"#9c179e\"],[0.4444444444444444,\"#bd3786\"],[0.5555555555555556,\"#d8576b\"],[0.6666666666666666,\"#ed7953\"],[0.7777777777777778,\"#fb9f3a\"],[0.8888888888888888,\"#fdca26\"],[1.0,\"#f0f921\"]],\"type\":\"surface\"}],\"table\":[{\"cells\":{\"fill\":{\"color\":\"#EBF0F8\"},\"line\":{\"color\":\"white\"}},\"header\":{\"fill\":{\"color\":\"#C8D4E3\"},\"line\":{\"color\":\"white\"}},\"type\":\"table\"}]},\"layout\":{\"annotationdefaults\":{\"arrowcolor\":\"#2a3f5f\",\"arrowhead\":0,\"arrowwidth\":1},\"autotypenumbers\":\"strict\",\"coloraxis\":{\"colorbar\":{\"outlinewidth\":0,\"ticks\":\"\"}},\"colorscale\":{\"diverging\":[[0,\"#8e0152\"],[0.1,\"#c51b7d\"],[0.2,\"#de77ae\"],[0.3,\"#f1b6da\"],[0.4,\"#fde0ef\"],[0.5,\"#f7f7f7\"],[0.6,\"#e6f5d0\"],[0.7,\"#b8e186\"],[0.8,\"#7fbc41\"],[0.9,\"#4d9221\"],[1,\"#276419\"]],\"sequential\":[[0.0,\"#0d0887\"],[0.1111111111111111,\"#46039f\"],[0.2222222222222222,\"#7201a8\"],[0.3333333333333333,\"#9c179e\"],[0.4444444444444444,\"#bd3786\"],[0.5555555555555556,\"#d8576b\"],[0.6666666666666666,\"#ed7953\"],[0.7777777777777778,\"#fb9f3a\"],[0.8888888888888888,\"#fdca26\"],[1.0,\"#f0f921\"]],\"sequentialminus\":[[0.0,\"#0d0887\"],[0.1111111111111111,\"#46039f\"],[0.2222222222222222,\"#7201a8\"],[0.3333333333333333,\"#9c179e\"],[0.4444444444444444,\"#bd3786\"],[0.5555555555555556,\"#d8576b\"],[0.6666666666666666,\"#ed7953\"],[0.7777777777777778,\"#fb9f3a\"],[0.8888888888888888,\"#fdca26\"],[1.0,\"#f0f921\"]]},\"colorway\":[\"#636efa\",\"#EF553B\",\"#00cc96\",\"#ab63fa\",\"#FFA15A\",\"#19d3f3\",\"#FF6692\",\"#B6E880\",\"#FF97FF\",\"#FECB52\"],\"font\":{\"color\":\"#2a3f5f\"},\"geo\":{\"bgcolor\":\"white\",\"lakecolor\":\"white\",\"landcolor\":\"#E5ECF6\",\"showlakes\":true,\"showland\":true,\"subunitcolor\":\"white\"},\"hoverlabel\":{\"align\":\"left\"},\"hovermode\":\"closest\",\"mapbox\":{\"style\":\"light\"},\"paper_bgcolor\":\"white\",\"plot_bgcolor\":\"#E5ECF6\",\"polar\":{\"angularaxis\":{\"gridcolor\":\"white\",\"linecolor\":\"white\",\"ticks\":\"\"},\"bgcolor\":\"#E5ECF6\",\"radialaxis\":{\"gridcolor\":\"white\",\"linecolor\":\"white\",\"ticks\":\"\"}},\"scene\":{\"xaxis\":{\"backgroundcolor\":\"#E5ECF6\",\"gridcolor\":\"white\",\"gridwidth\":2,\"linecolor\":\"white\",\"showbackground\":true,\"ticks\":\"\",\"zerolinecolor\":\"white\"},\"yaxis\":{\"backgroundcolor\":\"#E5ECF6\",\"gridcolor\":\"white\",\"gridwidth\":2,\"linecolor\":\"white\",\"showbackground\":true,\"ticks\":\"\",\"zerolinecolor\":\"white\"},\"zaxis\":{\"backgroundcolor\":\"#E5ECF6\",\"gridcolor\":\"white\",\"gridwidth\":2,\"linecolor\":\"white\",\"showbackground\":true,\"ticks\":\"\",\"zerolinecolor\":\"white\"}},\"shapedefaults\":{\"line\":{\"color\":\"#2a3f5f\"}},\"ternary\":{\"aaxis\":{\"gridcolor\":\"white\",\"linecolor\":\"white\",\"ticks\":\"\"},\"baxis\":{\"gridcolor\":\"white\",\"linecolor\":\"white\",\"ticks\":\"\"},\"bgcolor\":\"#E5ECF6\",\"caxis\":{\"gridcolor\":\"white\",\"linecolor\":\"white\",\"ticks\":\"\"}},\"title\":{\"x\":0.05},\"xaxis\":{\"automargin\":true,\"gridcolor\":\"white\",\"linecolor\":\"white\",\"ticks\":\"\",\"title\":{\"standoff\":15},\"zerolinecolor\":\"white\",\"zerolinewidth\":2},\"yaxis\":{\"automargin\":true,\"gridcolor\":\"white\",\"linecolor\":\"white\",\"ticks\":\"\",\"title\":{\"standoff\":15},\"zerolinecolor\":\"white\",\"zerolinewidth\":2}}},\"title\":{\"font\":{\"color\":\"#4D5663\"}},\"xaxis\":{\"gridcolor\":\"#E1E5ED\",\"showgrid\":true,\"tickfont\":{\"color\":\"#4D5663\"},\"title\":{\"font\":{\"color\":\"#4D5663\"},\"text\":\"\"},\"zerolinecolor\":\"#E1E5ED\"},\"yaxis\":{\"gridcolor\":\"#E1E5ED\",\"showgrid\":true,\"tickfont\":{\"color\":\"#4D5663\"},\"title\":{\"font\":{\"color\":\"#4D5663\"},\"text\":\"\"},\"zerolinecolor\":\"#E1E5ED\"}},                        {\"showLink\": true, \"linkText\": \"Export to plot.ly\", \"plotlyServerURL\": \"https://plot.ly\", \"responsive\": true}                    ).then(function(){\n",
       "                            \n",
       "var gd = document.getElementById('2a169493-2a3c-4411-a383-fc140e949c95');\n",
       "var x = new MutationObserver(function (mutations, observer) {{\n",
       "        var display = window.getComputedStyle(gd).display;\n",
       "        if (!display || display === 'none') {{\n",
       "            console.log([gd, 'removed!']);\n",
       "            Plotly.purge(gd);\n",
       "            observer.disconnect();\n",
       "        }}\n",
       "}});\n",
       "\n",
       "// Listen for the removal of the full notebook cells\n",
       "var notebookContainer = gd.closest('#notebook-container');\n",
       "if (notebookContainer) {{\n",
       "    x.observe(notebookContainer, {childList: true});\n",
       "}}\n",
       "\n",
       "// Listen for the clearing of the current output cell\n",
       "var outputEl = gd.closest('.output');\n",
       "if (outputEl) {{\n",
       "    x.observe(outputEl, {childList: true});\n",
       "}}\n",
       "\n",
       "                        })                };                });            </script>        </div>"
      ]
     },
     "metadata": {},
     "output_type": "display_data"
    }
   ],
   "source": [
    "df.iplot(kind='hist')"
   ]
  },
  {
   "cell_type": "code",
   "execution_count": 50,
   "id": "5102d387",
   "metadata": {},
   "outputs": [
    {
     "name": "stderr",
     "output_type": "stream",
     "text": [
      "/Users/apple/opt/anaconda3/lib/python3.8/site-packages/cufflinks/plotlytools.py:849: FutureWarning:\n",
      "\n",
      "The pandas.np module is deprecated and will be removed from pandas in a future version. Import numpy directly instead\n",
      "\n",
      "/Users/apple/opt/anaconda3/lib/python3.8/site-packages/cufflinks/plotlytools.py:850: FutureWarning:\n",
      "\n",
      "The pandas.np module is deprecated and will be removed from pandas in a future version. Import numpy directly instead\n",
      "\n"
     ]
    },
    {
     "data": {
      "application/vnd.plotly.v1+json": {
       "config": {
        "linkText": "Export to plot.ly",
        "plotlyServerURL": "https://plot.ly",
        "showLink": true
       },
       "data": [
        {
         "line": {
          "color": "rgba(255, 153, 51, 1.0)",
          "dash": "solid",
          "shape": "linear",
          "width": 1.3
         },
         "mode": "lines",
         "name": "a",
         "text": "",
         "type": "scatter",
         "x": [
          0,
          1,
          2,
          3,
          4,
          5,
          6,
          7,
          8,
          9,
          10,
          11,
          12,
          13,
          14,
          15,
          16,
          17,
          18,
          19,
          20,
          21,
          22,
          23,
          24,
          25,
          26,
          27,
          28,
          29,
          30,
          31,
          32,
          33,
          34,
          35,
          36,
          37,
          38,
          39,
          40,
          41,
          42,
          43,
          44,
          45,
          46,
          47,
          48,
          49,
          50,
          51,
          52,
          53,
          54,
          55,
          56,
          57,
          58,
          59,
          60,
          61,
          62,
          63,
          64,
          65,
          66,
          67,
          68,
          69,
          70,
          71,
          72,
          73,
          74,
          75,
          76,
          77,
          78,
          79,
          80,
          81,
          82,
          83,
          84,
          85,
          86,
          87,
          88,
          89,
          90,
          91,
          92,
          93,
          94,
          95,
          96,
          97,
          98,
          99
         ],
         "y": [
          -1.2536704061240342,
          -0.31192087006827185,
          -2.2109845815294356,
          0.26098210430390356,
          -0.42372505561706497,
          -0.5191246063006844,
          -0.3741979168810921,
          0.013160070003499067,
          -1.3936117653916562,
          -0.9879887112436886,
          0.9978019604285551,
          0.20408777022973887,
          -0.3751686712106355,
          0.14714190067587132,
          0.7097405973098823,
          -0.5980386770941455,
          -0.8580820814739449,
          -0.03928825662399084,
          2.1123756536844134,
          0.20988143099753984,
          -0.0039750860987576705,
          1.0837356737832347,
          0.25720841914284187,
          -0.6265295757295674,
          -0.8334593492338207,
          -0.43845976815063725,
          1.2182819398389937,
          -1.2402949889598742,
          -1.2071346174640567,
          -0.25215273236635155,
          -0.26222993788277515,
          -1.5944264482789066,
          -0.11603327631361181,
          0.3170166562461856,
          0.33184384567773306,
          0.2706533742615674,
          0.6886179771564876,
          0.33296980227084005,
          0.5860064727362081,
          -1.0790498039463736,
          0.036369968192229485,
          0.15144790493044746,
          -0.10393678206743479,
          0.8349700375535881,
          -1.206328193237761,
          0.5673265511778895,
          -0.06721204834887629,
          -0.543744658610441,
          -1.784873068359861,
          -1.5640842673613353,
          -1.7484510427524396,
          -0.9238595076773191,
          -0.07066518986172503,
          -1.2564883213487814,
          -1.255171782943583,
          -0.5693595220873484,
          -0.2680475201230551,
          -0.7370601821881222,
          1.4131046455732545,
          -0.4484711608573334,
          -0.03368558970719541,
          0.20060822572533968,
          -1.3006252925618582,
          -0.7650549164700556,
          -1.474269199202699,
          -1.9035357216209998,
          -0.842459505915815,
          -0.6450446032311398,
          -1.3859767495689528,
          0.5787535105345148,
          2.2955960081866325,
          -1.4380393667265592,
          0.592895059358941,
          0.6824300472122862,
          -1.978558056285446,
          0.6507979497194142,
          -0.8504019891320452,
          -0.23082902274044428,
          0.9275706159608799,
          -0.047095155777864835,
          -1.6405431622980855,
          -0.8744312401517957,
          -0.25871068506394845,
          0.27471500967068346,
          0.1946788757728365,
          1.4125245459008748,
          -0.049375511972559315,
          -0.10475479978240199,
          0.5133935150926221,
          -1.2223620008398135,
          -0.11638992089113567,
          -1.3023112967306605,
          0.30293182359718746,
          -1.6607840815862427,
          1.983670482457282,
          -1.0036184526149803,
          -1.428906436402728,
          1.5304130203604172,
          0.9133621367502792,
          -0.29639213224210054
         ]
        },
        {
         "line": {
          "color": "rgba(55, 128, 191, 1.0)",
          "dash": "solid",
          "shape": "linear",
          "width": 1.3
         },
         "mode": "lines",
         "name": "b",
         "text": "",
         "type": "scatter",
         "x": [
          0,
          1,
          2,
          3,
          4,
          5,
          6,
          7,
          8,
          9,
          10,
          11,
          12,
          13,
          14,
          15,
          16,
          17,
          18,
          19,
          20,
          21,
          22,
          23,
          24,
          25,
          26,
          27,
          28,
          29,
          30,
          31,
          32,
          33,
          34,
          35,
          36,
          37,
          38,
          39,
          40,
          41,
          42,
          43,
          44,
          45,
          46,
          47,
          48,
          49,
          50,
          51,
          52,
          53,
          54,
          55,
          56,
          57,
          58,
          59,
          60,
          61,
          62,
          63,
          64,
          65,
          66,
          67,
          68,
          69,
          70,
          71,
          72,
          73,
          74,
          75,
          76,
          77,
          78,
          79,
          80,
          81,
          82,
          83,
          84,
          85,
          86,
          87,
          88,
          89,
          90,
          91,
          92,
          93,
          94,
          95,
          96,
          97,
          98,
          99
         ],
         "y": [
          -0.7172365979374294,
          0.1301927392996842,
          -1.393522266799919,
          0.5547087920801866,
          -0.5200071012122776,
          1.1613183698350373,
          -1.3529461218033918,
          1.3988825487452088,
          0.6733468125873788,
          1.5219448397371478,
          -0.7906269916573789,
          -0.3161501726488375,
          -0.41778212984503704,
          -0.5831677471760225,
          0.6023577387799757,
          -0.4443233853900075,
          0.7533047706847111,
          -1.3970815128632759,
          0.3581974945656321,
          0.8589985833109056,
          0.47592833921194794,
          0.23549672361459806,
          -0.18952266322583036,
          0.19974453806195278,
          -0.06960702398037072,
          -1.0086186324692388,
          0.9628957190504571,
          0.9474978795182155,
          0.8596145583597102,
          -0.4263569089417392,
          0.3499146348325409,
          0.9398534359848607,
          -0.6229775340336317,
          0.19749787601107976,
          -1.0991368107166477,
          0.13191944366896108,
          -0.42292656307822624,
          0.34519356856585565,
          0.514983356263597,
          -1.138924491691048,
          -1.189373130478294,
          0.9667822919326727,
          -1.150614139922435,
          0.42524038583700313,
          -0.03894968578993216,
          -0.13929919745961755,
          -0.3125569796919793,
          -1.4309654669216174,
          0.03980910697712983,
          -0.880089298606563,
          -1.1501158787075554,
          -1.4208883907476475,
          1.2273389142307352,
          0.7034530198234115,
          0.38818130211246876,
          0.18684137941578224,
          1.0825536881142404,
          -0.34031467699274226,
          -2.550099155251413,
          0.08468203433117498,
          0.44837050229530284,
          0.017602416217182646,
          -0.5201218604083405,
          0.654672383103486,
          -0.9318224461423867,
          -1.0800159254957447,
          1.544411010637449,
          -2.16227794297282,
          0.23561697608863844,
          -1.1278533299184488,
          -0.11732290592434473,
          -0.29730289220519107,
          -0.32750099938839783,
          0.955194867490096,
          -1.7596498603194104,
          0.7096375246310584,
          0.5821868144562231,
          -0.8746028069438861,
          0.9062882402006409,
          0.055217998884144866,
          -1.973828315514508,
          -1.004458985106134,
          1.7793279779693252,
          -0.10840911214856161,
          2.6867297265953103,
          0.91343388042321,
          -0.9377622323218044,
          -1.2570794768782148,
          1.6471666036145307,
          0.48188330904460136,
          -0.04052226717979435,
          -0.05859375010378374,
          1.1738796853901698,
          0.2795749088035469,
          1.0908754639387486,
          -1.1197331844989709,
          -1.2150861295185817,
          1.5136977245404255,
          0.8247996201154251,
          -0.24542134180675218
         ]
        },
        {
         "connectgaps": false,
         "fill": "tozeroy",
         "line": {
          "color": "green",
          "dash": "solid",
          "shape": "linear",
          "width": 0.5
         },
         "mode": "lines",
         "name": "Spread",
         "showlegend": false,
         "type": "scatter",
         "x": [
          0,
          1,
          2,
          3,
          4,
          5,
          6,
          7,
          8,
          9,
          10,
          11,
          12,
          13,
          14,
          15,
          16,
          17,
          18,
          19,
          20,
          21,
          22,
          23,
          24,
          25,
          26,
          27,
          28,
          29,
          30,
          31,
          32,
          33,
          34,
          35,
          36,
          37,
          38,
          39,
          40,
          41,
          42,
          43,
          44,
          45,
          46,
          47,
          48,
          49,
          50,
          51,
          52,
          53,
          54,
          55,
          56,
          57,
          58,
          59,
          60,
          61,
          62,
          63,
          64,
          65,
          66,
          67,
          68,
          69,
          70,
          71,
          72,
          73,
          74,
          75,
          76,
          77,
          78,
          79,
          80,
          81,
          82,
          83,
          84,
          85,
          86,
          87,
          88,
          89,
          90,
          91,
          92,
          93,
          94,
          95,
          96,
          97,
          98,
          99
         ],
         "xaxis": "x2",
         "y": [
          "",
          "",
          "",
          "",
          0.09628204559521258,
          "",
          0.9787482049222997,
          "",
          "",
          "",
          1.788428952085934,
          0.5202379428785764,
          0.042613458634401524,
          0.7303096478518938,
          0.10738285852990659,
          "",
          "",
          1.357793256239285,
          1.7541781591187813,
          "",
          "",
          0.8482389501686366,
          0.4467310823686722,
          "",
          "",
          0.5701588643186015,
          0.25538622078853657,
          "",
          "",
          0.17420417657538767,
          "",
          "",
          0.5069442577200198,
          0.11951878023510581,
          1.4309806563943808,
          0.1387339305926063,
          1.111544540234714,
          "",
          0.07102311647261106,
          0.059874687744674304,
          1.2257430986705233,
          "",
          1.0466773578550002,
          0.409729651716585,
          "",
          0.7066257486375072,
          0.24534493134310303,
          0.8872208083111764,
          "",
          "",
          "",
          0.49702888307032844,
          "",
          "",
          "",
          "",
          "",
          "",
          3.9632038008246675,
          "",
          "",
          0.18300580950815704,
          "",
          "",
          "",
          "",
          "",
          1.5172333397416802,
          "",
          1.7066068404529635,
          2.412918914110977,
          "",
          0.9203960587473389,
          "",
          "",
          "",
          "",
          0.6437737842034419,
          0.021282375760238947,
          "",
          0.3332851532164225,
          0.13002774495433833,
          "",
          0.38312412181924504,
          "",
          0.4990906654776648,
          0.8883867203492452,
          1.1523246770958129,
          "",
          "",
          "",
          "",
          "",
          "",
          0.8927950185185334,
          0.11611473188399057,
          "",
          0.01671529581999165,
          0.08856251663485415,
          ""
         ],
         "yaxis": "y2"
        },
        {
         "connectgaps": false,
         "fill": "tozeroy",
         "line": {
          "color": "red",
          "dash": "solid",
          "shape": "linear",
          "width": 0.5
         },
         "mode": "lines",
         "name": "Spread",
         "showlegend": false,
         "type": "scatter",
         "x": [
          0,
          1,
          2,
          3,
          4,
          5,
          6,
          7,
          8,
          9,
          10,
          11,
          12,
          13,
          14,
          15,
          16,
          17,
          18,
          19,
          20,
          21,
          22,
          23,
          24,
          25,
          26,
          27,
          28,
          29,
          30,
          31,
          32,
          33,
          34,
          35,
          36,
          37,
          38,
          39,
          40,
          41,
          42,
          43,
          44,
          45,
          46,
          47,
          48,
          49,
          50,
          51,
          52,
          53,
          54,
          55,
          56,
          57,
          58,
          59,
          60,
          61,
          62,
          63,
          64,
          65,
          66,
          67,
          68,
          69,
          70,
          71,
          72,
          73,
          74,
          75,
          76,
          77,
          78,
          79,
          80,
          81,
          82,
          83,
          84,
          85,
          86,
          87,
          88,
          89,
          90,
          91,
          92,
          93,
          94,
          95,
          96,
          97,
          98,
          99
         ],
         "xaxis": "x2",
         "y": [
          -0.5364338081866048,
          -0.4421136093679561,
          -0.8174623147295166,
          -0.2937266877762831,
          "",
          -1.6804429761357218,
          "",
          -1.3857224787417097,
          -2.066958577979035,
          -2.5099335509808363,
          "",
          "",
          "",
          "",
          "",
          -0.153715291704138,
          -1.611386852158656,
          "",
          "",
          -0.6491171523133658,
          -0.4799034253107056,
          "",
          "",
          -0.8262741137915202,
          -0.7638523252534499,
          "",
          "",
          -2.18779286847809,
          -2.066749175823767,
          "",
          -0.6121445727153161,
          -2.5342798842637673,
          "",
          "",
          "",
          "",
          "",
          -0.012223766295015592,
          "",
          "",
          "",
          -0.8153343870022253,
          "",
          "",
          -1.167378507447829,
          "",
          "",
          "",
          -1.8246821753369908,
          -0.6839949687547723,
          -0.5983351640448842,
          "",
          -1.2980041040924601,
          -1.9599413411721929,
          -1.6433530850560516,
          -0.7562009015031307,
          -1.3506012082372956,
          -0.39674550519537993,
          "",
          -0.5331531951885083,
          -0.48205609200249827,
          "",
          -0.7805034321535177,
          -1.4197272995735415,
          -0.5424467530603123,
          -0.8235197961252552,
          -2.3868705165532638,
          "",
          -1.6215937256575912,
          "",
          "",
          -1.1407364745213682,
          "",
          -0.2727648202778098,
          -0.2189081959660355,
          -0.058839574911644266,
          -1.4325888035882683,
          "",
          "",
          -0.1023131546620097,
          "",
          "",
          -2.038038663033274,
          "",
          -2.4920508508224737,
          "",
          "",
          "",
          -1.1337730885219086,
          -1.7042453098844148,
          -0.07586765371134133,
          -1.2437175466268768,
          -0.8709478617929824,
          -1.9403589903897895,
          "",
          "",
          -0.21382030688414622,
          "",
          "",
          -0.050970790435348357
         ],
         "yaxis": "y2"
        }
       ],
       "layout": {
        "hovermode": "x",
        "legend": {
         "bgcolor": "#F5F6F9",
         "font": {
          "color": "#4D5663"
         }
        },
        "paper_bgcolor": "#F5F6F9",
        "plot_bgcolor": "#F5F6F9",
        "template": {
         "data": {
          "bar": [
           {
            "error_x": {
             "color": "#2a3f5f"
            },
            "error_y": {
             "color": "#2a3f5f"
            },
            "marker": {
             "line": {
              "color": "#E5ECF6",
              "width": 0.5
             },
             "pattern": {
              "fillmode": "overlay",
              "size": 10,
              "solidity": 0.2
             }
            },
            "type": "bar"
           }
          ],
          "barpolar": [
           {
            "marker": {
             "line": {
              "color": "#E5ECF6",
              "width": 0.5
             },
             "pattern": {
              "fillmode": "overlay",
              "size": 10,
              "solidity": 0.2
             }
            },
            "type": "barpolar"
           }
          ],
          "carpet": [
           {
            "aaxis": {
             "endlinecolor": "#2a3f5f",
             "gridcolor": "white",
             "linecolor": "white",
             "minorgridcolor": "white",
             "startlinecolor": "#2a3f5f"
            },
            "baxis": {
             "endlinecolor": "#2a3f5f",
             "gridcolor": "white",
             "linecolor": "white",
             "minorgridcolor": "white",
             "startlinecolor": "#2a3f5f"
            },
            "type": "carpet"
           }
          ],
          "choropleth": [
           {
            "colorbar": {
             "outlinewidth": 0,
             "ticks": ""
            },
            "type": "choropleth"
           }
          ],
          "contour": [
           {
            "colorbar": {
             "outlinewidth": 0,
             "ticks": ""
            },
            "colorscale": [
             [
              0,
              "#0d0887"
             ],
             [
              0.1111111111111111,
              "#46039f"
             ],
             [
              0.2222222222222222,
              "#7201a8"
             ],
             [
              0.3333333333333333,
              "#9c179e"
             ],
             [
              0.4444444444444444,
              "#bd3786"
             ],
             [
              0.5555555555555556,
              "#d8576b"
             ],
             [
              0.6666666666666666,
              "#ed7953"
             ],
             [
              0.7777777777777778,
              "#fb9f3a"
             ],
             [
              0.8888888888888888,
              "#fdca26"
             ],
             [
              1,
              "#f0f921"
             ]
            ],
            "type": "contour"
           }
          ],
          "contourcarpet": [
           {
            "colorbar": {
             "outlinewidth": 0,
             "ticks": ""
            },
            "type": "contourcarpet"
           }
          ],
          "heatmap": [
           {
            "colorbar": {
             "outlinewidth": 0,
             "ticks": ""
            },
            "colorscale": [
             [
              0,
              "#0d0887"
             ],
             [
              0.1111111111111111,
              "#46039f"
             ],
             [
              0.2222222222222222,
              "#7201a8"
             ],
             [
              0.3333333333333333,
              "#9c179e"
             ],
             [
              0.4444444444444444,
              "#bd3786"
             ],
             [
              0.5555555555555556,
              "#d8576b"
             ],
             [
              0.6666666666666666,
              "#ed7953"
             ],
             [
              0.7777777777777778,
              "#fb9f3a"
             ],
             [
              0.8888888888888888,
              "#fdca26"
             ],
             [
              1,
              "#f0f921"
             ]
            ],
            "type": "heatmap"
           }
          ],
          "heatmapgl": [
           {
            "colorbar": {
             "outlinewidth": 0,
             "ticks": ""
            },
            "colorscale": [
             [
              0,
              "#0d0887"
             ],
             [
              0.1111111111111111,
              "#46039f"
             ],
             [
              0.2222222222222222,
              "#7201a8"
             ],
             [
              0.3333333333333333,
              "#9c179e"
             ],
             [
              0.4444444444444444,
              "#bd3786"
             ],
             [
              0.5555555555555556,
              "#d8576b"
             ],
             [
              0.6666666666666666,
              "#ed7953"
             ],
             [
              0.7777777777777778,
              "#fb9f3a"
             ],
             [
              0.8888888888888888,
              "#fdca26"
             ],
             [
              1,
              "#f0f921"
             ]
            ],
            "type": "heatmapgl"
           }
          ],
          "histogram": [
           {
            "marker": {
             "pattern": {
              "fillmode": "overlay",
              "size": 10,
              "solidity": 0.2
             }
            },
            "type": "histogram"
           }
          ],
          "histogram2d": [
           {
            "colorbar": {
             "outlinewidth": 0,
             "ticks": ""
            },
            "colorscale": [
             [
              0,
              "#0d0887"
             ],
             [
              0.1111111111111111,
              "#46039f"
             ],
             [
              0.2222222222222222,
              "#7201a8"
             ],
             [
              0.3333333333333333,
              "#9c179e"
             ],
             [
              0.4444444444444444,
              "#bd3786"
             ],
             [
              0.5555555555555556,
              "#d8576b"
             ],
             [
              0.6666666666666666,
              "#ed7953"
             ],
             [
              0.7777777777777778,
              "#fb9f3a"
             ],
             [
              0.8888888888888888,
              "#fdca26"
             ],
             [
              1,
              "#f0f921"
             ]
            ],
            "type": "histogram2d"
           }
          ],
          "histogram2dcontour": [
           {
            "colorbar": {
             "outlinewidth": 0,
             "ticks": ""
            },
            "colorscale": [
             [
              0,
              "#0d0887"
             ],
             [
              0.1111111111111111,
              "#46039f"
             ],
             [
              0.2222222222222222,
              "#7201a8"
             ],
             [
              0.3333333333333333,
              "#9c179e"
             ],
             [
              0.4444444444444444,
              "#bd3786"
             ],
             [
              0.5555555555555556,
              "#d8576b"
             ],
             [
              0.6666666666666666,
              "#ed7953"
             ],
             [
              0.7777777777777778,
              "#fb9f3a"
             ],
             [
              0.8888888888888888,
              "#fdca26"
             ],
             [
              1,
              "#f0f921"
             ]
            ],
            "type": "histogram2dcontour"
           }
          ],
          "mesh3d": [
           {
            "colorbar": {
             "outlinewidth": 0,
             "ticks": ""
            },
            "type": "mesh3d"
           }
          ],
          "parcoords": [
           {
            "line": {
             "colorbar": {
              "outlinewidth": 0,
              "ticks": ""
             }
            },
            "type": "parcoords"
           }
          ],
          "pie": [
           {
            "automargin": true,
            "type": "pie"
           }
          ],
          "scatter": [
           {
            "fillpattern": {
             "fillmode": "overlay",
             "size": 10,
             "solidity": 0.2
            },
            "type": "scatter"
           }
          ],
          "scatter3d": [
           {
            "line": {
             "colorbar": {
              "outlinewidth": 0,
              "ticks": ""
             }
            },
            "marker": {
             "colorbar": {
              "outlinewidth": 0,
              "ticks": ""
             }
            },
            "type": "scatter3d"
           }
          ],
          "scattercarpet": [
           {
            "marker": {
             "colorbar": {
              "outlinewidth": 0,
              "ticks": ""
             }
            },
            "type": "scattercarpet"
           }
          ],
          "scattergeo": [
           {
            "marker": {
             "colorbar": {
              "outlinewidth": 0,
              "ticks": ""
             }
            },
            "type": "scattergeo"
           }
          ],
          "scattergl": [
           {
            "marker": {
             "colorbar": {
              "outlinewidth": 0,
              "ticks": ""
             }
            },
            "type": "scattergl"
           }
          ],
          "scattermapbox": [
           {
            "marker": {
             "colorbar": {
              "outlinewidth": 0,
              "ticks": ""
             }
            },
            "type": "scattermapbox"
           }
          ],
          "scatterpolar": [
           {
            "marker": {
             "colorbar": {
              "outlinewidth": 0,
              "ticks": ""
             }
            },
            "type": "scatterpolar"
           }
          ],
          "scatterpolargl": [
           {
            "marker": {
             "colorbar": {
              "outlinewidth": 0,
              "ticks": ""
             }
            },
            "type": "scatterpolargl"
           }
          ],
          "scatterternary": [
           {
            "marker": {
             "colorbar": {
              "outlinewidth": 0,
              "ticks": ""
             }
            },
            "type": "scatterternary"
           }
          ],
          "surface": [
           {
            "colorbar": {
             "outlinewidth": 0,
             "ticks": ""
            },
            "colorscale": [
             [
              0,
              "#0d0887"
             ],
             [
              0.1111111111111111,
              "#46039f"
             ],
             [
              0.2222222222222222,
              "#7201a8"
             ],
             [
              0.3333333333333333,
              "#9c179e"
             ],
             [
              0.4444444444444444,
              "#bd3786"
             ],
             [
              0.5555555555555556,
              "#d8576b"
             ],
             [
              0.6666666666666666,
              "#ed7953"
             ],
             [
              0.7777777777777778,
              "#fb9f3a"
             ],
             [
              0.8888888888888888,
              "#fdca26"
             ],
             [
              1,
              "#f0f921"
             ]
            ],
            "type": "surface"
           }
          ],
          "table": [
           {
            "cells": {
             "fill": {
              "color": "#EBF0F8"
             },
             "line": {
              "color": "white"
             }
            },
            "header": {
             "fill": {
              "color": "#C8D4E3"
             },
             "line": {
              "color": "white"
             }
            },
            "type": "table"
           }
          ]
         },
         "layout": {
          "annotationdefaults": {
           "arrowcolor": "#2a3f5f",
           "arrowhead": 0,
           "arrowwidth": 1
          },
          "autotypenumbers": "strict",
          "coloraxis": {
           "colorbar": {
            "outlinewidth": 0,
            "ticks": ""
           }
          },
          "colorscale": {
           "diverging": [
            [
             0,
             "#8e0152"
            ],
            [
             0.1,
             "#c51b7d"
            ],
            [
             0.2,
             "#de77ae"
            ],
            [
             0.3,
             "#f1b6da"
            ],
            [
             0.4,
             "#fde0ef"
            ],
            [
             0.5,
             "#f7f7f7"
            ],
            [
             0.6,
             "#e6f5d0"
            ],
            [
             0.7,
             "#b8e186"
            ],
            [
             0.8,
             "#7fbc41"
            ],
            [
             0.9,
             "#4d9221"
            ],
            [
             1,
             "#276419"
            ]
           ],
           "sequential": [
            [
             0,
             "#0d0887"
            ],
            [
             0.1111111111111111,
             "#46039f"
            ],
            [
             0.2222222222222222,
             "#7201a8"
            ],
            [
             0.3333333333333333,
             "#9c179e"
            ],
            [
             0.4444444444444444,
             "#bd3786"
            ],
            [
             0.5555555555555556,
             "#d8576b"
            ],
            [
             0.6666666666666666,
             "#ed7953"
            ],
            [
             0.7777777777777778,
             "#fb9f3a"
            ],
            [
             0.8888888888888888,
             "#fdca26"
            ],
            [
             1,
             "#f0f921"
            ]
           ],
           "sequentialminus": [
            [
             0,
             "#0d0887"
            ],
            [
             0.1111111111111111,
             "#46039f"
            ],
            [
             0.2222222222222222,
             "#7201a8"
            ],
            [
             0.3333333333333333,
             "#9c179e"
            ],
            [
             0.4444444444444444,
             "#bd3786"
            ],
            [
             0.5555555555555556,
             "#d8576b"
            ],
            [
             0.6666666666666666,
             "#ed7953"
            ],
            [
             0.7777777777777778,
             "#fb9f3a"
            ],
            [
             0.8888888888888888,
             "#fdca26"
            ],
            [
             1,
             "#f0f921"
            ]
           ]
          },
          "colorway": [
           "#636efa",
           "#EF553B",
           "#00cc96",
           "#ab63fa",
           "#FFA15A",
           "#19d3f3",
           "#FF6692",
           "#B6E880",
           "#FF97FF",
           "#FECB52"
          ],
          "font": {
           "color": "#2a3f5f"
          },
          "geo": {
           "bgcolor": "white",
           "lakecolor": "white",
           "landcolor": "#E5ECF6",
           "showlakes": true,
           "showland": true,
           "subunitcolor": "white"
          },
          "hoverlabel": {
           "align": "left"
          },
          "hovermode": "closest",
          "mapbox": {
           "style": "light"
          },
          "paper_bgcolor": "white",
          "plot_bgcolor": "#E5ECF6",
          "polar": {
           "angularaxis": {
            "gridcolor": "white",
            "linecolor": "white",
            "ticks": ""
           },
           "bgcolor": "#E5ECF6",
           "radialaxis": {
            "gridcolor": "white",
            "linecolor": "white",
            "ticks": ""
           }
          },
          "scene": {
           "xaxis": {
            "backgroundcolor": "#E5ECF6",
            "gridcolor": "white",
            "gridwidth": 2,
            "linecolor": "white",
            "showbackground": true,
            "ticks": "",
            "zerolinecolor": "white"
           },
           "yaxis": {
            "backgroundcolor": "#E5ECF6",
            "gridcolor": "white",
            "gridwidth": 2,
            "linecolor": "white",
            "showbackground": true,
            "ticks": "",
            "zerolinecolor": "white"
           },
           "zaxis": {
            "backgroundcolor": "#E5ECF6",
            "gridcolor": "white",
            "gridwidth": 2,
            "linecolor": "white",
            "showbackground": true,
            "ticks": "",
            "zerolinecolor": "white"
           }
          },
          "shapedefaults": {
           "line": {
            "color": "#2a3f5f"
           }
          },
          "ternary": {
           "aaxis": {
            "gridcolor": "white",
            "linecolor": "white",
            "ticks": ""
           },
           "baxis": {
            "gridcolor": "white",
            "linecolor": "white",
            "ticks": ""
           },
           "bgcolor": "#E5ECF6",
           "caxis": {
            "gridcolor": "white",
            "linecolor": "white",
            "ticks": ""
           }
          },
          "title": {
           "x": 0.05
          },
          "xaxis": {
           "automargin": true,
           "gridcolor": "white",
           "linecolor": "white",
           "ticks": "",
           "title": {
            "standoff": 15
           },
           "zerolinecolor": "white",
           "zerolinewidth": 2
          },
          "yaxis": {
           "automargin": true,
           "gridcolor": "white",
           "linecolor": "white",
           "ticks": "",
           "title": {
            "standoff": 15
           },
           "zerolinecolor": "white",
           "zerolinewidth": 2
          }
         }
        },
        "title": {
         "font": {
          "color": "#4D5663"
         }
        },
        "xaxis": {
         "gridcolor": "#E1E5ED",
         "showgrid": true,
         "tickfont": {
          "color": "#4D5663"
         },
         "title": {
          "font": {
           "color": "#4D5663"
          },
          "text": ""
         },
         "zerolinecolor": "#E1E5ED"
        },
        "xaxis2": {
         "anchor": "y2",
         "gridcolor": "#E1E5ED",
         "showgrid": true,
         "showticklabels": false,
         "tickfont": {
          "color": "#4D5663"
         },
         "title": {
          "font": {
           "color": "#4D5663"
          },
          "text": ""
         },
         "zerolinecolor": "#E1E5ED"
        },
        "yaxis": {
         "domain": [
          0.3,
          1
         ],
         "gridcolor": "#E1E5ED",
         "showgrid": true,
         "tickfont": {
          "color": "#4D5663"
         },
         "title": {
          "font": {
           "color": "#4D5663"
          },
          "text": ""
         },
         "zerolinecolor": "#E1E5ED"
        },
        "yaxis2": {
         "domain": [
          0,
          0.25
         ],
         "gridcolor": "#E1E5ED",
         "showgrid": true,
         "tickfont": {
          "color": "#4D5663"
         },
         "title": {
          "font": {
           "color": "#4D5663"
          },
          "text": "Spread"
         },
         "zerolinecolor": "#E1E5ED"
        }
       }
      },
      "text/html": [
       "<div>                            <div id=\"ca1d35cd-3683-42bf-a557-f6f6f1153bd3\" class=\"plotly-graph-div\" style=\"height:525px; width:100%;\"></div>            <script type=\"text/javascript\">                require([\"plotly\"], function(Plotly) {                    window.PLOTLYENV=window.PLOTLYENV || {};\n",
       "                    window.PLOTLYENV.BASE_URL='https://plot.ly';                                    if (document.getElementById(\"ca1d35cd-3683-42bf-a557-f6f6f1153bd3\")) {                    Plotly.newPlot(                        \"ca1d35cd-3683-42bf-a557-f6f6f1153bd3\",                        [{\"line\":{\"color\":\"rgba(255, 153, 51, 1.0)\",\"dash\":\"solid\",\"shape\":\"linear\",\"width\":1.3},\"mode\":\"lines\",\"name\":\"a\",\"text\":\"\",\"x\":[0,1,2,3,4,5,6,7,8,9,10,11,12,13,14,15,16,17,18,19,20,21,22,23,24,25,26,27,28,29,30,31,32,33,34,35,36,37,38,39,40,41,42,43,44,45,46,47,48,49,50,51,52,53,54,55,56,57,58,59,60,61,62,63,64,65,66,67,68,69,70,71,72,73,74,75,76,77,78,79,80,81,82,83,84,85,86,87,88,89,90,91,92,93,94,95,96,97,98,99],\"y\":[-1.2536704061240342,-0.31192087006827185,-2.2109845815294356,0.26098210430390356,-0.42372505561706497,-0.5191246063006844,-0.3741979168810921,0.013160070003499067,-1.3936117653916562,-0.9879887112436886,0.9978019604285551,0.20408777022973887,-0.3751686712106355,0.14714190067587132,0.7097405973098823,-0.5980386770941455,-0.8580820814739449,-0.03928825662399084,2.1123756536844134,0.20988143099753984,-0.0039750860987576705,1.0837356737832347,0.25720841914284187,-0.6265295757295674,-0.8334593492338207,-0.43845976815063725,1.2182819398389937,-1.2402949889598742,-1.2071346174640567,-0.25215273236635155,-0.26222993788277515,-1.5944264482789066,-0.11603327631361181,0.3170166562461856,0.33184384567773306,0.2706533742615674,0.6886179771564876,0.33296980227084005,0.5860064727362081,-1.0790498039463736,0.036369968192229485,0.15144790493044746,-0.10393678206743479,0.8349700375535881,-1.206328193237761,0.5673265511778895,-0.06721204834887629,-0.543744658610441,-1.784873068359861,-1.5640842673613353,-1.7484510427524396,-0.9238595076773191,-0.07066518986172503,-1.2564883213487814,-1.255171782943583,-0.5693595220873484,-0.2680475201230551,-0.7370601821881222,1.4131046455732545,-0.4484711608573334,-0.03368558970719541,0.20060822572533968,-1.3006252925618582,-0.7650549164700556,-1.474269199202699,-1.9035357216209998,-0.842459505915815,-0.6450446032311398,-1.3859767495689528,0.5787535105345148,2.2955960081866325,-1.4380393667265592,0.592895059358941,0.6824300472122862,-1.978558056285446,0.6507979497194142,-0.8504019891320452,-0.23082902274044428,0.9275706159608799,-0.047095155777864835,-1.6405431622980855,-0.8744312401517957,-0.25871068506394845,0.27471500967068346,0.1946788757728365,1.4125245459008748,-0.049375511972559315,-0.10475479978240199,0.5133935150926221,-1.2223620008398135,-0.11638992089113567,-1.3023112967306605,0.30293182359718746,-1.6607840815862427,1.983670482457282,-1.0036184526149803,-1.428906436402728,1.5304130203604172,0.9133621367502792,-0.29639213224210054],\"type\":\"scatter\"},{\"line\":{\"color\":\"rgba(55, 128, 191, 1.0)\",\"dash\":\"solid\",\"shape\":\"linear\",\"width\":1.3},\"mode\":\"lines\",\"name\":\"b\",\"text\":\"\",\"x\":[0,1,2,3,4,5,6,7,8,9,10,11,12,13,14,15,16,17,18,19,20,21,22,23,24,25,26,27,28,29,30,31,32,33,34,35,36,37,38,39,40,41,42,43,44,45,46,47,48,49,50,51,52,53,54,55,56,57,58,59,60,61,62,63,64,65,66,67,68,69,70,71,72,73,74,75,76,77,78,79,80,81,82,83,84,85,86,87,88,89,90,91,92,93,94,95,96,97,98,99],\"y\":[-0.7172365979374294,0.1301927392996842,-1.393522266799919,0.5547087920801866,-0.5200071012122776,1.1613183698350373,-1.3529461218033918,1.3988825487452088,0.6733468125873788,1.5219448397371478,-0.7906269916573789,-0.3161501726488375,-0.41778212984503704,-0.5831677471760225,0.6023577387799757,-0.4443233853900075,0.7533047706847111,-1.3970815128632759,0.3581974945656321,0.8589985833109056,0.47592833921194794,0.23549672361459806,-0.18952266322583036,0.19974453806195278,-0.06960702398037072,-1.0086186324692388,0.9628957190504571,0.9474978795182155,0.8596145583597102,-0.4263569089417392,0.3499146348325409,0.9398534359848607,-0.6229775340336317,0.19749787601107976,-1.0991368107166477,0.13191944366896108,-0.42292656307822624,0.34519356856585565,0.514983356263597,-1.138924491691048,-1.189373130478294,0.9667822919326727,-1.150614139922435,0.42524038583700313,-0.03894968578993216,-0.13929919745961755,-0.3125569796919793,-1.4309654669216174,0.03980910697712983,-0.880089298606563,-1.1501158787075554,-1.4208883907476475,1.2273389142307352,0.7034530198234115,0.38818130211246876,0.18684137941578224,1.0825536881142404,-0.34031467699274226,-2.550099155251413,0.08468203433117498,0.44837050229530284,0.017602416217182646,-0.5201218604083405,0.654672383103486,-0.9318224461423867,-1.0800159254957447,1.544411010637449,-2.16227794297282,0.23561697608863844,-1.1278533299184488,-0.11732290592434473,-0.29730289220519107,-0.32750099938839783,0.955194867490096,-1.7596498603194104,0.7096375246310584,0.5821868144562231,-0.8746028069438861,0.9062882402006409,0.055217998884144866,-1.973828315514508,-1.004458985106134,1.7793279779693252,-0.10840911214856161,2.6867297265953103,0.91343388042321,-0.9377622323218044,-1.2570794768782148,1.6471666036145307,0.48188330904460136,-0.04052226717979435,-0.05859375010378374,1.1738796853901698,0.2795749088035469,1.0908754639387486,-1.1197331844989709,-1.2150861295185817,1.5136977245404255,0.8247996201154251,-0.24542134180675218],\"type\":\"scatter\"},{\"connectgaps\":false,\"fill\":\"tozeroy\",\"line\":{\"color\":\"green\",\"dash\":\"solid\",\"shape\":\"linear\",\"width\":0.5},\"mode\":\"lines\",\"name\":\"Spread\",\"showlegend\":false,\"x\":[0,1,2,3,4,5,6,7,8,9,10,11,12,13,14,15,16,17,18,19,20,21,22,23,24,25,26,27,28,29,30,31,32,33,34,35,36,37,38,39,40,41,42,43,44,45,46,47,48,49,50,51,52,53,54,55,56,57,58,59,60,61,62,63,64,65,66,67,68,69,70,71,72,73,74,75,76,77,78,79,80,81,82,83,84,85,86,87,88,89,90,91,92,93,94,95,96,97,98,99],\"xaxis\":\"x2\",\"y\":[\"\",\"\",\"\",\"\",0.09628204559521258,\"\",0.9787482049222997,\"\",\"\",\"\",1.788428952085934,0.5202379428785764,0.042613458634401524,0.7303096478518938,0.10738285852990659,\"\",\"\",1.357793256239285,1.7541781591187813,\"\",\"\",0.8482389501686366,0.4467310823686722,\"\",\"\",0.5701588643186015,0.25538622078853657,\"\",\"\",0.17420417657538767,\"\",\"\",0.5069442577200198,0.11951878023510581,1.4309806563943808,0.1387339305926063,1.111544540234714,\"\",0.07102311647261106,0.059874687744674304,1.2257430986705233,\"\",1.0466773578550002,0.409729651716585,\"\",0.7066257486375072,0.24534493134310303,0.8872208083111764,\"\",\"\",\"\",0.49702888307032844,\"\",\"\",\"\",\"\",\"\",\"\",3.9632038008246675,\"\",\"\",0.18300580950815704,\"\",\"\",\"\",\"\",\"\",1.5172333397416802,\"\",1.7066068404529635,2.412918914110977,\"\",0.9203960587473389,\"\",\"\",\"\",\"\",0.6437737842034419,0.021282375760238947,\"\",0.3332851532164225,0.13002774495433833,\"\",0.38312412181924504,\"\",0.4990906654776648,0.8883867203492452,1.1523246770958129,\"\",\"\",\"\",\"\",\"\",\"\",0.8927950185185334,0.11611473188399057,\"\",0.01671529581999165,0.08856251663485415,\"\"],\"yaxis\":\"y2\",\"type\":\"scatter\"},{\"connectgaps\":false,\"fill\":\"tozeroy\",\"line\":{\"color\":\"red\",\"dash\":\"solid\",\"shape\":\"linear\",\"width\":0.5},\"mode\":\"lines\",\"name\":\"Spread\",\"showlegend\":false,\"x\":[0,1,2,3,4,5,6,7,8,9,10,11,12,13,14,15,16,17,18,19,20,21,22,23,24,25,26,27,28,29,30,31,32,33,34,35,36,37,38,39,40,41,42,43,44,45,46,47,48,49,50,51,52,53,54,55,56,57,58,59,60,61,62,63,64,65,66,67,68,69,70,71,72,73,74,75,76,77,78,79,80,81,82,83,84,85,86,87,88,89,90,91,92,93,94,95,96,97,98,99],\"xaxis\":\"x2\",\"y\":[-0.5364338081866048,-0.4421136093679561,-0.8174623147295166,-0.2937266877762831,\"\",-1.6804429761357218,\"\",-1.3857224787417097,-2.066958577979035,-2.5099335509808363,\"\",\"\",\"\",\"\",\"\",-0.153715291704138,-1.611386852158656,\"\",\"\",-0.6491171523133658,-0.4799034253107056,\"\",\"\",-0.8262741137915202,-0.7638523252534499,\"\",\"\",-2.18779286847809,-2.066749175823767,\"\",-0.6121445727153161,-2.5342798842637673,\"\",\"\",\"\",\"\",\"\",-0.012223766295015592,\"\",\"\",\"\",-0.8153343870022253,\"\",\"\",-1.167378507447829,\"\",\"\",\"\",-1.8246821753369908,-0.6839949687547723,-0.5983351640448842,\"\",-1.2980041040924601,-1.9599413411721929,-1.6433530850560516,-0.7562009015031307,-1.3506012082372956,-0.39674550519537993,\"\",-0.5331531951885083,-0.48205609200249827,\"\",-0.7805034321535177,-1.4197272995735415,-0.5424467530603123,-0.8235197961252552,-2.3868705165532638,\"\",-1.6215937256575912,\"\",\"\",-1.1407364745213682,\"\",-0.2727648202778098,-0.2189081959660355,-0.058839574911644266,-1.4325888035882683,\"\",\"\",-0.1023131546620097,\"\",\"\",-2.038038663033274,\"\",-2.4920508508224737,\"\",\"\",\"\",-1.1337730885219086,-1.7042453098844148,-0.07586765371134133,-1.2437175466268768,-0.8709478617929824,-1.9403589903897895,\"\",\"\",-0.21382030688414622,\"\",\"\",-0.050970790435348357],\"yaxis\":\"y2\",\"type\":\"scatter\"}],                        {\"hovermode\":\"x\",\"legend\":{\"bgcolor\":\"#F5F6F9\",\"font\":{\"color\":\"#4D5663\"}},\"paper_bgcolor\":\"#F5F6F9\",\"plot_bgcolor\":\"#F5F6F9\",\"template\":{\"data\":{\"barpolar\":[{\"marker\":{\"line\":{\"color\":\"#E5ECF6\",\"width\":0.5},\"pattern\":{\"fillmode\":\"overlay\",\"size\":10,\"solidity\":0.2}},\"type\":\"barpolar\"}],\"bar\":[{\"error_x\":{\"color\":\"#2a3f5f\"},\"error_y\":{\"color\":\"#2a3f5f\"},\"marker\":{\"line\":{\"color\":\"#E5ECF6\",\"width\":0.5},\"pattern\":{\"fillmode\":\"overlay\",\"size\":10,\"solidity\":0.2}},\"type\":\"bar\"}],\"carpet\":[{\"aaxis\":{\"endlinecolor\":\"#2a3f5f\",\"gridcolor\":\"white\",\"linecolor\":\"white\",\"minorgridcolor\":\"white\",\"startlinecolor\":\"#2a3f5f\"},\"baxis\":{\"endlinecolor\":\"#2a3f5f\",\"gridcolor\":\"white\",\"linecolor\":\"white\",\"minorgridcolor\":\"white\",\"startlinecolor\":\"#2a3f5f\"},\"type\":\"carpet\"}],\"choropleth\":[{\"colorbar\":{\"outlinewidth\":0,\"ticks\":\"\"},\"type\":\"choropleth\"}],\"contourcarpet\":[{\"colorbar\":{\"outlinewidth\":0,\"ticks\":\"\"},\"type\":\"contourcarpet\"}],\"contour\":[{\"colorbar\":{\"outlinewidth\":0,\"ticks\":\"\"},\"colorscale\":[[0.0,\"#0d0887\"],[0.1111111111111111,\"#46039f\"],[0.2222222222222222,\"#7201a8\"],[0.3333333333333333,\"#9c179e\"],[0.4444444444444444,\"#bd3786\"],[0.5555555555555556,\"#d8576b\"],[0.6666666666666666,\"#ed7953\"],[0.7777777777777778,\"#fb9f3a\"],[0.8888888888888888,\"#fdca26\"],[1.0,\"#f0f921\"]],\"type\":\"contour\"}],\"heatmapgl\":[{\"colorbar\":{\"outlinewidth\":0,\"ticks\":\"\"},\"colorscale\":[[0.0,\"#0d0887\"],[0.1111111111111111,\"#46039f\"],[0.2222222222222222,\"#7201a8\"],[0.3333333333333333,\"#9c179e\"],[0.4444444444444444,\"#bd3786\"],[0.5555555555555556,\"#d8576b\"],[0.6666666666666666,\"#ed7953\"],[0.7777777777777778,\"#fb9f3a\"],[0.8888888888888888,\"#fdca26\"],[1.0,\"#f0f921\"]],\"type\":\"heatmapgl\"}],\"heatmap\":[{\"colorbar\":{\"outlinewidth\":0,\"ticks\":\"\"},\"colorscale\":[[0.0,\"#0d0887\"],[0.1111111111111111,\"#46039f\"],[0.2222222222222222,\"#7201a8\"],[0.3333333333333333,\"#9c179e\"],[0.4444444444444444,\"#bd3786\"],[0.5555555555555556,\"#d8576b\"],[0.6666666666666666,\"#ed7953\"],[0.7777777777777778,\"#fb9f3a\"],[0.8888888888888888,\"#fdca26\"],[1.0,\"#f0f921\"]],\"type\":\"heatmap\"}],\"histogram2dcontour\":[{\"colorbar\":{\"outlinewidth\":0,\"ticks\":\"\"},\"colorscale\":[[0.0,\"#0d0887\"],[0.1111111111111111,\"#46039f\"],[0.2222222222222222,\"#7201a8\"],[0.3333333333333333,\"#9c179e\"],[0.4444444444444444,\"#bd3786\"],[0.5555555555555556,\"#d8576b\"],[0.6666666666666666,\"#ed7953\"],[0.7777777777777778,\"#fb9f3a\"],[0.8888888888888888,\"#fdca26\"],[1.0,\"#f0f921\"]],\"type\":\"histogram2dcontour\"}],\"histogram2d\":[{\"colorbar\":{\"outlinewidth\":0,\"ticks\":\"\"},\"colorscale\":[[0.0,\"#0d0887\"],[0.1111111111111111,\"#46039f\"],[0.2222222222222222,\"#7201a8\"],[0.3333333333333333,\"#9c179e\"],[0.4444444444444444,\"#bd3786\"],[0.5555555555555556,\"#d8576b\"],[0.6666666666666666,\"#ed7953\"],[0.7777777777777778,\"#fb9f3a\"],[0.8888888888888888,\"#fdca26\"],[1.0,\"#f0f921\"]],\"type\":\"histogram2d\"}],\"histogram\":[{\"marker\":{\"pattern\":{\"fillmode\":\"overlay\",\"size\":10,\"solidity\":0.2}},\"type\":\"histogram\"}],\"mesh3d\":[{\"colorbar\":{\"outlinewidth\":0,\"ticks\":\"\"},\"type\":\"mesh3d\"}],\"parcoords\":[{\"line\":{\"colorbar\":{\"outlinewidth\":0,\"ticks\":\"\"}},\"type\":\"parcoords\"}],\"pie\":[{\"automargin\":true,\"type\":\"pie\"}],\"scatter3d\":[{\"line\":{\"colorbar\":{\"outlinewidth\":0,\"ticks\":\"\"}},\"marker\":{\"colorbar\":{\"outlinewidth\":0,\"ticks\":\"\"}},\"type\":\"scatter3d\"}],\"scattercarpet\":[{\"marker\":{\"colorbar\":{\"outlinewidth\":0,\"ticks\":\"\"}},\"type\":\"scattercarpet\"}],\"scattergeo\":[{\"marker\":{\"colorbar\":{\"outlinewidth\":0,\"ticks\":\"\"}},\"type\":\"scattergeo\"}],\"scattergl\":[{\"marker\":{\"colorbar\":{\"outlinewidth\":0,\"ticks\":\"\"}},\"type\":\"scattergl\"}],\"scattermapbox\":[{\"marker\":{\"colorbar\":{\"outlinewidth\":0,\"ticks\":\"\"}},\"type\":\"scattermapbox\"}],\"scatterpolargl\":[{\"marker\":{\"colorbar\":{\"outlinewidth\":0,\"ticks\":\"\"}},\"type\":\"scatterpolargl\"}],\"scatterpolar\":[{\"marker\":{\"colorbar\":{\"outlinewidth\":0,\"ticks\":\"\"}},\"type\":\"scatterpolar\"}],\"scatter\":[{\"fillpattern\":{\"fillmode\":\"overlay\",\"size\":10,\"solidity\":0.2},\"type\":\"scatter\"}],\"scatterternary\":[{\"marker\":{\"colorbar\":{\"outlinewidth\":0,\"ticks\":\"\"}},\"type\":\"scatterternary\"}],\"surface\":[{\"colorbar\":{\"outlinewidth\":0,\"ticks\":\"\"},\"colorscale\":[[0.0,\"#0d0887\"],[0.1111111111111111,\"#46039f\"],[0.2222222222222222,\"#7201a8\"],[0.3333333333333333,\"#9c179e\"],[0.4444444444444444,\"#bd3786\"],[0.5555555555555556,\"#d8576b\"],[0.6666666666666666,\"#ed7953\"],[0.7777777777777778,\"#fb9f3a\"],[0.8888888888888888,\"#fdca26\"],[1.0,\"#f0f921\"]],\"type\":\"surface\"}],\"table\":[{\"cells\":{\"fill\":{\"color\":\"#EBF0F8\"},\"line\":{\"color\":\"white\"}},\"header\":{\"fill\":{\"color\":\"#C8D4E3\"},\"line\":{\"color\":\"white\"}},\"type\":\"table\"}]},\"layout\":{\"annotationdefaults\":{\"arrowcolor\":\"#2a3f5f\",\"arrowhead\":0,\"arrowwidth\":1},\"autotypenumbers\":\"strict\",\"coloraxis\":{\"colorbar\":{\"outlinewidth\":0,\"ticks\":\"\"}},\"colorscale\":{\"diverging\":[[0,\"#8e0152\"],[0.1,\"#c51b7d\"],[0.2,\"#de77ae\"],[0.3,\"#f1b6da\"],[0.4,\"#fde0ef\"],[0.5,\"#f7f7f7\"],[0.6,\"#e6f5d0\"],[0.7,\"#b8e186\"],[0.8,\"#7fbc41\"],[0.9,\"#4d9221\"],[1,\"#276419\"]],\"sequential\":[[0.0,\"#0d0887\"],[0.1111111111111111,\"#46039f\"],[0.2222222222222222,\"#7201a8\"],[0.3333333333333333,\"#9c179e\"],[0.4444444444444444,\"#bd3786\"],[0.5555555555555556,\"#d8576b\"],[0.6666666666666666,\"#ed7953\"],[0.7777777777777778,\"#fb9f3a\"],[0.8888888888888888,\"#fdca26\"],[1.0,\"#f0f921\"]],\"sequentialminus\":[[0.0,\"#0d0887\"],[0.1111111111111111,\"#46039f\"],[0.2222222222222222,\"#7201a8\"],[0.3333333333333333,\"#9c179e\"],[0.4444444444444444,\"#bd3786\"],[0.5555555555555556,\"#d8576b\"],[0.6666666666666666,\"#ed7953\"],[0.7777777777777778,\"#fb9f3a\"],[0.8888888888888888,\"#fdca26\"],[1.0,\"#f0f921\"]]},\"colorway\":[\"#636efa\",\"#EF553B\",\"#00cc96\",\"#ab63fa\",\"#FFA15A\",\"#19d3f3\",\"#FF6692\",\"#B6E880\",\"#FF97FF\",\"#FECB52\"],\"font\":{\"color\":\"#2a3f5f\"},\"geo\":{\"bgcolor\":\"white\",\"lakecolor\":\"white\",\"landcolor\":\"#E5ECF6\",\"showlakes\":true,\"showland\":true,\"subunitcolor\":\"white\"},\"hoverlabel\":{\"align\":\"left\"},\"hovermode\":\"closest\",\"mapbox\":{\"style\":\"light\"},\"paper_bgcolor\":\"white\",\"plot_bgcolor\":\"#E5ECF6\",\"polar\":{\"angularaxis\":{\"gridcolor\":\"white\",\"linecolor\":\"white\",\"ticks\":\"\"},\"bgcolor\":\"#E5ECF6\",\"radialaxis\":{\"gridcolor\":\"white\",\"linecolor\":\"white\",\"ticks\":\"\"}},\"scene\":{\"xaxis\":{\"backgroundcolor\":\"#E5ECF6\",\"gridcolor\":\"white\",\"gridwidth\":2,\"linecolor\":\"white\",\"showbackground\":true,\"ticks\":\"\",\"zerolinecolor\":\"white\"},\"yaxis\":{\"backgroundcolor\":\"#E5ECF6\",\"gridcolor\":\"white\",\"gridwidth\":2,\"linecolor\":\"white\",\"showbackground\":true,\"ticks\":\"\",\"zerolinecolor\":\"white\"},\"zaxis\":{\"backgroundcolor\":\"#E5ECF6\",\"gridcolor\":\"white\",\"gridwidth\":2,\"linecolor\":\"white\",\"showbackground\":true,\"ticks\":\"\",\"zerolinecolor\":\"white\"}},\"shapedefaults\":{\"line\":{\"color\":\"#2a3f5f\"}},\"ternary\":{\"aaxis\":{\"gridcolor\":\"white\",\"linecolor\":\"white\",\"ticks\":\"\"},\"baxis\":{\"gridcolor\":\"white\",\"linecolor\":\"white\",\"ticks\":\"\"},\"bgcolor\":\"#E5ECF6\",\"caxis\":{\"gridcolor\":\"white\",\"linecolor\":\"white\",\"ticks\":\"\"}},\"title\":{\"x\":0.05},\"xaxis\":{\"automargin\":true,\"gridcolor\":\"white\",\"linecolor\":\"white\",\"ticks\":\"\",\"title\":{\"standoff\":15},\"zerolinecolor\":\"white\",\"zerolinewidth\":2},\"yaxis\":{\"automargin\":true,\"gridcolor\":\"white\",\"linecolor\":\"white\",\"ticks\":\"\",\"title\":{\"standoff\":15},\"zerolinecolor\":\"white\",\"zerolinewidth\":2}}},\"title\":{\"font\":{\"color\":\"#4D5663\"}},\"xaxis\":{\"gridcolor\":\"#E1E5ED\",\"showgrid\":true,\"tickfont\":{\"color\":\"#4D5663\"},\"title\":{\"font\":{\"color\":\"#4D5663\"},\"text\":\"\"},\"zerolinecolor\":\"#E1E5ED\"},\"yaxis\":{\"domain\":[0.3,1],\"gridcolor\":\"#E1E5ED\",\"showgrid\":true,\"tickfont\":{\"color\":\"#4D5663\"},\"title\":{\"font\":{\"color\":\"#4D5663\"},\"text\":\"\"},\"zerolinecolor\":\"#E1E5ED\"},\"yaxis2\":{\"domain\":[0,0.25],\"gridcolor\":\"#E1E5ED\",\"showgrid\":true,\"tickfont\":{\"color\":\"#4D5663\"},\"title\":{\"font\":{\"color\":\"#4D5663\"},\"text\":\"Spread\"},\"zerolinecolor\":\"#E1E5ED\"},\"xaxis2\":{\"anchor\":\"y2\",\"gridcolor\":\"#E1E5ED\",\"showgrid\":true,\"showticklabels\":false,\"tickfont\":{\"color\":\"#4D5663\"},\"title\":{\"font\":{\"color\":\"#4D5663\"},\"text\":\"\"},\"zerolinecolor\":\"#E1E5ED\"}},                        {\"showLink\": true, \"linkText\": \"Export to plot.ly\", \"plotlyServerURL\": \"https://plot.ly\", \"responsive\": true}                    ).then(function(){\n",
       "                            \n",
       "var gd = document.getElementById('ca1d35cd-3683-42bf-a557-f6f6f1153bd3');\n",
       "var x = new MutationObserver(function (mutations, observer) {{\n",
       "        var display = window.getComputedStyle(gd).display;\n",
       "        if (!display || display === 'none') {{\n",
       "            console.log([gd, 'removed!']);\n",
       "            Plotly.purge(gd);\n",
       "            observer.disconnect();\n",
       "        }}\n",
       "}});\n",
       "\n",
       "// Listen for the removal of the full notebook cells\n",
       "var notebookContainer = gd.closest('#notebook-container');\n",
       "if (notebookContainer) {{\n",
       "    x.observe(notebookContainer, {childList: true});\n",
       "}}\n",
       "\n",
       "// Listen for the clearing of the current output cell\n",
       "var outputEl = gd.closest('.output');\n",
       "if (outputEl) {{\n",
       "    x.observe(outputEl, {childList: true});\n",
       "}}\n",
       "\n",
       "                        })                };                });            </script>        </div>"
      ]
     },
     "metadata": {},
     "output_type": "display_data"
    }
   ],
   "source": [
    "df[['a','b']].iplot(kind='spread')"
   ]
  },
  {
   "cell_type": "code",
   "execution_count": 52,
   "id": "3d334e52",
   "metadata": {},
   "outputs": [
    {
     "data": {
      "application/vnd.plotly.v1+json": {
       "config": {
        "linkText": "Export to plot.ly",
        "plotlyServerURL": "https://plot.ly",
        "showLink": true
       },
       "data": [
        {
         "marker": {
          "color": [
           "rgb(255, 153, 51)",
           "rgb(55, 128, 191)",
           "rgb(50, 171, 96)",
           "rgb(128, 0, 128)",
           "rgb(219, 64, 82)",
           "rgb(0, 128, 128)",
           "rgb(255, 255, 51)",
           "rgb(128, 128, 0)",
           "rgb(251, 128, 114)",
           "rgb(128, 177, 211)"
          ],
          "line": {
           "width": 1.3
          },
          "size": [
           41,
           46,
           77,
           42,
           51,
           76,
           64,
           12,
           53,
           58,
           70,
           33,
           57,
           54,
           43,
           70,
           80,
           47,
           78,
           43,
           53,
           54,
           37,
           37,
           45,
           52,
           27,
           43,
           81,
           30,
           31,
           88,
           64,
           50,
           69,
           39,
           48,
           55,
           34,
           82,
           42,
           82,
           61,
           61,
           41,
           55,
           59,
           82,
           83,
           48,
           55,
           53,
           57,
           40,
           30,
           57,
           41,
           90,
           41,
           87,
           30,
           45,
           72,
           22,
           64,
           62,
           70,
           39,
           20,
           60,
           112,
           35,
           51,
           57,
           56,
           72,
           55,
           20,
           69,
           70,
           57,
           25,
           53,
           58,
           44,
           80,
           35,
           70,
           74,
           51,
           61,
           60,
           12,
           41,
           73,
           66,
           62,
           43,
           54,
           57
          ],
          "symbol": "circle"
         },
         "mode": "markers",
         "text": "",
         "type": "scatter",
         "x": [
          -1.2536704061240342,
          -0.31192087006827185,
          -2.2109845815294356,
          0.26098210430390356,
          -0.42372505561706497,
          -0.5191246063006844,
          -0.3741979168810921,
          0.013160070003499067,
          -1.3936117653916562,
          -0.9879887112436886,
          0.9978019604285551,
          0.20408777022973887,
          -0.3751686712106355,
          0.14714190067587132,
          0.7097405973098823,
          -0.5980386770941455,
          -0.8580820814739449,
          -0.03928825662399084,
          2.1123756536844134,
          0.20988143099753984,
          -0.0039750860987576705,
          1.0837356737832347,
          0.25720841914284187,
          -0.6265295757295674,
          -0.8334593492338207,
          -0.43845976815063725,
          1.2182819398389937,
          -1.2402949889598742,
          -1.2071346174640567,
          -0.25215273236635155,
          -0.26222993788277515,
          -1.5944264482789066,
          -0.11603327631361181,
          0.3170166562461856,
          0.33184384567773306,
          0.2706533742615674,
          0.6886179771564876,
          0.33296980227084005,
          0.5860064727362081,
          -1.0790498039463736,
          0.036369968192229485,
          0.15144790493044746,
          -0.10393678206743479,
          0.8349700375535881,
          -1.206328193237761,
          0.5673265511778895,
          -0.06721204834887629,
          -0.543744658610441,
          -1.784873068359861,
          -1.5640842673613353,
          -1.7484510427524396,
          -0.9238595076773191,
          -0.07066518986172503,
          -1.2564883213487814,
          -1.255171782943583,
          -0.5693595220873484,
          -0.2680475201230551,
          -0.7370601821881222,
          1.4131046455732545,
          -0.4484711608573334,
          -0.03368558970719541,
          0.20060822572533968,
          -1.3006252925618582,
          -0.7650549164700556,
          -1.474269199202699,
          -1.9035357216209998,
          -0.842459505915815,
          -0.6450446032311398,
          -1.3859767495689528,
          0.5787535105345148,
          2.2955960081866325,
          -1.4380393667265592,
          0.592895059358941,
          0.6824300472122862,
          -1.978558056285446,
          0.6507979497194142,
          -0.8504019891320452,
          -0.23082902274044428,
          0.9275706159608799,
          -0.047095155777864835,
          -1.6405431622980855,
          -0.8744312401517957,
          -0.25871068506394845,
          0.27471500967068346,
          0.1946788757728365,
          1.4125245459008748,
          -0.049375511972559315,
          -0.10475479978240199,
          0.5133935150926221,
          -1.2223620008398135,
          -0.11638992089113567,
          -1.3023112967306605,
          0.30293182359718746,
          -1.6607840815862427,
          1.983670482457282,
          -1.0036184526149803,
          -1.428906436402728,
          1.5304130203604172,
          0.9133621367502792,
          -0.29639213224210054
         ],
         "y": [
          -0.7172365979374294,
          0.1301927392996842,
          -1.393522266799919,
          0.5547087920801866,
          -0.5200071012122776,
          1.1613183698350373,
          -1.3529461218033918,
          1.3988825487452088,
          0.6733468125873788,
          1.5219448397371478,
          -0.7906269916573789,
          -0.3161501726488375,
          -0.41778212984503704,
          -0.5831677471760225,
          0.6023577387799757,
          -0.4443233853900075,
          0.7533047706847111,
          -1.3970815128632759,
          0.3581974945656321,
          0.8589985833109056,
          0.47592833921194794,
          0.23549672361459806,
          -0.18952266322583036,
          0.19974453806195278,
          -0.06960702398037072,
          -1.0086186324692388,
          0.9628957190504571,
          0.9474978795182155,
          0.8596145583597102,
          -0.4263569089417392,
          0.3499146348325409,
          0.9398534359848607,
          -0.6229775340336317,
          0.19749787601107976,
          -1.0991368107166477,
          0.13191944366896108,
          -0.42292656307822624,
          0.34519356856585565,
          0.514983356263597,
          -1.138924491691048,
          -1.189373130478294,
          0.9667822919326727,
          -1.150614139922435,
          0.42524038583700313,
          -0.03894968578993216,
          -0.13929919745961755,
          -0.3125569796919793,
          -1.4309654669216174,
          0.03980910697712983,
          -0.880089298606563,
          -1.1501158787075554,
          -1.4208883907476475,
          1.2273389142307352,
          0.7034530198234115,
          0.38818130211246876,
          0.18684137941578224,
          1.0825536881142404,
          -0.34031467699274226,
          -2.550099155251413,
          0.08468203433117498,
          0.44837050229530284,
          0.017602416217182646,
          -0.5201218604083405,
          0.654672383103486,
          -0.9318224461423867,
          -1.0800159254957447,
          1.544411010637449,
          -2.16227794297282,
          0.23561697608863844,
          -1.1278533299184488,
          -0.11732290592434473,
          -0.29730289220519107,
          -0.32750099938839783,
          0.955194867490096,
          -1.7596498603194104,
          0.7096375246310584,
          0.5821868144562231,
          -0.8746028069438861,
          0.9062882402006409,
          0.055217998884144866,
          -1.973828315514508,
          -1.004458985106134,
          1.7793279779693252,
          -0.10840911214856161,
          2.6867297265953103,
          0.91343388042321,
          -0.9377622323218044,
          -1.2570794768782148,
          1.6471666036145307,
          0.48188330904460136,
          -0.04052226717979435,
          -0.05859375010378374,
          1.1738796853901698,
          0.2795749088035469,
          1.0908754639387486,
          -1.1197331844989709,
          -1.2150861295185817,
          1.5136977245404255,
          0.8247996201154251,
          -0.24542134180675218
         ]
        }
       ],
       "layout": {
        "legend": {
         "bgcolor": "#F5F6F9",
         "font": {
          "color": "#4D5663"
         }
        },
        "paper_bgcolor": "#F5F6F9",
        "plot_bgcolor": "#F5F6F9",
        "template": {
         "data": {
          "bar": [
           {
            "error_x": {
             "color": "#2a3f5f"
            },
            "error_y": {
             "color": "#2a3f5f"
            },
            "marker": {
             "line": {
              "color": "#E5ECF6",
              "width": 0.5
             },
             "pattern": {
              "fillmode": "overlay",
              "size": 10,
              "solidity": 0.2
             }
            },
            "type": "bar"
           }
          ],
          "barpolar": [
           {
            "marker": {
             "line": {
              "color": "#E5ECF6",
              "width": 0.5
             },
             "pattern": {
              "fillmode": "overlay",
              "size": 10,
              "solidity": 0.2
             }
            },
            "type": "barpolar"
           }
          ],
          "carpet": [
           {
            "aaxis": {
             "endlinecolor": "#2a3f5f",
             "gridcolor": "white",
             "linecolor": "white",
             "minorgridcolor": "white",
             "startlinecolor": "#2a3f5f"
            },
            "baxis": {
             "endlinecolor": "#2a3f5f",
             "gridcolor": "white",
             "linecolor": "white",
             "minorgridcolor": "white",
             "startlinecolor": "#2a3f5f"
            },
            "type": "carpet"
           }
          ],
          "choropleth": [
           {
            "colorbar": {
             "outlinewidth": 0,
             "ticks": ""
            },
            "type": "choropleth"
           }
          ],
          "contour": [
           {
            "colorbar": {
             "outlinewidth": 0,
             "ticks": ""
            },
            "colorscale": [
             [
              0,
              "#0d0887"
             ],
             [
              0.1111111111111111,
              "#46039f"
             ],
             [
              0.2222222222222222,
              "#7201a8"
             ],
             [
              0.3333333333333333,
              "#9c179e"
             ],
             [
              0.4444444444444444,
              "#bd3786"
             ],
             [
              0.5555555555555556,
              "#d8576b"
             ],
             [
              0.6666666666666666,
              "#ed7953"
             ],
             [
              0.7777777777777778,
              "#fb9f3a"
             ],
             [
              0.8888888888888888,
              "#fdca26"
             ],
             [
              1,
              "#f0f921"
             ]
            ],
            "type": "contour"
           }
          ],
          "contourcarpet": [
           {
            "colorbar": {
             "outlinewidth": 0,
             "ticks": ""
            },
            "type": "contourcarpet"
           }
          ],
          "heatmap": [
           {
            "colorbar": {
             "outlinewidth": 0,
             "ticks": ""
            },
            "colorscale": [
             [
              0,
              "#0d0887"
             ],
             [
              0.1111111111111111,
              "#46039f"
             ],
             [
              0.2222222222222222,
              "#7201a8"
             ],
             [
              0.3333333333333333,
              "#9c179e"
             ],
             [
              0.4444444444444444,
              "#bd3786"
             ],
             [
              0.5555555555555556,
              "#d8576b"
             ],
             [
              0.6666666666666666,
              "#ed7953"
             ],
             [
              0.7777777777777778,
              "#fb9f3a"
             ],
             [
              0.8888888888888888,
              "#fdca26"
             ],
             [
              1,
              "#f0f921"
             ]
            ],
            "type": "heatmap"
           }
          ],
          "heatmapgl": [
           {
            "colorbar": {
             "outlinewidth": 0,
             "ticks": ""
            },
            "colorscale": [
             [
              0,
              "#0d0887"
             ],
             [
              0.1111111111111111,
              "#46039f"
             ],
             [
              0.2222222222222222,
              "#7201a8"
             ],
             [
              0.3333333333333333,
              "#9c179e"
             ],
             [
              0.4444444444444444,
              "#bd3786"
             ],
             [
              0.5555555555555556,
              "#d8576b"
             ],
             [
              0.6666666666666666,
              "#ed7953"
             ],
             [
              0.7777777777777778,
              "#fb9f3a"
             ],
             [
              0.8888888888888888,
              "#fdca26"
             ],
             [
              1,
              "#f0f921"
             ]
            ],
            "type": "heatmapgl"
           }
          ],
          "histogram": [
           {
            "marker": {
             "pattern": {
              "fillmode": "overlay",
              "size": 10,
              "solidity": 0.2
             }
            },
            "type": "histogram"
           }
          ],
          "histogram2d": [
           {
            "colorbar": {
             "outlinewidth": 0,
             "ticks": ""
            },
            "colorscale": [
             [
              0,
              "#0d0887"
             ],
             [
              0.1111111111111111,
              "#46039f"
             ],
             [
              0.2222222222222222,
              "#7201a8"
             ],
             [
              0.3333333333333333,
              "#9c179e"
             ],
             [
              0.4444444444444444,
              "#bd3786"
             ],
             [
              0.5555555555555556,
              "#d8576b"
             ],
             [
              0.6666666666666666,
              "#ed7953"
             ],
             [
              0.7777777777777778,
              "#fb9f3a"
             ],
             [
              0.8888888888888888,
              "#fdca26"
             ],
             [
              1,
              "#f0f921"
             ]
            ],
            "type": "histogram2d"
           }
          ],
          "histogram2dcontour": [
           {
            "colorbar": {
             "outlinewidth": 0,
             "ticks": ""
            },
            "colorscale": [
             [
              0,
              "#0d0887"
             ],
             [
              0.1111111111111111,
              "#46039f"
             ],
             [
              0.2222222222222222,
              "#7201a8"
             ],
             [
              0.3333333333333333,
              "#9c179e"
             ],
             [
              0.4444444444444444,
              "#bd3786"
             ],
             [
              0.5555555555555556,
              "#d8576b"
             ],
             [
              0.6666666666666666,
              "#ed7953"
             ],
             [
              0.7777777777777778,
              "#fb9f3a"
             ],
             [
              0.8888888888888888,
              "#fdca26"
             ],
             [
              1,
              "#f0f921"
             ]
            ],
            "type": "histogram2dcontour"
           }
          ],
          "mesh3d": [
           {
            "colorbar": {
             "outlinewidth": 0,
             "ticks": ""
            },
            "type": "mesh3d"
           }
          ],
          "parcoords": [
           {
            "line": {
             "colorbar": {
              "outlinewidth": 0,
              "ticks": ""
             }
            },
            "type": "parcoords"
           }
          ],
          "pie": [
           {
            "automargin": true,
            "type": "pie"
           }
          ],
          "scatter": [
           {
            "fillpattern": {
             "fillmode": "overlay",
             "size": 10,
             "solidity": 0.2
            },
            "type": "scatter"
           }
          ],
          "scatter3d": [
           {
            "line": {
             "colorbar": {
              "outlinewidth": 0,
              "ticks": ""
             }
            },
            "marker": {
             "colorbar": {
              "outlinewidth": 0,
              "ticks": ""
             }
            },
            "type": "scatter3d"
           }
          ],
          "scattercarpet": [
           {
            "marker": {
             "colorbar": {
              "outlinewidth": 0,
              "ticks": ""
             }
            },
            "type": "scattercarpet"
           }
          ],
          "scattergeo": [
           {
            "marker": {
             "colorbar": {
              "outlinewidth": 0,
              "ticks": ""
             }
            },
            "type": "scattergeo"
           }
          ],
          "scattergl": [
           {
            "marker": {
             "colorbar": {
              "outlinewidth": 0,
              "ticks": ""
             }
            },
            "type": "scattergl"
           }
          ],
          "scattermapbox": [
           {
            "marker": {
             "colorbar": {
              "outlinewidth": 0,
              "ticks": ""
             }
            },
            "type": "scattermapbox"
           }
          ],
          "scatterpolar": [
           {
            "marker": {
             "colorbar": {
              "outlinewidth": 0,
              "ticks": ""
             }
            },
            "type": "scatterpolar"
           }
          ],
          "scatterpolargl": [
           {
            "marker": {
             "colorbar": {
              "outlinewidth": 0,
              "ticks": ""
             }
            },
            "type": "scatterpolargl"
           }
          ],
          "scatterternary": [
           {
            "marker": {
             "colorbar": {
              "outlinewidth": 0,
              "ticks": ""
             }
            },
            "type": "scatterternary"
           }
          ],
          "surface": [
           {
            "colorbar": {
             "outlinewidth": 0,
             "ticks": ""
            },
            "colorscale": [
             [
              0,
              "#0d0887"
             ],
             [
              0.1111111111111111,
              "#46039f"
             ],
             [
              0.2222222222222222,
              "#7201a8"
             ],
             [
              0.3333333333333333,
              "#9c179e"
             ],
             [
              0.4444444444444444,
              "#bd3786"
             ],
             [
              0.5555555555555556,
              "#d8576b"
             ],
             [
              0.6666666666666666,
              "#ed7953"
             ],
             [
              0.7777777777777778,
              "#fb9f3a"
             ],
             [
              0.8888888888888888,
              "#fdca26"
             ],
             [
              1,
              "#f0f921"
             ]
            ],
            "type": "surface"
           }
          ],
          "table": [
           {
            "cells": {
             "fill": {
              "color": "#EBF0F8"
             },
             "line": {
              "color": "white"
             }
            },
            "header": {
             "fill": {
              "color": "#C8D4E3"
             },
             "line": {
              "color": "white"
             }
            },
            "type": "table"
           }
          ]
         },
         "layout": {
          "annotationdefaults": {
           "arrowcolor": "#2a3f5f",
           "arrowhead": 0,
           "arrowwidth": 1
          },
          "autotypenumbers": "strict",
          "coloraxis": {
           "colorbar": {
            "outlinewidth": 0,
            "ticks": ""
           }
          },
          "colorscale": {
           "diverging": [
            [
             0,
             "#8e0152"
            ],
            [
             0.1,
             "#c51b7d"
            ],
            [
             0.2,
             "#de77ae"
            ],
            [
             0.3,
             "#f1b6da"
            ],
            [
             0.4,
             "#fde0ef"
            ],
            [
             0.5,
             "#f7f7f7"
            ],
            [
             0.6,
             "#e6f5d0"
            ],
            [
             0.7,
             "#b8e186"
            ],
            [
             0.8,
             "#7fbc41"
            ],
            [
             0.9,
             "#4d9221"
            ],
            [
             1,
             "#276419"
            ]
           ],
           "sequential": [
            [
             0,
             "#0d0887"
            ],
            [
             0.1111111111111111,
             "#46039f"
            ],
            [
             0.2222222222222222,
             "#7201a8"
            ],
            [
             0.3333333333333333,
             "#9c179e"
            ],
            [
             0.4444444444444444,
             "#bd3786"
            ],
            [
             0.5555555555555556,
             "#d8576b"
            ],
            [
             0.6666666666666666,
             "#ed7953"
            ],
            [
             0.7777777777777778,
             "#fb9f3a"
            ],
            [
             0.8888888888888888,
             "#fdca26"
            ],
            [
             1,
             "#f0f921"
            ]
           ],
           "sequentialminus": [
            [
             0,
             "#0d0887"
            ],
            [
             0.1111111111111111,
             "#46039f"
            ],
            [
             0.2222222222222222,
             "#7201a8"
            ],
            [
             0.3333333333333333,
             "#9c179e"
            ],
            [
             0.4444444444444444,
             "#bd3786"
            ],
            [
             0.5555555555555556,
             "#d8576b"
            ],
            [
             0.6666666666666666,
             "#ed7953"
            ],
            [
             0.7777777777777778,
             "#fb9f3a"
            ],
            [
             0.8888888888888888,
             "#fdca26"
            ],
            [
             1,
             "#f0f921"
            ]
           ]
          },
          "colorway": [
           "#636efa",
           "#EF553B",
           "#00cc96",
           "#ab63fa",
           "#FFA15A",
           "#19d3f3",
           "#FF6692",
           "#B6E880",
           "#FF97FF",
           "#FECB52"
          ],
          "font": {
           "color": "#2a3f5f"
          },
          "geo": {
           "bgcolor": "white",
           "lakecolor": "white",
           "landcolor": "#E5ECF6",
           "showlakes": true,
           "showland": true,
           "subunitcolor": "white"
          },
          "hoverlabel": {
           "align": "left"
          },
          "hovermode": "closest",
          "mapbox": {
           "style": "light"
          },
          "paper_bgcolor": "white",
          "plot_bgcolor": "#E5ECF6",
          "polar": {
           "angularaxis": {
            "gridcolor": "white",
            "linecolor": "white",
            "ticks": ""
           },
           "bgcolor": "#E5ECF6",
           "radialaxis": {
            "gridcolor": "white",
            "linecolor": "white",
            "ticks": ""
           }
          },
          "scene": {
           "xaxis": {
            "backgroundcolor": "#E5ECF6",
            "gridcolor": "white",
            "gridwidth": 2,
            "linecolor": "white",
            "showbackground": true,
            "ticks": "",
            "zerolinecolor": "white"
           },
           "yaxis": {
            "backgroundcolor": "#E5ECF6",
            "gridcolor": "white",
            "gridwidth": 2,
            "linecolor": "white",
            "showbackground": true,
            "ticks": "",
            "zerolinecolor": "white"
           },
           "zaxis": {
            "backgroundcolor": "#E5ECF6",
            "gridcolor": "white",
            "gridwidth": 2,
            "linecolor": "white",
            "showbackground": true,
            "ticks": "",
            "zerolinecolor": "white"
           }
          },
          "shapedefaults": {
           "line": {
            "color": "#2a3f5f"
           }
          },
          "ternary": {
           "aaxis": {
            "gridcolor": "white",
            "linecolor": "white",
            "ticks": ""
           },
           "baxis": {
            "gridcolor": "white",
            "linecolor": "white",
            "ticks": ""
           },
           "bgcolor": "#E5ECF6",
           "caxis": {
            "gridcolor": "white",
            "linecolor": "white",
            "ticks": ""
           }
          },
          "title": {
           "x": 0.05
          },
          "xaxis": {
           "automargin": true,
           "gridcolor": "white",
           "linecolor": "white",
           "ticks": "",
           "title": {
            "standoff": 15
           },
           "zerolinecolor": "white",
           "zerolinewidth": 2
          },
          "yaxis": {
           "automargin": true,
           "gridcolor": "white",
           "linecolor": "white",
           "ticks": "",
           "title": {
            "standoff": 15
           },
           "zerolinecolor": "white",
           "zerolinewidth": 2
          }
         }
        },
        "title": {
         "font": {
          "color": "#4D5663"
         }
        },
        "xaxis": {
         "gridcolor": "#E1E5ED",
         "showgrid": true,
         "tickfont": {
          "color": "#4D5663"
         },
         "title": {
          "font": {
           "color": "#4D5663"
          },
          "text": ""
         },
         "zerolinecolor": "#E1E5ED"
        },
        "yaxis": {
         "gridcolor": "#E1E5ED",
         "showgrid": true,
         "tickfont": {
          "color": "#4D5663"
         },
         "title": {
          "font": {
           "color": "#4D5663"
          },
          "text": ""
         },
         "zerolinecolor": "#E1E5ED"
        }
       }
      },
      "text/html": [
       "<div>                            <div id=\"cd99170a-a67e-45e7-bfbe-12e41872de19\" class=\"plotly-graph-div\" style=\"height:525px; width:100%;\"></div>            <script type=\"text/javascript\">                require([\"plotly\"], function(Plotly) {                    window.PLOTLYENV=window.PLOTLYENV || {};\n",
       "                    window.PLOTLYENV.BASE_URL='https://plot.ly';                                    if (document.getElementById(\"cd99170a-a67e-45e7-bfbe-12e41872de19\")) {                    Plotly.newPlot(                        \"cd99170a-a67e-45e7-bfbe-12e41872de19\",                        [{\"marker\":{\"color\":[\"rgb(255, 153, 51)\",\"rgb(55, 128, 191)\",\"rgb(50, 171, 96)\",\"rgb(128, 0, 128)\",\"rgb(219, 64, 82)\",\"rgb(0, 128, 128)\",\"rgb(255, 255, 51)\",\"rgb(128, 128, 0)\",\"rgb(251, 128, 114)\",\"rgb(128, 177, 211)\"],\"line\":{\"width\":1.3},\"size\":[41,46,77,42,51,76,64,12,53,58,70,33,57,54,43,70,80,47,78,43,53,54,37,37,45,52,27,43,81,30,31,88,64,50,69,39,48,55,34,82,42,82,61,61,41,55,59,82,83,48,55,53,57,40,30,57,41,90,41,87,30,45,72,22,64,62,70,39,20,60,112,35,51,57,56,72,55,20,69,70,57,25,53,58,44,80,35,70,74,51,61,60,12,41,73,66,62,43,54,57],\"symbol\":\"circle\"},\"mode\":\"markers\",\"text\":\"\",\"x\":[-1.2536704061240342,-0.31192087006827185,-2.2109845815294356,0.26098210430390356,-0.42372505561706497,-0.5191246063006844,-0.3741979168810921,0.013160070003499067,-1.3936117653916562,-0.9879887112436886,0.9978019604285551,0.20408777022973887,-0.3751686712106355,0.14714190067587132,0.7097405973098823,-0.5980386770941455,-0.8580820814739449,-0.03928825662399084,2.1123756536844134,0.20988143099753984,-0.0039750860987576705,1.0837356737832347,0.25720841914284187,-0.6265295757295674,-0.8334593492338207,-0.43845976815063725,1.2182819398389937,-1.2402949889598742,-1.2071346174640567,-0.25215273236635155,-0.26222993788277515,-1.5944264482789066,-0.11603327631361181,0.3170166562461856,0.33184384567773306,0.2706533742615674,0.6886179771564876,0.33296980227084005,0.5860064727362081,-1.0790498039463736,0.036369968192229485,0.15144790493044746,-0.10393678206743479,0.8349700375535881,-1.206328193237761,0.5673265511778895,-0.06721204834887629,-0.543744658610441,-1.784873068359861,-1.5640842673613353,-1.7484510427524396,-0.9238595076773191,-0.07066518986172503,-1.2564883213487814,-1.255171782943583,-0.5693595220873484,-0.2680475201230551,-0.7370601821881222,1.4131046455732545,-0.4484711608573334,-0.03368558970719541,0.20060822572533968,-1.3006252925618582,-0.7650549164700556,-1.474269199202699,-1.9035357216209998,-0.842459505915815,-0.6450446032311398,-1.3859767495689528,0.5787535105345148,2.2955960081866325,-1.4380393667265592,0.592895059358941,0.6824300472122862,-1.978558056285446,0.6507979497194142,-0.8504019891320452,-0.23082902274044428,0.9275706159608799,-0.047095155777864835,-1.6405431622980855,-0.8744312401517957,-0.25871068506394845,0.27471500967068346,0.1946788757728365,1.4125245459008748,-0.049375511972559315,-0.10475479978240199,0.5133935150926221,-1.2223620008398135,-0.11638992089113567,-1.3023112967306605,0.30293182359718746,-1.6607840815862427,1.983670482457282,-1.0036184526149803,-1.428906436402728,1.5304130203604172,0.9133621367502792,-0.29639213224210054],\"y\":[-0.7172365979374294,0.1301927392996842,-1.393522266799919,0.5547087920801866,-0.5200071012122776,1.1613183698350373,-1.3529461218033918,1.3988825487452088,0.6733468125873788,1.5219448397371478,-0.7906269916573789,-0.3161501726488375,-0.41778212984503704,-0.5831677471760225,0.6023577387799757,-0.4443233853900075,0.7533047706847111,-1.3970815128632759,0.3581974945656321,0.8589985833109056,0.47592833921194794,0.23549672361459806,-0.18952266322583036,0.19974453806195278,-0.06960702398037072,-1.0086186324692388,0.9628957190504571,0.9474978795182155,0.8596145583597102,-0.4263569089417392,0.3499146348325409,0.9398534359848607,-0.6229775340336317,0.19749787601107976,-1.0991368107166477,0.13191944366896108,-0.42292656307822624,0.34519356856585565,0.514983356263597,-1.138924491691048,-1.189373130478294,0.9667822919326727,-1.150614139922435,0.42524038583700313,-0.03894968578993216,-0.13929919745961755,-0.3125569796919793,-1.4309654669216174,0.03980910697712983,-0.880089298606563,-1.1501158787075554,-1.4208883907476475,1.2273389142307352,0.7034530198234115,0.38818130211246876,0.18684137941578224,1.0825536881142404,-0.34031467699274226,-2.550099155251413,0.08468203433117498,0.44837050229530284,0.017602416217182646,-0.5201218604083405,0.654672383103486,-0.9318224461423867,-1.0800159254957447,1.544411010637449,-2.16227794297282,0.23561697608863844,-1.1278533299184488,-0.11732290592434473,-0.29730289220519107,-0.32750099938839783,0.955194867490096,-1.7596498603194104,0.7096375246310584,0.5821868144562231,-0.8746028069438861,0.9062882402006409,0.055217998884144866,-1.973828315514508,-1.004458985106134,1.7793279779693252,-0.10840911214856161,2.6867297265953103,0.91343388042321,-0.9377622323218044,-1.2570794768782148,1.6471666036145307,0.48188330904460136,-0.04052226717979435,-0.05859375010378374,1.1738796853901698,0.2795749088035469,1.0908754639387486,-1.1197331844989709,-1.2150861295185817,1.5136977245404255,0.8247996201154251,-0.24542134180675218],\"type\":\"scatter\"}],                        {\"legend\":{\"bgcolor\":\"#F5F6F9\",\"font\":{\"color\":\"#4D5663\"}},\"paper_bgcolor\":\"#F5F6F9\",\"plot_bgcolor\":\"#F5F6F9\",\"template\":{\"data\":{\"barpolar\":[{\"marker\":{\"line\":{\"color\":\"#E5ECF6\",\"width\":0.5},\"pattern\":{\"fillmode\":\"overlay\",\"size\":10,\"solidity\":0.2}},\"type\":\"barpolar\"}],\"bar\":[{\"error_x\":{\"color\":\"#2a3f5f\"},\"error_y\":{\"color\":\"#2a3f5f\"},\"marker\":{\"line\":{\"color\":\"#E5ECF6\",\"width\":0.5},\"pattern\":{\"fillmode\":\"overlay\",\"size\":10,\"solidity\":0.2}},\"type\":\"bar\"}],\"carpet\":[{\"aaxis\":{\"endlinecolor\":\"#2a3f5f\",\"gridcolor\":\"white\",\"linecolor\":\"white\",\"minorgridcolor\":\"white\",\"startlinecolor\":\"#2a3f5f\"},\"baxis\":{\"endlinecolor\":\"#2a3f5f\",\"gridcolor\":\"white\",\"linecolor\":\"white\",\"minorgridcolor\":\"white\",\"startlinecolor\":\"#2a3f5f\"},\"type\":\"carpet\"}],\"choropleth\":[{\"colorbar\":{\"outlinewidth\":0,\"ticks\":\"\"},\"type\":\"choropleth\"}],\"contourcarpet\":[{\"colorbar\":{\"outlinewidth\":0,\"ticks\":\"\"},\"type\":\"contourcarpet\"}],\"contour\":[{\"colorbar\":{\"outlinewidth\":0,\"ticks\":\"\"},\"colorscale\":[[0.0,\"#0d0887\"],[0.1111111111111111,\"#46039f\"],[0.2222222222222222,\"#7201a8\"],[0.3333333333333333,\"#9c179e\"],[0.4444444444444444,\"#bd3786\"],[0.5555555555555556,\"#d8576b\"],[0.6666666666666666,\"#ed7953\"],[0.7777777777777778,\"#fb9f3a\"],[0.8888888888888888,\"#fdca26\"],[1.0,\"#f0f921\"]],\"type\":\"contour\"}],\"heatmapgl\":[{\"colorbar\":{\"outlinewidth\":0,\"ticks\":\"\"},\"colorscale\":[[0.0,\"#0d0887\"],[0.1111111111111111,\"#46039f\"],[0.2222222222222222,\"#7201a8\"],[0.3333333333333333,\"#9c179e\"],[0.4444444444444444,\"#bd3786\"],[0.5555555555555556,\"#d8576b\"],[0.6666666666666666,\"#ed7953\"],[0.7777777777777778,\"#fb9f3a\"],[0.8888888888888888,\"#fdca26\"],[1.0,\"#f0f921\"]],\"type\":\"heatmapgl\"}],\"heatmap\":[{\"colorbar\":{\"outlinewidth\":0,\"ticks\":\"\"},\"colorscale\":[[0.0,\"#0d0887\"],[0.1111111111111111,\"#46039f\"],[0.2222222222222222,\"#7201a8\"],[0.3333333333333333,\"#9c179e\"],[0.4444444444444444,\"#bd3786\"],[0.5555555555555556,\"#d8576b\"],[0.6666666666666666,\"#ed7953\"],[0.7777777777777778,\"#fb9f3a\"],[0.8888888888888888,\"#fdca26\"],[1.0,\"#f0f921\"]],\"type\":\"heatmap\"}],\"histogram2dcontour\":[{\"colorbar\":{\"outlinewidth\":0,\"ticks\":\"\"},\"colorscale\":[[0.0,\"#0d0887\"],[0.1111111111111111,\"#46039f\"],[0.2222222222222222,\"#7201a8\"],[0.3333333333333333,\"#9c179e\"],[0.4444444444444444,\"#bd3786\"],[0.5555555555555556,\"#d8576b\"],[0.6666666666666666,\"#ed7953\"],[0.7777777777777778,\"#fb9f3a\"],[0.8888888888888888,\"#fdca26\"],[1.0,\"#f0f921\"]],\"type\":\"histogram2dcontour\"}],\"histogram2d\":[{\"colorbar\":{\"outlinewidth\":0,\"ticks\":\"\"},\"colorscale\":[[0.0,\"#0d0887\"],[0.1111111111111111,\"#46039f\"],[0.2222222222222222,\"#7201a8\"],[0.3333333333333333,\"#9c179e\"],[0.4444444444444444,\"#bd3786\"],[0.5555555555555556,\"#d8576b\"],[0.6666666666666666,\"#ed7953\"],[0.7777777777777778,\"#fb9f3a\"],[0.8888888888888888,\"#fdca26\"],[1.0,\"#f0f921\"]],\"type\":\"histogram2d\"}],\"histogram\":[{\"marker\":{\"pattern\":{\"fillmode\":\"overlay\",\"size\":10,\"solidity\":0.2}},\"type\":\"histogram\"}],\"mesh3d\":[{\"colorbar\":{\"outlinewidth\":0,\"ticks\":\"\"},\"type\":\"mesh3d\"}],\"parcoords\":[{\"line\":{\"colorbar\":{\"outlinewidth\":0,\"ticks\":\"\"}},\"type\":\"parcoords\"}],\"pie\":[{\"automargin\":true,\"type\":\"pie\"}],\"scatter3d\":[{\"line\":{\"colorbar\":{\"outlinewidth\":0,\"ticks\":\"\"}},\"marker\":{\"colorbar\":{\"outlinewidth\":0,\"ticks\":\"\"}},\"type\":\"scatter3d\"}],\"scattercarpet\":[{\"marker\":{\"colorbar\":{\"outlinewidth\":0,\"ticks\":\"\"}},\"type\":\"scattercarpet\"}],\"scattergeo\":[{\"marker\":{\"colorbar\":{\"outlinewidth\":0,\"ticks\":\"\"}},\"type\":\"scattergeo\"}],\"scattergl\":[{\"marker\":{\"colorbar\":{\"outlinewidth\":0,\"ticks\":\"\"}},\"type\":\"scattergl\"}],\"scattermapbox\":[{\"marker\":{\"colorbar\":{\"outlinewidth\":0,\"ticks\":\"\"}},\"type\":\"scattermapbox\"}],\"scatterpolargl\":[{\"marker\":{\"colorbar\":{\"outlinewidth\":0,\"ticks\":\"\"}},\"type\":\"scatterpolargl\"}],\"scatterpolar\":[{\"marker\":{\"colorbar\":{\"outlinewidth\":0,\"ticks\":\"\"}},\"type\":\"scatterpolar\"}],\"scatter\":[{\"fillpattern\":{\"fillmode\":\"overlay\",\"size\":10,\"solidity\":0.2},\"type\":\"scatter\"}],\"scatterternary\":[{\"marker\":{\"colorbar\":{\"outlinewidth\":0,\"ticks\":\"\"}},\"type\":\"scatterternary\"}],\"surface\":[{\"colorbar\":{\"outlinewidth\":0,\"ticks\":\"\"},\"colorscale\":[[0.0,\"#0d0887\"],[0.1111111111111111,\"#46039f\"],[0.2222222222222222,\"#7201a8\"],[0.3333333333333333,\"#9c179e\"],[0.4444444444444444,\"#bd3786\"],[0.5555555555555556,\"#d8576b\"],[0.6666666666666666,\"#ed7953\"],[0.7777777777777778,\"#fb9f3a\"],[0.8888888888888888,\"#fdca26\"],[1.0,\"#f0f921\"]],\"type\":\"surface\"}],\"table\":[{\"cells\":{\"fill\":{\"color\":\"#EBF0F8\"},\"line\":{\"color\":\"white\"}},\"header\":{\"fill\":{\"color\":\"#C8D4E3\"},\"line\":{\"color\":\"white\"}},\"type\":\"table\"}]},\"layout\":{\"annotationdefaults\":{\"arrowcolor\":\"#2a3f5f\",\"arrowhead\":0,\"arrowwidth\":1},\"autotypenumbers\":\"strict\",\"coloraxis\":{\"colorbar\":{\"outlinewidth\":0,\"ticks\":\"\"}},\"colorscale\":{\"diverging\":[[0,\"#8e0152\"],[0.1,\"#c51b7d\"],[0.2,\"#de77ae\"],[0.3,\"#f1b6da\"],[0.4,\"#fde0ef\"],[0.5,\"#f7f7f7\"],[0.6,\"#e6f5d0\"],[0.7,\"#b8e186\"],[0.8,\"#7fbc41\"],[0.9,\"#4d9221\"],[1,\"#276419\"]],\"sequential\":[[0.0,\"#0d0887\"],[0.1111111111111111,\"#46039f\"],[0.2222222222222222,\"#7201a8\"],[0.3333333333333333,\"#9c179e\"],[0.4444444444444444,\"#bd3786\"],[0.5555555555555556,\"#d8576b\"],[0.6666666666666666,\"#ed7953\"],[0.7777777777777778,\"#fb9f3a\"],[0.8888888888888888,\"#fdca26\"],[1.0,\"#f0f921\"]],\"sequentialminus\":[[0.0,\"#0d0887\"],[0.1111111111111111,\"#46039f\"],[0.2222222222222222,\"#7201a8\"],[0.3333333333333333,\"#9c179e\"],[0.4444444444444444,\"#bd3786\"],[0.5555555555555556,\"#d8576b\"],[0.6666666666666666,\"#ed7953\"],[0.7777777777777778,\"#fb9f3a\"],[0.8888888888888888,\"#fdca26\"],[1.0,\"#f0f921\"]]},\"colorway\":[\"#636efa\",\"#EF553B\",\"#00cc96\",\"#ab63fa\",\"#FFA15A\",\"#19d3f3\",\"#FF6692\",\"#B6E880\",\"#FF97FF\",\"#FECB52\"],\"font\":{\"color\":\"#2a3f5f\"},\"geo\":{\"bgcolor\":\"white\",\"lakecolor\":\"white\",\"landcolor\":\"#E5ECF6\",\"showlakes\":true,\"showland\":true,\"subunitcolor\":\"white\"},\"hoverlabel\":{\"align\":\"left\"},\"hovermode\":\"closest\",\"mapbox\":{\"style\":\"light\"},\"paper_bgcolor\":\"white\",\"plot_bgcolor\":\"#E5ECF6\",\"polar\":{\"angularaxis\":{\"gridcolor\":\"white\",\"linecolor\":\"white\",\"ticks\":\"\"},\"bgcolor\":\"#E5ECF6\",\"radialaxis\":{\"gridcolor\":\"white\",\"linecolor\":\"white\",\"ticks\":\"\"}},\"scene\":{\"xaxis\":{\"backgroundcolor\":\"#E5ECF6\",\"gridcolor\":\"white\",\"gridwidth\":2,\"linecolor\":\"white\",\"showbackground\":true,\"ticks\":\"\",\"zerolinecolor\":\"white\"},\"yaxis\":{\"backgroundcolor\":\"#E5ECF6\",\"gridcolor\":\"white\",\"gridwidth\":2,\"linecolor\":\"white\",\"showbackground\":true,\"ticks\":\"\",\"zerolinecolor\":\"white\"},\"zaxis\":{\"backgroundcolor\":\"#E5ECF6\",\"gridcolor\":\"white\",\"gridwidth\":2,\"linecolor\":\"white\",\"showbackground\":true,\"ticks\":\"\",\"zerolinecolor\":\"white\"}},\"shapedefaults\":{\"line\":{\"color\":\"#2a3f5f\"}},\"ternary\":{\"aaxis\":{\"gridcolor\":\"white\",\"linecolor\":\"white\",\"ticks\":\"\"},\"baxis\":{\"gridcolor\":\"white\",\"linecolor\":\"white\",\"ticks\":\"\"},\"bgcolor\":\"#E5ECF6\",\"caxis\":{\"gridcolor\":\"white\",\"linecolor\":\"white\",\"ticks\":\"\"}},\"title\":{\"x\":0.05},\"xaxis\":{\"automargin\":true,\"gridcolor\":\"white\",\"linecolor\":\"white\",\"ticks\":\"\",\"title\":{\"standoff\":15},\"zerolinecolor\":\"white\",\"zerolinewidth\":2},\"yaxis\":{\"automargin\":true,\"gridcolor\":\"white\",\"linecolor\":\"white\",\"ticks\":\"\",\"title\":{\"standoff\":15},\"zerolinecolor\":\"white\",\"zerolinewidth\":2}}},\"title\":{\"font\":{\"color\":\"#4D5663\"}},\"xaxis\":{\"gridcolor\":\"#E1E5ED\",\"showgrid\":true,\"tickfont\":{\"color\":\"#4D5663\"},\"title\":{\"font\":{\"color\":\"#4D5663\"},\"text\":\"\"},\"zerolinecolor\":\"#E1E5ED\"},\"yaxis\":{\"gridcolor\":\"#E1E5ED\",\"showgrid\":true,\"tickfont\":{\"color\":\"#4D5663\"},\"title\":{\"font\":{\"color\":\"#4D5663\"},\"text\":\"\"},\"zerolinecolor\":\"#E1E5ED\"}},                        {\"showLink\": true, \"linkText\": \"Export to plot.ly\", \"plotlyServerURL\": \"https://plot.ly\", \"responsive\": true}                    ).then(function(){\n",
       "                            \n",
       "var gd = document.getElementById('cd99170a-a67e-45e7-bfbe-12e41872de19');\n",
       "var x = new MutationObserver(function (mutations, observer) {{\n",
       "        var display = window.getComputedStyle(gd).display;\n",
       "        if (!display || display === 'none') {{\n",
       "            console.log([gd, 'removed!']);\n",
       "            Plotly.purge(gd);\n",
       "            observer.disconnect();\n",
       "        }}\n",
       "}});\n",
       "\n",
       "// Listen for the removal of the full notebook cells\n",
       "var notebookContainer = gd.closest('#notebook-container');\n",
       "if (notebookContainer) {{\n",
       "    x.observe(notebookContainer, {childList: true});\n",
       "}}\n",
       "\n",
       "// Listen for the clearing of the current output cell\n",
       "var outputEl = gd.closest('.output');\n",
       "if (outputEl) {{\n",
       "    x.observe(outputEl, {childList: true});\n",
       "}}\n",
       "\n",
       "                        })                };                });            </script>        </div>"
      ]
     },
     "metadata": {},
     "output_type": "display_data"
    }
   ],
   "source": [
    "df.iplot(kind='bubble',x='a',y='b',size='c')"
   ]
  },
  {
   "cell_type": "code",
   "execution_count": 53,
   "id": "975c6058",
   "metadata": {},
   "outputs": [
    {
     "data": {
      "application/vnd.plotly.v1+json": {
       "config": {
        "linkText": "Export to plot.ly",
        "plotlyServerURL": "https://plot.ly",
        "showLink": true
       },
       "data": [
        {
         "histfunc": "count",
         "histnorm": "",
         "marker": {
          "color": "rgba(255, 153, 51, 1.0)",
          "line": {
           "color": "#4D5663",
           "width": 1.3
          }
         },
         "name": "a",
         "nbinsx": 10,
         "opacity": 0.8,
         "orientation": "v",
         "type": "histogram",
         "x": [
          -1.2536704061240342,
          -0.31192087006827185,
          -2.2109845815294356,
          0.26098210430390356,
          -0.42372505561706497,
          -0.5191246063006844,
          -0.3741979168810921,
          0.013160070003499067,
          -1.3936117653916562,
          -0.9879887112436886,
          0.9978019604285551,
          0.20408777022973887,
          -0.3751686712106355,
          0.14714190067587132,
          0.7097405973098823,
          -0.5980386770941455,
          -0.8580820814739449,
          -0.03928825662399084,
          2.1123756536844134,
          0.20988143099753984,
          -0.0039750860987576705,
          1.0837356737832347,
          0.25720841914284187,
          -0.6265295757295674,
          -0.8334593492338207,
          -0.43845976815063725,
          1.2182819398389937,
          -1.2402949889598742,
          -1.2071346174640567,
          -0.25215273236635155,
          -0.26222993788277515,
          -1.5944264482789066,
          -0.11603327631361181,
          0.3170166562461856,
          0.33184384567773306,
          0.2706533742615674,
          0.6886179771564876,
          0.33296980227084005,
          0.5860064727362081,
          -1.0790498039463736,
          0.036369968192229485,
          0.15144790493044746,
          -0.10393678206743479,
          0.8349700375535881,
          -1.206328193237761,
          0.5673265511778895,
          -0.06721204834887629,
          -0.543744658610441,
          -1.784873068359861,
          -1.5640842673613353,
          -1.7484510427524396,
          -0.9238595076773191,
          -0.07066518986172503,
          -1.2564883213487814,
          -1.255171782943583,
          -0.5693595220873484,
          -0.2680475201230551,
          -0.7370601821881222,
          1.4131046455732545,
          -0.4484711608573334,
          -0.03368558970719541,
          0.20060822572533968,
          -1.3006252925618582,
          -0.7650549164700556,
          -1.474269199202699,
          -1.9035357216209998,
          -0.842459505915815,
          -0.6450446032311398,
          -1.3859767495689528,
          0.5787535105345148,
          2.2955960081866325,
          -1.4380393667265592,
          0.592895059358941,
          0.6824300472122862,
          -1.978558056285446,
          0.6507979497194142,
          -0.8504019891320452,
          -0.23082902274044428,
          0.9275706159608799,
          -0.047095155777864835,
          -1.6405431622980855,
          -0.8744312401517957,
          -0.25871068506394845,
          0.27471500967068346,
          0.1946788757728365,
          1.4125245459008748,
          -0.049375511972559315,
          -0.10475479978240199,
          0.5133935150926221,
          -1.2223620008398135,
          -0.11638992089113567,
          -1.3023112967306605,
          0.30293182359718746,
          -1.6607840815862427,
          1.983670482457282,
          -1.0036184526149803,
          -1.428906436402728,
          1.5304130203604172,
          0.9133621367502792,
          -0.29639213224210054
         ],
         "xaxis": "x",
         "yaxis": "y"
        },
        {
         "line": {
          "color": "rgba(128, 128, 128, 1.0)",
          "dash": "solid",
          "shape": "linear",
          "width": 1.3
         },
         "marker": {
          "size": 2,
          "symbol": "circle"
         },
         "mode": "markers",
         "name": "a",
         "text": "",
         "type": "scatter",
         "x": [
          -0.7172365979374294,
          0.1301927392996842,
          -1.393522266799919,
          0.5547087920801866,
          -0.5200071012122776,
          1.1613183698350373,
          -1.3529461218033918,
          1.3988825487452088,
          0.6733468125873788,
          1.5219448397371478,
          -0.7906269916573789,
          -0.3161501726488375,
          -0.41778212984503704,
          -0.5831677471760225,
          0.6023577387799757,
          -0.4443233853900075,
          0.7533047706847111,
          -1.3970815128632759,
          0.3581974945656321,
          0.8589985833109056,
          0.47592833921194794,
          0.23549672361459806,
          -0.18952266322583036,
          0.19974453806195278,
          -0.06960702398037072,
          -1.0086186324692388,
          0.9628957190504571,
          0.9474978795182155,
          0.8596145583597102,
          -0.4263569089417392,
          0.3499146348325409,
          0.9398534359848607,
          -0.6229775340336317,
          0.19749787601107976,
          -1.0991368107166477,
          0.13191944366896108,
          -0.42292656307822624,
          0.34519356856585565,
          0.514983356263597,
          -1.138924491691048,
          -1.189373130478294,
          0.9667822919326727,
          -1.150614139922435,
          0.42524038583700313,
          -0.03894968578993216,
          -0.13929919745961755,
          -0.3125569796919793,
          -1.4309654669216174,
          0.03980910697712983,
          -0.880089298606563,
          -1.1501158787075554,
          -1.4208883907476475,
          1.2273389142307352,
          0.7034530198234115,
          0.38818130211246876,
          0.18684137941578224,
          1.0825536881142404,
          -0.34031467699274226,
          -2.550099155251413,
          0.08468203433117498,
          0.44837050229530284,
          0.017602416217182646,
          -0.5201218604083405,
          0.654672383103486,
          -0.9318224461423867,
          -1.0800159254957447,
          1.544411010637449,
          -2.16227794297282,
          0.23561697608863844,
          -1.1278533299184488,
          -0.11732290592434473,
          -0.29730289220519107,
          -0.32750099938839783,
          0.955194867490096,
          -1.7596498603194104,
          0.7096375246310584,
          0.5821868144562231,
          -0.8746028069438861,
          0.9062882402006409,
          0.055217998884144866,
          -1.973828315514508,
          -1.004458985106134,
          1.7793279779693252,
          -0.10840911214856161,
          2.6867297265953103,
          0.91343388042321,
          -0.9377622323218044,
          -1.2570794768782148,
          1.6471666036145307,
          0.48188330904460136,
          -0.04052226717979435,
          -0.05859375010378374,
          1.1738796853901698,
          0.2795749088035469,
          1.0908754639387486,
          -1.1197331844989709,
          -1.2150861295185817,
          1.5136977245404255,
          0.8247996201154251,
          -0.24542134180675218
         ],
         "xaxis": "x2",
         "y": [
          -1.2536704061240342,
          -0.31192087006827185,
          -2.2109845815294356,
          0.26098210430390356,
          -0.42372505561706497,
          -0.5191246063006844,
          -0.3741979168810921,
          0.013160070003499067,
          -1.3936117653916562,
          -0.9879887112436886,
          0.9978019604285551,
          0.20408777022973887,
          -0.3751686712106355,
          0.14714190067587132,
          0.7097405973098823,
          -0.5980386770941455,
          -0.8580820814739449,
          -0.03928825662399084,
          2.1123756536844134,
          0.20988143099753984,
          -0.0039750860987576705,
          1.0837356737832347,
          0.25720841914284187,
          -0.6265295757295674,
          -0.8334593492338207,
          -0.43845976815063725,
          1.2182819398389937,
          -1.2402949889598742,
          -1.2071346174640567,
          -0.25215273236635155,
          -0.26222993788277515,
          -1.5944264482789066,
          -0.11603327631361181,
          0.3170166562461856,
          0.33184384567773306,
          0.2706533742615674,
          0.6886179771564876,
          0.33296980227084005,
          0.5860064727362081,
          -1.0790498039463736,
          0.036369968192229485,
          0.15144790493044746,
          -0.10393678206743479,
          0.8349700375535881,
          -1.206328193237761,
          0.5673265511778895,
          -0.06721204834887629,
          -0.543744658610441,
          -1.784873068359861,
          -1.5640842673613353,
          -1.7484510427524396,
          -0.9238595076773191,
          -0.07066518986172503,
          -1.2564883213487814,
          -1.255171782943583,
          -0.5693595220873484,
          -0.2680475201230551,
          -0.7370601821881222,
          1.4131046455732545,
          -0.4484711608573334,
          -0.03368558970719541,
          0.20060822572533968,
          -1.3006252925618582,
          -0.7650549164700556,
          -1.474269199202699,
          -1.9035357216209998,
          -0.842459505915815,
          -0.6450446032311398,
          -1.3859767495689528,
          0.5787535105345148,
          2.2955960081866325,
          -1.4380393667265592,
          0.592895059358941,
          0.6824300472122862,
          -1.978558056285446,
          0.6507979497194142,
          -0.8504019891320452,
          -0.23082902274044428,
          0.9275706159608799,
          -0.047095155777864835,
          -1.6405431622980855,
          -0.8744312401517957,
          -0.25871068506394845,
          0.27471500967068346,
          0.1946788757728365,
          1.4125245459008748,
          -0.049375511972559315,
          -0.10475479978240199,
          0.5133935150926221,
          -1.2223620008398135,
          -0.11638992089113567,
          -1.3023112967306605,
          0.30293182359718746,
          -1.6607840815862427,
          1.983670482457282,
          -1.0036184526149803,
          -1.428906436402728,
          1.5304130203604172,
          0.9133621367502792,
          -0.29639213224210054
         ],
         "yaxis": "y2"
        },
        {
         "line": {
          "color": "rgba(128, 128, 128, 1.0)",
          "dash": "solid",
          "shape": "linear",
          "width": 1.3
         },
         "marker": {
          "size": 2,
          "symbol": "circle"
         },
         "mode": "markers",
         "name": "a",
         "text": "",
         "type": "scatter",
         "x": [
          -0.644862269764822,
          -0.30779304426494414,
          1.4312069827650835,
          -0.568106716918909,
          -0.05482999949921287,
          1.3775688864000735,
          0.6969010286683164,
          -2.2929526767754216,
          0.09082610904100767,
          0.35623333678979724,
          1.0512567783275675,
          -1.0781253734726224,
          0.3051893108966182,
          0.11398895639943217,
          -0.5026548935373585,
          1.0100767573269718,
          1.6045563397800657,
          -0.263790151377017,
          1.4712932996464019,
          -0.5026694094274891,
          0.07602958833205785,
          0.13560896282949106,
          -0.8585960115677611,
          -0.8489487219660529,
          -0.36949464919022484,
          0.03506363469734359,
          -1.4111291043256964,
          -0.47803526330092605,
          1.6580456931546976,
          -1.2211657668381346,
          -1.1826923102828888,
          2.061911162448477,
          0.6877747246825724,
          -0.13328032534468331,
          0.9679268063934757,
          -0.7051450416419223,
          -0.2329471343594074,
          0.17571764933338305,
          -0.9889760436217521,
          1.706941676259754,
          -0.5542973605783889,
          1.7299250177970487,
          0.5323677350937979,
          0.5242285866578907,
          -0.597385471430855,
          0.16728901604561539,
          0.4142163978691079,
          1.692250276833783,
          1.7463791730772082,
          -0.21986570644528575,
          0.19127617579273945,
          0.08877869680039471,
          0.3075071782923635,
          -0.6468916090946528,
          -1.2489633296959335,
          0.29376203724273914,
          -0.6383223712123308,
          2.145148067398187,
          -0.5937240361377595,
          1.974857623800908,
          -1.2345916699396726,
          -0.40231911081509003,
          1.151067685185213,
          -1.684758230947675,
          0.66943289859867,
          0.5637987734791424,
          1.0482474041595975,
          -0.712096988002522,
          -1.8233548549123433,
          0.44447113578405967,
          3.389577803441184,
          -0.9456440548848006,
          -0.04086647782104779,
          0.27759419334555296,
          0.21164527133327032,
          1.148398128752941,
          0.15314627067663572,
          -1.8038820878934234,
          0.9722698111484178,
          1.0229092134274624,
          0.28283095471296954,
          -1.5510481364175461,
          0.061838266966372755,
          0.33059494433994546,
          -0.4556161090862515,
          1.5902552853587868,
          -0.9607932154675821,
          1.0375863648405528,
          1.2343312552332237,
          -0.04409033375219025,
          0.5213861390488062,
          0.48831165178233615,
          -2.2380864110431213,
          -0.6057784263895877,
          1.2246095538404946,
          0.7780165479817372,
          0.549101480326388,
          -0.48192376559470035,
          0.1177121625684017,
          0.27941031936166405
         ],
         "xaxis": "x3",
         "y": [
          -1.2536704061240342,
          -0.31192087006827185,
          -2.2109845815294356,
          0.26098210430390356,
          -0.42372505561706497,
          -0.5191246063006844,
          -0.3741979168810921,
          0.013160070003499067,
          -1.3936117653916562,
          -0.9879887112436886,
          0.9978019604285551,
          0.20408777022973887,
          -0.3751686712106355,
          0.14714190067587132,
          0.7097405973098823,
          -0.5980386770941455,
          -0.8580820814739449,
          -0.03928825662399084,
          2.1123756536844134,
          0.20988143099753984,
          -0.0039750860987576705,
          1.0837356737832347,
          0.25720841914284187,
          -0.6265295757295674,
          -0.8334593492338207,
          -0.43845976815063725,
          1.2182819398389937,
          -1.2402949889598742,
          -1.2071346174640567,
          -0.25215273236635155,
          -0.26222993788277515,
          -1.5944264482789066,
          -0.11603327631361181,
          0.3170166562461856,
          0.33184384567773306,
          0.2706533742615674,
          0.6886179771564876,
          0.33296980227084005,
          0.5860064727362081,
          -1.0790498039463736,
          0.036369968192229485,
          0.15144790493044746,
          -0.10393678206743479,
          0.8349700375535881,
          -1.206328193237761,
          0.5673265511778895,
          -0.06721204834887629,
          -0.543744658610441,
          -1.784873068359861,
          -1.5640842673613353,
          -1.7484510427524396,
          -0.9238595076773191,
          -0.07066518986172503,
          -1.2564883213487814,
          -1.255171782943583,
          -0.5693595220873484,
          -0.2680475201230551,
          -0.7370601821881222,
          1.4131046455732545,
          -0.4484711608573334,
          -0.03368558970719541,
          0.20060822572533968,
          -1.3006252925618582,
          -0.7650549164700556,
          -1.474269199202699,
          -1.9035357216209998,
          -0.842459505915815,
          -0.6450446032311398,
          -1.3859767495689528,
          0.5787535105345148,
          2.2955960081866325,
          -1.4380393667265592,
          0.592895059358941,
          0.6824300472122862,
          -1.978558056285446,
          0.6507979497194142,
          -0.8504019891320452,
          -0.23082902274044428,
          0.9275706159608799,
          -0.047095155777864835,
          -1.6405431622980855,
          -0.8744312401517957,
          -0.25871068506394845,
          0.27471500967068346,
          0.1946788757728365,
          1.4125245459008748,
          -0.049375511972559315,
          -0.10475479978240199,
          0.5133935150926221,
          -1.2223620008398135,
          -0.11638992089113567,
          -1.3023112967306605,
          0.30293182359718746,
          -1.6607840815862427,
          1.983670482457282,
          -1.0036184526149803,
          -1.428906436402728,
          1.5304130203604172,
          0.9133621367502792,
          -0.29639213224210054
         ],
         "yaxis": "y3"
        },
        {
         "line": {
          "color": "rgba(128, 128, 128, 1.0)",
          "dash": "solid",
          "shape": "linear",
          "width": 1.3
         },
         "marker": {
          "size": 2,
          "symbol": "circle"
         },
         "mode": "markers",
         "name": "a",
         "text": "",
         "type": "scatter",
         "x": [
          0.7497183605737537,
          -0.36957187829460453,
          0.05558868595169157,
          -1.326245374066973,
          0.48709573897201197,
          -0.04058352785552951,
          0.7172478305315246,
          1.1686461498120249,
          0.15582629174388662,
          -0.24935139025430994,
          1.5236235045735902,
          2.4621582729845315,
          0.17439551195791178,
          -0.7302229015928575,
          -0.07208072413731856,
          -0.8429801003585939,
          1.0588884773639018,
          -0.4280041278713005,
          -0.35651863457078803,
          -1.5311127200324355,
          -0.5645907407909591,
          0.905829449333737,
          -0.640080885178177,
          -0.8082682458443605,
          0.10455202848036407,
          1.898251111645053,
          -0.5377332031162471,
          -0.5180827040364145,
          -0.40246041657702597,
          -0.23120410044358786,
          2.888006850971286,
          0.8094919070078689,
          0.38794403172813,
          -1.7216833001165157,
          0.568176426413336,
          1.8919573672768957,
          1.0298118946879022,
          -0.5063878296633622,
          -2.685666244932097,
          1.1814794613153967,
          0.182148400494332,
          0.5870395371820794,
          -0.7551590075916406,
          -0.015455428501074637,
          -0.43217773668747894,
          1.749317470617879,
          1.7407285070776848,
          -0.1915199989179134,
          0.7721322184140336,
          -1.0420640493950046,
          -1.2620508523349931,
          -2.2208445357924154,
          -0.3132754958417208,
          -0.04729021895831102,
          -0.4710086932553789,
          -0.22111930592822035,
          -0.6450366797051841,
          0.4480636208184629,
          0.1346706197334301,
          0.1489804856923085,
          -0.28362936025387375,
          -1.7114546660239531,
          0.6640007478235729,
          -0.7272174881915302,
          0.24119566979843185,
          0.6820050042566222,
          0.13109669641631977,
          -1.2949030969007622,
          -1.050770605437413,
          1.651015366716756,
          0.8384754662912653,
          -1.5460206664018412,
          0.5183959952241453,
          0.11579969767816818,
          0.058004891068721094,
          -0.5684793809625174,
          -0.16142445243376213,
          -0.2066414523185034,
          -0.5962630480602175,
          0.20797001029890144,
          -0.8148988463933333,
          -1.2426282974685001,
          -0.47710924613388633,
          -0.33075195323778883,
          0.357857525991513,
          0.03411888325736434,
          -1.1117034719288414,
          3.464326284094295,
          1.5977825629997318,
          1.5241586370429179,
          -0.9059344027985381,
          -1.0683838168248458,
          0.9338553610898398,
          -1.031239647837061,
          1.3097747301664568,
          0.4207203875049453,
          -0.11839767155825544,
          0.3537186155026702,
          -1.3921761213532073,
          -1.3138793191773748
         ],
         "xaxis": "x4",
         "y": [
          -1.2536704061240342,
          -0.31192087006827185,
          -2.2109845815294356,
          0.26098210430390356,
          -0.42372505561706497,
          -0.5191246063006844,
          -0.3741979168810921,
          0.013160070003499067,
          -1.3936117653916562,
          -0.9879887112436886,
          0.9978019604285551,
          0.20408777022973887,
          -0.3751686712106355,
          0.14714190067587132,
          0.7097405973098823,
          -0.5980386770941455,
          -0.8580820814739449,
          -0.03928825662399084,
          2.1123756536844134,
          0.20988143099753984,
          -0.0039750860987576705,
          1.0837356737832347,
          0.25720841914284187,
          -0.6265295757295674,
          -0.8334593492338207,
          -0.43845976815063725,
          1.2182819398389937,
          -1.2402949889598742,
          -1.2071346174640567,
          -0.25215273236635155,
          -0.26222993788277515,
          -1.5944264482789066,
          -0.11603327631361181,
          0.3170166562461856,
          0.33184384567773306,
          0.2706533742615674,
          0.6886179771564876,
          0.33296980227084005,
          0.5860064727362081,
          -1.0790498039463736,
          0.036369968192229485,
          0.15144790493044746,
          -0.10393678206743479,
          0.8349700375535881,
          -1.206328193237761,
          0.5673265511778895,
          -0.06721204834887629,
          -0.543744658610441,
          -1.784873068359861,
          -1.5640842673613353,
          -1.7484510427524396,
          -0.9238595076773191,
          -0.07066518986172503,
          -1.2564883213487814,
          -1.255171782943583,
          -0.5693595220873484,
          -0.2680475201230551,
          -0.7370601821881222,
          1.4131046455732545,
          -0.4484711608573334,
          -0.03368558970719541,
          0.20060822572533968,
          -1.3006252925618582,
          -0.7650549164700556,
          -1.474269199202699,
          -1.9035357216209998,
          -0.842459505915815,
          -0.6450446032311398,
          -1.3859767495689528,
          0.5787535105345148,
          2.2955960081866325,
          -1.4380393667265592,
          0.592895059358941,
          0.6824300472122862,
          -1.978558056285446,
          0.6507979497194142,
          -0.8504019891320452,
          -0.23082902274044428,
          0.9275706159608799,
          -0.047095155777864835,
          -1.6405431622980855,
          -0.8744312401517957,
          -0.25871068506394845,
          0.27471500967068346,
          0.1946788757728365,
          1.4125245459008748,
          -0.049375511972559315,
          -0.10475479978240199,
          0.5133935150926221,
          -1.2223620008398135,
          -0.11638992089113567,
          -1.3023112967306605,
          0.30293182359718746,
          -1.6607840815862427,
          1.983670482457282,
          -1.0036184526149803,
          -1.428906436402728,
          1.5304130203604172,
          0.9133621367502792,
          -0.29639213224210054
         ],
         "yaxis": "y4"
        },
        {
         "line": {
          "color": "rgba(128, 128, 128, 1.0)",
          "dash": "solid",
          "shape": "linear",
          "width": 1.3
         },
         "marker": {
          "size": 2,
          "symbol": "circle"
         },
         "mode": "markers",
         "name": "b",
         "text": "",
         "type": "scatter",
         "x": [
          -1.2536704061240342,
          -0.31192087006827185,
          -2.2109845815294356,
          0.26098210430390356,
          -0.42372505561706497,
          -0.5191246063006844,
          -0.3741979168810921,
          0.013160070003499067,
          -1.3936117653916562,
          -0.9879887112436886,
          0.9978019604285551,
          0.20408777022973887,
          -0.3751686712106355,
          0.14714190067587132,
          0.7097405973098823,
          -0.5980386770941455,
          -0.8580820814739449,
          -0.03928825662399084,
          2.1123756536844134,
          0.20988143099753984,
          -0.0039750860987576705,
          1.0837356737832347,
          0.25720841914284187,
          -0.6265295757295674,
          -0.8334593492338207,
          -0.43845976815063725,
          1.2182819398389937,
          -1.2402949889598742,
          -1.2071346174640567,
          -0.25215273236635155,
          -0.26222993788277515,
          -1.5944264482789066,
          -0.11603327631361181,
          0.3170166562461856,
          0.33184384567773306,
          0.2706533742615674,
          0.6886179771564876,
          0.33296980227084005,
          0.5860064727362081,
          -1.0790498039463736,
          0.036369968192229485,
          0.15144790493044746,
          -0.10393678206743479,
          0.8349700375535881,
          -1.206328193237761,
          0.5673265511778895,
          -0.06721204834887629,
          -0.543744658610441,
          -1.784873068359861,
          -1.5640842673613353,
          -1.7484510427524396,
          -0.9238595076773191,
          -0.07066518986172503,
          -1.2564883213487814,
          -1.255171782943583,
          -0.5693595220873484,
          -0.2680475201230551,
          -0.7370601821881222,
          1.4131046455732545,
          -0.4484711608573334,
          -0.03368558970719541,
          0.20060822572533968,
          -1.3006252925618582,
          -0.7650549164700556,
          -1.474269199202699,
          -1.9035357216209998,
          -0.842459505915815,
          -0.6450446032311398,
          -1.3859767495689528,
          0.5787535105345148,
          2.2955960081866325,
          -1.4380393667265592,
          0.592895059358941,
          0.6824300472122862,
          -1.978558056285446,
          0.6507979497194142,
          -0.8504019891320452,
          -0.23082902274044428,
          0.9275706159608799,
          -0.047095155777864835,
          -1.6405431622980855,
          -0.8744312401517957,
          -0.25871068506394845,
          0.27471500967068346,
          0.1946788757728365,
          1.4125245459008748,
          -0.049375511972559315,
          -0.10475479978240199,
          0.5133935150926221,
          -1.2223620008398135,
          -0.11638992089113567,
          -1.3023112967306605,
          0.30293182359718746,
          -1.6607840815862427,
          1.983670482457282,
          -1.0036184526149803,
          -1.428906436402728,
          1.5304130203604172,
          0.9133621367502792,
          -0.29639213224210054
         ],
         "xaxis": "x5",
         "y": [
          -0.7172365979374294,
          0.1301927392996842,
          -1.393522266799919,
          0.5547087920801866,
          -0.5200071012122776,
          1.1613183698350373,
          -1.3529461218033918,
          1.3988825487452088,
          0.6733468125873788,
          1.5219448397371478,
          -0.7906269916573789,
          -0.3161501726488375,
          -0.41778212984503704,
          -0.5831677471760225,
          0.6023577387799757,
          -0.4443233853900075,
          0.7533047706847111,
          -1.3970815128632759,
          0.3581974945656321,
          0.8589985833109056,
          0.47592833921194794,
          0.23549672361459806,
          -0.18952266322583036,
          0.19974453806195278,
          -0.06960702398037072,
          -1.0086186324692388,
          0.9628957190504571,
          0.9474978795182155,
          0.8596145583597102,
          -0.4263569089417392,
          0.3499146348325409,
          0.9398534359848607,
          -0.6229775340336317,
          0.19749787601107976,
          -1.0991368107166477,
          0.13191944366896108,
          -0.42292656307822624,
          0.34519356856585565,
          0.514983356263597,
          -1.138924491691048,
          -1.189373130478294,
          0.9667822919326727,
          -1.150614139922435,
          0.42524038583700313,
          -0.03894968578993216,
          -0.13929919745961755,
          -0.3125569796919793,
          -1.4309654669216174,
          0.03980910697712983,
          -0.880089298606563,
          -1.1501158787075554,
          -1.4208883907476475,
          1.2273389142307352,
          0.7034530198234115,
          0.38818130211246876,
          0.18684137941578224,
          1.0825536881142404,
          -0.34031467699274226,
          -2.550099155251413,
          0.08468203433117498,
          0.44837050229530284,
          0.017602416217182646,
          -0.5201218604083405,
          0.654672383103486,
          -0.9318224461423867,
          -1.0800159254957447,
          1.544411010637449,
          -2.16227794297282,
          0.23561697608863844,
          -1.1278533299184488,
          -0.11732290592434473,
          -0.29730289220519107,
          -0.32750099938839783,
          0.955194867490096,
          -1.7596498603194104,
          0.7096375246310584,
          0.5821868144562231,
          -0.8746028069438861,
          0.9062882402006409,
          0.055217998884144866,
          -1.973828315514508,
          -1.004458985106134,
          1.7793279779693252,
          -0.10840911214856161,
          2.6867297265953103,
          0.91343388042321,
          -0.9377622323218044,
          -1.2570794768782148,
          1.6471666036145307,
          0.48188330904460136,
          -0.04052226717979435,
          -0.05859375010378374,
          1.1738796853901698,
          0.2795749088035469,
          1.0908754639387486,
          -1.1197331844989709,
          -1.2150861295185817,
          1.5136977245404255,
          0.8247996201154251,
          -0.24542134180675218
         ],
         "yaxis": "y5"
        },
        {
         "histfunc": "count",
         "histnorm": "",
         "marker": {
          "color": "rgba(55, 128, 191, 1.0)",
          "line": {
           "color": "#4D5663",
           "width": 1.3
          }
         },
         "name": "b",
         "nbinsx": 10,
         "opacity": 0.8,
         "orientation": "v",
         "type": "histogram",
         "x": [
          -0.7172365979374294,
          0.1301927392996842,
          -1.393522266799919,
          0.5547087920801866,
          -0.5200071012122776,
          1.1613183698350373,
          -1.3529461218033918,
          1.3988825487452088,
          0.6733468125873788,
          1.5219448397371478,
          -0.7906269916573789,
          -0.3161501726488375,
          -0.41778212984503704,
          -0.5831677471760225,
          0.6023577387799757,
          -0.4443233853900075,
          0.7533047706847111,
          -1.3970815128632759,
          0.3581974945656321,
          0.8589985833109056,
          0.47592833921194794,
          0.23549672361459806,
          -0.18952266322583036,
          0.19974453806195278,
          -0.06960702398037072,
          -1.0086186324692388,
          0.9628957190504571,
          0.9474978795182155,
          0.8596145583597102,
          -0.4263569089417392,
          0.3499146348325409,
          0.9398534359848607,
          -0.6229775340336317,
          0.19749787601107976,
          -1.0991368107166477,
          0.13191944366896108,
          -0.42292656307822624,
          0.34519356856585565,
          0.514983356263597,
          -1.138924491691048,
          -1.189373130478294,
          0.9667822919326727,
          -1.150614139922435,
          0.42524038583700313,
          -0.03894968578993216,
          -0.13929919745961755,
          -0.3125569796919793,
          -1.4309654669216174,
          0.03980910697712983,
          -0.880089298606563,
          -1.1501158787075554,
          -1.4208883907476475,
          1.2273389142307352,
          0.7034530198234115,
          0.38818130211246876,
          0.18684137941578224,
          1.0825536881142404,
          -0.34031467699274226,
          -2.550099155251413,
          0.08468203433117498,
          0.44837050229530284,
          0.017602416217182646,
          -0.5201218604083405,
          0.654672383103486,
          -0.9318224461423867,
          -1.0800159254957447,
          1.544411010637449,
          -2.16227794297282,
          0.23561697608863844,
          -1.1278533299184488,
          -0.11732290592434473,
          -0.29730289220519107,
          -0.32750099938839783,
          0.955194867490096,
          -1.7596498603194104,
          0.7096375246310584,
          0.5821868144562231,
          -0.8746028069438861,
          0.9062882402006409,
          0.055217998884144866,
          -1.973828315514508,
          -1.004458985106134,
          1.7793279779693252,
          -0.10840911214856161,
          2.6867297265953103,
          0.91343388042321,
          -0.9377622323218044,
          -1.2570794768782148,
          1.6471666036145307,
          0.48188330904460136,
          -0.04052226717979435,
          -0.05859375010378374,
          1.1738796853901698,
          0.2795749088035469,
          1.0908754639387486,
          -1.1197331844989709,
          -1.2150861295185817,
          1.5136977245404255,
          0.8247996201154251,
          -0.24542134180675218
         ],
         "xaxis": "x6",
         "yaxis": "y6"
        },
        {
         "line": {
          "color": "rgba(128, 128, 128, 1.0)",
          "dash": "solid",
          "shape": "linear",
          "width": 1.3
         },
         "marker": {
          "size": 2,
          "symbol": "circle"
         },
         "mode": "markers",
         "name": "b",
         "text": "",
         "type": "scatter",
         "x": [
          -0.644862269764822,
          -0.30779304426494414,
          1.4312069827650835,
          -0.568106716918909,
          -0.05482999949921287,
          1.3775688864000735,
          0.6969010286683164,
          -2.2929526767754216,
          0.09082610904100767,
          0.35623333678979724,
          1.0512567783275675,
          -1.0781253734726224,
          0.3051893108966182,
          0.11398895639943217,
          -0.5026548935373585,
          1.0100767573269718,
          1.6045563397800657,
          -0.263790151377017,
          1.4712932996464019,
          -0.5026694094274891,
          0.07602958833205785,
          0.13560896282949106,
          -0.8585960115677611,
          -0.8489487219660529,
          -0.36949464919022484,
          0.03506363469734359,
          -1.4111291043256964,
          -0.47803526330092605,
          1.6580456931546976,
          -1.2211657668381346,
          -1.1826923102828888,
          2.061911162448477,
          0.6877747246825724,
          -0.13328032534468331,
          0.9679268063934757,
          -0.7051450416419223,
          -0.2329471343594074,
          0.17571764933338305,
          -0.9889760436217521,
          1.706941676259754,
          -0.5542973605783889,
          1.7299250177970487,
          0.5323677350937979,
          0.5242285866578907,
          -0.597385471430855,
          0.16728901604561539,
          0.4142163978691079,
          1.692250276833783,
          1.7463791730772082,
          -0.21986570644528575,
          0.19127617579273945,
          0.08877869680039471,
          0.3075071782923635,
          -0.6468916090946528,
          -1.2489633296959335,
          0.29376203724273914,
          -0.6383223712123308,
          2.145148067398187,
          -0.5937240361377595,
          1.974857623800908,
          -1.2345916699396726,
          -0.40231911081509003,
          1.151067685185213,
          -1.684758230947675,
          0.66943289859867,
          0.5637987734791424,
          1.0482474041595975,
          -0.712096988002522,
          -1.8233548549123433,
          0.44447113578405967,
          3.389577803441184,
          -0.9456440548848006,
          -0.04086647782104779,
          0.27759419334555296,
          0.21164527133327032,
          1.148398128752941,
          0.15314627067663572,
          -1.8038820878934234,
          0.9722698111484178,
          1.0229092134274624,
          0.28283095471296954,
          -1.5510481364175461,
          0.061838266966372755,
          0.33059494433994546,
          -0.4556161090862515,
          1.5902552853587868,
          -0.9607932154675821,
          1.0375863648405528,
          1.2343312552332237,
          -0.04409033375219025,
          0.5213861390488062,
          0.48831165178233615,
          -2.2380864110431213,
          -0.6057784263895877,
          1.2246095538404946,
          0.7780165479817372,
          0.549101480326388,
          -0.48192376559470035,
          0.1177121625684017,
          0.27941031936166405
         ],
         "xaxis": "x7",
         "y": [
          -0.7172365979374294,
          0.1301927392996842,
          -1.393522266799919,
          0.5547087920801866,
          -0.5200071012122776,
          1.1613183698350373,
          -1.3529461218033918,
          1.3988825487452088,
          0.6733468125873788,
          1.5219448397371478,
          -0.7906269916573789,
          -0.3161501726488375,
          -0.41778212984503704,
          -0.5831677471760225,
          0.6023577387799757,
          -0.4443233853900075,
          0.7533047706847111,
          -1.3970815128632759,
          0.3581974945656321,
          0.8589985833109056,
          0.47592833921194794,
          0.23549672361459806,
          -0.18952266322583036,
          0.19974453806195278,
          -0.06960702398037072,
          -1.0086186324692388,
          0.9628957190504571,
          0.9474978795182155,
          0.8596145583597102,
          -0.4263569089417392,
          0.3499146348325409,
          0.9398534359848607,
          -0.6229775340336317,
          0.19749787601107976,
          -1.0991368107166477,
          0.13191944366896108,
          -0.42292656307822624,
          0.34519356856585565,
          0.514983356263597,
          -1.138924491691048,
          -1.189373130478294,
          0.9667822919326727,
          -1.150614139922435,
          0.42524038583700313,
          -0.03894968578993216,
          -0.13929919745961755,
          -0.3125569796919793,
          -1.4309654669216174,
          0.03980910697712983,
          -0.880089298606563,
          -1.1501158787075554,
          -1.4208883907476475,
          1.2273389142307352,
          0.7034530198234115,
          0.38818130211246876,
          0.18684137941578224,
          1.0825536881142404,
          -0.34031467699274226,
          -2.550099155251413,
          0.08468203433117498,
          0.44837050229530284,
          0.017602416217182646,
          -0.5201218604083405,
          0.654672383103486,
          -0.9318224461423867,
          -1.0800159254957447,
          1.544411010637449,
          -2.16227794297282,
          0.23561697608863844,
          -1.1278533299184488,
          -0.11732290592434473,
          -0.29730289220519107,
          -0.32750099938839783,
          0.955194867490096,
          -1.7596498603194104,
          0.7096375246310584,
          0.5821868144562231,
          -0.8746028069438861,
          0.9062882402006409,
          0.055217998884144866,
          -1.973828315514508,
          -1.004458985106134,
          1.7793279779693252,
          -0.10840911214856161,
          2.6867297265953103,
          0.91343388042321,
          -0.9377622323218044,
          -1.2570794768782148,
          1.6471666036145307,
          0.48188330904460136,
          -0.04052226717979435,
          -0.05859375010378374,
          1.1738796853901698,
          0.2795749088035469,
          1.0908754639387486,
          -1.1197331844989709,
          -1.2150861295185817,
          1.5136977245404255,
          0.8247996201154251,
          -0.24542134180675218
         ],
         "yaxis": "y7"
        },
        {
         "line": {
          "color": "rgba(128, 128, 128, 1.0)",
          "dash": "solid",
          "shape": "linear",
          "width": 1.3
         },
         "marker": {
          "size": 2,
          "symbol": "circle"
         },
         "mode": "markers",
         "name": "b",
         "text": "",
         "type": "scatter",
         "x": [
          0.7497183605737537,
          -0.36957187829460453,
          0.05558868595169157,
          -1.326245374066973,
          0.48709573897201197,
          -0.04058352785552951,
          0.7172478305315246,
          1.1686461498120249,
          0.15582629174388662,
          -0.24935139025430994,
          1.5236235045735902,
          2.4621582729845315,
          0.17439551195791178,
          -0.7302229015928575,
          -0.07208072413731856,
          -0.8429801003585939,
          1.0588884773639018,
          -0.4280041278713005,
          -0.35651863457078803,
          -1.5311127200324355,
          -0.5645907407909591,
          0.905829449333737,
          -0.640080885178177,
          -0.8082682458443605,
          0.10455202848036407,
          1.898251111645053,
          -0.5377332031162471,
          -0.5180827040364145,
          -0.40246041657702597,
          -0.23120410044358786,
          2.888006850971286,
          0.8094919070078689,
          0.38794403172813,
          -1.7216833001165157,
          0.568176426413336,
          1.8919573672768957,
          1.0298118946879022,
          -0.5063878296633622,
          -2.685666244932097,
          1.1814794613153967,
          0.182148400494332,
          0.5870395371820794,
          -0.7551590075916406,
          -0.015455428501074637,
          -0.43217773668747894,
          1.749317470617879,
          1.7407285070776848,
          -0.1915199989179134,
          0.7721322184140336,
          -1.0420640493950046,
          -1.2620508523349931,
          -2.2208445357924154,
          -0.3132754958417208,
          -0.04729021895831102,
          -0.4710086932553789,
          -0.22111930592822035,
          -0.6450366797051841,
          0.4480636208184629,
          0.1346706197334301,
          0.1489804856923085,
          -0.28362936025387375,
          -1.7114546660239531,
          0.6640007478235729,
          -0.7272174881915302,
          0.24119566979843185,
          0.6820050042566222,
          0.13109669641631977,
          -1.2949030969007622,
          -1.050770605437413,
          1.651015366716756,
          0.8384754662912653,
          -1.5460206664018412,
          0.5183959952241453,
          0.11579969767816818,
          0.058004891068721094,
          -0.5684793809625174,
          -0.16142445243376213,
          -0.2066414523185034,
          -0.5962630480602175,
          0.20797001029890144,
          -0.8148988463933333,
          -1.2426282974685001,
          -0.47710924613388633,
          -0.33075195323778883,
          0.357857525991513,
          0.03411888325736434,
          -1.1117034719288414,
          3.464326284094295,
          1.5977825629997318,
          1.5241586370429179,
          -0.9059344027985381,
          -1.0683838168248458,
          0.9338553610898398,
          -1.031239647837061,
          1.3097747301664568,
          0.4207203875049453,
          -0.11839767155825544,
          0.3537186155026702,
          -1.3921761213532073,
          -1.3138793191773748
         ],
         "xaxis": "x8",
         "y": [
          -0.7172365979374294,
          0.1301927392996842,
          -1.393522266799919,
          0.5547087920801866,
          -0.5200071012122776,
          1.1613183698350373,
          -1.3529461218033918,
          1.3988825487452088,
          0.6733468125873788,
          1.5219448397371478,
          -0.7906269916573789,
          -0.3161501726488375,
          -0.41778212984503704,
          -0.5831677471760225,
          0.6023577387799757,
          -0.4443233853900075,
          0.7533047706847111,
          -1.3970815128632759,
          0.3581974945656321,
          0.8589985833109056,
          0.47592833921194794,
          0.23549672361459806,
          -0.18952266322583036,
          0.19974453806195278,
          -0.06960702398037072,
          -1.0086186324692388,
          0.9628957190504571,
          0.9474978795182155,
          0.8596145583597102,
          -0.4263569089417392,
          0.3499146348325409,
          0.9398534359848607,
          -0.6229775340336317,
          0.19749787601107976,
          -1.0991368107166477,
          0.13191944366896108,
          -0.42292656307822624,
          0.34519356856585565,
          0.514983356263597,
          -1.138924491691048,
          -1.189373130478294,
          0.9667822919326727,
          -1.150614139922435,
          0.42524038583700313,
          -0.03894968578993216,
          -0.13929919745961755,
          -0.3125569796919793,
          -1.4309654669216174,
          0.03980910697712983,
          -0.880089298606563,
          -1.1501158787075554,
          -1.4208883907476475,
          1.2273389142307352,
          0.7034530198234115,
          0.38818130211246876,
          0.18684137941578224,
          1.0825536881142404,
          -0.34031467699274226,
          -2.550099155251413,
          0.08468203433117498,
          0.44837050229530284,
          0.017602416217182646,
          -0.5201218604083405,
          0.654672383103486,
          -0.9318224461423867,
          -1.0800159254957447,
          1.544411010637449,
          -2.16227794297282,
          0.23561697608863844,
          -1.1278533299184488,
          -0.11732290592434473,
          -0.29730289220519107,
          -0.32750099938839783,
          0.955194867490096,
          -1.7596498603194104,
          0.7096375246310584,
          0.5821868144562231,
          -0.8746028069438861,
          0.9062882402006409,
          0.055217998884144866,
          -1.973828315514508,
          -1.004458985106134,
          1.7793279779693252,
          -0.10840911214856161,
          2.6867297265953103,
          0.91343388042321,
          -0.9377622323218044,
          -1.2570794768782148,
          1.6471666036145307,
          0.48188330904460136,
          -0.04052226717979435,
          -0.05859375010378374,
          1.1738796853901698,
          0.2795749088035469,
          1.0908754639387486,
          -1.1197331844989709,
          -1.2150861295185817,
          1.5136977245404255,
          0.8247996201154251,
          -0.24542134180675218
         ],
         "yaxis": "y8"
        },
        {
         "line": {
          "color": "rgba(128, 128, 128, 1.0)",
          "dash": "solid",
          "shape": "linear",
          "width": 1.3
         },
         "marker": {
          "size": 2,
          "symbol": "circle"
         },
         "mode": "markers",
         "name": "c",
         "text": "",
         "type": "scatter",
         "x": [
          -1.2536704061240342,
          -0.31192087006827185,
          -2.2109845815294356,
          0.26098210430390356,
          -0.42372505561706497,
          -0.5191246063006844,
          -0.3741979168810921,
          0.013160070003499067,
          -1.3936117653916562,
          -0.9879887112436886,
          0.9978019604285551,
          0.20408777022973887,
          -0.3751686712106355,
          0.14714190067587132,
          0.7097405973098823,
          -0.5980386770941455,
          -0.8580820814739449,
          -0.03928825662399084,
          2.1123756536844134,
          0.20988143099753984,
          -0.0039750860987576705,
          1.0837356737832347,
          0.25720841914284187,
          -0.6265295757295674,
          -0.8334593492338207,
          -0.43845976815063725,
          1.2182819398389937,
          -1.2402949889598742,
          -1.2071346174640567,
          -0.25215273236635155,
          -0.26222993788277515,
          -1.5944264482789066,
          -0.11603327631361181,
          0.3170166562461856,
          0.33184384567773306,
          0.2706533742615674,
          0.6886179771564876,
          0.33296980227084005,
          0.5860064727362081,
          -1.0790498039463736,
          0.036369968192229485,
          0.15144790493044746,
          -0.10393678206743479,
          0.8349700375535881,
          -1.206328193237761,
          0.5673265511778895,
          -0.06721204834887629,
          -0.543744658610441,
          -1.784873068359861,
          -1.5640842673613353,
          -1.7484510427524396,
          -0.9238595076773191,
          -0.07066518986172503,
          -1.2564883213487814,
          -1.255171782943583,
          -0.5693595220873484,
          -0.2680475201230551,
          -0.7370601821881222,
          1.4131046455732545,
          -0.4484711608573334,
          -0.03368558970719541,
          0.20060822572533968,
          -1.3006252925618582,
          -0.7650549164700556,
          -1.474269199202699,
          -1.9035357216209998,
          -0.842459505915815,
          -0.6450446032311398,
          -1.3859767495689528,
          0.5787535105345148,
          2.2955960081866325,
          -1.4380393667265592,
          0.592895059358941,
          0.6824300472122862,
          -1.978558056285446,
          0.6507979497194142,
          -0.8504019891320452,
          -0.23082902274044428,
          0.9275706159608799,
          -0.047095155777864835,
          -1.6405431622980855,
          -0.8744312401517957,
          -0.25871068506394845,
          0.27471500967068346,
          0.1946788757728365,
          1.4125245459008748,
          -0.049375511972559315,
          -0.10475479978240199,
          0.5133935150926221,
          -1.2223620008398135,
          -0.11638992089113567,
          -1.3023112967306605,
          0.30293182359718746,
          -1.6607840815862427,
          1.983670482457282,
          -1.0036184526149803,
          -1.428906436402728,
          1.5304130203604172,
          0.9133621367502792,
          -0.29639213224210054
         ],
         "xaxis": "x9",
         "y": [
          -0.644862269764822,
          -0.30779304426494414,
          1.4312069827650835,
          -0.568106716918909,
          -0.05482999949921287,
          1.3775688864000735,
          0.6969010286683164,
          -2.2929526767754216,
          0.09082610904100767,
          0.35623333678979724,
          1.0512567783275675,
          -1.0781253734726224,
          0.3051893108966182,
          0.11398895639943217,
          -0.5026548935373585,
          1.0100767573269718,
          1.6045563397800657,
          -0.263790151377017,
          1.4712932996464019,
          -0.5026694094274891,
          0.07602958833205785,
          0.13560896282949106,
          -0.8585960115677611,
          -0.8489487219660529,
          -0.36949464919022484,
          0.03506363469734359,
          -1.4111291043256964,
          -0.47803526330092605,
          1.6580456931546976,
          -1.2211657668381346,
          -1.1826923102828888,
          2.061911162448477,
          0.6877747246825724,
          -0.13328032534468331,
          0.9679268063934757,
          -0.7051450416419223,
          -0.2329471343594074,
          0.17571764933338305,
          -0.9889760436217521,
          1.706941676259754,
          -0.5542973605783889,
          1.7299250177970487,
          0.5323677350937979,
          0.5242285866578907,
          -0.597385471430855,
          0.16728901604561539,
          0.4142163978691079,
          1.692250276833783,
          1.7463791730772082,
          -0.21986570644528575,
          0.19127617579273945,
          0.08877869680039471,
          0.3075071782923635,
          -0.6468916090946528,
          -1.2489633296959335,
          0.29376203724273914,
          -0.6383223712123308,
          2.145148067398187,
          -0.5937240361377595,
          1.974857623800908,
          -1.2345916699396726,
          -0.40231911081509003,
          1.151067685185213,
          -1.684758230947675,
          0.66943289859867,
          0.5637987734791424,
          1.0482474041595975,
          -0.712096988002522,
          -1.8233548549123433,
          0.44447113578405967,
          3.389577803441184,
          -0.9456440548848006,
          -0.04086647782104779,
          0.27759419334555296,
          0.21164527133327032,
          1.148398128752941,
          0.15314627067663572,
          -1.8038820878934234,
          0.9722698111484178,
          1.0229092134274624,
          0.28283095471296954,
          -1.5510481364175461,
          0.061838266966372755,
          0.33059494433994546,
          -0.4556161090862515,
          1.5902552853587868,
          -0.9607932154675821,
          1.0375863648405528,
          1.2343312552332237,
          -0.04409033375219025,
          0.5213861390488062,
          0.48831165178233615,
          -2.2380864110431213,
          -0.6057784263895877,
          1.2246095538404946,
          0.7780165479817372,
          0.549101480326388,
          -0.48192376559470035,
          0.1177121625684017,
          0.27941031936166405
         ],
         "yaxis": "y9"
        },
        {
         "line": {
          "color": "rgba(128, 128, 128, 1.0)",
          "dash": "solid",
          "shape": "linear",
          "width": 1.3
         },
         "marker": {
          "size": 2,
          "symbol": "circle"
         },
         "mode": "markers",
         "name": "c",
         "text": "",
         "type": "scatter",
         "x": [
          -0.7172365979374294,
          0.1301927392996842,
          -1.393522266799919,
          0.5547087920801866,
          -0.5200071012122776,
          1.1613183698350373,
          -1.3529461218033918,
          1.3988825487452088,
          0.6733468125873788,
          1.5219448397371478,
          -0.7906269916573789,
          -0.3161501726488375,
          -0.41778212984503704,
          -0.5831677471760225,
          0.6023577387799757,
          -0.4443233853900075,
          0.7533047706847111,
          -1.3970815128632759,
          0.3581974945656321,
          0.8589985833109056,
          0.47592833921194794,
          0.23549672361459806,
          -0.18952266322583036,
          0.19974453806195278,
          -0.06960702398037072,
          -1.0086186324692388,
          0.9628957190504571,
          0.9474978795182155,
          0.8596145583597102,
          -0.4263569089417392,
          0.3499146348325409,
          0.9398534359848607,
          -0.6229775340336317,
          0.19749787601107976,
          -1.0991368107166477,
          0.13191944366896108,
          -0.42292656307822624,
          0.34519356856585565,
          0.514983356263597,
          -1.138924491691048,
          -1.189373130478294,
          0.9667822919326727,
          -1.150614139922435,
          0.42524038583700313,
          -0.03894968578993216,
          -0.13929919745961755,
          -0.3125569796919793,
          -1.4309654669216174,
          0.03980910697712983,
          -0.880089298606563,
          -1.1501158787075554,
          -1.4208883907476475,
          1.2273389142307352,
          0.7034530198234115,
          0.38818130211246876,
          0.18684137941578224,
          1.0825536881142404,
          -0.34031467699274226,
          -2.550099155251413,
          0.08468203433117498,
          0.44837050229530284,
          0.017602416217182646,
          -0.5201218604083405,
          0.654672383103486,
          -0.9318224461423867,
          -1.0800159254957447,
          1.544411010637449,
          -2.16227794297282,
          0.23561697608863844,
          -1.1278533299184488,
          -0.11732290592434473,
          -0.29730289220519107,
          -0.32750099938839783,
          0.955194867490096,
          -1.7596498603194104,
          0.7096375246310584,
          0.5821868144562231,
          -0.8746028069438861,
          0.9062882402006409,
          0.055217998884144866,
          -1.973828315514508,
          -1.004458985106134,
          1.7793279779693252,
          -0.10840911214856161,
          2.6867297265953103,
          0.91343388042321,
          -0.9377622323218044,
          -1.2570794768782148,
          1.6471666036145307,
          0.48188330904460136,
          -0.04052226717979435,
          -0.05859375010378374,
          1.1738796853901698,
          0.2795749088035469,
          1.0908754639387486,
          -1.1197331844989709,
          -1.2150861295185817,
          1.5136977245404255,
          0.8247996201154251,
          -0.24542134180675218
         ],
         "xaxis": "x10",
         "y": [
          -0.644862269764822,
          -0.30779304426494414,
          1.4312069827650835,
          -0.568106716918909,
          -0.05482999949921287,
          1.3775688864000735,
          0.6969010286683164,
          -2.2929526767754216,
          0.09082610904100767,
          0.35623333678979724,
          1.0512567783275675,
          -1.0781253734726224,
          0.3051893108966182,
          0.11398895639943217,
          -0.5026548935373585,
          1.0100767573269718,
          1.6045563397800657,
          -0.263790151377017,
          1.4712932996464019,
          -0.5026694094274891,
          0.07602958833205785,
          0.13560896282949106,
          -0.8585960115677611,
          -0.8489487219660529,
          -0.36949464919022484,
          0.03506363469734359,
          -1.4111291043256964,
          -0.47803526330092605,
          1.6580456931546976,
          -1.2211657668381346,
          -1.1826923102828888,
          2.061911162448477,
          0.6877747246825724,
          -0.13328032534468331,
          0.9679268063934757,
          -0.7051450416419223,
          -0.2329471343594074,
          0.17571764933338305,
          -0.9889760436217521,
          1.706941676259754,
          -0.5542973605783889,
          1.7299250177970487,
          0.5323677350937979,
          0.5242285866578907,
          -0.597385471430855,
          0.16728901604561539,
          0.4142163978691079,
          1.692250276833783,
          1.7463791730772082,
          -0.21986570644528575,
          0.19127617579273945,
          0.08877869680039471,
          0.3075071782923635,
          -0.6468916090946528,
          -1.2489633296959335,
          0.29376203724273914,
          -0.6383223712123308,
          2.145148067398187,
          -0.5937240361377595,
          1.974857623800908,
          -1.2345916699396726,
          -0.40231911081509003,
          1.151067685185213,
          -1.684758230947675,
          0.66943289859867,
          0.5637987734791424,
          1.0482474041595975,
          -0.712096988002522,
          -1.8233548549123433,
          0.44447113578405967,
          3.389577803441184,
          -0.9456440548848006,
          -0.04086647782104779,
          0.27759419334555296,
          0.21164527133327032,
          1.148398128752941,
          0.15314627067663572,
          -1.8038820878934234,
          0.9722698111484178,
          1.0229092134274624,
          0.28283095471296954,
          -1.5510481364175461,
          0.061838266966372755,
          0.33059494433994546,
          -0.4556161090862515,
          1.5902552853587868,
          -0.9607932154675821,
          1.0375863648405528,
          1.2343312552332237,
          -0.04409033375219025,
          0.5213861390488062,
          0.48831165178233615,
          -2.2380864110431213,
          -0.6057784263895877,
          1.2246095538404946,
          0.7780165479817372,
          0.549101480326388,
          -0.48192376559470035,
          0.1177121625684017,
          0.27941031936166405
         ],
         "yaxis": "y10"
        },
        {
         "histfunc": "count",
         "histnorm": "",
         "marker": {
          "color": "rgba(50, 171, 96, 1.0)",
          "line": {
           "color": "#4D5663",
           "width": 1.3
          }
         },
         "name": "c",
         "nbinsx": 10,
         "opacity": 0.8,
         "orientation": "v",
         "type": "histogram",
         "x": [
          -0.644862269764822,
          -0.30779304426494414,
          1.4312069827650835,
          -0.568106716918909,
          -0.05482999949921287,
          1.3775688864000735,
          0.6969010286683164,
          -2.2929526767754216,
          0.09082610904100767,
          0.35623333678979724,
          1.0512567783275675,
          -1.0781253734726224,
          0.3051893108966182,
          0.11398895639943217,
          -0.5026548935373585,
          1.0100767573269718,
          1.6045563397800657,
          -0.263790151377017,
          1.4712932996464019,
          -0.5026694094274891,
          0.07602958833205785,
          0.13560896282949106,
          -0.8585960115677611,
          -0.8489487219660529,
          -0.36949464919022484,
          0.03506363469734359,
          -1.4111291043256964,
          -0.47803526330092605,
          1.6580456931546976,
          -1.2211657668381346,
          -1.1826923102828888,
          2.061911162448477,
          0.6877747246825724,
          -0.13328032534468331,
          0.9679268063934757,
          -0.7051450416419223,
          -0.2329471343594074,
          0.17571764933338305,
          -0.9889760436217521,
          1.706941676259754,
          -0.5542973605783889,
          1.7299250177970487,
          0.5323677350937979,
          0.5242285866578907,
          -0.597385471430855,
          0.16728901604561539,
          0.4142163978691079,
          1.692250276833783,
          1.7463791730772082,
          -0.21986570644528575,
          0.19127617579273945,
          0.08877869680039471,
          0.3075071782923635,
          -0.6468916090946528,
          -1.2489633296959335,
          0.29376203724273914,
          -0.6383223712123308,
          2.145148067398187,
          -0.5937240361377595,
          1.974857623800908,
          -1.2345916699396726,
          -0.40231911081509003,
          1.151067685185213,
          -1.684758230947675,
          0.66943289859867,
          0.5637987734791424,
          1.0482474041595975,
          -0.712096988002522,
          -1.8233548549123433,
          0.44447113578405967,
          3.389577803441184,
          -0.9456440548848006,
          -0.04086647782104779,
          0.27759419334555296,
          0.21164527133327032,
          1.148398128752941,
          0.15314627067663572,
          -1.8038820878934234,
          0.9722698111484178,
          1.0229092134274624,
          0.28283095471296954,
          -1.5510481364175461,
          0.061838266966372755,
          0.33059494433994546,
          -0.4556161090862515,
          1.5902552853587868,
          -0.9607932154675821,
          1.0375863648405528,
          1.2343312552332237,
          -0.04409033375219025,
          0.5213861390488062,
          0.48831165178233615,
          -2.2380864110431213,
          -0.6057784263895877,
          1.2246095538404946,
          0.7780165479817372,
          0.549101480326388,
          -0.48192376559470035,
          0.1177121625684017,
          0.27941031936166405
         ],
         "xaxis": "x11",
         "yaxis": "y11"
        },
        {
         "line": {
          "color": "rgba(128, 128, 128, 1.0)",
          "dash": "solid",
          "shape": "linear",
          "width": 1.3
         },
         "marker": {
          "size": 2,
          "symbol": "circle"
         },
         "mode": "markers",
         "name": "c",
         "text": "",
         "type": "scatter",
         "x": [
          0.7497183605737537,
          -0.36957187829460453,
          0.05558868595169157,
          -1.326245374066973,
          0.48709573897201197,
          -0.04058352785552951,
          0.7172478305315246,
          1.1686461498120249,
          0.15582629174388662,
          -0.24935139025430994,
          1.5236235045735902,
          2.4621582729845315,
          0.17439551195791178,
          -0.7302229015928575,
          -0.07208072413731856,
          -0.8429801003585939,
          1.0588884773639018,
          -0.4280041278713005,
          -0.35651863457078803,
          -1.5311127200324355,
          -0.5645907407909591,
          0.905829449333737,
          -0.640080885178177,
          -0.8082682458443605,
          0.10455202848036407,
          1.898251111645053,
          -0.5377332031162471,
          -0.5180827040364145,
          -0.40246041657702597,
          -0.23120410044358786,
          2.888006850971286,
          0.8094919070078689,
          0.38794403172813,
          -1.7216833001165157,
          0.568176426413336,
          1.8919573672768957,
          1.0298118946879022,
          -0.5063878296633622,
          -2.685666244932097,
          1.1814794613153967,
          0.182148400494332,
          0.5870395371820794,
          -0.7551590075916406,
          -0.015455428501074637,
          -0.43217773668747894,
          1.749317470617879,
          1.7407285070776848,
          -0.1915199989179134,
          0.7721322184140336,
          -1.0420640493950046,
          -1.2620508523349931,
          -2.2208445357924154,
          -0.3132754958417208,
          -0.04729021895831102,
          -0.4710086932553789,
          -0.22111930592822035,
          -0.6450366797051841,
          0.4480636208184629,
          0.1346706197334301,
          0.1489804856923085,
          -0.28362936025387375,
          -1.7114546660239531,
          0.6640007478235729,
          -0.7272174881915302,
          0.24119566979843185,
          0.6820050042566222,
          0.13109669641631977,
          -1.2949030969007622,
          -1.050770605437413,
          1.651015366716756,
          0.8384754662912653,
          -1.5460206664018412,
          0.5183959952241453,
          0.11579969767816818,
          0.058004891068721094,
          -0.5684793809625174,
          -0.16142445243376213,
          -0.2066414523185034,
          -0.5962630480602175,
          0.20797001029890144,
          -0.8148988463933333,
          -1.2426282974685001,
          -0.47710924613388633,
          -0.33075195323778883,
          0.357857525991513,
          0.03411888325736434,
          -1.1117034719288414,
          3.464326284094295,
          1.5977825629997318,
          1.5241586370429179,
          -0.9059344027985381,
          -1.0683838168248458,
          0.9338553610898398,
          -1.031239647837061,
          1.3097747301664568,
          0.4207203875049453,
          -0.11839767155825544,
          0.3537186155026702,
          -1.3921761213532073,
          -1.3138793191773748
         ],
         "xaxis": "x12",
         "y": [
          -0.644862269764822,
          -0.30779304426494414,
          1.4312069827650835,
          -0.568106716918909,
          -0.05482999949921287,
          1.3775688864000735,
          0.6969010286683164,
          -2.2929526767754216,
          0.09082610904100767,
          0.35623333678979724,
          1.0512567783275675,
          -1.0781253734726224,
          0.3051893108966182,
          0.11398895639943217,
          -0.5026548935373585,
          1.0100767573269718,
          1.6045563397800657,
          -0.263790151377017,
          1.4712932996464019,
          -0.5026694094274891,
          0.07602958833205785,
          0.13560896282949106,
          -0.8585960115677611,
          -0.8489487219660529,
          -0.36949464919022484,
          0.03506363469734359,
          -1.4111291043256964,
          -0.47803526330092605,
          1.6580456931546976,
          -1.2211657668381346,
          -1.1826923102828888,
          2.061911162448477,
          0.6877747246825724,
          -0.13328032534468331,
          0.9679268063934757,
          -0.7051450416419223,
          -0.2329471343594074,
          0.17571764933338305,
          -0.9889760436217521,
          1.706941676259754,
          -0.5542973605783889,
          1.7299250177970487,
          0.5323677350937979,
          0.5242285866578907,
          -0.597385471430855,
          0.16728901604561539,
          0.4142163978691079,
          1.692250276833783,
          1.7463791730772082,
          -0.21986570644528575,
          0.19127617579273945,
          0.08877869680039471,
          0.3075071782923635,
          -0.6468916090946528,
          -1.2489633296959335,
          0.29376203724273914,
          -0.6383223712123308,
          2.145148067398187,
          -0.5937240361377595,
          1.974857623800908,
          -1.2345916699396726,
          -0.40231911081509003,
          1.151067685185213,
          -1.684758230947675,
          0.66943289859867,
          0.5637987734791424,
          1.0482474041595975,
          -0.712096988002522,
          -1.8233548549123433,
          0.44447113578405967,
          3.389577803441184,
          -0.9456440548848006,
          -0.04086647782104779,
          0.27759419334555296,
          0.21164527133327032,
          1.148398128752941,
          0.15314627067663572,
          -1.8038820878934234,
          0.9722698111484178,
          1.0229092134274624,
          0.28283095471296954,
          -1.5510481364175461,
          0.061838266966372755,
          0.33059494433994546,
          -0.4556161090862515,
          1.5902552853587868,
          -0.9607932154675821,
          1.0375863648405528,
          1.2343312552332237,
          -0.04409033375219025,
          0.5213861390488062,
          0.48831165178233615,
          -2.2380864110431213,
          -0.6057784263895877,
          1.2246095538404946,
          0.7780165479817372,
          0.549101480326388,
          -0.48192376559470035,
          0.1177121625684017,
          0.27941031936166405
         ],
         "yaxis": "y12"
        },
        {
         "line": {
          "color": "rgba(128, 128, 128, 1.0)",
          "dash": "solid",
          "shape": "linear",
          "width": 1.3
         },
         "marker": {
          "size": 2,
          "symbol": "circle"
         },
         "mode": "markers",
         "name": "d",
         "text": "",
         "type": "scatter",
         "x": [
          -1.2536704061240342,
          -0.31192087006827185,
          -2.2109845815294356,
          0.26098210430390356,
          -0.42372505561706497,
          -0.5191246063006844,
          -0.3741979168810921,
          0.013160070003499067,
          -1.3936117653916562,
          -0.9879887112436886,
          0.9978019604285551,
          0.20408777022973887,
          -0.3751686712106355,
          0.14714190067587132,
          0.7097405973098823,
          -0.5980386770941455,
          -0.8580820814739449,
          -0.03928825662399084,
          2.1123756536844134,
          0.20988143099753984,
          -0.0039750860987576705,
          1.0837356737832347,
          0.25720841914284187,
          -0.6265295757295674,
          -0.8334593492338207,
          -0.43845976815063725,
          1.2182819398389937,
          -1.2402949889598742,
          -1.2071346174640567,
          -0.25215273236635155,
          -0.26222993788277515,
          -1.5944264482789066,
          -0.11603327631361181,
          0.3170166562461856,
          0.33184384567773306,
          0.2706533742615674,
          0.6886179771564876,
          0.33296980227084005,
          0.5860064727362081,
          -1.0790498039463736,
          0.036369968192229485,
          0.15144790493044746,
          -0.10393678206743479,
          0.8349700375535881,
          -1.206328193237761,
          0.5673265511778895,
          -0.06721204834887629,
          -0.543744658610441,
          -1.784873068359861,
          -1.5640842673613353,
          -1.7484510427524396,
          -0.9238595076773191,
          -0.07066518986172503,
          -1.2564883213487814,
          -1.255171782943583,
          -0.5693595220873484,
          -0.2680475201230551,
          -0.7370601821881222,
          1.4131046455732545,
          -0.4484711608573334,
          -0.03368558970719541,
          0.20060822572533968,
          -1.3006252925618582,
          -0.7650549164700556,
          -1.474269199202699,
          -1.9035357216209998,
          -0.842459505915815,
          -0.6450446032311398,
          -1.3859767495689528,
          0.5787535105345148,
          2.2955960081866325,
          -1.4380393667265592,
          0.592895059358941,
          0.6824300472122862,
          -1.978558056285446,
          0.6507979497194142,
          -0.8504019891320452,
          -0.23082902274044428,
          0.9275706159608799,
          -0.047095155777864835,
          -1.6405431622980855,
          -0.8744312401517957,
          -0.25871068506394845,
          0.27471500967068346,
          0.1946788757728365,
          1.4125245459008748,
          -0.049375511972559315,
          -0.10475479978240199,
          0.5133935150926221,
          -1.2223620008398135,
          -0.11638992089113567,
          -1.3023112967306605,
          0.30293182359718746,
          -1.6607840815862427,
          1.983670482457282,
          -1.0036184526149803,
          -1.428906436402728,
          1.5304130203604172,
          0.9133621367502792,
          -0.29639213224210054
         ],
         "xaxis": "x13",
         "y": [
          0.7497183605737537,
          -0.36957187829460453,
          0.05558868595169157,
          -1.326245374066973,
          0.48709573897201197,
          -0.04058352785552951,
          0.7172478305315246,
          1.1686461498120249,
          0.15582629174388662,
          -0.24935139025430994,
          1.5236235045735902,
          2.4621582729845315,
          0.17439551195791178,
          -0.7302229015928575,
          -0.07208072413731856,
          -0.8429801003585939,
          1.0588884773639018,
          -0.4280041278713005,
          -0.35651863457078803,
          -1.5311127200324355,
          -0.5645907407909591,
          0.905829449333737,
          -0.640080885178177,
          -0.8082682458443605,
          0.10455202848036407,
          1.898251111645053,
          -0.5377332031162471,
          -0.5180827040364145,
          -0.40246041657702597,
          -0.23120410044358786,
          2.888006850971286,
          0.8094919070078689,
          0.38794403172813,
          -1.7216833001165157,
          0.568176426413336,
          1.8919573672768957,
          1.0298118946879022,
          -0.5063878296633622,
          -2.685666244932097,
          1.1814794613153967,
          0.182148400494332,
          0.5870395371820794,
          -0.7551590075916406,
          -0.015455428501074637,
          -0.43217773668747894,
          1.749317470617879,
          1.7407285070776848,
          -0.1915199989179134,
          0.7721322184140336,
          -1.0420640493950046,
          -1.2620508523349931,
          -2.2208445357924154,
          -0.3132754958417208,
          -0.04729021895831102,
          -0.4710086932553789,
          -0.22111930592822035,
          -0.6450366797051841,
          0.4480636208184629,
          0.1346706197334301,
          0.1489804856923085,
          -0.28362936025387375,
          -1.7114546660239531,
          0.6640007478235729,
          -0.7272174881915302,
          0.24119566979843185,
          0.6820050042566222,
          0.13109669641631977,
          -1.2949030969007622,
          -1.050770605437413,
          1.651015366716756,
          0.8384754662912653,
          -1.5460206664018412,
          0.5183959952241453,
          0.11579969767816818,
          0.058004891068721094,
          -0.5684793809625174,
          -0.16142445243376213,
          -0.2066414523185034,
          -0.5962630480602175,
          0.20797001029890144,
          -0.8148988463933333,
          -1.2426282974685001,
          -0.47710924613388633,
          -0.33075195323778883,
          0.357857525991513,
          0.03411888325736434,
          -1.1117034719288414,
          3.464326284094295,
          1.5977825629997318,
          1.5241586370429179,
          -0.9059344027985381,
          -1.0683838168248458,
          0.9338553610898398,
          -1.031239647837061,
          1.3097747301664568,
          0.4207203875049453,
          -0.11839767155825544,
          0.3537186155026702,
          -1.3921761213532073,
          -1.3138793191773748
         ],
         "yaxis": "y13"
        },
        {
         "line": {
          "color": "rgba(128, 128, 128, 1.0)",
          "dash": "solid",
          "shape": "linear",
          "width": 1.3
         },
         "marker": {
          "size": 2,
          "symbol": "circle"
         },
         "mode": "markers",
         "name": "d",
         "text": "",
         "type": "scatter",
         "x": [
          -0.7172365979374294,
          0.1301927392996842,
          -1.393522266799919,
          0.5547087920801866,
          -0.5200071012122776,
          1.1613183698350373,
          -1.3529461218033918,
          1.3988825487452088,
          0.6733468125873788,
          1.5219448397371478,
          -0.7906269916573789,
          -0.3161501726488375,
          -0.41778212984503704,
          -0.5831677471760225,
          0.6023577387799757,
          -0.4443233853900075,
          0.7533047706847111,
          -1.3970815128632759,
          0.3581974945656321,
          0.8589985833109056,
          0.47592833921194794,
          0.23549672361459806,
          -0.18952266322583036,
          0.19974453806195278,
          -0.06960702398037072,
          -1.0086186324692388,
          0.9628957190504571,
          0.9474978795182155,
          0.8596145583597102,
          -0.4263569089417392,
          0.3499146348325409,
          0.9398534359848607,
          -0.6229775340336317,
          0.19749787601107976,
          -1.0991368107166477,
          0.13191944366896108,
          -0.42292656307822624,
          0.34519356856585565,
          0.514983356263597,
          -1.138924491691048,
          -1.189373130478294,
          0.9667822919326727,
          -1.150614139922435,
          0.42524038583700313,
          -0.03894968578993216,
          -0.13929919745961755,
          -0.3125569796919793,
          -1.4309654669216174,
          0.03980910697712983,
          -0.880089298606563,
          -1.1501158787075554,
          -1.4208883907476475,
          1.2273389142307352,
          0.7034530198234115,
          0.38818130211246876,
          0.18684137941578224,
          1.0825536881142404,
          -0.34031467699274226,
          -2.550099155251413,
          0.08468203433117498,
          0.44837050229530284,
          0.017602416217182646,
          -0.5201218604083405,
          0.654672383103486,
          -0.9318224461423867,
          -1.0800159254957447,
          1.544411010637449,
          -2.16227794297282,
          0.23561697608863844,
          -1.1278533299184488,
          -0.11732290592434473,
          -0.29730289220519107,
          -0.32750099938839783,
          0.955194867490096,
          -1.7596498603194104,
          0.7096375246310584,
          0.5821868144562231,
          -0.8746028069438861,
          0.9062882402006409,
          0.055217998884144866,
          -1.973828315514508,
          -1.004458985106134,
          1.7793279779693252,
          -0.10840911214856161,
          2.6867297265953103,
          0.91343388042321,
          -0.9377622323218044,
          -1.2570794768782148,
          1.6471666036145307,
          0.48188330904460136,
          -0.04052226717979435,
          -0.05859375010378374,
          1.1738796853901698,
          0.2795749088035469,
          1.0908754639387486,
          -1.1197331844989709,
          -1.2150861295185817,
          1.5136977245404255,
          0.8247996201154251,
          -0.24542134180675218
         ],
         "xaxis": "x14",
         "y": [
          0.7497183605737537,
          -0.36957187829460453,
          0.05558868595169157,
          -1.326245374066973,
          0.48709573897201197,
          -0.04058352785552951,
          0.7172478305315246,
          1.1686461498120249,
          0.15582629174388662,
          -0.24935139025430994,
          1.5236235045735902,
          2.4621582729845315,
          0.17439551195791178,
          -0.7302229015928575,
          -0.07208072413731856,
          -0.8429801003585939,
          1.0588884773639018,
          -0.4280041278713005,
          -0.35651863457078803,
          -1.5311127200324355,
          -0.5645907407909591,
          0.905829449333737,
          -0.640080885178177,
          -0.8082682458443605,
          0.10455202848036407,
          1.898251111645053,
          -0.5377332031162471,
          -0.5180827040364145,
          -0.40246041657702597,
          -0.23120410044358786,
          2.888006850971286,
          0.8094919070078689,
          0.38794403172813,
          -1.7216833001165157,
          0.568176426413336,
          1.8919573672768957,
          1.0298118946879022,
          -0.5063878296633622,
          -2.685666244932097,
          1.1814794613153967,
          0.182148400494332,
          0.5870395371820794,
          -0.7551590075916406,
          -0.015455428501074637,
          -0.43217773668747894,
          1.749317470617879,
          1.7407285070776848,
          -0.1915199989179134,
          0.7721322184140336,
          -1.0420640493950046,
          -1.2620508523349931,
          -2.2208445357924154,
          -0.3132754958417208,
          -0.04729021895831102,
          -0.4710086932553789,
          -0.22111930592822035,
          -0.6450366797051841,
          0.4480636208184629,
          0.1346706197334301,
          0.1489804856923085,
          -0.28362936025387375,
          -1.7114546660239531,
          0.6640007478235729,
          -0.7272174881915302,
          0.24119566979843185,
          0.6820050042566222,
          0.13109669641631977,
          -1.2949030969007622,
          -1.050770605437413,
          1.651015366716756,
          0.8384754662912653,
          -1.5460206664018412,
          0.5183959952241453,
          0.11579969767816818,
          0.058004891068721094,
          -0.5684793809625174,
          -0.16142445243376213,
          -0.2066414523185034,
          -0.5962630480602175,
          0.20797001029890144,
          -0.8148988463933333,
          -1.2426282974685001,
          -0.47710924613388633,
          -0.33075195323778883,
          0.357857525991513,
          0.03411888325736434,
          -1.1117034719288414,
          3.464326284094295,
          1.5977825629997318,
          1.5241586370429179,
          -0.9059344027985381,
          -1.0683838168248458,
          0.9338553610898398,
          -1.031239647837061,
          1.3097747301664568,
          0.4207203875049453,
          -0.11839767155825544,
          0.3537186155026702,
          -1.3921761213532073,
          -1.3138793191773748
         ],
         "yaxis": "y14"
        },
        {
         "line": {
          "color": "rgba(128, 128, 128, 1.0)",
          "dash": "solid",
          "shape": "linear",
          "width": 1.3
         },
         "marker": {
          "size": 2,
          "symbol": "circle"
         },
         "mode": "markers",
         "name": "d",
         "text": "",
         "type": "scatter",
         "x": [
          -0.644862269764822,
          -0.30779304426494414,
          1.4312069827650835,
          -0.568106716918909,
          -0.05482999949921287,
          1.3775688864000735,
          0.6969010286683164,
          -2.2929526767754216,
          0.09082610904100767,
          0.35623333678979724,
          1.0512567783275675,
          -1.0781253734726224,
          0.3051893108966182,
          0.11398895639943217,
          -0.5026548935373585,
          1.0100767573269718,
          1.6045563397800657,
          -0.263790151377017,
          1.4712932996464019,
          -0.5026694094274891,
          0.07602958833205785,
          0.13560896282949106,
          -0.8585960115677611,
          -0.8489487219660529,
          -0.36949464919022484,
          0.03506363469734359,
          -1.4111291043256964,
          -0.47803526330092605,
          1.6580456931546976,
          -1.2211657668381346,
          -1.1826923102828888,
          2.061911162448477,
          0.6877747246825724,
          -0.13328032534468331,
          0.9679268063934757,
          -0.7051450416419223,
          -0.2329471343594074,
          0.17571764933338305,
          -0.9889760436217521,
          1.706941676259754,
          -0.5542973605783889,
          1.7299250177970487,
          0.5323677350937979,
          0.5242285866578907,
          -0.597385471430855,
          0.16728901604561539,
          0.4142163978691079,
          1.692250276833783,
          1.7463791730772082,
          -0.21986570644528575,
          0.19127617579273945,
          0.08877869680039471,
          0.3075071782923635,
          -0.6468916090946528,
          -1.2489633296959335,
          0.29376203724273914,
          -0.6383223712123308,
          2.145148067398187,
          -0.5937240361377595,
          1.974857623800908,
          -1.2345916699396726,
          -0.40231911081509003,
          1.151067685185213,
          -1.684758230947675,
          0.66943289859867,
          0.5637987734791424,
          1.0482474041595975,
          -0.712096988002522,
          -1.8233548549123433,
          0.44447113578405967,
          3.389577803441184,
          -0.9456440548848006,
          -0.04086647782104779,
          0.27759419334555296,
          0.21164527133327032,
          1.148398128752941,
          0.15314627067663572,
          -1.8038820878934234,
          0.9722698111484178,
          1.0229092134274624,
          0.28283095471296954,
          -1.5510481364175461,
          0.061838266966372755,
          0.33059494433994546,
          -0.4556161090862515,
          1.5902552853587868,
          -0.9607932154675821,
          1.0375863648405528,
          1.2343312552332237,
          -0.04409033375219025,
          0.5213861390488062,
          0.48831165178233615,
          -2.2380864110431213,
          -0.6057784263895877,
          1.2246095538404946,
          0.7780165479817372,
          0.549101480326388,
          -0.48192376559470035,
          0.1177121625684017,
          0.27941031936166405
         ],
         "xaxis": "x15",
         "y": [
          0.7497183605737537,
          -0.36957187829460453,
          0.05558868595169157,
          -1.326245374066973,
          0.48709573897201197,
          -0.04058352785552951,
          0.7172478305315246,
          1.1686461498120249,
          0.15582629174388662,
          -0.24935139025430994,
          1.5236235045735902,
          2.4621582729845315,
          0.17439551195791178,
          -0.7302229015928575,
          -0.07208072413731856,
          -0.8429801003585939,
          1.0588884773639018,
          -0.4280041278713005,
          -0.35651863457078803,
          -1.5311127200324355,
          -0.5645907407909591,
          0.905829449333737,
          -0.640080885178177,
          -0.8082682458443605,
          0.10455202848036407,
          1.898251111645053,
          -0.5377332031162471,
          -0.5180827040364145,
          -0.40246041657702597,
          -0.23120410044358786,
          2.888006850971286,
          0.8094919070078689,
          0.38794403172813,
          -1.7216833001165157,
          0.568176426413336,
          1.8919573672768957,
          1.0298118946879022,
          -0.5063878296633622,
          -2.685666244932097,
          1.1814794613153967,
          0.182148400494332,
          0.5870395371820794,
          -0.7551590075916406,
          -0.015455428501074637,
          -0.43217773668747894,
          1.749317470617879,
          1.7407285070776848,
          -0.1915199989179134,
          0.7721322184140336,
          -1.0420640493950046,
          -1.2620508523349931,
          -2.2208445357924154,
          -0.3132754958417208,
          -0.04729021895831102,
          -0.4710086932553789,
          -0.22111930592822035,
          -0.6450366797051841,
          0.4480636208184629,
          0.1346706197334301,
          0.1489804856923085,
          -0.28362936025387375,
          -1.7114546660239531,
          0.6640007478235729,
          -0.7272174881915302,
          0.24119566979843185,
          0.6820050042566222,
          0.13109669641631977,
          -1.2949030969007622,
          -1.050770605437413,
          1.651015366716756,
          0.8384754662912653,
          -1.5460206664018412,
          0.5183959952241453,
          0.11579969767816818,
          0.058004891068721094,
          -0.5684793809625174,
          -0.16142445243376213,
          -0.2066414523185034,
          -0.5962630480602175,
          0.20797001029890144,
          -0.8148988463933333,
          -1.2426282974685001,
          -0.47710924613388633,
          -0.33075195323778883,
          0.357857525991513,
          0.03411888325736434,
          -1.1117034719288414,
          3.464326284094295,
          1.5977825629997318,
          1.5241586370429179,
          -0.9059344027985381,
          -1.0683838168248458,
          0.9338553610898398,
          -1.031239647837061,
          1.3097747301664568,
          0.4207203875049453,
          -0.11839767155825544,
          0.3537186155026702,
          -1.3921761213532073,
          -1.3138793191773748
         ],
         "yaxis": "y15"
        },
        {
         "histfunc": "count",
         "histnorm": "",
         "marker": {
          "color": "rgba(128, 0, 128, 1.0)",
          "line": {
           "color": "#4D5663",
           "width": 1.3
          }
         },
         "name": "d",
         "nbinsx": 10,
         "opacity": 0.8,
         "orientation": "v",
         "type": "histogram",
         "x": [
          0.7497183605737537,
          -0.36957187829460453,
          0.05558868595169157,
          -1.326245374066973,
          0.48709573897201197,
          -0.04058352785552951,
          0.7172478305315246,
          1.1686461498120249,
          0.15582629174388662,
          -0.24935139025430994,
          1.5236235045735902,
          2.4621582729845315,
          0.17439551195791178,
          -0.7302229015928575,
          -0.07208072413731856,
          -0.8429801003585939,
          1.0588884773639018,
          -0.4280041278713005,
          -0.35651863457078803,
          -1.5311127200324355,
          -0.5645907407909591,
          0.905829449333737,
          -0.640080885178177,
          -0.8082682458443605,
          0.10455202848036407,
          1.898251111645053,
          -0.5377332031162471,
          -0.5180827040364145,
          -0.40246041657702597,
          -0.23120410044358786,
          2.888006850971286,
          0.8094919070078689,
          0.38794403172813,
          -1.7216833001165157,
          0.568176426413336,
          1.8919573672768957,
          1.0298118946879022,
          -0.5063878296633622,
          -2.685666244932097,
          1.1814794613153967,
          0.182148400494332,
          0.5870395371820794,
          -0.7551590075916406,
          -0.015455428501074637,
          -0.43217773668747894,
          1.749317470617879,
          1.7407285070776848,
          -0.1915199989179134,
          0.7721322184140336,
          -1.0420640493950046,
          -1.2620508523349931,
          -2.2208445357924154,
          -0.3132754958417208,
          -0.04729021895831102,
          -0.4710086932553789,
          -0.22111930592822035,
          -0.6450366797051841,
          0.4480636208184629,
          0.1346706197334301,
          0.1489804856923085,
          -0.28362936025387375,
          -1.7114546660239531,
          0.6640007478235729,
          -0.7272174881915302,
          0.24119566979843185,
          0.6820050042566222,
          0.13109669641631977,
          -1.2949030969007622,
          -1.050770605437413,
          1.651015366716756,
          0.8384754662912653,
          -1.5460206664018412,
          0.5183959952241453,
          0.11579969767816818,
          0.058004891068721094,
          -0.5684793809625174,
          -0.16142445243376213,
          -0.2066414523185034,
          -0.5962630480602175,
          0.20797001029890144,
          -0.8148988463933333,
          -1.2426282974685001,
          -0.47710924613388633,
          -0.33075195323778883,
          0.357857525991513,
          0.03411888325736434,
          -1.1117034719288414,
          3.464326284094295,
          1.5977825629997318,
          1.5241586370429179,
          -0.9059344027985381,
          -1.0683838168248458,
          0.9338553610898398,
          -1.031239647837061,
          1.3097747301664568,
          0.4207203875049453,
          -0.11839767155825544,
          0.3537186155026702,
          -1.3921761213532073,
          -1.3138793191773748
         ],
         "xaxis": "x16",
         "yaxis": "y16"
        }
       ],
       "layout": {
        "bargap": 0.02,
        "legend": {
         "bgcolor": "#F5F6F9",
         "font": {
          "color": "#4D5663"
         }
        },
        "paper_bgcolor": "#F5F6F9",
        "plot_bgcolor": "#F5F6F9",
        "showlegend": false,
        "template": {
         "data": {
          "bar": [
           {
            "error_x": {
             "color": "#2a3f5f"
            },
            "error_y": {
             "color": "#2a3f5f"
            },
            "marker": {
             "line": {
              "color": "#E5ECF6",
              "width": 0.5
             },
             "pattern": {
              "fillmode": "overlay",
              "size": 10,
              "solidity": 0.2
             }
            },
            "type": "bar"
           }
          ],
          "barpolar": [
           {
            "marker": {
             "line": {
              "color": "#E5ECF6",
              "width": 0.5
             },
             "pattern": {
              "fillmode": "overlay",
              "size": 10,
              "solidity": 0.2
             }
            },
            "type": "barpolar"
           }
          ],
          "carpet": [
           {
            "aaxis": {
             "endlinecolor": "#2a3f5f",
             "gridcolor": "white",
             "linecolor": "white",
             "minorgridcolor": "white",
             "startlinecolor": "#2a3f5f"
            },
            "baxis": {
             "endlinecolor": "#2a3f5f",
             "gridcolor": "white",
             "linecolor": "white",
             "minorgridcolor": "white",
             "startlinecolor": "#2a3f5f"
            },
            "type": "carpet"
           }
          ],
          "choropleth": [
           {
            "colorbar": {
             "outlinewidth": 0,
             "ticks": ""
            },
            "type": "choropleth"
           }
          ],
          "contour": [
           {
            "colorbar": {
             "outlinewidth": 0,
             "ticks": ""
            },
            "colorscale": [
             [
              0,
              "#0d0887"
             ],
             [
              0.1111111111111111,
              "#46039f"
             ],
             [
              0.2222222222222222,
              "#7201a8"
             ],
             [
              0.3333333333333333,
              "#9c179e"
             ],
             [
              0.4444444444444444,
              "#bd3786"
             ],
             [
              0.5555555555555556,
              "#d8576b"
             ],
             [
              0.6666666666666666,
              "#ed7953"
             ],
             [
              0.7777777777777778,
              "#fb9f3a"
             ],
             [
              0.8888888888888888,
              "#fdca26"
             ],
             [
              1,
              "#f0f921"
             ]
            ],
            "type": "contour"
           }
          ],
          "contourcarpet": [
           {
            "colorbar": {
             "outlinewidth": 0,
             "ticks": ""
            },
            "type": "contourcarpet"
           }
          ],
          "heatmap": [
           {
            "colorbar": {
             "outlinewidth": 0,
             "ticks": ""
            },
            "colorscale": [
             [
              0,
              "#0d0887"
             ],
             [
              0.1111111111111111,
              "#46039f"
             ],
             [
              0.2222222222222222,
              "#7201a8"
             ],
             [
              0.3333333333333333,
              "#9c179e"
             ],
             [
              0.4444444444444444,
              "#bd3786"
             ],
             [
              0.5555555555555556,
              "#d8576b"
             ],
             [
              0.6666666666666666,
              "#ed7953"
             ],
             [
              0.7777777777777778,
              "#fb9f3a"
             ],
             [
              0.8888888888888888,
              "#fdca26"
             ],
             [
              1,
              "#f0f921"
             ]
            ],
            "type": "heatmap"
           }
          ],
          "heatmapgl": [
           {
            "colorbar": {
             "outlinewidth": 0,
             "ticks": ""
            },
            "colorscale": [
             [
              0,
              "#0d0887"
             ],
             [
              0.1111111111111111,
              "#46039f"
             ],
             [
              0.2222222222222222,
              "#7201a8"
             ],
             [
              0.3333333333333333,
              "#9c179e"
             ],
             [
              0.4444444444444444,
              "#bd3786"
             ],
             [
              0.5555555555555556,
              "#d8576b"
             ],
             [
              0.6666666666666666,
              "#ed7953"
             ],
             [
              0.7777777777777778,
              "#fb9f3a"
             ],
             [
              0.8888888888888888,
              "#fdca26"
             ],
             [
              1,
              "#f0f921"
             ]
            ],
            "type": "heatmapgl"
           }
          ],
          "histogram": [
           {
            "marker": {
             "pattern": {
              "fillmode": "overlay",
              "size": 10,
              "solidity": 0.2
             }
            },
            "type": "histogram"
           }
          ],
          "histogram2d": [
           {
            "colorbar": {
             "outlinewidth": 0,
             "ticks": ""
            },
            "colorscale": [
             [
              0,
              "#0d0887"
             ],
             [
              0.1111111111111111,
              "#46039f"
             ],
             [
              0.2222222222222222,
              "#7201a8"
             ],
             [
              0.3333333333333333,
              "#9c179e"
             ],
             [
              0.4444444444444444,
              "#bd3786"
             ],
             [
              0.5555555555555556,
              "#d8576b"
             ],
             [
              0.6666666666666666,
              "#ed7953"
             ],
             [
              0.7777777777777778,
              "#fb9f3a"
             ],
             [
              0.8888888888888888,
              "#fdca26"
             ],
             [
              1,
              "#f0f921"
             ]
            ],
            "type": "histogram2d"
           }
          ],
          "histogram2dcontour": [
           {
            "colorbar": {
             "outlinewidth": 0,
             "ticks": ""
            },
            "colorscale": [
             [
              0,
              "#0d0887"
             ],
             [
              0.1111111111111111,
              "#46039f"
             ],
             [
              0.2222222222222222,
              "#7201a8"
             ],
             [
              0.3333333333333333,
              "#9c179e"
             ],
             [
              0.4444444444444444,
              "#bd3786"
             ],
             [
              0.5555555555555556,
              "#d8576b"
             ],
             [
              0.6666666666666666,
              "#ed7953"
             ],
             [
              0.7777777777777778,
              "#fb9f3a"
             ],
             [
              0.8888888888888888,
              "#fdca26"
             ],
             [
              1,
              "#f0f921"
             ]
            ],
            "type": "histogram2dcontour"
           }
          ],
          "mesh3d": [
           {
            "colorbar": {
             "outlinewidth": 0,
             "ticks": ""
            },
            "type": "mesh3d"
           }
          ],
          "parcoords": [
           {
            "line": {
             "colorbar": {
              "outlinewidth": 0,
              "ticks": ""
             }
            },
            "type": "parcoords"
           }
          ],
          "pie": [
           {
            "automargin": true,
            "type": "pie"
           }
          ],
          "scatter": [
           {
            "fillpattern": {
             "fillmode": "overlay",
             "size": 10,
             "solidity": 0.2
            },
            "type": "scatter"
           }
          ],
          "scatter3d": [
           {
            "line": {
             "colorbar": {
              "outlinewidth": 0,
              "ticks": ""
             }
            },
            "marker": {
             "colorbar": {
              "outlinewidth": 0,
              "ticks": ""
             }
            },
            "type": "scatter3d"
           }
          ],
          "scattercarpet": [
           {
            "marker": {
             "colorbar": {
              "outlinewidth": 0,
              "ticks": ""
             }
            },
            "type": "scattercarpet"
           }
          ],
          "scattergeo": [
           {
            "marker": {
             "colorbar": {
              "outlinewidth": 0,
              "ticks": ""
             }
            },
            "type": "scattergeo"
           }
          ],
          "scattergl": [
           {
            "marker": {
             "colorbar": {
              "outlinewidth": 0,
              "ticks": ""
             }
            },
            "type": "scattergl"
           }
          ],
          "scattermapbox": [
           {
            "marker": {
             "colorbar": {
              "outlinewidth": 0,
              "ticks": ""
             }
            },
            "type": "scattermapbox"
           }
          ],
          "scatterpolar": [
           {
            "marker": {
             "colorbar": {
              "outlinewidth": 0,
              "ticks": ""
             }
            },
            "type": "scatterpolar"
           }
          ],
          "scatterpolargl": [
           {
            "marker": {
             "colorbar": {
              "outlinewidth": 0,
              "ticks": ""
             }
            },
            "type": "scatterpolargl"
           }
          ],
          "scatterternary": [
           {
            "marker": {
             "colorbar": {
              "outlinewidth": 0,
              "ticks": ""
             }
            },
            "type": "scatterternary"
           }
          ],
          "surface": [
           {
            "colorbar": {
             "outlinewidth": 0,
             "ticks": ""
            },
            "colorscale": [
             [
              0,
              "#0d0887"
             ],
             [
              0.1111111111111111,
              "#46039f"
             ],
             [
              0.2222222222222222,
              "#7201a8"
             ],
             [
              0.3333333333333333,
              "#9c179e"
             ],
             [
              0.4444444444444444,
              "#bd3786"
             ],
             [
              0.5555555555555556,
              "#d8576b"
             ],
             [
              0.6666666666666666,
              "#ed7953"
             ],
             [
              0.7777777777777778,
              "#fb9f3a"
             ],
             [
              0.8888888888888888,
              "#fdca26"
             ],
             [
              1,
              "#f0f921"
             ]
            ],
            "type": "surface"
           }
          ],
          "table": [
           {
            "cells": {
             "fill": {
              "color": "#EBF0F8"
             },
             "line": {
              "color": "white"
             }
            },
            "header": {
             "fill": {
              "color": "#C8D4E3"
             },
             "line": {
              "color": "white"
             }
            },
            "type": "table"
           }
          ]
         },
         "layout": {
          "annotationdefaults": {
           "arrowcolor": "#2a3f5f",
           "arrowhead": 0,
           "arrowwidth": 1
          },
          "autotypenumbers": "strict",
          "coloraxis": {
           "colorbar": {
            "outlinewidth": 0,
            "ticks": ""
           }
          },
          "colorscale": {
           "diverging": [
            [
             0,
             "#8e0152"
            ],
            [
             0.1,
             "#c51b7d"
            ],
            [
             0.2,
             "#de77ae"
            ],
            [
             0.3,
             "#f1b6da"
            ],
            [
             0.4,
             "#fde0ef"
            ],
            [
             0.5,
             "#f7f7f7"
            ],
            [
             0.6,
             "#e6f5d0"
            ],
            [
             0.7,
             "#b8e186"
            ],
            [
             0.8,
             "#7fbc41"
            ],
            [
             0.9,
             "#4d9221"
            ],
            [
             1,
             "#276419"
            ]
           ],
           "sequential": [
            [
             0,
             "#0d0887"
            ],
            [
             0.1111111111111111,
             "#46039f"
            ],
            [
             0.2222222222222222,
             "#7201a8"
            ],
            [
             0.3333333333333333,
             "#9c179e"
            ],
            [
             0.4444444444444444,
             "#bd3786"
            ],
            [
             0.5555555555555556,
             "#d8576b"
            ],
            [
             0.6666666666666666,
             "#ed7953"
            ],
            [
             0.7777777777777778,
             "#fb9f3a"
            ],
            [
             0.8888888888888888,
             "#fdca26"
            ],
            [
             1,
             "#f0f921"
            ]
           ],
           "sequentialminus": [
            [
             0,
             "#0d0887"
            ],
            [
             0.1111111111111111,
             "#46039f"
            ],
            [
             0.2222222222222222,
             "#7201a8"
            ],
            [
             0.3333333333333333,
             "#9c179e"
            ],
            [
             0.4444444444444444,
             "#bd3786"
            ],
            [
             0.5555555555555556,
             "#d8576b"
            ],
            [
             0.6666666666666666,
             "#ed7953"
            ],
            [
             0.7777777777777778,
             "#fb9f3a"
            ],
            [
             0.8888888888888888,
             "#fdca26"
            ],
            [
             1,
             "#f0f921"
            ]
           ]
          },
          "colorway": [
           "#636efa",
           "#EF553B",
           "#00cc96",
           "#ab63fa",
           "#FFA15A",
           "#19d3f3",
           "#FF6692",
           "#B6E880",
           "#FF97FF",
           "#FECB52"
          ],
          "font": {
           "color": "#2a3f5f"
          },
          "geo": {
           "bgcolor": "white",
           "lakecolor": "white",
           "landcolor": "#E5ECF6",
           "showlakes": true,
           "showland": true,
           "subunitcolor": "white"
          },
          "hoverlabel": {
           "align": "left"
          },
          "hovermode": "closest",
          "mapbox": {
           "style": "light"
          },
          "paper_bgcolor": "white",
          "plot_bgcolor": "#E5ECF6",
          "polar": {
           "angularaxis": {
            "gridcolor": "white",
            "linecolor": "white",
            "ticks": ""
           },
           "bgcolor": "#E5ECF6",
           "radialaxis": {
            "gridcolor": "white",
            "linecolor": "white",
            "ticks": ""
           }
          },
          "scene": {
           "xaxis": {
            "backgroundcolor": "#E5ECF6",
            "gridcolor": "white",
            "gridwidth": 2,
            "linecolor": "white",
            "showbackground": true,
            "ticks": "",
            "zerolinecolor": "white"
           },
           "yaxis": {
            "backgroundcolor": "#E5ECF6",
            "gridcolor": "white",
            "gridwidth": 2,
            "linecolor": "white",
            "showbackground": true,
            "ticks": "",
            "zerolinecolor": "white"
           },
           "zaxis": {
            "backgroundcolor": "#E5ECF6",
            "gridcolor": "white",
            "gridwidth": 2,
            "linecolor": "white",
            "showbackground": true,
            "ticks": "",
            "zerolinecolor": "white"
           }
          },
          "shapedefaults": {
           "line": {
            "color": "#2a3f5f"
           }
          },
          "ternary": {
           "aaxis": {
            "gridcolor": "white",
            "linecolor": "white",
            "ticks": ""
           },
           "baxis": {
            "gridcolor": "white",
            "linecolor": "white",
            "ticks": ""
           },
           "bgcolor": "#E5ECF6",
           "caxis": {
            "gridcolor": "white",
            "linecolor": "white",
            "ticks": ""
           }
          },
          "title": {
           "x": 0.05
          },
          "xaxis": {
           "automargin": true,
           "gridcolor": "white",
           "linecolor": "white",
           "ticks": "",
           "title": {
            "standoff": 15
           },
           "zerolinecolor": "white",
           "zerolinewidth": 2
          },
          "yaxis": {
           "automargin": true,
           "gridcolor": "white",
           "linecolor": "white",
           "ticks": "",
           "title": {
            "standoff": 15
           },
           "zerolinecolor": "white",
           "zerolinewidth": 2
          }
         }
        },
        "title": {
         "font": {
          "color": "#4D5663"
         }
        },
        "xaxis": {
         "anchor": "y",
         "domain": [
          0,
          0.2125
         ],
         "gridcolor": "#E1E5ED",
         "showgrid": false,
         "tickfont": {
          "color": "#4D5663"
         },
         "title": {
          "font": {
           "color": "#4D5663"
          },
          "text": ""
         },
         "zerolinecolor": "#E1E5ED"
        },
        "xaxis10": {
         "anchor": "y10",
         "domain": [
          0.2625,
          0.475
         ],
         "gridcolor": "#E1E5ED",
         "showgrid": false,
         "tickfont": {
          "color": "#4D5663"
         },
         "title": {
          "font": {
           "color": "#4D5663"
          },
          "text": ""
         },
         "zerolinecolor": "#E1E5ED"
        },
        "xaxis11": {
         "anchor": "y11",
         "domain": [
          0.525,
          0.7375
         ],
         "gridcolor": "#E1E5ED",
         "showgrid": false,
         "tickfont": {
          "color": "#4D5663"
         },
         "title": {
          "font": {
           "color": "#4D5663"
          },
          "text": ""
         },
         "zerolinecolor": "#E1E5ED"
        },
        "xaxis12": {
         "anchor": "y12",
         "domain": [
          0.7875,
          1
         ],
         "gridcolor": "#E1E5ED",
         "showgrid": false,
         "tickfont": {
          "color": "#4D5663"
         },
         "title": {
          "font": {
           "color": "#4D5663"
          },
          "text": ""
         },
         "zerolinecolor": "#E1E5ED"
        },
        "xaxis13": {
         "anchor": "y13",
         "domain": [
          0,
          0.2125
         ],
         "gridcolor": "#E1E5ED",
         "showgrid": false,
         "tickfont": {
          "color": "#4D5663"
         },
         "title": {
          "font": {
           "color": "#4D5663"
          },
          "text": ""
         },
         "zerolinecolor": "#E1E5ED"
        },
        "xaxis14": {
         "anchor": "y14",
         "domain": [
          0.2625,
          0.475
         ],
         "gridcolor": "#E1E5ED",
         "showgrid": false,
         "tickfont": {
          "color": "#4D5663"
         },
         "title": {
          "font": {
           "color": "#4D5663"
          },
          "text": ""
         },
         "zerolinecolor": "#E1E5ED"
        },
        "xaxis15": {
         "anchor": "y15",
         "domain": [
          0.525,
          0.7375
         ],
         "gridcolor": "#E1E5ED",
         "showgrid": false,
         "tickfont": {
          "color": "#4D5663"
         },
         "title": {
          "font": {
           "color": "#4D5663"
          },
          "text": ""
         },
         "zerolinecolor": "#E1E5ED"
        },
        "xaxis16": {
         "anchor": "y16",
         "domain": [
          0.7875,
          1
         ],
         "gridcolor": "#E1E5ED",
         "showgrid": false,
         "tickfont": {
          "color": "#4D5663"
         },
         "title": {
          "font": {
           "color": "#4D5663"
          },
          "text": ""
         },
         "zerolinecolor": "#E1E5ED"
        },
        "xaxis2": {
         "anchor": "y2",
         "domain": [
          0.2625,
          0.475
         ],
         "gridcolor": "#E1E5ED",
         "showgrid": false,
         "tickfont": {
          "color": "#4D5663"
         },
         "title": {
          "font": {
           "color": "#4D5663"
          },
          "text": ""
         },
         "zerolinecolor": "#E1E5ED"
        },
        "xaxis3": {
         "anchor": "y3",
         "domain": [
          0.525,
          0.7375
         ],
         "gridcolor": "#E1E5ED",
         "showgrid": false,
         "tickfont": {
          "color": "#4D5663"
         },
         "title": {
          "font": {
           "color": "#4D5663"
          },
          "text": ""
         },
         "zerolinecolor": "#E1E5ED"
        },
        "xaxis4": {
         "anchor": "y4",
         "domain": [
          0.7875,
          1
         ],
         "gridcolor": "#E1E5ED",
         "showgrid": false,
         "tickfont": {
          "color": "#4D5663"
         },
         "title": {
          "font": {
           "color": "#4D5663"
          },
          "text": ""
         },
         "zerolinecolor": "#E1E5ED"
        },
        "xaxis5": {
         "anchor": "y5",
         "domain": [
          0,
          0.2125
         ],
         "gridcolor": "#E1E5ED",
         "showgrid": false,
         "tickfont": {
          "color": "#4D5663"
         },
         "title": {
          "font": {
           "color": "#4D5663"
          },
          "text": ""
         },
         "zerolinecolor": "#E1E5ED"
        },
        "xaxis6": {
         "anchor": "y6",
         "domain": [
          0.2625,
          0.475
         ],
         "gridcolor": "#E1E5ED",
         "showgrid": false,
         "tickfont": {
          "color": "#4D5663"
         },
         "title": {
          "font": {
           "color": "#4D5663"
          },
          "text": ""
         },
         "zerolinecolor": "#E1E5ED"
        },
        "xaxis7": {
         "anchor": "y7",
         "domain": [
          0.525,
          0.7375
         ],
         "gridcolor": "#E1E5ED",
         "showgrid": false,
         "tickfont": {
          "color": "#4D5663"
         },
         "title": {
          "font": {
           "color": "#4D5663"
          },
          "text": ""
         },
         "zerolinecolor": "#E1E5ED"
        },
        "xaxis8": {
         "anchor": "y8",
         "domain": [
          0.7875,
          1
         ],
         "gridcolor": "#E1E5ED",
         "showgrid": false,
         "tickfont": {
          "color": "#4D5663"
         },
         "title": {
          "font": {
           "color": "#4D5663"
          },
          "text": ""
         },
         "zerolinecolor": "#E1E5ED"
        },
        "xaxis9": {
         "anchor": "y9",
         "domain": [
          0,
          0.2125
         ],
         "gridcolor": "#E1E5ED",
         "showgrid": false,
         "tickfont": {
          "color": "#4D5663"
         },
         "title": {
          "font": {
           "color": "#4D5663"
          },
          "text": ""
         },
         "zerolinecolor": "#E1E5ED"
        },
        "yaxis": {
         "anchor": "x",
         "domain": [
          0.8025,
          1
         ],
         "gridcolor": "#E1E5ED",
         "showgrid": false,
         "tickfont": {
          "color": "#4D5663"
         },
         "title": {
          "font": {
           "color": "#4D5663"
          },
          "text": ""
         },
         "zerolinecolor": "#E1E5ED"
        },
        "yaxis10": {
         "anchor": "x10",
         "domain": [
          0.2675,
          0.465
         ],
         "gridcolor": "#E1E5ED",
         "showgrid": false,
         "tickfont": {
          "color": "#4D5663"
         },
         "title": {
          "font": {
           "color": "#4D5663"
          },
          "text": ""
         },
         "zerolinecolor": "#E1E5ED"
        },
        "yaxis11": {
         "anchor": "x11",
         "domain": [
          0.2675,
          0.465
         ],
         "gridcolor": "#E1E5ED",
         "showgrid": false,
         "tickfont": {
          "color": "#4D5663"
         },
         "title": {
          "font": {
           "color": "#4D5663"
          },
          "text": ""
         },
         "zerolinecolor": "#E1E5ED"
        },
        "yaxis12": {
         "anchor": "x12",
         "domain": [
          0.2675,
          0.465
         ],
         "gridcolor": "#E1E5ED",
         "showgrid": false,
         "tickfont": {
          "color": "#4D5663"
         },
         "title": {
          "font": {
           "color": "#4D5663"
          },
          "text": ""
         },
         "zerolinecolor": "#E1E5ED"
        },
        "yaxis13": {
         "anchor": "x13",
         "domain": [
          0,
          0.1975
         ],
         "gridcolor": "#E1E5ED",
         "showgrid": false,
         "tickfont": {
          "color": "#4D5663"
         },
         "title": {
          "font": {
           "color": "#4D5663"
          },
          "text": ""
         },
         "zerolinecolor": "#E1E5ED"
        },
        "yaxis14": {
         "anchor": "x14",
         "domain": [
          0,
          0.1975
         ],
         "gridcolor": "#E1E5ED",
         "showgrid": false,
         "tickfont": {
          "color": "#4D5663"
         },
         "title": {
          "font": {
           "color": "#4D5663"
          },
          "text": ""
         },
         "zerolinecolor": "#E1E5ED"
        },
        "yaxis15": {
         "anchor": "x15",
         "domain": [
          0,
          0.1975
         ],
         "gridcolor": "#E1E5ED",
         "showgrid": false,
         "tickfont": {
          "color": "#4D5663"
         },
         "title": {
          "font": {
           "color": "#4D5663"
          },
          "text": ""
         },
         "zerolinecolor": "#E1E5ED"
        },
        "yaxis16": {
         "anchor": "x16",
         "domain": [
          0,
          0.1975
         ],
         "gridcolor": "#E1E5ED",
         "showgrid": false,
         "tickfont": {
          "color": "#4D5663"
         },
         "title": {
          "font": {
           "color": "#4D5663"
          },
          "text": ""
         },
         "zerolinecolor": "#E1E5ED"
        },
        "yaxis2": {
         "anchor": "x2",
         "domain": [
          0.8025,
          1
         ],
         "gridcolor": "#E1E5ED",
         "showgrid": false,
         "tickfont": {
          "color": "#4D5663"
         },
         "title": {
          "font": {
           "color": "#4D5663"
          },
          "text": ""
         },
         "zerolinecolor": "#E1E5ED"
        },
        "yaxis3": {
         "anchor": "x3",
         "domain": [
          0.8025,
          1
         ],
         "gridcolor": "#E1E5ED",
         "showgrid": false,
         "tickfont": {
          "color": "#4D5663"
         },
         "title": {
          "font": {
           "color": "#4D5663"
          },
          "text": ""
         },
         "zerolinecolor": "#E1E5ED"
        },
        "yaxis4": {
         "anchor": "x4",
         "domain": [
          0.8025,
          1
         ],
         "gridcolor": "#E1E5ED",
         "showgrid": false,
         "tickfont": {
          "color": "#4D5663"
         },
         "title": {
          "font": {
           "color": "#4D5663"
          },
          "text": ""
         },
         "zerolinecolor": "#E1E5ED"
        },
        "yaxis5": {
         "anchor": "x5",
         "domain": [
          0.535,
          0.7325
         ],
         "gridcolor": "#E1E5ED",
         "showgrid": false,
         "tickfont": {
          "color": "#4D5663"
         },
         "title": {
          "font": {
           "color": "#4D5663"
          },
          "text": ""
         },
         "zerolinecolor": "#E1E5ED"
        },
        "yaxis6": {
         "anchor": "x6",
         "domain": [
          0.535,
          0.7325
         ],
         "gridcolor": "#E1E5ED",
         "showgrid": false,
         "tickfont": {
          "color": "#4D5663"
         },
         "title": {
          "font": {
           "color": "#4D5663"
          },
          "text": ""
         },
         "zerolinecolor": "#E1E5ED"
        },
        "yaxis7": {
         "anchor": "x7",
         "domain": [
          0.535,
          0.7325
         ],
         "gridcolor": "#E1E5ED",
         "showgrid": false,
         "tickfont": {
          "color": "#4D5663"
         },
         "title": {
          "font": {
           "color": "#4D5663"
          },
          "text": ""
         },
         "zerolinecolor": "#E1E5ED"
        },
        "yaxis8": {
         "anchor": "x8",
         "domain": [
          0.535,
          0.7325
         ],
         "gridcolor": "#E1E5ED",
         "showgrid": false,
         "tickfont": {
          "color": "#4D5663"
         },
         "title": {
          "font": {
           "color": "#4D5663"
          },
          "text": ""
         },
         "zerolinecolor": "#E1E5ED"
        },
        "yaxis9": {
         "anchor": "x9",
         "domain": [
          0.2675,
          0.465
         ],
         "gridcolor": "#E1E5ED",
         "showgrid": false,
         "tickfont": {
          "color": "#4D5663"
         },
         "title": {
          "font": {
           "color": "#4D5663"
          },
          "text": ""
         },
         "zerolinecolor": "#E1E5ED"
        }
       }
      },
      "text/html": [
       "<div>                            <div id=\"5a73b0be-e11a-4181-8d73-24481bc6cbc8\" class=\"plotly-graph-div\" style=\"height:525px; width:100%;\"></div>            <script type=\"text/javascript\">                require([\"plotly\"], function(Plotly) {                    window.PLOTLYENV=window.PLOTLYENV || {};\n",
       "                    window.PLOTLYENV.BASE_URL='https://plot.ly';                                    if (document.getElementById(\"5a73b0be-e11a-4181-8d73-24481bc6cbc8\")) {                    Plotly.newPlot(                        \"5a73b0be-e11a-4181-8d73-24481bc6cbc8\",                        [{\"histfunc\":\"count\",\"histnorm\":\"\",\"marker\":{\"color\":\"rgba(255, 153, 51, 1.0)\",\"line\":{\"color\":\"#4D5663\",\"width\":1.3}},\"name\":\"a\",\"nbinsx\":10,\"opacity\":0.8,\"orientation\":\"v\",\"x\":[-1.2536704061240342,-0.31192087006827185,-2.2109845815294356,0.26098210430390356,-0.42372505561706497,-0.5191246063006844,-0.3741979168810921,0.013160070003499067,-1.3936117653916562,-0.9879887112436886,0.9978019604285551,0.20408777022973887,-0.3751686712106355,0.14714190067587132,0.7097405973098823,-0.5980386770941455,-0.8580820814739449,-0.03928825662399084,2.1123756536844134,0.20988143099753984,-0.0039750860987576705,1.0837356737832347,0.25720841914284187,-0.6265295757295674,-0.8334593492338207,-0.43845976815063725,1.2182819398389937,-1.2402949889598742,-1.2071346174640567,-0.25215273236635155,-0.26222993788277515,-1.5944264482789066,-0.11603327631361181,0.3170166562461856,0.33184384567773306,0.2706533742615674,0.6886179771564876,0.33296980227084005,0.5860064727362081,-1.0790498039463736,0.036369968192229485,0.15144790493044746,-0.10393678206743479,0.8349700375535881,-1.206328193237761,0.5673265511778895,-0.06721204834887629,-0.543744658610441,-1.784873068359861,-1.5640842673613353,-1.7484510427524396,-0.9238595076773191,-0.07066518986172503,-1.2564883213487814,-1.255171782943583,-0.5693595220873484,-0.2680475201230551,-0.7370601821881222,1.4131046455732545,-0.4484711608573334,-0.03368558970719541,0.20060822572533968,-1.3006252925618582,-0.7650549164700556,-1.474269199202699,-1.9035357216209998,-0.842459505915815,-0.6450446032311398,-1.3859767495689528,0.5787535105345148,2.2955960081866325,-1.4380393667265592,0.592895059358941,0.6824300472122862,-1.978558056285446,0.6507979497194142,-0.8504019891320452,-0.23082902274044428,0.9275706159608799,-0.047095155777864835,-1.6405431622980855,-0.8744312401517957,-0.25871068506394845,0.27471500967068346,0.1946788757728365,1.4125245459008748,-0.049375511972559315,-0.10475479978240199,0.5133935150926221,-1.2223620008398135,-0.11638992089113567,-1.3023112967306605,0.30293182359718746,-1.6607840815862427,1.983670482457282,-1.0036184526149803,-1.428906436402728,1.5304130203604172,0.9133621367502792,-0.29639213224210054],\"xaxis\":\"x\",\"yaxis\":\"y\",\"type\":\"histogram\"},{\"line\":{\"color\":\"rgba(128, 128, 128, 1.0)\",\"dash\":\"solid\",\"shape\":\"linear\",\"width\":1.3},\"marker\":{\"size\":2,\"symbol\":\"circle\"},\"mode\":\"markers\",\"name\":\"a\",\"text\":\"\",\"x\":[-0.7172365979374294,0.1301927392996842,-1.393522266799919,0.5547087920801866,-0.5200071012122776,1.1613183698350373,-1.3529461218033918,1.3988825487452088,0.6733468125873788,1.5219448397371478,-0.7906269916573789,-0.3161501726488375,-0.41778212984503704,-0.5831677471760225,0.6023577387799757,-0.4443233853900075,0.7533047706847111,-1.3970815128632759,0.3581974945656321,0.8589985833109056,0.47592833921194794,0.23549672361459806,-0.18952266322583036,0.19974453806195278,-0.06960702398037072,-1.0086186324692388,0.9628957190504571,0.9474978795182155,0.8596145583597102,-0.4263569089417392,0.3499146348325409,0.9398534359848607,-0.6229775340336317,0.19749787601107976,-1.0991368107166477,0.13191944366896108,-0.42292656307822624,0.34519356856585565,0.514983356263597,-1.138924491691048,-1.189373130478294,0.9667822919326727,-1.150614139922435,0.42524038583700313,-0.03894968578993216,-0.13929919745961755,-0.3125569796919793,-1.4309654669216174,0.03980910697712983,-0.880089298606563,-1.1501158787075554,-1.4208883907476475,1.2273389142307352,0.7034530198234115,0.38818130211246876,0.18684137941578224,1.0825536881142404,-0.34031467699274226,-2.550099155251413,0.08468203433117498,0.44837050229530284,0.017602416217182646,-0.5201218604083405,0.654672383103486,-0.9318224461423867,-1.0800159254957447,1.544411010637449,-2.16227794297282,0.23561697608863844,-1.1278533299184488,-0.11732290592434473,-0.29730289220519107,-0.32750099938839783,0.955194867490096,-1.7596498603194104,0.7096375246310584,0.5821868144562231,-0.8746028069438861,0.9062882402006409,0.055217998884144866,-1.973828315514508,-1.004458985106134,1.7793279779693252,-0.10840911214856161,2.6867297265953103,0.91343388042321,-0.9377622323218044,-1.2570794768782148,1.6471666036145307,0.48188330904460136,-0.04052226717979435,-0.05859375010378374,1.1738796853901698,0.2795749088035469,1.0908754639387486,-1.1197331844989709,-1.2150861295185817,1.5136977245404255,0.8247996201154251,-0.24542134180675218],\"xaxis\":\"x2\",\"y\":[-1.2536704061240342,-0.31192087006827185,-2.2109845815294356,0.26098210430390356,-0.42372505561706497,-0.5191246063006844,-0.3741979168810921,0.013160070003499067,-1.3936117653916562,-0.9879887112436886,0.9978019604285551,0.20408777022973887,-0.3751686712106355,0.14714190067587132,0.7097405973098823,-0.5980386770941455,-0.8580820814739449,-0.03928825662399084,2.1123756536844134,0.20988143099753984,-0.0039750860987576705,1.0837356737832347,0.25720841914284187,-0.6265295757295674,-0.8334593492338207,-0.43845976815063725,1.2182819398389937,-1.2402949889598742,-1.2071346174640567,-0.25215273236635155,-0.26222993788277515,-1.5944264482789066,-0.11603327631361181,0.3170166562461856,0.33184384567773306,0.2706533742615674,0.6886179771564876,0.33296980227084005,0.5860064727362081,-1.0790498039463736,0.036369968192229485,0.15144790493044746,-0.10393678206743479,0.8349700375535881,-1.206328193237761,0.5673265511778895,-0.06721204834887629,-0.543744658610441,-1.784873068359861,-1.5640842673613353,-1.7484510427524396,-0.9238595076773191,-0.07066518986172503,-1.2564883213487814,-1.255171782943583,-0.5693595220873484,-0.2680475201230551,-0.7370601821881222,1.4131046455732545,-0.4484711608573334,-0.03368558970719541,0.20060822572533968,-1.3006252925618582,-0.7650549164700556,-1.474269199202699,-1.9035357216209998,-0.842459505915815,-0.6450446032311398,-1.3859767495689528,0.5787535105345148,2.2955960081866325,-1.4380393667265592,0.592895059358941,0.6824300472122862,-1.978558056285446,0.6507979497194142,-0.8504019891320452,-0.23082902274044428,0.9275706159608799,-0.047095155777864835,-1.6405431622980855,-0.8744312401517957,-0.25871068506394845,0.27471500967068346,0.1946788757728365,1.4125245459008748,-0.049375511972559315,-0.10475479978240199,0.5133935150926221,-1.2223620008398135,-0.11638992089113567,-1.3023112967306605,0.30293182359718746,-1.6607840815862427,1.983670482457282,-1.0036184526149803,-1.428906436402728,1.5304130203604172,0.9133621367502792,-0.29639213224210054],\"yaxis\":\"y2\",\"type\":\"scatter\"},{\"line\":{\"color\":\"rgba(128, 128, 128, 1.0)\",\"dash\":\"solid\",\"shape\":\"linear\",\"width\":1.3},\"marker\":{\"size\":2,\"symbol\":\"circle\"},\"mode\":\"markers\",\"name\":\"a\",\"text\":\"\",\"x\":[-0.644862269764822,-0.30779304426494414,1.4312069827650835,-0.568106716918909,-0.05482999949921287,1.3775688864000735,0.6969010286683164,-2.2929526767754216,0.09082610904100767,0.35623333678979724,1.0512567783275675,-1.0781253734726224,0.3051893108966182,0.11398895639943217,-0.5026548935373585,1.0100767573269718,1.6045563397800657,-0.263790151377017,1.4712932996464019,-0.5026694094274891,0.07602958833205785,0.13560896282949106,-0.8585960115677611,-0.8489487219660529,-0.36949464919022484,0.03506363469734359,-1.4111291043256964,-0.47803526330092605,1.6580456931546976,-1.2211657668381346,-1.1826923102828888,2.061911162448477,0.6877747246825724,-0.13328032534468331,0.9679268063934757,-0.7051450416419223,-0.2329471343594074,0.17571764933338305,-0.9889760436217521,1.706941676259754,-0.5542973605783889,1.7299250177970487,0.5323677350937979,0.5242285866578907,-0.597385471430855,0.16728901604561539,0.4142163978691079,1.692250276833783,1.7463791730772082,-0.21986570644528575,0.19127617579273945,0.08877869680039471,0.3075071782923635,-0.6468916090946528,-1.2489633296959335,0.29376203724273914,-0.6383223712123308,2.145148067398187,-0.5937240361377595,1.974857623800908,-1.2345916699396726,-0.40231911081509003,1.151067685185213,-1.684758230947675,0.66943289859867,0.5637987734791424,1.0482474041595975,-0.712096988002522,-1.8233548549123433,0.44447113578405967,3.389577803441184,-0.9456440548848006,-0.04086647782104779,0.27759419334555296,0.21164527133327032,1.148398128752941,0.15314627067663572,-1.8038820878934234,0.9722698111484178,1.0229092134274624,0.28283095471296954,-1.5510481364175461,0.061838266966372755,0.33059494433994546,-0.4556161090862515,1.5902552853587868,-0.9607932154675821,1.0375863648405528,1.2343312552332237,-0.04409033375219025,0.5213861390488062,0.48831165178233615,-2.2380864110431213,-0.6057784263895877,1.2246095538404946,0.7780165479817372,0.549101480326388,-0.48192376559470035,0.1177121625684017,0.27941031936166405],\"xaxis\":\"x3\",\"y\":[-1.2536704061240342,-0.31192087006827185,-2.2109845815294356,0.26098210430390356,-0.42372505561706497,-0.5191246063006844,-0.3741979168810921,0.013160070003499067,-1.3936117653916562,-0.9879887112436886,0.9978019604285551,0.20408777022973887,-0.3751686712106355,0.14714190067587132,0.7097405973098823,-0.5980386770941455,-0.8580820814739449,-0.03928825662399084,2.1123756536844134,0.20988143099753984,-0.0039750860987576705,1.0837356737832347,0.25720841914284187,-0.6265295757295674,-0.8334593492338207,-0.43845976815063725,1.2182819398389937,-1.2402949889598742,-1.2071346174640567,-0.25215273236635155,-0.26222993788277515,-1.5944264482789066,-0.11603327631361181,0.3170166562461856,0.33184384567773306,0.2706533742615674,0.6886179771564876,0.33296980227084005,0.5860064727362081,-1.0790498039463736,0.036369968192229485,0.15144790493044746,-0.10393678206743479,0.8349700375535881,-1.206328193237761,0.5673265511778895,-0.06721204834887629,-0.543744658610441,-1.784873068359861,-1.5640842673613353,-1.7484510427524396,-0.9238595076773191,-0.07066518986172503,-1.2564883213487814,-1.255171782943583,-0.5693595220873484,-0.2680475201230551,-0.7370601821881222,1.4131046455732545,-0.4484711608573334,-0.03368558970719541,0.20060822572533968,-1.3006252925618582,-0.7650549164700556,-1.474269199202699,-1.9035357216209998,-0.842459505915815,-0.6450446032311398,-1.3859767495689528,0.5787535105345148,2.2955960081866325,-1.4380393667265592,0.592895059358941,0.6824300472122862,-1.978558056285446,0.6507979497194142,-0.8504019891320452,-0.23082902274044428,0.9275706159608799,-0.047095155777864835,-1.6405431622980855,-0.8744312401517957,-0.25871068506394845,0.27471500967068346,0.1946788757728365,1.4125245459008748,-0.049375511972559315,-0.10475479978240199,0.5133935150926221,-1.2223620008398135,-0.11638992089113567,-1.3023112967306605,0.30293182359718746,-1.6607840815862427,1.983670482457282,-1.0036184526149803,-1.428906436402728,1.5304130203604172,0.9133621367502792,-0.29639213224210054],\"yaxis\":\"y3\",\"type\":\"scatter\"},{\"line\":{\"color\":\"rgba(128, 128, 128, 1.0)\",\"dash\":\"solid\",\"shape\":\"linear\",\"width\":1.3},\"marker\":{\"size\":2,\"symbol\":\"circle\"},\"mode\":\"markers\",\"name\":\"a\",\"text\":\"\",\"x\":[0.7497183605737537,-0.36957187829460453,0.05558868595169157,-1.326245374066973,0.48709573897201197,-0.04058352785552951,0.7172478305315246,1.1686461498120249,0.15582629174388662,-0.24935139025430994,1.5236235045735902,2.4621582729845315,0.17439551195791178,-0.7302229015928575,-0.07208072413731856,-0.8429801003585939,1.0588884773639018,-0.4280041278713005,-0.35651863457078803,-1.5311127200324355,-0.5645907407909591,0.905829449333737,-0.640080885178177,-0.8082682458443605,0.10455202848036407,1.898251111645053,-0.5377332031162471,-0.5180827040364145,-0.40246041657702597,-0.23120410044358786,2.888006850971286,0.8094919070078689,0.38794403172813,-1.7216833001165157,0.568176426413336,1.8919573672768957,1.0298118946879022,-0.5063878296633622,-2.685666244932097,1.1814794613153967,0.182148400494332,0.5870395371820794,-0.7551590075916406,-0.015455428501074637,-0.43217773668747894,1.749317470617879,1.7407285070776848,-0.1915199989179134,0.7721322184140336,-1.0420640493950046,-1.2620508523349931,-2.2208445357924154,-0.3132754958417208,-0.04729021895831102,-0.4710086932553789,-0.22111930592822035,-0.6450366797051841,0.4480636208184629,0.1346706197334301,0.1489804856923085,-0.28362936025387375,-1.7114546660239531,0.6640007478235729,-0.7272174881915302,0.24119566979843185,0.6820050042566222,0.13109669641631977,-1.2949030969007622,-1.050770605437413,1.651015366716756,0.8384754662912653,-1.5460206664018412,0.5183959952241453,0.11579969767816818,0.058004891068721094,-0.5684793809625174,-0.16142445243376213,-0.2066414523185034,-0.5962630480602175,0.20797001029890144,-0.8148988463933333,-1.2426282974685001,-0.47710924613388633,-0.33075195323778883,0.357857525991513,0.03411888325736434,-1.1117034719288414,3.464326284094295,1.5977825629997318,1.5241586370429179,-0.9059344027985381,-1.0683838168248458,0.9338553610898398,-1.031239647837061,1.3097747301664568,0.4207203875049453,-0.11839767155825544,0.3537186155026702,-1.3921761213532073,-1.3138793191773748],\"xaxis\":\"x4\",\"y\":[-1.2536704061240342,-0.31192087006827185,-2.2109845815294356,0.26098210430390356,-0.42372505561706497,-0.5191246063006844,-0.3741979168810921,0.013160070003499067,-1.3936117653916562,-0.9879887112436886,0.9978019604285551,0.20408777022973887,-0.3751686712106355,0.14714190067587132,0.7097405973098823,-0.5980386770941455,-0.8580820814739449,-0.03928825662399084,2.1123756536844134,0.20988143099753984,-0.0039750860987576705,1.0837356737832347,0.25720841914284187,-0.6265295757295674,-0.8334593492338207,-0.43845976815063725,1.2182819398389937,-1.2402949889598742,-1.2071346174640567,-0.25215273236635155,-0.26222993788277515,-1.5944264482789066,-0.11603327631361181,0.3170166562461856,0.33184384567773306,0.2706533742615674,0.6886179771564876,0.33296980227084005,0.5860064727362081,-1.0790498039463736,0.036369968192229485,0.15144790493044746,-0.10393678206743479,0.8349700375535881,-1.206328193237761,0.5673265511778895,-0.06721204834887629,-0.543744658610441,-1.784873068359861,-1.5640842673613353,-1.7484510427524396,-0.9238595076773191,-0.07066518986172503,-1.2564883213487814,-1.255171782943583,-0.5693595220873484,-0.2680475201230551,-0.7370601821881222,1.4131046455732545,-0.4484711608573334,-0.03368558970719541,0.20060822572533968,-1.3006252925618582,-0.7650549164700556,-1.474269199202699,-1.9035357216209998,-0.842459505915815,-0.6450446032311398,-1.3859767495689528,0.5787535105345148,2.2955960081866325,-1.4380393667265592,0.592895059358941,0.6824300472122862,-1.978558056285446,0.6507979497194142,-0.8504019891320452,-0.23082902274044428,0.9275706159608799,-0.047095155777864835,-1.6405431622980855,-0.8744312401517957,-0.25871068506394845,0.27471500967068346,0.1946788757728365,1.4125245459008748,-0.049375511972559315,-0.10475479978240199,0.5133935150926221,-1.2223620008398135,-0.11638992089113567,-1.3023112967306605,0.30293182359718746,-1.6607840815862427,1.983670482457282,-1.0036184526149803,-1.428906436402728,1.5304130203604172,0.9133621367502792,-0.29639213224210054],\"yaxis\":\"y4\",\"type\":\"scatter\"},{\"line\":{\"color\":\"rgba(128, 128, 128, 1.0)\",\"dash\":\"solid\",\"shape\":\"linear\",\"width\":1.3},\"marker\":{\"size\":2,\"symbol\":\"circle\"},\"mode\":\"markers\",\"name\":\"b\",\"text\":\"\",\"x\":[-1.2536704061240342,-0.31192087006827185,-2.2109845815294356,0.26098210430390356,-0.42372505561706497,-0.5191246063006844,-0.3741979168810921,0.013160070003499067,-1.3936117653916562,-0.9879887112436886,0.9978019604285551,0.20408777022973887,-0.3751686712106355,0.14714190067587132,0.7097405973098823,-0.5980386770941455,-0.8580820814739449,-0.03928825662399084,2.1123756536844134,0.20988143099753984,-0.0039750860987576705,1.0837356737832347,0.25720841914284187,-0.6265295757295674,-0.8334593492338207,-0.43845976815063725,1.2182819398389937,-1.2402949889598742,-1.2071346174640567,-0.25215273236635155,-0.26222993788277515,-1.5944264482789066,-0.11603327631361181,0.3170166562461856,0.33184384567773306,0.2706533742615674,0.6886179771564876,0.33296980227084005,0.5860064727362081,-1.0790498039463736,0.036369968192229485,0.15144790493044746,-0.10393678206743479,0.8349700375535881,-1.206328193237761,0.5673265511778895,-0.06721204834887629,-0.543744658610441,-1.784873068359861,-1.5640842673613353,-1.7484510427524396,-0.9238595076773191,-0.07066518986172503,-1.2564883213487814,-1.255171782943583,-0.5693595220873484,-0.2680475201230551,-0.7370601821881222,1.4131046455732545,-0.4484711608573334,-0.03368558970719541,0.20060822572533968,-1.3006252925618582,-0.7650549164700556,-1.474269199202699,-1.9035357216209998,-0.842459505915815,-0.6450446032311398,-1.3859767495689528,0.5787535105345148,2.2955960081866325,-1.4380393667265592,0.592895059358941,0.6824300472122862,-1.978558056285446,0.6507979497194142,-0.8504019891320452,-0.23082902274044428,0.9275706159608799,-0.047095155777864835,-1.6405431622980855,-0.8744312401517957,-0.25871068506394845,0.27471500967068346,0.1946788757728365,1.4125245459008748,-0.049375511972559315,-0.10475479978240199,0.5133935150926221,-1.2223620008398135,-0.11638992089113567,-1.3023112967306605,0.30293182359718746,-1.6607840815862427,1.983670482457282,-1.0036184526149803,-1.428906436402728,1.5304130203604172,0.9133621367502792,-0.29639213224210054],\"xaxis\":\"x5\",\"y\":[-0.7172365979374294,0.1301927392996842,-1.393522266799919,0.5547087920801866,-0.5200071012122776,1.1613183698350373,-1.3529461218033918,1.3988825487452088,0.6733468125873788,1.5219448397371478,-0.7906269916573789,-0.3161501726488375,-0.41778212984503704,-0.5831677471760225,0.6023577387799757,-0.4443233853900075,0.7533047706847111,-1.3970815128632759,0.3581974945656321,0.8589985833109056,0.47592833921194794,0.23549672361459806,-0.18952266322583036,0.19974453806195278,-0.06960702398037072,-1.0086186324692388,0.9628957190504571,0.9474978795182155,0.8596145583597102,-0.4263569089417392,0.3499146348325409,0.9398534359848607,-0.6229775340336317,0.19749787601107976,-1.0991368107166477,0.13191944366896108,-0.42292656307822624,0.34519356856585565,0.514983356263597,-1.138924491691048,-1.189373130478294,0.9667822919326727,-1.150614139922435,0.42524038583700313,-0.03894968578993216,-0.13929919745961755,-0.3125569796919793,-1.4309654669216174,0.03980910697712983,-0.880089298606563,-1.1501158787075554,-1.4208883907476475,1.2273389142307352,0.7034530198234115,0.38818130211246876,0.18684137941578224,1.0825536881142404,-0.34031467699274226,-2.550099155251413,0.08468203433117498,0.44837050229530284,0.017602416217182646,-0.5201218604083405,0.654672383103486,-0.9318224461423867,-1.0800159254957447,1.544411010637449,-2.16227794297282,0.23561697608863844,-1.1278533299184488,-0.11732290592434473,-0.29730289220519107,-0.32750099938839783,0.955194867490096,-1.7596498603194104,0.7096375246310584,0.5821868144562231,-0.8746028069438861,0.9062882402006409,0.055217998884144866,-1.973828315514508,-1.004458985106134,1.7793279779693252,-0.10840911214856161,2.6867297265953103,0.91343388042321,-0.9377622323218044,-1.2570794768782148,1.6471666036145307,0.48188330904460136,-0.04052226717979435,-0.05859375010378374,1.1738796853901698,0.2795749088035469,1.0908754639387486,-1.1197331844989709,-1.2150861295185817,1.5136977245404255,0.8247996201154251,-0.24542134180675218],\"yaxis\":\"y5\",\"type\":\"scatter\"},{\"histfunc\":\"count\",\"histnorm\":\"\",\"marker\":{\"color\":\"rgba(55, 128, 191, 1.0)\",\"line\":{\"color\":\"#4D5663\",\"width\":1.3}},\"name\":\"b\",\"nbinsx\":10,\"opacity\":0.8,\"orientation\":\"v\",\"x\":[-0.7172365979374294,0.1301927392996842,-1.393522266799919,0.5547087920801866,-0.5200071012122776,1.1613183698350373,-1.3529461218033918,1.3988825487452088,0.6733468125873788,1.5219448397371478,-0.7906269916573789,-0.3161501726488375,-0.41778212984503704,-0.5831677471760225,0.6023577387799757,-0.4443233853900075,0.7533047706847111,-1.3970815128632759,0.3581974945656321,0.8589985833109056,0.47592833921194794,0.23549672361459806,-0.18952266322583036,0.19974453806195278,-0.06960702398037072,-1.0086186324692388,0.9628957190504571,0.9474978795182155,0.8596145583597102,-0.4263569089417392,0.3499146348325409,0.9398534359848607,-0.6229775340336317,0.19749787601107976,-1.0991368107166477,0.13191944366896108,-0.42292656307822624,0.34519356856585565,0.514983356263597,-1.138924491691048,-1.189373130478294,0.9667822919326727,-1.150614139922435,0.42524038583700313,-0.03894968578993216,-0.13929919745961755,-0.3125569796919793,-1.4309654669216174,0.03980910697712983,-0.880089298606563,-1.1501158787075554,-1.4208883907476475,1.2273389142307352,0.7034530198234115,0.38818130211246876,0.18684137941578224,1.0825536881142404,-0.34031467699274226,-2.550099155251413,0.08468203433117498,0.44837050229530284,0.017602416217182646,-0.5201218604083405,0.654672383103486,-0.9318224461423867,-1.0800159254957447,1.544411010637449,-2.16227794297282,0.23561697608863844,-1.1278533299184488,-0.11732290592434473,-0.29730289220519107,-0.32750099938839783,0.955194867490096,-1.7596498603194104,0.7096375246310584,0.5821868144562231,-0.8746028069438861,0.9062882402006409,0.055217998884144866,-1.973828315514508,-1.004458985106134,1.7793279779693252,-0.10840911214856161,2.6867297265953103,0.91343388042321,-0.9377622323218044,-1.2570794768782148,1.6471666036145307,0.48188330904460136,-0.04052226717979435,-0.05859375010378374,1.1738796853901698,0.2795749088035469,1.0908754639387486,-1.1197331844989709,-1.2150861295185817,1.5136977245404255,0.8247996201154251,-0.24542134180675218],\"xaxis\":\"x6\",\"yaxis\":\"y6\",\"type\":\"histogram\"},{\"line\":{\"color\":\"rgba(128, 128, 128, 1.0)\",\"dash\":\"solid\",\"shape\":\"linear\",\"width\":1.3},\"marker\":{\"size\":2,\"symbol\":\"circle\"},\"mode\":\"markers\",\"name\":\"b\",\"text\":\"\",\"x\":[-0.644862269764822,-0.30779304426494414,1.4312069827650835,-0.568106716918909,-0.05482999949921287,1.3775688864000735,0.6969010286683164,-2.2929526767754216,0.09082610904100767,0.35623333678979724,1.0512567783275675,-1.0781253734726224,0.3051893108966182,0.11398895639943217,-0.5026548935373585,1.0100767573269718,1.6045563397800657,-0.263790151377017,1.4712932996464019,-0.5026694094274891,0.07602958833205785,0.13560896282949106,-0.8585960115677611,-0.8489487219660529,-0.36949464919022484,0.03506363469734359,-1.4111291043256964,-0.47803526330092605,1.6580456931546976,-1.2211657668381346,-1.1826923102828888,2.061911162448477,0.6877747246825724,-0.13328032534468331,0.9679268063934757,-0.7051450416419223,-0.2329471343594074,0.17571764933338305,-0.9889760436217521,1.706941676259754,-0.5542973605783889,1.7299250177970487,0.5323677350937979,0.5242285866578907,-0.597385471430855,0.16728901604561539,0.4142163978691079,1.692250276833783,1.7463791730772082,-0.21986570644528575,0.19127617579273945,0.08877869680039471,0.3075071782923635,-0.6468916090946528,-1.2489633296959335,0.29376203724273914,-0.6383223712123308,2.145148067398187,-0.5937240361377595,1.974857623800908,-1.2345916699396726,-0.40231911081509003,1.151067685185213,-1.684758230947675,0.66943289859867,0.5637987734791424,1.0482474041595975,-0.712096988002522,-1.8233548549123433,0.44447113578405967,3.389577803441184,-0.9456440548848006,-0.04086647782104779,0.27759419334555296,0.21164527133327032,1.148398128752941,0.15314627067663572,-1.8038820878934234,0.9722698111484178,1.0229092134274624,0.28283095471296954,-1.5510481364175461,0.061838266966372755,0.33059494433994546,-0.4556161090862515,1.5902552853587868,-0.9607932154675821,1.0375863648405528,1.2343312552332237,-0.04409033375219025,0.5213861390488062,0.48831165178233615,-2.2380864110431213,-0.6057784263895877,1.2246095538404946,0.7780165479817372,0.549101480326388,-0.48192376559470035,0.1177121625684017,0.27941031936166405],\"xaxis\":\"x7\",\"y\":[-0.7172365979374294,0.1301927392996842,-1.393522266799919,0.5547087920801866,-0.5200071012122776,1.1613183698350373,-1.3529461218033918,1.3988825487452088,0.6733468125873788,1.5219448397371478,-0.7906269916573789,-0.3161501726488375,-0.41778212984503704,-0.5831677471760225,0.6023577387799757,-0.4443233853900075,0.7533047706847111,-1.3970815128632759,0.3581974945656321,0.8589985833109056,0.47592833921194794,0.23549672361459806,-0.18952266322583036,0.19974453806195278,-0.06960702398037072,-1.0086186324692388,0.9628957190504571,0.9474978795182155,0.8596145583597102,-0.4263569089417392,0.3499146348325409,0.9398534359848607,-0.6229775340336317,0.19749787601107976,-1.0991368107166477,0.13191944366896108,-0.42292656307822624,0.34519356856585565,0.514983356263597,-1.138924491691048,-1.189373130478294,0.9667822919326727,-1.150614139922435,0.42524038583700313,-0.03894968578993216,-0.13929919745961755,-0.3125569796919793,-1.4309654669216174,0.03980910697712983,-0.880089298606563,-1.1501158787075554,-1.4208883907476475,1.2273389142307352,0.7034530198234115,0.38818130211246876,0.18684137941578224,1.0825536881142404,-0.34031467699274226,-2.550099155251413,0.08468203433117498,0.44837050229530284,0.017602416217182646,-0.5201218604083405,0.654672383103486,-0.9318224461423867,-1.0800159254957447,1.544411010637449,-2.16227794297282,0.23561697608863844,-1.1278533299184488,-0.11732290592434473,-0.29730289220519107,-0.32750099938839783,0.955194867490096,-1.7596498603194104,0.7096375246310584,0.5821868144562231,-0.8746028069438861,0.9062882402006409,0.055217998884144866,-1.973828315514508,-1.004458985106134,1.7793279779693252,-0.10840911214856161,2.6867297265953103,0.91343388042321,-0.9377622323218044,-1.2570794768782148,1.6471666036145307,0.48188330904460136,-0.04052226717979435,-0.05859375010378374,1.1738796853901698,0.2795749088035469,1.0908754639387486,-1.1197331844989709,-1.2150861295185817,1.5136977245404255,0.8247996201154251,-0.24542134180675218],\"yaxis\":\"y7\",\"type\":\"scatter\"},{\"line\":{\"color\":\"rgba(128, 128, 128, 1.0)\",\"dash\":\"solid\",\"shape\":\"linear\",\"width\":1.3},\"marker\":{\"size\":2,\"symbol\":\"circle\"},\"mode\":\"markers\",\"name\":\"b\",\"text\":\"\",\"x\":[0.7497183605737537,-0.36957187829460453,0.05558868595169157,-1.326245374066973,0.48709573897201197,-0.04058352785552951,0.7172478305315246,1.1686461498120249,0.15582629174388662,-0.24935139025430994,1.5236235045735902,2.4621582729845315,0.17439551195791178,-0.7302229015928575,-0.07208072413731856,-0.8429801003585939,1.0588884773639018,-0.4280041278713005,-0.35651863457078803,-1.5311127200324355,-0.5645907407909591,0.905829449333737,-0.640080885178177,-0.8082682458443605,0.10455202848036407,1.898251111645053,-0.5377332031162471,-0.5180827040364145,-0.40246041657702597,-0.23120410044358786,2.888006850971286,0.8094919070078689,0.38794403172813,-1.7216833001165157,0.568176426413336,1.8919573672768957,1.0298118946879022,-0.5063878296633622,-2.685666244932097,1.1814794613153967,0.182148400494332,0.5870395371820794,-0.7551590075916406,-0.015455428501074637,-0.43217773668747894,1.749317470617879,1.7407285070776848,-0.1915199989179134,0.7721322184140336,-1.0420640493950046,-1.2620508523349931,-2.2208445357924154,-0.3132754958417208,-0.04729021895831102,-0.4710086932553789,-0.22111930592822035,-0.6450366797051841,0.4480636208184629,0.1346706197334301,0.1489804856923085,-0.28362936025387375,-1.7114546660239531,0.6640007478235729,-0.7272174881915302,0.24119566979843185,0.6820050042566222,0.13109669641631977,-1.2949030969007622,-1.050770605437413,1.651015366716756,0.8384754662912653,-1.5460206664018412,0.5183959952241453,0.11579969767816818,0.058004891068721094,-0.5684793809625174,-0.16142445243376213,-0.2066414523185034,-0.5962630480602175,0.20797001029890144,-0.8148988463933333,-1.2426282974685001,-0.47710924613388633,-0.33075195323778883,0.357857525991513,0.03411888325736434,-1.1117034719288414,3.464326284094295,1.5977825629997318,1.5241586370429179,-0.9059344027985381,-1.0683838168248458,0.9338553610898398,-1.031239647837061,1.3097747301664568,0.4207203875049453,-0.11839767155825544,0.3537186155026702,-1.3921761213532073,-1.3138793191773748],\"xaxis\":\"x8\",\"y\":[-0.7172365979374294,0.1301927392996842,-1.393522266799919,0.5547087920801866,-0.5200071012122776,1.1613183698350373,-1.3529461218033918,1.3988825487452088,0.6733468125873788,1.5219448397371478,-0.7906269916573789,-0.3161501726488375,-0.41778212984503704,-0.5831677471760225,0.6023577387799757,-0.4443233853900075,0.7533047706847111,-1.3970815128632759,0.3581974945656321,0.8589985833109056,0.47592833921194794,0.23549672361459806,-0.18952266322583036,0.19974453806195278,-0.06960702398037072,-1.0086186324692388,0.9628957190504571,0.9474978795182155,0.8596145583597102,-0.4263569089417392,0.3499146348325409,0.9398534359848607,-0.6229775340336317,0.19749787601107976,-1.0991368107166477,0.13191944366896108,-0.42292656307822624,0.34519356856585565,0.514983356263597,-1.138924491691048,-1.189373130478294,0.9667822919326727,-1.150614139922435,0.42524038583700313,-0.03894968578993216,-0.13929919745961755,-0.3125569796919793,-1.4309654669216174,0.03980910697712983,-0.880089298606563,-1.1501158787075554,-1.4208883907476475,1.2273389142307352,0.7034530198234115,0.38818130211246876,0.18684137941578224,1.0825536881142404,-0.34031467699274226,-2.550099155251413,0.08468203433117498,0.44837050229530284,0.017602416217182646,-0.5201218604083405,0.654672383103486,-0.9318224461423867,-1.0800159254957447,1.544411010637449,-2.16227794297282,0.23561697608863844,-1.1278533299184488,-0.11732290592434473,-0.29730289220519107,-0.32750099938839783,0.955194867490096,-1.7596498603194104,0.7096375246310584,0.5821868144562231,-0.8746028069438861,0.9062882402006409,0.055217998884144866,-1.973828315514508,-1.004458985106134,1.7793279779693252,-0.10840911214856161,2.6867297265953103,0.91343388042321,-0.9377622323218044,-1.2570794768782148,1.6471666036145307,0.48188330904460136,-0.04052226717979435,-0.05859375010378374,1.1738796853901698,0.2795749088035469,1.0908754639387486,-1.1197331844989709,-1.2150861295185817,1.5136977245404255,0.8247996201154251,-0.24542134180675218],\"yaxis\":\"y8\",\"type\":\"scatter\"},{\"line\":{\"color\":\"rgba(128, 128, 128, 1.0)\",\"dash\":\"solid\",\"shape\":\"linear\",\"width\":1.3},\"marker\":{\"size\":2,\"symbol\":\"circle\"},\"mode\":\"markers\",\"name\":\"c\",\"text\":\"\",\"x\":[-1.2536704061240342,-0.31192087006827185,-2.2109845815294356,0.26098210430390356,-0.42372505561706497,-0.5191246063006844,-0.3741979168810921,0.013160070003499067,-1.3936117653916562,-0.9879887112436886,0.9978019604285551,0.20408777022973887,-0.3751686712106355,0.14714190067587132,0.7097405973098823,-0.5980386770941455,-0.8580820814739449,-0.03928825662399084,2.1123756536844134,0.20988143099753984,-0.0039750860987576705,1.0837356737832347,0.25720841914284187,-0.6265295757295674,-0.8334593492338207,-0.43845976815063725,1.2182819398389937,-1.2402949889598742,-1.2071346174640567,-0.25215273236635155,-0.26222993788277515,-1.5944264482789066,-0.11603327631361181,0.3170166562461856,0.33184384567773306,0.2706533742615674,0.6886179771564876,0.33296980227084005,0.5860064727362081,-1.0790498039463736,0.036369968192229485,0.15144790493044746,-0.10393678206743479,0.8349700375535881,-1.206328193237761,0.5673265511778895,-0.06721204834887629,-0.543744658610441,-1.784873068359861,-1.5640842673613353,-1.7484510427524396,-0.9238595076773191,-0.07066518986172503,-1.2564883213487814,-1.255171782943583,-0.5693595220873484,-0.2680475201230551,-0.7370601821881222,1.4131046455732545,-0.4484711608573334,-0.03368558970719541,0.20060822572533968,-1.3006252925618582,-0.7650549164700556,-1.474269199202699,-1.9035357216209998,-0.842459505915815,-0.6450446032311398,-1.3859767495689528,0.5787535105345148,2.2955960081866325,-1.4380393667265592,0.592895059358941,0.6824300472122862,-1.978558056285446,0.6507979497194142,-0.8504019891320452,-0.23082902274044428,0.9275706159608799,-0.047095155777864835,-1.6405431622980855,-0.8744312401517957,-0.25871068506394845,0.27471500967068346,0.1946788757728365,1.4125245459008748,-0.049375511972559315,-0.10475479978240199,0.5133935150926221,-1.2223620008398135,-0.11638992089113567,-1.3023112967306605,0.30293182359718746,-1.6607840815862427,1.983670482457282,-1.0036184526149803,-1.428906436402728,1.5304130203604172,0.9133621367502792,-0.29639213224210054],\"xaxis\":\"x9\",\"y\":[-0.644862269764822,-0.30779304426494414,1.4312069827650835,-0.568106716918909,-0.05482999949921287,1.3775688864000735,0.6969010286683164,-2.2929526767754216,0.09082610904100767,0.35623333678979724,1.0512567783275675,-1.0781253734726224,0.3051893108966182,0.11398895639943217,-0.5026548935373585,1.0100767573269718,1.6045563397800657,-0.263790151377017,1.4712932996464019,-0.5026694094274891,0.07602958833205785,0.13560896282949106,-0.8585960115677611,-0.8489487219660529,-0.36949464919022484,0.03506363469734359,-1.4111291043256964,-0.47803526330092605,1.6580456931546976,-1.2211657668381346,-1.1826923102828888,2.061911162448477,0.6877747246825724,-0.13328032534468331,0.9679268063934757,-0.7051450416419223,-0.2329471343594074,0.17571764933338305,-0.9889760436217521,1.706941676259754,-0.5542973605783889,1.7299250177970487,0.5323677350937979,0.5242285866578907,-0.597385471430855,0.16728901604561539,0.4142163978691079,1.692250276833783,1.7463791730772082,-0.21986570644528575,0.19127617579273945,0.08877869680039471,0.3075071782923635,-0.6468916090946528,-1.2489633296959335,0.29376203724273914,-0.6383223712123308,2.145148067398187,-0.5937240361377595,1.974857623800908,-1.2345916699396726,-0.40231911081509003,1.151067685185213,-1.684758230947675,0.66943289859867,0.5637987734791424,1.0482474041595975,-0.712096988002522,-1.8233548549123433,0.44447113578405967,3.389577803441184,-0.9456440548848006,-0.04086647782104779,0.27759419334555296,0.21164527133327032,1.148398128752941,0.15314627067663572,-1.8038820878934234,0.9722698111484178,1.0229092134274624,0.28283095471296954,-1.5510481364175461,0.061838266966372755,0.33059494433994546,-0.4556161090862515,1.5902552853587868,-0.9607932154675821,1.0375863648405528,1.2343312552332237,-0.04409033375219025,0.5213861390488062,0.48831165178233615,-2.2380864110431213,-0.6057784263895877,1.2246095538404946,0.7780165479817372,0.549101480326388,-0.48192376559470035,0.1177121625684017,0.27941031936166405],\"yaxis\":\"y9\",\"type\":\"scatter\"},{\"line\":{\"color\":\"rgba(128, 128, 128, 1.0)\",\"dash\":\"solid\",\"shape\":\"linear\",\"width\":1.3},\"marker\":{\"size\":2,\"symbol\":\"circle\"},\"mode\":\"markers\",\"name\":\"c\",\"text\":\"\",\"x\":[-0.7172365979374294,0.1301927392996842,-1.393522266799919,0.5547087920801866,-0.5200071012122776,1.1613183698350373,-1.3529461218033918,1.3988825487452088,0.6733468125873788,1.5219448397371478,-0.7906269916573789,-0.3161501726488375,-0.41778212984503704,-0.5831677471760225,0.6023577387799757,-0.4443233853900075,0.7533047706847111,-1.3970815128632759,0.3581974945656321,0.8589985833109056,0.47592833921194794,0.23549672361459806,-0.18952266322583036,0.19974453806195278,-0.06960702398037072,-1.0086186324692388,0.9628957190504571,0.9474978795182155,0.8596145583597102,-0.4263569089417392,0.3499146348325409,0.9398534359848607,-0.6229775340336317,0.19749787601107976,-1.0991368107166477,0.13191944366896108,-0.42292656307822624,0.34519356856585565,0.514983356263597,-1.138924491691048,-1.189373130478294,0.9667822919326727,-1.150614139922435,0.42524038583700313,-0.03894968578993216,-0.13929919745961755,-0.3125569796919793,-1.4309654669216174,0.03980910697712983,-0.880089298606563,-1.1501158787075554,-1.4208883907476475,1.2273389142307352,0.7034530198234115,0.38818130211246876,0.18684137941578224,1.0825536881142404,-0.34031467699274226,-2.550099155251413,0.08468203433117498,0.44837050229530284,0.017602416217182646,-0.5201218604083405,0.654672383103486,-0.9318224461423867,-1.0800159254957447,1.544411010637449,-2.16227794297282,0.23561697608863844,-1.1278533299184488,-0.11732290592434473,-0.29730289220519107,-0.32750099938839783,0.955194867490096,-1.7596498603194104,0.7096375246310584,0.5821868144562231,-0.8746028069438861,0.9062882402006409,0.055217998884144866,-1.973828315514508,-1.004458985106134,1.7793279779693252,-0.10840911214856161,2.6867297265953103,0.91343388042321,-0.9377622323218044,-1.2570794768782148,1.6471666036145307,0.48188330904460136,-0.04052226717979435,-0.05859375010378374,1.1738796853901698,0.2795749088035469,1.0908754639387486,-1.1197331844989709,-1.2150861295185817,1.5136977245404255,0.8247996201154251,-0.24542134180675218],\"xaxis\":\"x10\",\"y\":[-0.644862269764822,-0.30779304426494414,1.4312069827650835,-0.568106716918909,-0.05482999949921287,1.3775688864000735,0.6969010286683164,-2.2929526767754216,0.09082610904100767,0.35623333678979724,1.0512567783275675,-1.0781253734726224,0.3051893108966182,0.11398895639943217,-0.5026548935373585,1.0100767573269718,1.6045563397800657,-0.263790151377017,1.4712932996464019,-0.5026694094274891,0.07602958833205785,0.13560896282949106,-0.8585960115677611,-0.8489487219660529,-0.36949464919022484,0.03506363469734359,-1.4111291043256964,-0.47803526330092605,1.6580456931546976,-1.2211657668381346,-1.1826923102828888,2.061911162448477,0.6877747246825724,-0.13328032534468331,0.9679268063934757,-0.7051450416419223,-0.2329471343594074,0.17571764933338305,-0.9889760436217521,1.706941676259754,-0.5542973605783889,1.7299250177970487,0.5323677350937979,0.5242285866578907,-0.597385471430855,0.16728901604561539,0.4142163978691079,1.692250276833783,1.7463791730772082,-0.21986570644528575,0.19127617579273945,0.08877869680039471,0.3075071782923635,-0.6468916090946528,-1.2489633296959335,0.29376203724273914,-0.6383223712123308,2.145148067398187,-0.5937240361377595,1.974857623800908,-1.2345916699396726,-0.40231911081509003,1.151067685185213,-1.684758230947675,0.66943289859867,0.5637987734791424,1.0482474041595975,-0.712096988002522,-1.8233548549123433,0.44447113578405967,3.389577803441184,-0.9456440548848006,-0.04086647782104779,0.27759419334555296,0.21164527133327032,1.148398128752941,0.15314627067663572,-1.8038820878934234,0.9722698111484178,1.0229092134274624,0.28283095471296954,-1.5510481364175461,0.061838266966372755,0.33059494433994546,-0.4556161090862515,1.5902552853587868,-0.9607932154675821,1.0375863648405528,1.2343312552332237,-0.04409033375219025,0.5213861390488062,0.48831165178233615,-2.2380864110431213,-0.6057784263895877,1.2246095538404946,0.7780165479817372,0.549101480326388,-0.48192376559470035,0.1177121625684017,0.27941031936166405],\"yaxis\":\"y10\",\"type\":\"scatter\"},{\"histfunc\":\"count\",\"histnorm\":\"\",\"marker\":{\"color\":\"rgba(50, 171, 96, 1.0)\",\"line\":{\"color\":\"#4D5663\",\"width\":1.3}},\"name\":\"c\",\"nbinsx\":10,\"opacity\":0.8,\"orientation\":\"v\",\"x\":[-0.644862269764822,-0.30779304426494414,1.4312069827650835,-0.568106716918909,-0.05482999949921287,1.3775688864000735,0.6969010286683164,-2.2929526767754216,0.09082610904100767,0.35623333678979724,1.0512567783275675,-1.0781253734726224,0.3051893108966182,0.11398895639943217,-0.5026548935373585,1.0100767573269718,1.6045563397800657,-0.263790151377017,1.4712932996464019,-0.5026694094274891,0.07602958833205785,0.13560896282949106,-0.8585960115677611,-0.8489487219660529,-0.36949464919022484,0.03506363469734359,-1.4111291043256964,-0.47803526330092605,1.6580456931546976,-1.2211657668381346,-1.1826923102828888,2.061911162448477,0.6877747246825724,-0.13328032534468331,0.9679268063934757,-0.7051450416419223,-0.2329471343594074,0.17571764933338305,-0.9889760436217521,1.706941676259754,-0.5542973605783889,1.7299250177970487,0.5323677350937979,0.5242285866578907,-0.597385471430855,0.16728901604561539,0.4142163978691079,1.692250276833783,1.7463791730772082,-0.21986570644528575,0.19127617579273945,0.08877869680039471,0.3075071782923635,-0.6468916090946528,-1.2489633296959335,0.29376203724273914,-0.6383223712123308,2.145148067398187,-0.5937240361377595,1.974857623800908,-1.2345916699396726,-0.40231911081509003,1.151067685185213,-1.684758230947675,0.66943289859867,0.5637987734791424,1.0482474041595975,-0.712096988002522,-1.8233548549123433,0.44447113578405967,3.389577803441184,-0.9456440548848006,-0.04086647782104779,0.27759419334555296,0.21164527133327032,1.148398128752941,0.15314627067663572,-1.8038820878934234,0.9722698111484178,1.0229092134274624,0.28283095471296954,-1.5510481364175461,0.061838266966372755,0.33059494433994546,-0.4556161090862515,1.5902552853587868,-0.9607932154675821,1.0375863648405528,1.2343312552332237,-0.04409033375219025,0.5213861390488062,0.48831165178233615,-2.2380864110431213,-0.6057784263895877,1.2246095538404946,0.7780165479817372,0.549101480326388,-0.48192376559470035,0.1177121625684017,0.27941031936166405],\"xaxis\":\"x11\",\"yaxis\":\"y11\",\"type\":\"histogram\"},{\"line\":{\"color\":\"rgba(128, 128, 128, 1.0)\",\"dash\":\"solid\",\"shape\":\"linear\",\"width\":1.3},\"marker\":{\"size\":2,\"symbol\":\"circle\"},\"mode\":\"markers\",\"name\":\"c\",\"text\":\"\",\"x\":[0.7497183605737537,-0.36957187829460453,0.05558868595169157,-1.326245374066973,0.48709573897201197,-0.04058352785552951,0.7172478305315246,1.1686461498120249,0.15582629174388662,-0.24935139025430994,1.5236235045735902,2.4621582729845315,0.17439551195791178,-0.7302229015928575,-0.07208072413731856,-0.8429801003585939,1.0588884773639018,-0.4280041278713005,-0.35651863457078803,-1.5311127200324355,-0.5645907407909591,0.905829449333737,-0.640080885178177,-0.8082682458443605,0.10455202848036407,1.898251111645053,-0.5377332031162471,-0.5180827040364145,-0.40246041657702597,-0.23120410044358786,2.888006850971286,0.8094919070078689,0.38794403172813,-1.7216833001165157,0.568176426413336,1.8919573672768957,1.0298118946879022,-0.5063878296633622,-2.685666244932097,1.1814794613153967,0.182148400494332,0.5870395371820794,-0.7551590075916406,-0.015455428501074637,-0.43217773668747894,1.749317470617879,1.7407285070776848,-0.1915199989179134,0.7721322184140336,-1.0420640493950046,-1.2620508523349931,-2.2208445357924154,-0.3132754958417208,-0.04729021895831102,-0.4710086932553789,-0.22111930592822035,-0.6450366797051841,0.4480636208184629,0.1346706197334301,0.1489804856923085,-0.28362936025387375,-1.7114546660239531,0.6640007478235729,-0.7272174881915302,0.24119566979843185,0.6820050042566222,0.13109669641631977,-1.2949030969007622,-1.050770605437413,1.651015366716756,0.8384754662912653,-1.5460206664018412,0.5183959952241453,0.11579969767816818,0.058004891068721094,-0.5684793809625174,-0.16142445243376213,-0.2066414523185034,-0.5962630480602175,0.20797001029890144,-0.8148988463933333,-1.2426282974685001,-0.47710924613388633,-0.33075195323778883,0.357857525991513,0.03411888325736434,-1.1117034719288414,3.464326284094295,1.5977825629997318,1.5241586370429179,-0.9059344027985381,-1.0683838168248458,0.9338553610898398,-1.031239647837061,1.3097747301664568,0.4207203875049453,-0.11839767155825544,0.3537186155026702,-1.3921761213532073,-1.3138793191773748],\"xaxis\":\"x12\",\"y\":[-0.644862269764822,-0.30779304426494414,1.4312069827650835,-0.568106716918909,-0.05482999949921287,1.3775688864000735,0.6969010286683164,-2.2929526767754216,0.09082610904100767,0.35623333678979724,1.0512567783275675,-1.0781253734726224,0.3051893108966182,0.11398895639943217,-0.5026548935373585,1.0100767573269718,1.6045563397800657,-0.263790151377017,1.4712932996464019,-0.5026694094274891,0.07602958833205785,0.13560896282949106,-0.8585960115677611,-0.8489487219660529,-0.36949464919022484,0.03506363469734359,-1.4111291043256964,-0.47803526330092605,1.6580456931546976,-1.2211657668381346,-1.1826923102828888,2.061911162448477,0.6877747246825724,-0.13328032534468331,0.9679268063934757,-0.7051450416419223,-0.2329471343594074,0.17571764933338305,-0.9889760436217521,1.706941676259754,-0.5542973605783889,1.7299250177970487,0.5323677350937979,0.5242285866578907,-0.597385471430855,0.16728901604561539,0.4142163978691079,1.692250276833783,1.7463791730772082,-0.21986570644528575,0.19127617579273945,0.08877869680039471,0.3075071782923635,-0.6468916090946528,-1.2489633296959335,0.29376203724273914,-0.6383223712123308,2.145148067398187,-0.5937240361377595,1.974857623800908,-1.2345916699396726,-0.40231911081509003,1.151067685185213,-1.684758230947675,0.66943289859867,0.5637987734791424,1.0482474041595975,-0.712096988002522,-1.8233548549123433,0.44447113578405967,3.389577803441184,-0.9456440548848006,-0.04086647782104779,0.27759419334555296,0.21164527133327032,1.148398128752941,0.15314627067663572,-1.8038820878934234,0.9722698111484178,1.0229092134274624,0.28283095471296954,-1.5510481364175461,0.061838266966372755,0.33059494433994546,-0.4556161090862515,1.5902552853587868,-0.9607932154675821,1.0375863648405528,1.2343312552332237,-0.04409033375219025,0.5213861390488062,0.48831165178233615,-2.2380864110431213,-0.6057784263895877,1.2246095538404946,0.7780165479817372,0.549101480326388,-0.48192376559470035,0.1177121625684017,0.27941031936166405],\"yaxis\":\"y12\",\"type\":\"scatter\"},{\"line\":{\"color\":\"rgba(128, 128, 128, 1.0)\",\"dash\":\"solid\",\"shape\":\"linear\",\"width\":1.3},\"marker\":{\"size\":2,\"symbol\":\"circle\"},\"mode\":\"markers\",\"name\":\"d\",\"text\":\"\",\"x\":[-1.2536704061240342,-0.31192087006827185,-2.2109845815294356,0.26098210430390356,-0.42372505561706497,-0.5191246063006844,-0.3741979168810921,0.013160070003499067,-1.3936117653916562,-0.9879887112436886,0.9978019604285551,0.20408777022973887,-0.3751686712106355,0.14714190067587132,0.7097405973098823,-0.5980386770941455,-0.8580820814739449,-0.03928825662399084,2.1123756536844134,0.20988143099753984,-0.0039750860987576705,1.0837356737832347,0.25720841914284187,-0.6265295757295674,-0.8334593492338207,-0.43845976815063725,1.2182819398389937,-1.2402949889598742,-1.2071346174640567,-0.25215273236635155,-0.26222993788277515,-1.5944264482789066,-0.11603327631361181,0.3170166562461856,0.33184384567773306,0.2706533742615674,0.6886179771564876,0.33296980227084005,0.5860064727362081,-1.0790498039463736,0.036369968192229485,0.15144790493044746,-0.10393678206743479,0.8349700375535881,-1.206328193237761,0.5673265511778895,-0.06721204834887629,-0.543744658610441,-1.784873068359861,-1.5640842673613353,-1.7484510427524396,-0.9238595076773191,-0.07066518986172503,-1.2564883213487814,-1.255171782943583,-0.5693595220873484,-0.2680475201230551,-0.7370601821881222,1.4131046455732545,-0.4484711608573334,-0.03368558970719541,0.20060822572533968,-1.3006252925618582,-0.7650549164700556,-1.474269199202699,-1.9035357216209998,-0.842459505915815,-0.6450446032311398,-1.3859767495689528,0.5787535105345148,2.2955960081866325,-1.4380393667265592,0.592895059358941,0.6824300472122862,-1.978558056285446,0.6507979497194142,-0.8504019891320452,-0.23082902274044428,0.9275706159608799,-0.047095155777864835,-1.6405431622980855,-0.8744312401517957,-0.25871068506394845,0.27471500967068346,0.1946788757728365,1.4125245459008748,-0.049375511972559315,-0.10475479978240199,0.5133935150926221,-1.2223620008398135,-0.11638992089113567,-1.3023112967306605,0.30293182359718746,-1.6607840815862427,1.983670482457282,-1.0036184526149803,-1.428906436402728,1.5304130203604172,0.9133621367502792,-0.29639213224210054],\"xaxis\":\"x13\",\"y\":[0.7497183605737537,-0.36957187829460453,0.05558868595169157,-1.326245374066973,0.48709573897201197,-0.04058352785552951,0.7172478305315246,1.1686461498120249,0.15582629174388662,-0.24935139025430994,1.5236235045735902,2.4621582729845315,0.17439551195791178,-0.7302229015928575,-0.07208072413731856,-0.8429801003585939,1.0588884773639018,-0.4280041278713005,-0.35651863457078803,-1.5311127200324355,-0.5645907407909591,0.905829449333737,-0.640080885178177,-0.8082682458443605,0.10455202848036407,1.898251111645053,-0.5377332031162471,-0.5180827040364145,-0.40246041657702597,-0.23120410044358786,2.888006850971286,0.8094919070078689,0.38794403172813,-1.7216833001165157,0.568176426413336,1.8919573672768957,1.0298118946879022,-0.5063878296633622,-2.685666244932097,1.1814794613153967,0.182148400494332,0.5870395371820794,-0.7551590075916406,-0.015455428501074637,-0.43217773668747894,1.749317470617879,1.7407285070776848,-0.1915199989179134,0.7721322184140336,-1.0420640493950046,-1.2620508523349931,-2.2208445357924154,-0.3132754958417208,-0.04729021895831102,-0.4710086932553789,-0.22111930592822035,-0.6450366797051841,0.4480636208184629,0.1346706197334301,0.1489804856923085,-0.28362936025387375,-1.7114546660239531,0.6640007478235729,-0.7272174881915302,0.24119566979843185,0.6820050042566222,0.13109669641631977,-1.2949030969007622,-1.050770605437413,1.651015366716756,0.8384754662912653,-1.5460206664018412,0.5183959952241453,0.11579969767816818,0.058004891068721094,-0.5684793809625174,-0.16142445243376213,-0.2066414523185034,-0.5962630480602175,0.20797001029890144,-0.8148988463933333,-1.2426282974685001,-0.47710924613388633,-0.33075195323778883,0.357857525991513,0.03411888325736434,-1.1117034719288414,3.464326284094295,1.5977825629997318,1.5241586370429179,-0.9059344027985381,-1.0683838168248458,0.9338553610898398,-1.031239647837061,1.3097747301664568,0.4207203875049453,-0.11839767155825544,0.3537186155026702,-1.3921761213532073,-1.3138793191773748],\"yaxis\":\"y13\",\"type\":\"scatter\"},{\"line\":{\"color\":\"rgba(128, 128, 128, 1.0)\",\"dash\":\"solid\",\"shape\":\"linear\",\"width\":1.3},\"marker\":{\"size\":2,\"symbol\":\"circle\"},\"mode\":\"markers\",\"name\":\"d\",\"text\":\"\",\"x\":[-0.7172365979374294,0.1301927392996842,-1.393522266799919,0.5547087920801866,-0.5200071012122776,1.1613183698350373,-1.3529461218033918,1.3988825487452088,0.6733468125873788,1.5219448397371478,-0.7906269916573789,-0.3161501726488375,-0.41778212984503704,-0.5831677471760225,0.6023577387799757,-0.4443233853900075,0.7533047706847111,-1.3970815128632759,0.3581974945656321,0.8589985833109056,0.47592833921194794,0.23549672361459806,-0.18952266322583036,0.19974453806195278,-0.06960702398037072,-1.0086186324692388,0.9628957190504571,0.9474978795182155,0.8596145583597102,-0.4263569089417392,0.3499146348325409,0.9398534359848607,-0.6229775340336317,0.19749787601107976,-1.0991368107166477,0.13191944366896108,-0.42292656307822624,0.34519356856585565,0.514983356263597,-1.138924491691048,-1.189373130478294,0.9667822919326727,-1.150614139922435,0.42524038583700313,-0.03894968578993216,-0.13929919745961755,-0.3125569796919793,-1.4309654669216174,0.03980910697712983,-0.880089298606563,-1.1501158787075554,-1.4208883907476475,1.2273389142307352,0.7034530198234115,0.38818130211246876,0.18684137941578224,1.0825536881142404,-0.34031467699274226,-2.550099155251413,0.08468203433117498,0.44837050229530284,0.017602416217182646,-0.5201218604083405,0.654672383103486,-0.9318224461423867,-1.0800159254957447,1.544411010637449,-2.16227794297282,0.23561697608863844,-1.1278533299184488,-0.11732290592434473,-0.29730289220519107,-0.32750099938839783,0.955194867490096,-1.7596498603194104,0.7096375246310584,0.5821868144562231,-0.8746028069438861,0.9062882402006409,0.055217998884144866,-1.973828315514508,-1.004458985106134,1.7793279779693252,-0.10840911214856161,2.6867297265953103,0.91343388042321,-0.9377622323218044,-1.2570794768782148,1.6471666036145307,0.48188330904460136,-0.04052226717979435,-0.05859375010378374,1.1738796853901698,0.2795749088035469,1.0908754639387486,-1.1197331844989709,-1.2150861295185817,1.5136977245404255,0.8247996201154251,-0.24542134180675218],\"xaxis\":\"x14\",\"y\":[0.7497183605737537,-0.36957187829460453,0.05558868595169157,-1.326245374066973,0.48709573897201197,-0.04058352785552951,0.7172478305315246,1.1686461498120249,0.15582629174388662,-0.24935139025430994,1.5236235045735902,2.4621582729845315,0.17439551195791178,-0.7302229015928575,-0.07208072413731856,-0.8429801003585939,1.0588884773639018,-0.4280041278713005,-0.35651863457078803,-1.5311127200324355,-0.5645907407909591,0.905829449333737,-0.640080885178177,-0.8082682458443605,0.10455202848036407,1.898251111645053,-0.5377332031162471,-0.5180827040364145,-0.40246041657702597,-0.23120410044358786,2.888006850971286,0.8094919070078689,0.38794403172813,-1.7216833001165157,0.568176426413336,1.8919573672768957,1.0298118946879022,-0.5063878296633622,-2.685666244932097,1.1814794613153967,0.182148400494332,0.5870395371820794,-0.7551590075916406,-0.015455428501074637,-0.43217773668747894,1.749317470617879,1.7407285070776848,-0.1915199989179134,0.7721322184140336,-1.0420640493950046,-1.2620508523349931,-2.2208445357924154,-0.3132754958417208,-0.04729021895831102,-0.4710086932553789,-0.22111930592822035,-0.6450366797051841,0.4480636208184629,0.1346706197334301,0.1489804856923085,-0.28362936025387375,-1.7114546660239531,0.6640007478235729,-0.7272174881915302,0.24119566979843185,0.6820050042566222,0.13109669641631977,-1.2949030969007622,-1.050770605437413,1.651015366716756,0.8384754662912653,-1.5460206664018412,0.5183959952241453,0.11579969767816818,0.058004891068721094,-0.5684793809625174,-0.16142445243376213,-0.2066414523185034,-0.5962630480602175,0.20797001029890144,-0.8148988463933333,-1.2426282974685001,-0.47710924613388633,-0.33075195323778883,0.357857525991513,0.03411888325736434,-1.1117034719288414,3.464326284094295,1.5977825629997318,1.5241586370429179,-0.9059344027985381,-1.0683838168248458,0.9338553610898398,-1.031239647837061,1.3097747301664568,0.4207203875049453,-0.11839767155825544,0.3537186155026702,-1.3921761213532073,-1.3138793191773748],\"yaxis\":\"y14\",\"type\":\"scatter\"},{\"line\":{\"color\":\"rgba(128, 128, 128, 1.0)\",\"dash\":\"solid\",\"shape\":\"linear\",\"width\":1.3},\"marker\":{\"size\":2,\"symbol\":\"circle\"},\"mode\":\"markers\",\"name\":\"d\",\"text\":\"\",\"x\":[-0.644862269764822,-0.30779304426494414,1.4312069827650835,-0.568106716918909,-0.05482999949921287,1.3775688864000735,0.6969010286683164,-2.2929526767754216,0.09082610904100767,0.35623333678979724,1.0512567783275675,-1.0781253734726224,0.3051893108966182,0.11398895639943217,-0.5026548935373585,1.0100767573269718,1.6045563397800657,-0.263790151377017,1.4712932996464019,-0.5026694094274891,0.07602958833205785,0.13560896282949106,-0.8585960115677611,-0.8489487219660529,-0.36949464919022484,0.03506363469734359,-1.4111291043256964,-0.47803526330092605,1.6580456931546976,-1.2211657668381346,-1.1826923102828888,2.061911162448477,0.6877747246825724,-0.13328032534468331,0.9679268063934757,-0.7051450416419223,-0.2329471343594074,0.17571764933338305,-0.9889760436217521,1.706941676259754,-0.5542973605783889,1.7299250177970487,0.5323677350937979,0.5242285866578907,-0.597385471430855,0.16728901604561539,0.4142163978691079,1.692250276833783,1.7463791730772082,-0.21986570644528575,0.19127617579273945,0.08877869680039471,0.3075071782923635,-0.6468916090946528,-1.2489633296959335,0.29376203724273914,-0.6383223712123308,2.145148067398187,-0.5937240361377595,1.974857623800908,-1.2345916699396726,-0.40231911081509003,1.151067685185213,-1.684758230947675,0.66943289859867,0.5637987734791424,1.0482474041595975,-0.712096988002522,-1.8233548549123433,0.44447113578405967,3.389577803441184,-0.9456440548848006,-0.04086647782104779,0.27759419334555296,0.21164527133327032,1.148398128752941,0.15314627067663572,-1.8038820878934234,0.9722698111484178,1.0229092134274624,0.28283095471296954,-1.5510481364175461,0.061838266966372755,0.33059494433994546,-0.4556161090862515,1.5902552853587868,-0.9607932154675821,1.0375863648405528,1.2343312552332237,-0.04409033375219025,0.5213861390488062,0.48831165178233615,-2.2380864110431213,-0.6057784263895877,1.2246095538404946,0.7780165479817372,0.549101480326388,-0.48192376559470035,0.1177121625684017,0.27941031936166405],\"xaxis\":\"x15\",\"y\":[0.7497183605737537,-0.36957187829460453,0.05558868595169157,-1.326245374066973,0.48709573897201197,-0.04058352785552951,0.7172478305315246,1.1686461498120249,0.15582629174388662,-0.24935139025430994,1.5236235045735902,2.4621582729845315,0.17439551195791178,-0.7302229015928575,-0.07208072413731856,-0.8429801003585939,1.0588884773639018,-0.4280041278713005,-0.35651863457078803,-1.5311127200324355,-0.5645907407909591,0.905829449333737,-0.640080885178177,-0.8082682458443605,0.10455202848036407,1.898251111645053,-0.5377332031162471,-0.5180827040364145,-0.40246041657702597,-0.23120410044358786,2.888006850971286,0.8094919070078689,0.38794403172813,-1.7216833001165157,0.568176426413336,1.8919573672768957,1.0298118946879022,-0.5063878296633622,-2.685666244932097,1.1814794613153967,0.182148400494332,0.5870395371820794,-0.7551590075916406,-0.015455428501074637,-0.43217773668747894,1.749317470617879,1.7407285070776848,-0.1915199989179134,0.7721322184140336,-1.0420640493950046,-1.2620508523349931,-2.2208445357924154,-0.3132754958417208,-0.04729021895831102,-0.4710086932553789,-0.22111930592822035,-0.6450366797051841,0.4480636208184629,0.1346706197334301,0.1489804856923085,-0.28362936025387375,-1.7114546660239531,0.6640007478235729,-0.7272174881915302,0.24119566979843185,0.6820050042566222,0.13109669641631977,-1.2949030969007622,-1.050770605437413,1.651015366716756,0.8384754662912653,-1.5460206664018412,0.5183959952241453,0.11579969767816818,0.058004891068721094,-0.5684793809625174,-0.16142445243376213,-0.2066414523185034,-0.5962630480602175,0.20797001029890144,-0.8148988463933333,-1.2426282974685001,-0.47710924613388633,-0.33075195323778883,0.357857525991513,0.03411888325736434,-1.1117034719288414,3.464326284094295,1.5977825629997318,1.5241586370429179,-0.9059344027985381,-1.0683838168248458,0.9338553610898398,-1.031239647837061,1.3097747301664568,0.4207203875049453,-0.11839767155825544,0.3537186155026702,-1.3921761213532073,-1.3138793191773748],\"yaxis\":\"y15\",\"type\":\"scatter\"},{\"histfunc\":\"count\",\"histnorm\":\"\",\"marker\":{\"color\":\"rgba(128, 0, 128, 1.0)\",\"line\":{\"color\":\"#4D5663\",\"width\":1.3}},\"name\":\"d\",\"nbinsx\":10,\"opacity\":0.8,\"orientation\":\"v\",\"x\":[0.7497183605737537,-0.36957187829460453,0.05558868595169157,-1.326245374066973,0.48709573897201197,-0.04058352785552951,0.7172478305315246,1.1686461498120249,0.15582629174388662,-0.24935139025430994,1.5236235045735902,2.4621582729845315,0.17439551195791178,-0.7302229015928575,-0.07208072413731856,-0.8429801003585939,1.0588884773639018,-0.4280041278713005,-0.35651863457078803,-1.5311127200324355,-0.5645907407909591,0.905829449333737,-0.640080885178177,-0.8082682458443605,0.10455202848036407,1.898251111645053,-0.5377332031162471,-0.5180827040364145,-0.40246041657702597,-0.23120410044358786,2.888006850971286,0.8094919070078689,0.38794403172813,-1.7216833001165157,0.568176426413336,1.8919573672768957,1.0298118946879022,-0.5063878296633622,-2.685666244932097,1.1814794613153967,0.182148400494332,0.5870395371820794,-0.7551590075916406,-0.015455428501074637,-0.43217773668747894,1.749317470617879,1.7407285070776848,-0.1915199989179134,0.7721322184140336,-1.0420640493950046,-1.2620508523349931,-2.2208445357924154,-0.3132754958417208,-0.04729021895831102,-0.4710086932553789,-0.22111930592822035,-0.6450366797051841,0.4480636208184629,0.1346706197334301,0.1489804856923085,-0.28362936025387375,-1.7114546660239531,0.6640007478235729,-0.7272174881915302,0.24119566979843185,0.6820050042566222,0.13109669641631977,-1.2949030969007622,-1.050770605437413,1.651015366716756,0.8384754662912653,-1.5460206664018412,0.5183959952241453,0.11579969767816818,0.058004891068721094,-0.5684793809625174,-0.16142445243376213,-0.2066414523185034,-0.5962630480602175,0.20797001029890144,-0.8148988463933333,-1.2426282974685001,-0.47710924613388633,-0.33075195323778883,0.357857525991513,0.03411888325736434,-1.1117034719288414,3.464326284094295,1.5977825629997318,1.5241586370429179,-0.9059344027985381,-1.0683838168248458,0.9338553610898398,-1.031239647837061,1.3097747301664568,0.4207203875049453,-0.11839767155825544,0.3537186155026702,-1.3921761213532073,-1.3138793191773748],\"xaxis\":\"x16\",\"yaxis\":\"y16\",\"type\":\"histogram\"}],                        {\"bargap\":0.02,\"legend\":{\"bgcolor\":\"#F5F6F9\",\"font\":{\"color\":\"#4D5663\"}},\"paper_bgcolor\":\"#F5F6F9\",\"plot_bgcolor\":\"#F5F6F9\",\"showlegend\":false,\"template\":{\"data\":{\"barpolar\":[{\"marker\":{\"line\":{\"color\":\"#E5ECF6\",\"width\":0.5},\"pattern\":{\"fillmode\":\"overlay\",\"size\":10,\"solidity\":0.2}},\"type\":\"barpolar\"}],\"bar\":[{\"error_x\":{\"color\":\"#2a3f5f\"},\"error_y\":{\"color\":\"#2a3f5f\"},\"marker\":{\"line\":{\"color\":\"#E5ECF6\",\"width\":0.5},\"pattern\":{\"fillmode\":\"overlay\",\"size\":10,\"solidity\":0.2}},\"type\":\"bar\"}],\"carpet\":[{\"aaxis\":{\"endlinecolor\":\"#2a3f5f\",\"gridcolor\":\"white\",\"linecolor\":\"white\",\"minorgridcolor\":\"white\",\"startlinecolor\":\"#2a3f5f\"},\"baxis\":{\"endlinecolor\":\"#2a3f5f\",\"gridcolor\":\"white\",\"linecolor\":\"white\",\"minorgridcolor\":\"white\",\"startlinecolor\":\"#2a3f5f\"},\"type\":\"carpet\"}],\"choropleth\":[{\"colorbar\":{\"outlinewidth\":0,\"ticks\":\"\"},\"type\":\"choropleth\"}],\"contourcarpet\":[{\"colorbar\":{\"outlinewidth\":0,\"ticks\":\"\"},\"type\":\"contourcarpet\"}],\"contour\":[{\"colorbar\":{\"outlinewidth\":0,\"ticks\":\"\"},\"colorscale\":[[0.0,\"#0d0887\"],[0.1111111111111111,\"#46039f\"],[0.2222222222222222,\"#7201a8\"],[0.3333333333333333,\"#9c179e\"],[0.4444444444444444,\"#bd3786\"],[0.5555555555555556,\"#d8576b\"],[0.6666666666666666,\"#ed7953\"],[0.7777777777777778,\"#fb9f3a\"],[0.8888888888888888,\"#fdca26\"],[1.0,\"#f0f921\"]],\"type\":\"contour\"}],\"heatmapgl\":[{\"colorbar\":{\"outlinewidth\":0,\"ticks\":\"\"},\"colorscale\":[[0.0,\"#0d0887\"],[0.1111111111111111,\"#46039f\"],[0.2222222222222222,\"#7201a8\"],[0.3333333333333333,\"#9c179e\"],[0.4444444444444444,\"#bd3786\"],[0.5555555555555556,\"#d8576b\"],[0.6666666666666666,\"#ed7953\"],[0.7777777777777778,\"#fb9f3a\"],[0.8888888888888888,\"#fdca26\"],[1.0,\"#f0f921\"]],\"type\":\"heatmapgl\"}],\"heatmap\":[{\"colorbar\":{\"outlinewidth\":0,\"ticks\":\"\"},\"colorscale\":[[0.0,\"#0d0887\"],[0.1111111111111111,\"#46039f\"],[0.2222222222222222,\"#7201a8\"],[0.3333333333333333,\"#9c179e\"],[0.4444444444444444,\"#bd3786\"],[0.5555555555555556,\"#d8576b\"],[0.6666666666666666,\"#ed7953\"],[0.7777777777777778,\"#fb9f3a\"],[0.8888888888888888,\"#fdca26\"],[1.0,\"#f0f921\"]],\"type\":\"heatmap\"}],\"histogram2dcontour\":[{\"colorbar\":{\"outlinewidth\":0,\"ticks\":\"\"},\"colorscale\":[[0.0,\"#0d0887\"],[0.1111111111111111,\"#46039f\"],[0.2222222222222222,\"#7201a8\"],[0.3333333333333333,\"#9c179e\"],[0.4444444444444444,\"#bd3786\"],[0.5555555555555556,\"#d8576b\"],[0.6666666666666666,\"#ed7953\"],[0.7777777777777778,\"#fb9f3a\"],[0.8888888888888888,\"#fdca26\"],[1.0,\"#f0f921\"]],\"type\":\"histogram2dcontour\"}],\"histogram2d\":[{\"colorbar\":{\"outlinewidth\":0,\"ticks\":\"\"},\"colorscale\":[[0.0,\"#0d0887\"],[0.1111111111111111,\"#46039f\"],[0.2222222222222222,\"#7201a8\"],[0.3333333333333333,\"#9c179e\"],[0.4444444444444444,\"#bd3786\"],[0.5555555555555556,\"#d8576b\"],[0.6666666666666666,\"#ed7953\"],[0.7777777777777778,\"#fb9f3a\"],[0.8888888888888888,\"#fdca26\"],[1.0,\"#f0f921\"]],\"type\":\"histogram2d\"}],\"histogram\":[{\"marker\":{\"pattern\":{\"fillmode\":\"overlay\",\"size\":10,\"solidity\":0.2}},\"type\":\"histogram\"}],\"mesh3d\":[{\"colorbar\":{\"outlinewidth\":0,\"ticks\":\"\"},\"type\":\"mesh3d\"}],\"parcoords\":[{\"line\":{\"colorbar\":{\"outlinewidth\":0,\"ticks\":\"\"}},\"type\":\"parcoords\"}],\"pie\":[{\"automargin\":true,\"type\":\"pie\"}],\"scatter3d\":[{\"line\":{\"colorbar\":{\"outlinewidth\":0,\"ticks\":\"\"}},\"marker\":{\"colorbar\":{\"outlinewidth\":0,\"ticks\":\"\"}},\"type\":\"scatter3d\"}],\"scattercarpet\":[{\"marker\":{\"colorbar\":{\"outlinewidth\":0,\"ticks\":\"\"}},\"type\":\"scattercarpet\"}],\"scattergeo\":[{\"marker\":{\"colorbar\":{\"outlinewidth\":0,\"ticks\":\"\"}},\"type\":\"scattergeo\"}],\"scattergl\":[{\"marker\":{\"colorbar\":{\"outlinewidth\":0,\"ticks\":\"\"}},\"type\":\"scattergl\"}],\"scattermapbox\":[{\"marker\":{\"colorbar\":{\"outlinewidth\":0,\"ticks\":\"\"}},\"type\":\"scattermapbox\"}],\"scatterpolargl\":[{\"marker\":{\"colorbar\":{\"outlinewidth\":0,\"ticks\":\"\"}},\"type\":\"scatterpolargl\"}],\"scatterpolar\":[{\"marker\":{\"colorbar\":{\"outlinewidth\":0,\"ticks\":\"\"}},\"type\":\"scatterpolar\"}],\"scatter\":[{\"fillpattern\":{\"fillmode\":\"overlay\",\"size\":10,\"solidity\":0.2},\"type\":\"scatter\"}],\"scatterternary\":[{\"marker\":{\"colorbar\":{\"outlinewidth\":0,\"ticks\":\"\"}},\"type\":\"scatterternary\"}],\"surface\":[{\"colorbar\":{\"outlinewidth\":0,\"ticks\":\"\"},\"colorscale\":[[0.0,\"#0d0887\"],[0.1111111111111111,\"#46039f\"],[0.2222222222222222,\"#7201a8\"],[0.3333333333333333,\"#9c179e\"],[0.4444444444444444,\"#bd3786\"],[0.5555555555555556,\"#d8576b\"],[0.6666666666666666,\"#ed7953\"],[0.7777777777777778,\"#fb9f3a\"],[0.8888888888888888,\"#fdca26\"],[1.0,\"#f0f921\"]],\"type\":\"surface\"}],\"table\":[{\"cells\":{\"fill\":{\"color\":\"#EBF0F8\"},\"line\":{\"color\":\"white\"}},\"header\":{\"fill\":{\"color\":\"#C8D4E3\"},\"line\":{\"color\":\"white\"}},\"type\":\"table\"}]},\"layout\":{\"annotationdefaults\":{\"arrowcolor\":\"#2a3f5f\",\"arrowhead\":0,\"arrowwidth\":1},\"autotypenumbers\":\"strict\",\"coloraxis\":{\"colorbar\":{\"outlinewidth\":0,\"ticks\":\"\"}},\"colorscale\":{\"diverging\":[[0,\"#8e0152\"],[0.1,\"#c51b7d\"],[0.2,\"#de77ae\"],[0.3,\"#f1b6da\"],[0.4,\"#fde0ef\"],[0.5,\"#f7f7f7\"],[0.6,\"#e6f5d0\"],[0.7,\"#b8e186\"],[0.8,\"#7fbc41\"],[0.9,\"#4d9221\"],[1,\"#276419\"]],\"sequential\":[[0.0,\"#0d0887\"],[0.1111111111111111,\"#46039f\"],[0.2222222222222222,\"#7201a8\"],[0.3333333333333333,\"#9c179e\"],[0.4444444444444444,\"#bd3786\"],[0.5555555555555556,\"#d8576b\"],[0.6666666666666666,\"#ed7953\"],[0.7777777777777778,\"#fb9f3a\"],[0.8888888888888888,\"#fdca26\"],[1.0,\"#f0f921\"]],\"sequentialminus\":[[0.0,\"#0d0887\"],[0.1111111111111111,\"#46039f\"],[0.2222222222222222,\"#7201a8\"],[0.3333333333333333,\"#9c179e\"],[0.4444444444444444,\"#bd3786\"],[0.5555555555555556,\"#d8576b\"],[0.6666666666666666,\"#ed7953\"],[0.7777777777777778,\"#fb9f3a\"],[0.8888888888888888,\"#fdca26\"],[1.0,\"#f0f921\"]]},\"colorway\":[\"#636efa\",\"#EF553B\",\"#00cc96\",\"#ab63fa\",\"#FFA15A\",\"#19d3f3\",\"#FF6692\",\"#B6E880\",\"#FF97FF\",\"#FECB52\"],\"font\":{\"color\":\"#2a3f5f\"},\"geo\":{\"bgcolor\":\"white\",\"lakecolor\":\"white\",\"landcolor\":\"#E5ECF6\",\"showlakes\":true,\"showland\":true,\"subunitcolor\":\"white\"},\"hoverlabel\":{\"align\":\"left\"},\"hovermode\":\"closest\",\"mapbox\":{\"style\":\"light\"},\"paper_bgcolor\":\"white\",\"plot_bgcolor\":\"#E5ECF6\",\"polar\":{\"angularaxis\":{\"gridcolor\":\"white\",\"linecolor\":\"white\",\"ticks\":\"\"},\"bgcolor\":\"#E5ECF6\",\"radialaxis\":{\"gridcolor\":\"white\",\"linecolor\":\"white\",\"ticks\":\"\"}},\"scene\":{\"xaxis\":{\"backgroundcolor\":\"#E5ECF6\",\"gridcolor\":\"white\",\"gridwidth\":2,\"linecolor\":\"white\",\"showbackground\":true,\"ticks\":\"\",\"zerolinecolor\":\"white\"},\"yaxis\":{\"backgroundcolor\":\"#E5ECF6\",\"gridcolor\":\"white\",\"gridwidth\":2,\"linecolor\":\"white\",\"showbackground\":true,\"ticks\":\"\",\"zerolinecolor\":\"white\"},\"zaxis\":{\"backgroundcolor\":\"#E5ECF6\",\"gridcolor\":\"white\",\"gridwidth\":2,\"linecolor\":\"white\",\"showbackground\":true,\"ticks\":\"\",\"zerolinecolor\":\"white\"}},\"shapedefaults\":{\"line\":{\"color\":\"#2a3f5f\"}},\"ternary\":{\"aaxis\":{\"gridcolor\":\"white\",\"linecolor\":\"white\",\"ticks\":\"\"},\"baxis\":{\"gridcolor\":\"white\",\"linecolor\":\"white\",\"ticks\":\"\"},\"bgcolor\":\"#E5ECF6\",\"caxis\":{\"gridcolor\":\"white\",\"linecolor\":\"white\",\"ticks\":\"\"}},\"title\":{\"x\":0.05},\"xaxis\":{\"automargin\":true,\"gridcolor\":\"white\",\"linecolor\":\"white\",\"ticks\":\"\",\"title\":{\"standoff\":15},\"zerolinecolor\":\"white\",\"zerolinewidth\":2},\"yaxis\":{\"automargin\":true,\"gridcolor\":\"white\",\"linecolor\":\"white\",\"ticks\":\"\",\"title\":{\"standoff\":15},\"zerolinecolor\":\"white\",\"zerolinewidth\":2}}},\"title\":{\"font\":{\"color\":\"#4D5663\"}},\"xaxis\":{\"anchor\":\"y\",\"domain\":[0.0,0.2125],\"gridcolor\":\"#E1E5ED\",\"showgrid\":false,\"tickfont\":{\"color\":\"#4D5663\"},\"title\":{\"font\":{\"color\":\"#4D5663\"},\"text\":\"\"},\"zerolinecolor\":\"#E1E5ED\"},\"yaxis\":{\"anchor\":\"x\",\"domain\":[0.8025,1.0],\"gridcolor\":\"#E1E5ED\",\"showgrid\":false,\"tickfont\":{\"color\":\"#4D5663\"},\"title\":{\"font\":{\"color\":\"#4D5663\"},\"text\":\"\"},\"zerolinecolor\":\"#E1E5ED\"},\"xaxis2\":{\"anchor\":\"y2\",\"domain\":[0.2625,0.475],\"gridcolor\":\"#E1E5ED\",\"showgrid\":false,\"tickfont\":{\"color\":\"#4D5663\"},\"title\":{\"font\":{\"color\":\"#4D5663\"},\"text\":\"\"},\"zerolinecolor\":\"#E1E5ED\"},\"yaxis2\":{\"anchor\":\"x2\",\"domain\":[0.8025,1.0],\"gridcolor\":\"#E1E5ED\",\"showgrid\":false,\"tickfont\":{\"color\":\"#4D5663\"},\"title\":{\"font\":{\"color\":\"#4D5663\"},\"text\":\"\"},\"zerolinecolor\":\"#E1E5ED\"},\"xaxis3\":{\"anchor\":\"y3\",\"domain\":[0.525,0.7375],\"gridcolor\":\"#E1E5ED\",\"showgrid\":false,\"tickfont\":{\"color\":\"#4D5663\"},\"title\":{\"font\":{\"color\":\"#4D5663\"},\"text\":\"\"},\"zerolinecolor\":\"#E1E5ED\"},\"yaxis3\":{\"anchor\":\"x3\",\"domain\":[0.8025,1.0],\"gridcolor\":\"#E1E5ED\",\"showgrid\":false,\"tickfont\":{\"color\":\"#4D5663\"},\"title\":{\"font\":{\"color\":\"#4D5663\"},\"text\":\"\"},\"zerolinecolor\":\"#E1E5ED\"},\"xaxis4\":{\"anchor\":\"y4\",\"domain\":[0.7875,1.0],\"gridcolor\":\"#E1E5ED\",\"showgrid\":false,\"tickfont\":{\"color\":\"#4D5663\"},\"title\":{\"font\":{\"color\":\"#4D5663\"},\"text\":\"\"},\"zerolinecolor\":\"#E1E5ED\"},\"yaxis4\":{\"anchor\":\"x4\",\"domain\":[0.8025,1.0],\"gridcolor\":\"#E1E5ED\",\"showgrid\":false,\"tickfont\":{\"color\":\"#4D5663\"},\"title\":{\"font\":{\"color\":\"#4D5663\"},\"text\":\"\"},\"zerolinecolor\":\"#E1E5ED\"},\"xaxis5\":{\"anchor\":\"y5\",\"domain\":[0.0,0.2125],\"gridcolor\":\"#E1E5ED\",\"showgrid\":false,\"tickfont\":{\"color\":\"#4D5663\"},\"title\":{\"font\":{\"color\":\"#4D5663\"},\"text\":\"\"},\"zerolinecolor\":\"#E1E5ED\"},\"yaxis5\":{\"anchor\":\"x5\",\"domain\":[0.535,0.7325],\"gridcolor\":\"#E1E5ED\",\"showgrid\":false,\"tickfont\":{\"color\":\"#4D5663\"},\"title\":{\"font\":{\"color\":\"#4D5663\"},\"text\":\"\"},\"zerolinecolor\":\"#E1E5ED\"},\"xaxis6\":{\"anchor\":\"y6\",\"domain\":[0.2625,0.475],\"gridcolor\":\"#E1E5ED\",\"showgrid\":false,\"tickfont\":{\"color\":\"#4D5663\"},\"title\":{\"font\":{\"color\":\"#4D5663\"},\"text\":\"\"},\"zerolinecolor\":\"#E1E5ED\"},\"yaxis6\":{\"anchor\":\"x6\",\"domain\":[0.535,0.7325],\"gridcolor\":\"#E1E5ED\",\"showgrid\":false,\"tickfont\":{\"color\":\"#4D5663\"},\"title\":{\"font\":{\"color\":\"#4D5663\"},\"text\":\"\"},\"zerolinecolor\":\"#E1E5ED\"},\"xaxis7\":{\"anchor\":\"y7\",\"domain\":[0.525,0.7375],\"gridcolor\":\"#E1E5ED\",\"showgrid\":false,\"tickfont\":{\"color\":\"#4D5663\"},\"title\":{\"font\":{\"color\":\"#4D5663\"},\"text\":\"\"},\"zerolinecolor\":\"#E1E5ED\"},\"yaxis7\":{\"anchor\":\"x7\",\"domain\":[0.535,0.7325],\"gridcolor\":\"#E1E5ED\",\"showgrid\":false,\"tickfont\":{\"color\":\"#4D5663\"},\"title\":{\"font\":{\"color\":\"#4D5663\"},\"text\":\"\"},\"zerolinecolor\":\"#E1E5ED\"},\"xaxis8\":{\"anchor\":\"y8\",\"domain\":[0.7875,1.0],\"gridcolor\":\"#E1E5ED\",\"showgrid\":false,\"tickfont\":{\"color\":\"#4D5663\"},\"title\":{\"font\":{\"color\":\"#4D5663\"},\"text\":\"\"},\"zerolinecolor\":\"#E1E5ED\"},\"yaxis8\":{\"anchor\":\"x8\",\"domain\":[0.535,0.7325],\"gridcolor\":\"#E1E5ED\",\"showgrid\":false,\"tickfont\":{\"color\":\"#4D5663\"},\"title\":{\"font\":{\"color\":\"#4D5663\"},\"text\":\"\"},\"zerolinecolor\":\"#E1E5ED\"},\"xaxis9\":{\"anchor\":\"y9\",\"domain\":[0.0,0.2125],\"gridcolor\":\"#E1E5ED\",\"showgrid\":false,\"tickfont\":{\"color\":\"#4D5663\"},\"title\":{\"font\":{\"color\":\"#4D5663\"},\"text\":\"\"},\"zerolinecolor\":\"#E1E5ED\"},\"yaxis9\":{\"anchor\":\"x9\",\"domain\":[0.2675,0.465],\"gridcolor\":\"#E1E5ED\",\"showgrid\":false,\"tickfont\":{\"color\":\"#4D5663\"},\"title\":{\"font\":{\"color\":\"#4D5663\"},\"text\":\"\"},\"zerolinecolor\":\"#E1E5ED\"},\"xaxis10\":{\"anchor\":\"y10\",\"domain\":[0.2625,0.475],\"gridcolor\":\"#E1E5ED\",\"showgrid\":false,\"tickfont\":{\"color\":\"#4D5663\"},\"title\":{\"font\":{\"color\":\"#4D5663\"},\"text\":\"\"},\"zerolinecolor\":\"#E1E5ED\"},\"yaxis10\":{\"anchor\":\"x10\",\"domain\":[0.2675,0.465],\"gridcolor\":\"#E1E5ED\",\"showgrid\":false,\"tickfont\":{\"color\":\"#4D5663\"},\"title\":{\"font\":{\"color\":\"#4D5663\"},\"text\":\"\"},\"zerolinecolor\":\"#E1E5ED\"},\"xaxis11\":{\"anchor\":\"y11\",\"domain\":[0.525,0.7375],\"gridcolor\":\"#E1E5ED\",\"showgrid\":false,\"tickfont\":{\"color\":\"#4D5663\"},\"title\":{\"font\":{\"color\":\"#4D5663\"},\"text\":\"\"},\"zerolinecolor\":\"#E1E5ED\"},\"yaxis11\":{\"anchor\":\"x11\",\"domain\":[0.2675,0.465],\"gridcolor\":\"#E1E5ED\",\"showgrid\":false,\"tickfont\":{\"color\":\"#4D5663\"},\"title\":{\"font\":{\"color\":\"#4D5663\"},\"text\":\"\"},\"zerolinecolor\":\"#E1E5ED\"},\"xaxis12\":{\"anchor\":\"y12\",\"domain\":[0.7875,1.0],\"gridcolor\":\"#E1E5ED\",\"showgrid\":false,\"tickfont\":{\"color\":\"#4D5663\"},\"title\":{\"font\":{\"color\":\"#4D5663\"},\"text\":\"\"},\"zerolinecolor\":\"#E1E5ED\"},\"yaxis12\":{\"anchor\":\"x12\",\"domain\":[0.2675,0.465],\"gridcolor\":\"#E1E5ED\",\"showgrid\":false,\"tickfont\":{\"color\":\"#4D5663\"},\"title\":{\"font\":{\"color\":\"#4D5663\"},\"text\":\"\"},\"zerolinecolor\":\"#E1E5ED\"},\"xaxis13\":{\"anchor\":\"y13\",\"domain\":[0.0,0.2125],\"gridcolor\":\"#E1E5ED\",\"showgrid\":false,\"tickfont\":{\"color\":\"#4D5663\"},\"title\":{\"font\":{\"color\":\"#4D5663\"},\"text\":\"\"},\"zerolinecolor\":\"#E1E5ED\"},\"yaxis13\":{\"anchor\":\"x13\",\"domain\":[0.0,0.1975],\"gridcolor\":\"#E1E5ED\",\"showgrid\":false,\"tickfont\":{\"color\":\"#4D5663\"},\"title\":{\"font\":{\"color\":\"#4D5663\"},\"text\":\"\"},\"zerolinecolor\":\"#E1E5ED\"},\"xaxis14\":{\"anchor\":\"y14\",\"domain\":[0.2625,0.475],\"gridcolor\":\"#E1E5ED\",\"showgrid\":false,\"tickfont\":{\"color\":\"#4D5663\"},\"title\":{\"font\":{\"color\":\"#4D5663\"},\"text\":\"\"},\"zerolinecolor\":\"#E1E5ED\"},\"yaxis14\":{\"anchor\":\"x14\",\"domain\":[0.0,0.1975],\"gridcolor\":\"#E1E5ED\",\"showgrid\":false,\"tickfont\":{\"color\":\"#4D5663\"},\"title\":{\"font\":{\"color\":\"#4D5663\"},\"text\":\"\"},\"zerolinecolor\":\"#E1E5ED\"},\"xaxis15\":{\"anchor\":\"y15\",\"domain\":[0.525,0.7375],\"gridcolor\":\"#E1E5ED\",\"showgrid\":false,\"tickfont\":{\"color\":\"#4D5663\"},\"title\":{\"font\":{\"color\":\"#4D5663\"},\"text\":\"\"},\"zerolinecolor\":\"#E1E5ED\"},\"yaxis15\":{\"anchor\":\"x15\",\"domain\":[0.0,0.1975],\"gridcolor\":\"#E1E5ED\",\"showgrid\":false,\"tickfont\":{\"color\":\"#4D5663\"},\"title\":{\"font\":{\"color\":\"#4D5663\"},\"text\":\"\"},\"zerolinecolor\":\"#E1E5ED\"},\"xaxis16\":{\"anchor\":\"y16\",\"domain\":[0.7875,1.0],\"gridcolor\":\"#E1E5ED\",\"showgrid\":false,\"tickfont\":{\"color\":\"#4D5663\"},\"title\":{\"font\":{\"color\":\"#4D5663\"},\"text\":\"\"},\"zerolinecolor\":\"#E1E5ED\"},\"yaxis16\":{\"anchor\":\"x16\",\"domain\":[0.0,0.1975],\"gridcolor\":\"#E1E5ED\",\"showgrid\":false,\"tickfont\":{\"color\":\"#4D5663\"},\"title\":{\"font\":{\"color\":\"#4D5663\"},\"text\":\"\"},\"zerolinecolor\":\"#E1E5ED\"}},                        {\"showLink\": true, \"linkText\": \"Export to plot.ly\", \"plotlyServerURL\": \"https://plot.ly\", \"responsive\": true}                    ).then(function(){\n",
       "                            \n",
       "var gd = document.getElementById('5a73b0be-e11a-4181-8d73-24481bc6cbc8');\n",
       "var x = new MutationObserver(function (mutations, observer) {{\n",
       "        var display = window.getComputedStyle(gd).display;\n",
       "        if (!display || display === 'none') {{\n",
       "            console.log([gd, 'removed!']);\n",
       "            Plotly.purge(gd);\n",
       "            observer.disconnect();\n",
       "        }}\n",
       "}});\n",
       "\n",
       "// Listen for the removal of the full notebook cells\n",
       "var notebookContainer = gd.closest('#notebook-container');\n",
       "if (notebookContainer) {{\n",
       "    x.observe(notebookContainer, {childList: true});\n",
       "}}\n",
       "\n",
       "// Listen for the clearing of the current output cell\n",
       "var outputEl = gd.closest('.output');\n",
       "if (outputEl) {{\n",
       "    x.observe(outputEl, {childList: true});\n",
       "}}\n",
       "\n",
       "                        })                };                });            </script>        </div>"
      ]
     },
     "metadata": {},
     "output_type": "display_data"
    }
   ],
   "source": [
    "df.scatter_matrix()"
   ]
  },
  {
   "cell_type": "code",
   "execution_count": null,
   "id": "2eacfeb1",
   "metadata": {},
   "outputs": [],
   "source": []
  }
 ],
 "metadata": {
  "kernelspec": {
   "display_name": "Python 3",
   "language": "python",
   "name": "python3"
  },
  "language_info": {
   "codemirror_mode": {
    "name": "ipython",
    "version": 3
   },
   "file_extension": ".py",
   "mimetype": "text/x-python",
   "name": "python",
   "nbconvert_exporter": "python",
   "pygments_lexer": "ipython3",
   "version": "3.8.8"
  }
 },
 "nbformat": 4,
 "nbformat_minor": 5
}
